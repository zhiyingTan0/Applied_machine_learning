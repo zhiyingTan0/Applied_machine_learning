{
  "nbformat": 4,
  "nbformat_minor": 0,
  "metadata": {
    "colab": {
      "name": "551_project2.ipynb",
      "provenance": [],
      "collapsed_sections": [],
      "toc_visible": true
    },
    "kernelspec": {
      "display_name": "Python 3",
      "name": "python3"
    }
  },
  "cells": [
    {
      "cell_type": "markdown",
      "metadata": {
        "id": "tQcxJABNGqQS"
      },
      "source": [
        "# **1. Data Preprocessing**\n",
        "\n"
      ]
    },
    {
      "cell_type": "markdown",
      "metadata": {
        "id": "R_xpso1UmK3y"
      },
      "source": [
        "## **1.1 Load data**"
      ]
    },
    {
      "cell_type": "code",
      "metadata": {
        "id": "i_f5zBM7Hc-t"
      },
      "source": [
        "#Task1\n",
        "import pandas as pd\n",
        "import requests\n",
        "import io\n",
        "import numpy as np\n",
        "import sklearn\n",
        "import seaborn as sns\n",
        "from sklearn.datasets import load_digits\n",
        "from sklearn.datasets import fetch_openml\n",
        "from matplotlib import pylab as plt\n",
        "import math\n",
        "\n",
        "# plottting\n",
        "%matplotlib inline\n",
        "import matplotlib.pyplot as plt\n",
        "from matplotlib.legend_handler import HandlerLine2D\n",
        "\n",
        "from math import ceil"
      ],
      "execution_count": 2,
      "outputs": []
    },
    {
      "cell_type": "code",
      "metadata": {
        "colab": {
          "base_uri": "https://localhost:8080/"
        },
        "id": "lm0VzYYPIoxW",
        "outputId": "e592197d-4d84-4d6c-d29a-66b0daad3f6d"
      },
      "source": [
        "# download and load dataset (scikitlearn)\n",
        "#https://scikit-learn.org/stable/modules/generated/sklearn.datasets.load_digits.html\n",
        "digits = load_digits()\n",
        "X_digits=digits.data\n",
        "y_digits=digits.target\n",
        "\n",
        "\n",
        "print(\"Shape of X: \",X_digits.shape)\n",
        " #print(\"Features: \",digits.feature_names)\n",
        "print(\"Shape of Y: \",y_digits.shape)\n",
        "digits.images.shape\n",
        "print(np.unique(y_digits))"
      ],
      "execution_count": 3,
      "outputs": [
        {
          "output_type": "stream",
          "text": [
            "Shape of X:  (1797, 64)\n",
            "Shape of Y:  (1797,)\n",
            "[0 1 2 3 4 5 6 7 8 9]\n"
          ],
          "name": "stdout"
        }
      ]
    },
    {
      "cell_type": "code",
      "metadata": {
        "colab": {
          "base_uri": "https://localhost:8080/"
        },
        "id": "hT_4O0HqJF32",
        "outputId": "33ce55ea-c5e3-45b0-c273-3c691ce8456c"
      },
      "source": [
        "#download and load dataset2 (openML)\n",
        "#http://scikit-learn.org/stable/datasets/index.html#openml\n",
        "#mice = fetch_openml(name='miceprotein', version=4)\n",
        "iris = fetch_openml(name=\"iris\", version=3)\n",
        "X_iris=iris.data\n",
        "y_iris=iris.target\n",
        "\n",
        "print(\"Shape of X: \",X_iris.shape)\n",
        "print(\"Shape of Y: \",y_iris.shape)\n",
        "print(\"Features: \",iris.feature_names)\n",
        "\n",
        "print(np.unique(y_iris))\n",
        "#print('Class distribution: ', np.bincount(y_iris))\n"
      ],
      "execution_count": 4,
      "outputs": [
        {
          "output_type": "stream",
          "text": [
            "Shape of X:  (150, 4)\n",
            "Shape of Y:  (150,)\n",
            "Features:  ['sepallength', 'sepalwidth', 'petallength', 'petalwidth']\n",
            "['N' 'P']\n"
          ],
          "name": "stdout"
        }
      ]
    },
    {
      "cell_type": "code",
      "metadata": {
        "colab": {
          "base_uri": "https://localhost:8080/"
        },
        "id": "is8N1bTSmuCe",
        "outputId": "e13e5fd6-b7ab-4c94-80f4-4abe8cfb8f59"
      },
      "source": [
        "#download and load dataset3 (openML)\n",
        "iris2 = fetch_openml(name=\"iris\", version=1)\n",
        "X_iris2=iris2.data\n",
        "y_iris2=iris2.target\n",
        "\n",
        "print(\"Shape of X: \",X_iris2.shape)\n",
        "print(\"Shape of Y: \",y_iris2.shape)\n",
        "print(\"Features: \",iris.feature_names)"
      ],
      "execution_count": 5,
      "outputs": [
        {
          "output_type": "stream",
          "text": [
            "Shape of X:  (150, 4)\n",
            "Shape of Y:  (150,)\n",
            "Features:  ['sepallength', 'sepalwidth', 'petallength', 'petalwidth']\n"
          ],
          "name": "stdout"
        }
      ]
    },
    {
      "cell_type": "code",
      "metadata": {
        "colab": {
          "base_uri": "https://localhost:8080/"
        },
        "id": "A0dFCr8ew3Hx",
        "outputId": "77ad1cb4-5c81-4b5c-a58f-71493ca2590b"
      },
      "source": [
        "#download and load dataset4 (openML)\n",
        "vehicle = fetch_openml(name=\"vehicle\")\n",
        "X_vehicle=vehicle.data\n",
        "y_vehicle=vehicle.target\n",
        "\n",
        "print(\"Shape of X: \",X_vehicle.shape)\n",
        "print(\"Shape of Y: \",y_vehicle.shape)\n",
        "print(\"Features: \",vehicle.feature_names)\n",
        "print(np.unique(y_vehicle))"
      ],
      "execution_count": 6,
      "outputs": [
        {
          "output_type": "stream",
          "text": [
            "/usr/local/lib/python3.6/dist-packages/sklearn/datasets/_openml.py:372: UserWarning: Multiple active versions of the dataset matching the name vehicle exist. Versions may be fundamentally different, returning version 1.\n",
            "  \" {version}.\".format(name=name, version=res[0]['version']))\n"
          ],
          "name": "stderr"
        },
        {
          "output_type": "stream",
          "text": [
            "Shape of X:  (846, 18)\n",
            "Shape of Y:  (846,)\n",
            "Features:  ['COMPACTNESS', 'CIRCULARITY', 'DISTANCE_CIRCULARITY', 'RADIUS_RATIO', 'PR.AXIS_ASPECT_RATIO', 'MAX.LENGTH_ASPECT_RATIO', 'SCATTER_RATIO', 'ELONGATEDNESS', 'PR.AXIS_RECTANGULARITY', 'MAX.LENGTH_RECTANGULARITY', 'SCALED_VARIANCE_MAJOR', 'SCALED_VARIANCE_MINOR', 'SCALED_RADIUS_OF_GYRATION', 'SKEWNESS_ABOUT_MAJOR', 'SKEWNESS_ABOUT_MINOR', 'KURTOSIS_ABOUT_MAJOR', 'KURTOSIS_ABOUT_MINOR', 'HOLLOWS_RATIO']\n",
            "['bus' 'opel' 'saab' 'van']\n"
          ],
          "name": "stdout"
        }
      ]
    },
    {
      "cell_type": "markdown",
      "metadata": {
        "id": "_X8aGUl1yHkO"
      },
      "source": [
        "## **1.2 Feature Engineering**\n"
      ]
    },
    {
      "cell_type": "markdown",
      "metadata": {
        "id": "Zo47Zujc3Kwc"
      },
      "source": [
        "### **1.2.1 Digits Dataset**"
      ]
    },
    {
      "cell_type": "markdown",
      "metadata": {
        "id": "vnOr2s5PpD4c"
      },
      "source": [
        "**One hot encoding**"
      ]
    },
    {
      "cell_type": "code",
      "metadata": {
        "colab": {
          "base_uri": "https://localhost:8080/"
        },
        "id": "D_Qg3TMGhT4g",
        "outputId": "8bfd3c90-85bc-4eca-e060-fbc73585a352"
      },
      "source": [
        "# one hot encoding\n",
        "# totally 10 digits encode 9 digits \n",
        "# avoid linear dependent\n",
        "N = len(y_digits)\n",
        "# 10 new labels and 1 original label\n",
        "new_y_digits=np.zeros((N,10))\n",
        "for i in range(N):\n",
        "  label = y_digits.transpose()[i]\n",
        "  '''\n",
        "  new_y_digits[i][0]= label\n",
        "  if int(label) is not 0:\n",
        "    new_y_digits[i][int(label)] = 1\n",
        "  '''\n",
        "  new_y_digits[i][int(label)] = 1\n",
        "print('Dimension of digits label:', new_y_digits.shape)\n",
        "new_y_digits"
      ],
      "execution_count": 7,
      "outputs": [
        {
          "output_type": "stream",
          "text": [
            "Dimension of digits label: (1797, 10)\n"
          ],
          "name": "stdout"
        },
        {
          "output_type": "execute_result",
          "data": {
            "text/plain": [
              "array([[1., 0., 0., ..., 0., 0., 0.],\n",
              "       [0., 1., 0., ..., 0., 0., 0.],\n",
              "       [0., 0., 1., ..., 0., 0., 0.],\n",
              "       ...,\n",
              "       [0., 0., 0., ..., 0., 1., 0.],\n",
              "       [0., 0., 0., ..., 0., 0., 1.],\n",
              "       [0., 0., 0., ..., 0., 1., 0.]])"
            ]
          },
          "metadata": {
            "tags": []
          },
          "execution_count": 7
        }
      ]
    },
    {
      "cell_type": "markdown",
      "metadata": {
        "id": "YFClljadowOo"
      },
      "source": [
        "**Data Normalization**"
      ]
    },
    {
      "cell_type": "code",
      "metadata": {
        "id": "IVogpRiIizGj"
      },
      "source": [
        "from sklearn import preprocessing\n",
        "X_digits = preprocessing.scale(X_digits)"
      ],
      "execution_count": 8,
      "outputs": []
    },
    {
      "cell_type": "code",
      "metadata": {
        "colab": {
          "base_uri": "https://localhost:8080/"
        },
        "id": "wKt4oCS-3Usl",
        "outputId": "c01bc69e-e9e6-4e78-adec-475608ede759"
      },
      "source": [
        "features=[\"feature \"+str(i+1) for i in range(64)]\n",
        "features.append('digits_label')\n",
        "df_digits=pd.DataFrame(data=[np.append(X_digits[i],y_digits[i]) for i in range(1797)],columns=features)\n",
        "#print(\"Number of labels: \",len(df_digits.digits_label.value_counts()),\"\\n\" )\n",
        "df_digits.info()\n"
      ],
      "execution_count": 9,
      "outputs": [
        {
          "output_type": "stream",
          "text": [
            "<class 'pandas.core.frame.DataFrame'>\n",
            "RangeIndex: 1797 entries, 0 to 1796\n",
            "Data columns (total 65 columns):\n",
            " #   Column        Non-Null Count  Dtype  \n",
            "---  ------        --------------  -----  \n",
            " 0   feature 1     1797 non-null   float64\n",
            " 1   feature 2     1797 non-null   float64\n",
            " 2   feature 3     1797 non-null   float64\n",
            " 3   feature 4     1797 non-null   float64\n",
            " 4   feature 5     1797 non-null   float64\n",
            " 5   feature 6     1797 non-null   float64\n",
            " 6   feature 7     1797 non-null   float64\n",
            " 7   feature 8     1797 non-null   float64\n",
            " 8   feature 9     1797 non-null   float64\n",
            " 9   feature 10    1797 non-null   float64\n",
            " 10  feature 11    1797 non-null   float64\n",
            " 11  feature 12    1797 non-null   float64\n",
            " 12  feature 13    1797 non-null   float64\n",
            " 13  feature 14    1797 non-null   float64\n",
            " 14  feature 15    1797 non-null   float64\n",
            " 15  feature 16    1797 non-null   float64\n",
            " 16  feature 17    1797 non-null   float64\n",
            " 17  feature 18    1797 non-null   float64\n",
            " 18  feature 19    1797 non-null   float64\n",
            " 19  feature 20    1797 non-null   float64\n",
            " 20  feature 21    1797 non-null   float64\n",
            " 21  feature 22    1797 non-null   float64\n",
            " 22  feature 23    1797 non-null   float64\n",
            " 23  feature 24    1797 non-null   float64\n",
            " 24  feature 25    1797 non-null   float64\n",
            " 25  feature 26    1797 non-null   float64\n",
            " 26  feature 27    1797 non-null   float64\n",
            " 27  feature 28    1797 non-null   float64\n",
            " 28  feature 29    1797 non-null   float64\n",
            " 29  feature 30    1797 non-null   float64\n",
            " 30  feature 31    1797 non-null   float64\n",
            " 31  feature 32    1797 non-null   float64\n",
            " 32  feature 33    1797 non-null   float64\n",
            " 33  feature 34    1797 non-null   float64\n",
            " 34  feature 35    1797 non-null   float64\n",
            " 35  feature 36    1797 non-null   float64\n",
            " 36  feature 37    1797 non-null   float64\n",
            " 37  feature 38    1797 non-null   float64\n",
            " 38  feature 39    1797 non-null   float64\n",
            " 39  feature 40    1797 non-null   float64\n",
            " 40  feature 41    1797 non-null   float64\n",
            " 41  feature 42    1797 non-null   float64\n",
            " 42  feature 43    1797 non-null   float64\n",
            " 43  feature 44    1797 non-null   float64\n",
            " 44  feature 45    1797 non-null   float64\n",
            " 45  feature 46    1797 non-null   float64\n",
            " 46  feature 47    1797 non-null   float64\n",
            " 47  feature 48    1797 non-null   float64\n",
            " 48  feature 49    1797 non-null   float64\n",
            " 49  feature 50    1797 non-null   float64\n",
            " 50  feature 51    1797 non-null   float64\n",
            " 51  feature 52    1797 non-null   float64\n",
            " 52  feature 53    1797 non-null   float64\n",
            " 53  feature 54    1797 non-null   float64\n",
            " 54  feature 55    1797 non-null   float64\n",
            " 55  feature 56    1797 non-null   float64\n",
            " 56  feature 57    1797 non-null   float64\n",
            " 57  feature 58    1797 non-null   float64\n",
            " 58  feature 59    1797 non-null   float64\n",
            " 59  feature 60    1797 non-null   float64\n",
            " 60  feature 61    1797 non-null   float64\n",
            " 61  feature 62    1797 non-null   float64\n",
            " 62  feature 63    1797 non-null   float64\n",
            " 63  feature 64    1797 non-null   float64\n",
            " 64  digits_label  1797 non-null   float64\n",
            "dtypes: float64(65)\n",
            "memory usage: 912.7 KB\n"
          ],
          "name": "stdout"
        }
      ]
    },
    {
      "cell_type": "code",
      "metadata": {
        "colab": {
          "base_uri": "https://localhost:8080/"
        },
        "id": "yVsgoqKMjMv0",
        "outputId": "1fb95380-8567-49a0-8bef-9e4a913a631a"
      },
      "source": [
        "df_digits['digits_label'].value_counts()/1797"
      ],
      "execution_count": 10,
      "outputs": [
        {
          "output_type": "execute_result",
          "data": {
            "text/plain": [
              "3.0    0.101836\n",
              "5.0    0.101280\n",
              "1.0    0.101280\n",
              "6.0    0.100723\n",
              "4.0    0.100723\n",
              "9.0    0.100167\n",
              "7.0    0.099610\n",
              "0.0    0.099054\n",
              "2.0    0.098497\n",
              "8.0    0.096828\n",
              "Name: digits_label, dtype: float64"
            ]
          },
          "metadata": {
            "tags": []
          },
          "execution_count": 10
        }
      ]
    },
    {
      "cell_type": "markdown",
      "metadata": {
        "id": "u4aefhlUhNSv"
      },
      "source": [
        "**Correlarion between features and label**"
      ]
    },
    {
      "cell_type": "code",
      "metadata": {
        "colab": {
          "base_uri": "https://localhost:8080/",
          "height": 456
        },
        "id": "Ynd0jialhd1r",
        "outputId": "11f33c28-46a9-498a-e2f4-92131423c720"
      },
      "source": [
        "tmp=list(df_digits.columns)\n",
        "corr=df_digits[tmp].corr() \n",
        "corr\n",
        "#corr.loc[corr.digits_label>0.1]"
      ],
      "execution_count": 11,
      "outputs": [
        {
          "output_type": "execute_result",
          "data": {
            "text/html": [
              "<div>\n",
              "<style scoped>\n",
              "    .dataframe tbody tr th:only-of-type {\n",
              "        vertical-align: middle;\n",
              "    }\n",
              "\n",
              "    .dataframe tbody tr th {\n",
              "        vertical-align: top;\n",
              "    }\n",
              "\n",
              "    .dataframe thead th {\n",
              "        text-align: right;\n",
              "    }\n",
              "</style>\n",
              "<table border=\"1\" class=\"dataframe\">\n",
              "  <thead>\n",
              "    <tr style=\"text-align: right;\">\n",
              "      <th></th>\n",
              "      <th>feature 1</th>\n",
              "      <th>feature 2</th>\n",
              "      <th>feature 3</th>\n",
              "      <th>feature 4</th>\n",
              "      <th>feature 5</th>\n",
              "      <th>feature 6</th>\n",
              "      <th>feature 7</th>\n",
              "      <th>feature 8</th>\n",
              "      <th>feature 9</th>\n",
              "      <th>feature 10</th>\n",
              "      <th>feature 11</th>\n",
              "      <th>feature 12</th>\n",
              "      <th>feature 13</th>\n",
              "      <th>feature 14</th>\n",
              "      <th>feature 15</th>\n",
              "      <th>feature 16</th>\n",
              "      <th>feature 17</th>\n",
              "      <th>feature 18</th>\n",
              "      <th>feature 19</th>\n",
              "      <th>feature 20</th>\n",
              "      <th>feature 21</th>\n",
              "      <th>feature 22</th>\n",
              "      <th>feature 23</th>\n",
              "      <th>feature 24</th>\n",
              "      <th>feature 25</th>\n",
              "      <th>feature 26</th>\n",
              "      <th>feature 27</th>\n",
              "      <th>feature 28</th>\n",
              "      <th>feature 29</th>\n",
              "      <th>feature 30</th>\n",
              "      <th>feature 31</th>\n",
              "      <th>feature 32</th>\n",
              "      <th>feature 33</th>\n",
              "      <th>feature 34</th>\n",
              "      <th>feature 35</th>\n",
              "      <th>feature 36</th>\n",
              "      <th>feature 37</th>\n",
              "      <th>feature 38</th>\n",
              "      <th>feature 39</th>\n",
              "      <th>feature 40</th>\n",
              "      <th>feature 41</th>\n",
              "      <th>feature 42</th>\n",
              "      <th>feature 43</th>\n",
              "      <th>feature 44</th>\n",
              "      <th>feature 45</th>\n",
              "      <th>feature 46</th>\n",
              "      <th>feature 47</th>\n",
              "      <th>feature 48</th>\n",
              "      <th>feature 49</th>\n",
              "      <th>feature 50</th>\n",
              "      <th>feature 51</th>\n",
              "      <th>feature 52</th>\n",
              "      <th>feature 53</th>\n",
              "      <th>feature 54</th>\n",
              "      <th>feature 55</th>\n",
              "      <th>feature 56</th>\n",
              "      <th>feature 57</th>\n",
              "      <th>feature 58</th>\n",
              "      <th>feature 59</th>\n",
              "      <th>feature 60</th>\n",
              "      <th>feature 61</th>\n",
              "      <th>feature 62</th>\n",
              "      <th>feature 63</th>\n",
              "      <th>feature 64</th>\n",
              "      <th>digits_label</th>\n",
              "    </tr>\n",
              "  </thead>\n",
              "  <tbody>\n",
              "    <tr>\n",
              "      <th>feature 1</th>\n",
              "      <td>NaN</td>\n",
              "      <td>NaN</td>\n",
              "      <td>NaN</td>\n",
              "      <td>NaN</td>\n",
              "      <td>NaN</td>\n",
              "      <td>NaN</td>\n",
              "      <td>NaN</td>\n",
              "      <td>NaN</td>\n",
              "      <td>NaN</td>\n",
              "      <td>NaN</td>\n",
              "      <td>NaN</td>\n",
              "      <td>NaN</td>\n",
              "      <td>NaN</td>\n",
              "      <td>NaN</td>\n",
              "      <td>NaN</td>\n",
              "      <td>NaN</td>\n",
              "      <td>NaN</td>\n",
              "      <td>NaN</td>\n",
              "      <td>NaN</td>\n",
              "      <td>NaN</td>\n",
              "      <td>NaN</td>\n",
              "      <td>NaN</td>\n",
              "      <td>NaN</td>\n",
              "      <td>NaN</td>\n",
              "      <td>NaN</td>\n",
              "      <td>NaN</td>\n",
              "      <td>NaN</td>\n",
              "      <td>NaN</td>\n",
              "      <td>NaN</td>\n",
              "      <td>NaN</td>\n",
              "      <td>NaN</td>\n",
              "      <td>NaN</td>\n",
              "      <td>NaN</td>\n",
              "      <td>NaN</td>\n",
              "      <td>NaN</td>\n",
              "      <td>NaN</td>\n",
              "      <td>NaN</td>\n",
              "      <td>NaN</td>\n",
              "      <td>NaN</td>\n",
              "      <td>NaN</td>\n",
              "      <td>NaN</td>\n",
              "      <td>NaN</td>\n",
              "      <td>NaN</td>\n",
              "      <td>NaN</td>\n",
              "      <td>NaN</td>\n",
              "      <td>NaN</td>\n",
              "      <td>NaN</td>\n",
              "      <td>NaN</td>\n",
              "      <td>NaN</td>\n",
              "      <td>NaN</td>\n",
              "      <td>NaN</td>\n",
              "      <td>NaN</td>\n",
              "      <td>NaN</td>\n",
              "      <td>NaN</td>\n",
              "      <td>NaN</td>\n",
              "      <td>NaN</td>\n",
              "      <td>NaN</td>\n",
              "      <td>NaN</td>\n",
              "      <td>NaN</td>\n",
              "      <td>NaN</td>\n",
              "      <td>NaN</td>\n",
              "      <td>NaN</td>\n",
              "      <td>NaN</td>\n",
              "      <td>NaN</td>\n",
              "      <td>NaN</td>\n",
              "    </tr>\n",
              "    <tr>\n",
              "      <th>feature 2</th>\n",
              "      <td>NaN</td>\n",
              "      <td>1.000000</td>\n",
              "      <td>0.556618</td>\n",
              "      <td>0.207814</td>\n",
              "      <td>-0.018761</td>\n",
              "      <td>0.060776</td>\n",
              "      <td>0.048388</td>\n",
              "      <td>-0.038927</td>\n",
              "      <td>0.032320</td>\n",
              "      <td>0.556372</td>\n",
              "      <td>0.224522</td>\n",
              "      <td>-0.109056</td>\n",
              "      <td>0.027908</td>\n",
              "      <td>-0.063983</td>\n",
              "      <td>-0.029973</td>\n",
              "      <td>-0.043697</td>\n",
              "      <td>-0.005109</td>\n",
              "      <td>0.213586</td>\n",
              "      <td>-0.113581</td>\n",
              "      <td>-0.105882</td>\n",
              "      <td>0.096254</td>\n",
              "      <td>-0.170070</td>\n",
              "      <td>-0.131330</td>\n",
              "      <td>-0.038266</td>\n",
              "      <td>-0.011183</td>\n",
              "      <td>-0.085911</td>\n",
              "      <td>-0.146383</td>\n",
              "      <td>0.072981</td>\n",
              "      <td>0.041083</td>\n",
              "      <td>-0.206318</td>\n",
              "      <td>-0.150754</td>\n",
              "      <td>-0.015824</td>\n",
              "      <td>NaN</td>\n",
              "      <td>-0.168296</td>\n",
              "      <td>-0.178488</td>\n",
              "      <td>0.044139</td>\n",
              "      <td>-0.059858</td>\n",
              "      <td>-0.235776</td>\n",
              "      <td>-0.173245</td>\n",
              "      <td>NaN</td>\n",
              "      <td>-0.020551</td>\n",
              "      <td>-0.124267</td>\n",
              "      <td>-0.142999</td>\n",
              "      <td>0.024242</td>\n",
              "      <td>-0.054716</td>\n",
              "      <td>-0.163272</td>\n",
              "      <td>-0.086466</td>\n",
              "      <td>-0.025736</td>\n",
              "      <td>-0.011871</td>\n",
              "      <td>0.225775</td>\n",
              "      <td>0.115281</td>\n",
              "      <td>0.020382</td>\n",
              "      <td>0.031455</td>\n",
              "      <td>-0.009579</td>\n",
              "      <td>0.030953</td>\n",
              "      <td>-0.045342</td>\n",
              "      <td>-0.007905</td>\n",
              "      <td>0.855610</td>\n",
              "      <td>0.555727</td>\n",
              "      <td>0.147646</td>\n",
              "      <td>-0.102349</td>\n",
              "      <td>-0.029870</td>\n",
              "      <td>0.026547</td>\n",
              "      <td>-0.043889</td>\n",
              "      <td>-0.051834</td>\n",
              "    </tr>\n",
              "    <tr>\n",
              "      <th>feature 3</th>\n",
              "      <td>NaN</td>\n",
              "      <td>0.556618</td>\n",
              "      <td>1.000000</td>\n",
              "      <td>0.560180</td>\n",
              "      <td>-0.084235</td>\n",
              "      <td>0.043569</td>\n",
              "      <td>0.002841</td>\n",
              "      <td>-0.062278</td>\n",
              "      <td>0.022311</td>\n",
              "      <td>0.582259</td>\n",
              "      <td>0.631467</td>\n",
              "      <td>-0.286026</td>\n",
              "      <td>0.028798</td>\n",
              "      <td>0.063248</td>\n",
              "      <td>-0.089221</td>\n",
              "      <td>-0.100526</td>\n",
              "      <td>-0.016943</td>\n",
              "      <td>0.278864</td>\n",
              "      <td>-0.084251</td>\n",
              "      <td>-0.310726</td>\n",
              "      <td>0.208726</td>\n",
              "      <td>-0.086630</td>\n",
              "      <td>-0.217657</td>\n",
              "      <td>-0.118925</td>\n",
              "      <td>-0.036549</td>\n",
              "      <td>-0.153100</td>\n",
              "      <td>-0.310519</td>\n",
              "      <td>0.108378</td>\n",
              "      <td>0.199761</td>\n",
              "      <td>-0.193759</td>\n",
              "      <td>-0.192081</td>\n",
              "      <td>-0.051716</td>\n",
              "      <td>NaN</td>\n",
              "      <td>-0.344061</td>\n",
              "      <td>-0.396431</td>\n",
              "      <td>-0.055715</td>\n",
              "      <td>-0.120387</td>\n",
              "      <td>-0.279790</td>\n",
              "      <td>-0.183321</td>\n",
              "      <td>NaN</td>\n",
              "      <td>-0.067167</td>\n",
              "      <td>-0.268728</td>\n",
              "      <td>-0.341944</td>\n",
              "      <td>-0.157470</td>\n",
              "      <td>-0.203247</td>\n",
              "      <td>-0.189976</td>\n",
              "      <td>-0.069215</td>\n",
              "      <td>-0.064782</td>\n",
              "      <td>-0.038797</td>\n",
              "      <td>0.205796</td>\n",
              "      <td>0.262176</td>\n",
              "      <td>-0.042531</td>\n",
              "      <td>-0.051530</td>\n",
              "      <td>0.082865</td>\n",
              "      <td>0.050849</td>\n",
              "      <td>-0.003804</td>\n",
              "      <td>-0.025837</td>\n",
              "      <td>0.515276</td>\n",
              "      <td>0.937623</td>\n",
              "      <td>0.499840</td>\n",
              "      <td>-0.134754</td>\n",
              "      <td>-0.041183</td>\n",
              "      <td>0.072599</td>\n",
              "      <td>0.082523</td>\n",
              "      <td>-0.011836</td>\n",
              "    </tr>\n",
              "    <tr>\n",
              "      <th>feature 4</th>\n",
              "      <td>NaN</td>\n",
              "      <td>0.207814</td>\n",
              "      <td>0.560180</td>\n",
              "      <td>1.000000</td>\n",
              "      <td>0.023938</td>\n",
              "      <td>-0.171377</td>\n",
              "      <td>-0.115732</td>\n",
              "      <td>-0.040139</td>\n",
              "      <td>0.035663</td>\n",
              "      <td>0.328344</td>\n",
              "      <td>0.596480</td>\n",
              "      <td>-0.002440</td>\n",
              "      <td>-0.068626</td>\n",
              "      <td>0.023163</td>\n",
              "      <td>-0.178804</td>\n",
              "      <td>-0.113830</td>\n",
              "      <td>0.022736</td>\n",
              "      <td>0.187811</td>\n",
              "      <td>0.040516</td>\n",
              "      <td>-0.360440</td>\n",
              "      <td>0.067943</td>\n",
              "      <td>-0.018315</td>\n",
              "      <td>-0.224892</td>\n",
              "      <td>-0.149758</td>\n",
              "      <td>-0.002639</td>\n",
              "      <td>-0.109260</td>\n",
              "      <td>-0.256293</td>\n",
              "      <td>-0.057108</td>\n",
              "      <td>0.090178</td>\n",
              "      <td>-0.183257</td>\n",
              "      <td>-0.141774</td>\n",
              "      <td>-0.067672</td>\n",
              "      <td>NaN</td>\n",
              "      <td>-0.227455</td>\n",
              "      <td>-0.224377</td>\n",
              "      <td>0.017606</td>\n",
              "      <td>-0.077963</td>\n",
              "      <td>-0.226493</td>\n",
              "      <td>-0.037223</td>\n",
              "      <td>NaN</td>\n",
              "      <td>-0.099624</td>\n",
              "      <td>-0.257836</td>\n",
              "      <td>-0.102203</td>\n",
              "      <td>-0.025302</td>\n",
              "      <td>-0.243829</td>\n",
              "      <td>-0.214744</td>\n",
              "      <td>0.089703</td>\n",
              "      <td>0.046919</td>\n",
              "      <td>-0.062799</td>\n",
              "      <td>0.015447</td>\n",
              "      <td>0.299762</td>\n",
              "      <td>0.279420</td>\n",
              "      <td>-0.180531</td>\n",
              "      <td>0.022396</td>\n",
              "      <td>0.139397</td>\n",
              "      <td>0.075335</td>\n",
              "      <td>-0.049085</td>\n",
              "      <td>0.175804</td>\n",
              "      <td>0.560326</td>\n",
              "      <td>0.767945</td>\n",
              "      <td>-0.065957</td>\n",
              "      <td>-0.054936</td>\n",
              "      <td>0.053437</td>\n",
              "      <td>0.081971</td>\n",
              "      <td>-0.011489</td>\n",
              "    </tr>\n",
              "    <tr>\n",
              "      <th>feature 5</th>\n",
              "      <td>NaN</td>\n",
              "      <td>-0.018761</td>\n",
              "      <td>-0.084235</td>\n",
              "      <td>0.023938</td>\n",
              "      <td>1.000000</td>\n",
              "      <td>0.507731</td>\n",
              "      <td>0.127764</td>\n",
              "      <td>0.010065</td>\n",
              "      <td>0.042065</td>\n",
              "      <td>0.051657</td>\n",
              "      <td>0.013998</td>\n",
              "      <td>-0.135715</td>\n",
              "      <td>0.160268</td>\n",
              "      <td>0.390035</td>\n",
              "      <td>0.133625</td>\n",
              "      <td>0.014505</td>\n",
              "      <td>0.009911</td>\n",
              "      <td>0.036612</td>\n",
              "      <td>-0.124452</td>\n",
              "      <td>-0.155501</td>\n",
              "      <td>-0.029025</td>\n",
              "      <td>0.182671</td>\n",
              "      <td>0.078333</td>\n",
              "      <td>0.023887</td>\n",
              "      <td>0.008971</td>\n",
              "      <td>0.027043</td>\n",
              "      <td>-0.063194</td>\n",
              "      <td>0.036231</td>\n",
              "      <td>0.089654</td>\n",
              "      <td>0.122548</td>\n",
              "      <td>0.078057</td>\n",
              "      <td>0.012694</td>\n",
              "      <td>NaN</td>\n",
              "      <td>-0.028073</td>\n",
              "      <td>-0.015664</td>\n",
              "      <td>0.026593</td>\n",
              "      <td>0.069915</td>\n",
              "      <td>0.089086</td>\n",
              "      <td>0.051408</td>\n",
              "      <td>NaN</td>\n",
              "      <td>0.023642</td>\n",
              "      <td>-0.018364</td>\n",
              "      <td>-0.095154</td>\n",
              "      <td>-0.037575</td>\n",
              "      <td>0.051713</td>\n",
              "      <td>0.074574</td>\n",
              "      <td>-0.090120</td>\n",
              "      <td>-0.039530</td>\n",
              "      <td>0.024149</td>\n",
              "      <td>-0.020577</td>\n",
              "      <td>-0.165601</td>\n",
              "      <td>-0.043649</td>\n",
              "      <td>0.030314</td>\n",
              "      <td>-0.120561</td>\n",
              "      <td>-0.264968</td>\n",
              "      <td>-0.212220</td>\n",
              "      <td>0.017352</td>\n",
              "      <td>-0.047223</td>\n",
              "      <td>-0.020176</td>\n",
              "      <td>-0.008867</td>\n",
              "      <td>-0.082125</td>\n",
              "      <td>-0.215809</td>\n",
              "      <td>-0.250699</td>\n",
              "      <td>-0.215349</td>\n",
              "      <td>0.100801</td>\n",
              "    </tr>\n",
              "    <tr>\n",
              "      <th>...</th>\n",
              "      <td>...</td>\n",
              "      <td>...</td>\n",
              "      <td>...</td>\n",
              "      <td>...</td>\n",
              "      <td>...</td>\n",
              "      <td>...</td>\n",
              "      <td>...</td>\n",
              "      <td>...</td>\n",
              "      <td>...</td>\n",
              "      <td>...</td>\n",
              "      <td>...</td>\n",
              "      <td>...</td>\n",
              "      <td>...</td>\n",
              "      <td>...</td>\n",
              "      <td>...</td>\n",
              "      <td>...</td>\n",
              "      <td>...</td>\n",
              "      <td>...</td>\n",
              "      <td>...</td>\n",
              "      <td>...</td>\n",
              "      <td>...</td>\n",
              "      <td>...</td>\n",
              "      <td>...</td>\n",
              "      <td>...</td>\n",
              "      <td>...</td>\n",
              "      <td>...</td>\n",
              "      <td>...</td>\n",
              "      <td>...</td>\n",
              "      <td>...</td>\n",
              "      <td>...</td>\n",
              "      <td>...</td>\n",
              "      <td>...</td>\n",
              "      <td>...</td>\n",
              "      <td>...</td>\n",
              "      <td>...</td>\n",
              "      <td>...</td>\n",
              "      <td>...</td>\n",
              "      <td>...</td>\n",
              "      <td>...</td>\n",
              "      <td>...</td>\n",
              "      <td>...</td>\n",
              "      <td>...</td>\n",
              "      <td>...</td>\n",
              "      <td>...</td>\n",
              "      <td>...</td>\n",
              "      <td>...</td>\n",
              "      <td>...</td>\n",
              "      <td>...</td>\n",
              "      <td>...</td>\n",
              "      <td>...</td>\n",
              "      <td>...</td>\n",
              "      <td>...</td>\n",
              "      <td>...</td>\n",
              "      <td>...</td>\n",
              "      <td>...</td>\n",
              "      <td>...</td>\n",
              "      <td>...</td>\n",
              "      <td>...</td>\n",
              "      <td>...</td>\n",
              "      <td>...</td>\n",
              "      <td>...</td>\n",
              "      <td>...</td>\n",
              "      <td>...</td>\n",
              "      <td>...</td>\n",
              "      <td>...</td>\n",
              "    </tr>\n",
              "    <tr>\n",
              "      <th>feature 61</th>\n",
              "      <td>NaN</td>\n",
              "      <td>-0.102349</td>\n",
              "      <td>-0.134754</td>\n",
              "      <td>-0.065957</td>\n",
              "      <td>-0.082125</td>\n",
              "      <td>-0.351146</td>\n",
              "      <td>-0.383522</td>\n",
              "      <td>-0.178243</td>\n",
              "      <td>0.048996</td>\n",
              "      <td>-0.000604</td>\n",
              "      <td>-0.077451</td>\n",
              "      <td>0.046670</td>\n",
              "      <td>0.015946</td>\n",
              "      <td>-0.199519</td>\n",
              "      <td>-0.298199</td>\n",
              "      <td>-0.100317</td>\n",
              "      <td>0.021630</td>\n",
              "      <td>0.036393</td>\n",
              "      <td>0.119076</td>\n",
              "      <td>0.207694</td>\n",
              "      <td>0.002642</td>\n",
              "      <td>-0.120517</td>\n",
              "      <td>-0.079916</td>\n",
              "      <td>-0.002784</td>\n",
              "      <td>0.008059</td>\n",
              "      <td>0.029233</td>\n",
              "      <td>0.083202</td>\n",
              "      <td>0.066731</td>\n",
              "      <td>-0.108922</td>\n",
              "      <td>-0.163125</td>\n",
              "      <td>-0.144672</td>\n",
              "      <td>0.001828</td>\n",
              "      <td>NaN</td>\n",
              "      <td>0.020895</td>\n",
              "      <td>-0.071784</td>\n",
              "      <td>-0.183403</td>\n",
              "      <td>-0.181357</td>\n",
              "      <td>0.018534</td>\n",
              "      <td>0.023764</td>\n",
              "      <td>NaN</td>\n",
              "      <td>0.031133</td>\n",
              "      <td>0.042396</td>\n",
              "      <td>0.144650</td>\n",
              "      <td>-0.225523</td>\n",
              "      <td>-0.257238</td>\n",
              "      <td>0.325224</td>\n",
              "      <td>0.385285</td>\n",
              "      <td>0.065117</td>\n",
              "      <td>0.018501</td>\n",
              "      <td>0.078370</td>\n",
              "      <td>0.276738</td>\n",
              "      <td>-0.230884</td>\n",
              "      <td>0.062677</td>\n",
              "      <td>0.584631</td>\n",
              "      <td>0.394280</td>\n",
              "      <td>0.105101</td>\n",
              "      <td>0.005697</td>\n",
              "      <td>-0.117908</td>\n",
              "      <td>-0.207957</td>\n",
              "      <td>0.058390</td>\n",
              "      <td>1.000000</td>\n",
              "      <td>0.609515</td>\n",
              "      <td>0.243305</td>\n",
              "      <td>0.103015</td>\n",
              "      <td>-0.196083</td>\n",
              "    </tr>\n",
              "    <tr>\n",
              "      <th>feature 62</th>\n",
              "      <td>NaN</td>\n",
              "      <td>-0.029870</td>\n",
              "      <td>-0.041183</td>\n",
              "      <td>-0.054936</td>\n",
              "      <td>-0.215809</td>\n",
              "      <td>-0.268818</td>\n",
              "      <td>-0.304111</td>\n",
              "      <td>-0.141174</td>\n",
              "      <td>0.033409</td>\n",
              "      <td>0.071488</td>\n",
              "      <td>-0.031067</td>\n",
              "      <td>-0.095718</td>\n",
              "      <td>-0.002852</td>\n",
              "      <td>-0.131565</td>\n",
              "      <td>-0.279800</td>\n",
              "      <td>-0.136796</td>\n",
              "      <td>0.012376</td>\n",
              "      <td>0.052271</td>\n",
              "      <td>-0.016898</td>\n",
              "      <td>0.077486</td>\n",
              "      <td>0.103847</td>\n",
              "      <td>-0.078995</td>\n",
              "      <td>-0.224470</td>\n",
              "      <td>-0.107306</td>\n",
              "      <td>-0.038275</td>\n",
              "      <td>-0.150601</td>\n",
              "      <td>-0.114085</td>\n",
              "      <td>0.044066</td>\n",
              "      <td>0.008008</td>\n",
              "      <td>-0.151077</td>\n",
              "      <td>-0.273817</td>\n",
              "      <td>-0.038145</td>\n",
              "      <td>NaN</td>\n",
              "      <td>-0.215519</td>\n",
              "      <td>-0.201520</td>\n",
              "      <td>-0.107596</td>\n",
              "      <td>-0.067114</td>\n",
              "      <td>-0.031127</td>\n",
              "      <td>-0.075186</td>\n",
              "      <td>NaN</td>\n",
              "      <td>-0.024194</td>\n",
              "      <td>-0.133687</td>\n",
              "      <td>0.019466</td>\n",
              "      <td>-0.152078</td>\n",
              "      <td>-0.323704</td>\n",
              "      <td>0.117585</td>\n",
              "      <td>0.434567</td>\n",
              "      <td>0.116837</td>\n",
              "      <td>-0.008286</td>\n",
              "      <td>0.013170</td>\n",
              "      <td>0.258585</td>\n",
              "      <td>-0.045933</td>\n",
              "      <td>-0.294945</td>\n",
              "      <td>0.529319</td>\n",
              "      <td>0.707519</td>\n",
              "      <td>0.262795</td>\n",
              "      <td>-0.003056</td>\n",
              "      <td>-0.043889</td>\n",
              "      <td>-0.091839</td>\n",
              "      <td>-0.094956</td>\n",
              "      <td>0.609515</td>\n",
              "      <td>1.000000</td>\n",
              "      <td>0.648328</td>\n",
              "      <td>0.261991</td>\n",
              "      <td>-0.079100</td>\n",
              "    </tr>\n",
              "    <tr>\n",
              "      <th>feature 63</th>\n",
              "      <td>NaN</td>\n",
              "      <td>0.026547</td>\n",
              "      <td>0.072599</td>\n",
              "      <td>0.053437</td>\n",
              "      <td>-0.250699</td>\n",
              "      <td>-0.267659</td>\n",
              "      <td>-0.178945</td>\n",
              "      <td>-0.063220</td>\n",
              "      <td>0.020689</td>\n",
              "      <td>0.111569</td>\n",
              "      <td>0.005106</td>\n",
              "      <td>0.028113</td>\n",
              "      <td>-0.046564</td>\n",
              "      <td>-0.224639</td>\n",
              "      <td>-0.207165</td>\n",
              "      <td>-0.065956</td>\n",
              "      <td>0.018901</td>\n",
              "      <td>0.080293</td>\n",
              "      <td>-0.042269</td>\n",
              "      <td>0.041705</td>\n",
              "      <td>0.074190</td>\n",
              "      <td>-0.172556</td>\n",
              "      <td>-0.203691</td>\n",
              "      <td>-0.057759</td>\n",
              "      <td>-0.016879</td>\n",
              "      <td>-0.153281</td>\n",
              "      <td>-0.193252</td>\n",
              "      <td>-0.077261</td>\n",
              "      <td>0.030022</td>\n",
              "      <td>-0.182676</td>\n",
              "      <td>-0.236523</td>\n",
              "      <td>-0.023884</td>\n",
              "      <td>NaN</td>\n",
              "      <td>-0.216802</td>\n",
              "      <td>-0.211759</td>\n",
              "      <td>-0.031373</td>\n",
              "      <td>0.056186</td>\n",
              "      <td>-0.182700</td>\n",
              "      <td>-0.182357</td>\n",
              "      <td>NaN</td>\n",
              "      <td>-0.031020</td>\n",
              "      <td>-0.147091</td>\n",
              "      <td>-0.066384</td>\n",
              "      <td>0.040766</td>\n",
              "      <td>-0.032923</td>\n",
              "      <td>-0.174984</td>\n",
              "      <td>0.117932</td>\n",
              "      <td>0.139800</td>\n",
              "      <td>-0.017918</td>\n",
              "      <td>-0.039674</td>\n",
              "      <td>0.128416</td>\n",
              "      <td>0.178233</td>\n",
              "      <td>-0.092313</td>\n",
              "      <td>0.095500</td>\n",
              "      <td>0.602267</td>\n",
              "      <td>0.511726</td>\n",
              "      <td>-0.011932</td>\n",
              "      <td>0.014557</td>\n",
              "      <td>0.035369</td>\n",
              "      <td>0.006849</td>\n",
              "      <td>0.243305</td>\n",
              "      <td>0.648328</td>\n",
              "      <td>1.000000</td>\n",
              "      <td>0.620428</td>\n",
              "      <td>-0.114007</td>\n",
              "    </tr>\n",
              "    <tr>\n",
              "      <th>feature 64</th>\n",
              "      <td>NaN</td>\n",
              "      <td>-0.043889</td>\n",
              "      <td>0.082523</td>\n",
              "      <td>0.081971</td>\n",
              "      <td>-0.215349</td>\n",
              "      <td>-0.167727</td>\n",
              "      <td>-0.080309</td>\n",
              "      <td>-0.024505</td>\n",
              "      <td>-0.005226</td>\n",
              "      <td>-0.001404</td>\n",
              "      <td>0.001910</td>\n",
              "      <td>0.054672</td>\n",
              "      <td>-0.039366</td>\n",
              "      <td>-0.148810</td>\n",
              "      <td>-0.096852</td>\n",
              "      <td>-0.025566</td>\n",
              "      <td>0.015250</td>\n",
              "      <td>0.008117</td>\n",
              "      <td>-0.050999</td>\n",
              "      <td>0.065964</td>\n",
              "      <td>0.058155</td>\n",
              "      <td>-0.099940</td>\n",
              "      <td>-0.093246</td>\n",
              "      <td>-0.022388</td>\n",
              "      <td>-0.006543</td>\n",
              "      <td>-0.082348</td>\n",
              "      <td>-0.128674</td>\n",
              "      <td>-0.036634</td>\n",
              "      <td>0.028792</td>\n",
              "      <td>-0.088395</td>\n",
              "      <td>-0.109465</td>\n",
              "      <td>-0.009258</td>\n",
              "      <td>NaN</td>\n",
              "      <td>-0.119663</td>\n",
              "      <td>-0.183111</td>\n",
              "      <td>-0.093166</td>\n",
              "      <td>0.073727</td>\n",
              "      <td>-0.124733</td>\n",
              "      <td>-0.150253</td>\n",
              "      <td>NaN</td>\n",
              "      <td>-0.012024</td>\n",
              "      <td>-0.101927</td>\n",
              "      <td>-0.177794</td>\n",
              "      <td>-0.050580</td>\n",
              "      <td>0.141198</td>\n",
              "      <td>-0.101007</td>\n",
              "      <td>-0.118385</td>\n",
              "      <td>0.005979</td>\n",
              "      <td>-0.006945</td>\n",
              "      <td>-0.067961</td>\n",
              "      <td>-0.050806</td>\n",
              "      <td>0.113148</td>\n",
              "      <td>0.131449</td>\n",
              "      <td>0.054802</td>\n",
              "      <td>0.196296</td>\n",
              "      <td>0.563989</td>\n",
              "      <td>-0.004625</td>\n",
              "      <td>-0.047089</td>\n",
              "      <td>0.031193</td>\n",
              "      <td>0.099671</td>\n",
              "      <td>0.103015</td>\n",
              "      <td>0.261991</td>\n",
              "      <td>0.620428</td>\n",
              "      <td>1.000000</td>\n",
              "      <td>-0.181929</td>\n",
              "    </tr>\n",
              "    <tr>\n",
              "      <th>digits_label</th>\n",
              "      <td>NaN</td>\n",
              "      <td>-0.051834</td>\n",
              "      <td>-0.011836</td>\n",
              "      <td>-0.011489</td>\n",
              "      <td>0.100801</td>\n",
              "      <td>0.193362</td>\n",
              "      <td>0.197343</td>\n",
              "      <td>0.101085</td>\n",
              "      <td>0.020813</td>\n",
              "      <td>-0.012439</td>\n",
              "      <td>0.120104</td>\n",
              "      <td>-0.129067</td>\n",
              "      <td>-0.244489</td>\n",
              "      <td>0.076821</td>\n",
              "      <td>0.209664</td>\n",
              "      <td>0.080925</td>\n",
              "      <td>-0.023225</td>\n",
              "      <td>-0.026982</td>\n",
              "      <td>0.097094</td>\n",
              "      <td>-0.140974</td>\n",
              "      <td>-0.135314</td>\n",
              "      <td>0.113816</td>\n",
              "      <td>0.078895</td>\n",
              "      <td>0.026063</td>\n",
              "      <td>-0.023199</td>\n",
              "      <td>-0.169231</td>\n",
              "      <td>0.072729</td>\n",
              "      <td>0.275468</td>\n",
              "      <td>0.234159</td>\n",
              "      <td>0.216130</td>\n",
              "      <td>-0.015353</td>\n",
              "      <td>-0.008093</td>\n",
              "      <td>NaN</td>\n",
              "      <td>-0.223413</td>\n",
              "      <td>-0.007327</td>\n",
              "      <td>0.265880</td>\n",
              "      <td>0.162342</td>\n",
              "      <td>0.161855</td>\n",
              "      <td>-0.006153</td>\n",
              "      <td>NaN</td>\n",
              "      <td>-0.010511</td>\n",
              "      <td>-0.137694</td>\n",
              "      <td>-0.122766</td>\n",
              "      <td>-0.006342</td>\n",
              "      <td>-0.024336</td>\n",
              "      <td>0.014753</td>\n",
              "      <td>0.060820</td>\n",
              "      <td>0.046754</td>\n",
              "      <td>-0.011780</td>\n",
              "      <td>-0.039103</td>\n",
              "      <td>-0.142980</td>\n",
              "      <td>-0.181037</td>\n",
              "      <td>-0.390625</td>\n",
              "      <td>-0.189452</td>\n",
              "      <td>0.026682</td>\n",
              "      <td>-0.099312</td>\n",
              "      <td>-0.020518</td>\n",
              "      <td>-0.053950</td>\n",
              "      <td>0.006367</td>\n",
              "      <td>-0.019790</td>\n",
              "      <td>-0.196083</td>\n",
              "      <td>-0.079100</td>\n",
              "      <td>-0.114007</td>\n",
              "      <td>-0.181929</td>\n",
              "      <td>1.000000</td>\n",
              "    </tr>\n",
              "  </tbody>\n",
              "</table>\n",
              "<p>65 rows × 65 columns</p>\n",
              "</div>"
            ],
            "text/plain": [
              "              feature 1  feature 2  ...  feature 64  digits_label\n",
              "feature 1           NaN        NaN  ...         NaN           NaN\n",
              "feature 2           NaN   1.000000  ...   -0.043889     -0.051834\n",
              "feature 3           NaN   0.556618  ...    0.082523     -0.011836\n",
              "feature 4           NaN   0.207814  ...    0.081971     -0.011489\n",
              "feature 5           NaN  -0.018761  ...   -0.215349      0.100801\n",
              "...                 ...        ...  ...         ...           ...\n",
              "feature 61          NaN  -0.102349  ...    0.103015     -0.196083\n",
              "feature 62          NaN  -0.029870  ...    0.261991     -0.079100\n",
              "feature 63          NaN   0.026547  ...    0.620428     -0.114007\n",
              "feature 64          NaN  -0.043889  ...    1.000000     -0.181929\n",
              "digits_label        NaN  -0.051834  ...   -0.181929      1.000000\n",
              "\n",
              "[65 rows x 65 columns]"
            ]
          },
          "metadata": {
            "tags": []
          },
          "execution_count": 11
        }
      ]
    },
    {
      "cell_type": "markdown",
      "metadata": {
        "id": "Yjjk4-BkJ067"
      },
      "source": [
        "**Class Distribution**"
      ]
    },
    {
      "cell_type": "code",
      "metadata": {
        "colab": {
          "base_uri": "https://localhost:8080/",
          "height": 359
        },
        "id": "wvocSWF8KAUj",
        "outputId": "a2d62383-0e0e-4592-a4e7-028593223064"
      },
      "source": [
        "unique_digits, counts_digits = np.unique(y_digits, return_counts=True)\n",
        "dist_digits = pd.DataFrame(counts_digits, index = unique_digits)\n",
        "dist_digits.columns = [\"class distribution (count)\"]\n",
        "dist_digits"
      ],
      "execution_count": 12,
      "outputs": [
        {
          "output_type": "execute_result",
          "data": {
            "text/html": [
              "<div>\n",
              "<style scoped>\n",
              "    .dataframe tbody tr th:only-of-type {\n",
              "        vertical-align: middle;\n",
              "    }\n",
              "\n",
              "    .dataframe tbody tr th {\n",
              "        vertical-align: top;\n",
              "    }\n",
              "\n",
              "    .dataframe thead th {\n",
              "        text-align: right;\n",
              "    }\n",
              "</style>\n",
              "<table border=\"1\" class=\"dataframe\">\n",
              "  <thead>\n",
              "    <tr style=\"text-align: right;\">\n",
              "      <th></th>\n",
              "      <th>class distribution (count)</th>\n",
              "    </tr>\n",
              "  </thead>\n",
              "  <tbody>\n",
              "    <tr>\n",
              "      <th>0</th>\n",
              "      <td>178</td>\n",
              "    </tr>\n",
              "    <tr>\n",
              "      <th>1</th>\n",
              "      <td>182</td>\n",
              "    </tr>\n",
              "    <tr>\n",
              "      <th>2</th>\n",
              "      <td>177</td>\n",
              "    </tr>\n",
              "    <tr>\n",
              "      <th>3</th>\n",
              "      <td>183</td>\n",
              "    </tr>\n",
              "    <tr>\n",
              "      <th>4</th>\n",
              "      <td>181</td>\n",
              "    </tr>\n",
              "    <tr>\n",
              "      <th>5</th>\n",
              "      <td>182</td>\n",
              "    </tr>\n",
              "    <tr>\n",
              "      <th>6</th>\n",
              "      <td>181</td>\n",
              "    </tr>\n",
              "    <tr>\n",
              "      <th>7</th>\n",
              "      <td>179</td>\n",
              "    </tr>\n",
              "    <tr>\n",
              "      <th>8</th>\n",
              "      <td>174</td>\n",
              "    </tr>\n",
              "    <tr>\n",
              "      <th>9</th>\n",
              "      <td>180</td>\n",
              "    </tr>\n",
              "  </tbody>\n",
              "</table>\n",
              "</div>"
            ],
            "text/plain": [
              "   class distribution (count)\n",
              "0                         178\n",
              "1                         182\n",
              "2                         177\n",
              "3                         183\n",
              "4                         181\n",
              "5                         182\n",
              "6                         181\n",
              "7                         179\n",
              "8                         174\n",
              "9                         180"
            ]
          },
          "metadata": {
            "tags": []
          },
          "execution_count": 12
        }
      ]
    },
    {
      "cell_type": "code",
      "metadata": {
        "colab": {
          "base_uri": "https://localhost:8080/",
          "height": 281
        },
        "id": "Re5Ohj5kKJzv",
        "outputId": "8136ddaa-99e2-4f6b-87f8-58c502f84d09"
      },
      "source": [
        "plt.bar(unique_digits, counts_digits/sum(counts_digits))\n",
        "plt.xticks(unique_digits, unique_digits)\n",
        "plt.title(\"Class Distribution of Digits Dataset\")\n",
        "plt.show()"
      ],
      "execution_count": 13,
      "outputs": [
        {
          "output_type": "display_data",
          "data": {
            "image/png": "[encoded data removed]",
            "text/plain": [
              "<Figure size 432x288 with 1 Axes>"
            ]
          },
          "metadata": {
            "tags": [],
            "needs_background": "light"
          }
        }
      ]
    },
    {
      "cell_type": "markdown",
      "metadata": {
        "id": "rtuZbfPG2wkf"
      },
      "source": [
        "### **1.2.2 Iris dataset**\n",
        "\n",
        "**One hot encoding**\n",
        "\n",
        "\n"
      ]
    },
    {
      "cell_type": "code",
      "metadata": {
        "id": "4SodXeO_x0-0"
      },
      "source": [
        "# convert label 'N' and 'P' to 0 and 1\n",
        "\n",
        "categorical_y_iris=np.zeros((150,))\n",
        "for i in range(len(y_iris)):\n",
        "  if y_iris[i]=='P':\n",
        "    categorical_y_iris[i]=0\n",
        "  else:\n",
        "    categorical_y_iris[i]=1\n",
        "#print(categorical_y_iris)\n",
        "\n",
        "new_y_iris=np.zeros((150,2))\n",
        "for i in range(len(y_iris)):\n",
        "  if y_iris[i]=='P':\n",
        "    new_y_iris[i, 1]=1\n",
        "  else:\n",
        "    new_y_iris[i, 0]=1\n",
        "#print(new_y_iris)"
      ],
      "execution_count": 14,
      "outputs": []
    },
    {
      "cell_type": "markdown",
      "metadata": {
        "id": "LjQMx7MAqsGw"
      },
      "source": [
        "**Data Normalization**"
      ]
    },
    {
      "cell_type": "markdown",
      "metadata": {
        "id": "_DjJf_vmn01v"
      },
      "source": [
        "Convert iris dataset to pandas dataframe"
      ]
    },
    {
      "cell_type": "code",
      "metadata": {
        "id": "owW_UJkTv29D",
        "colab": {
          "base_uri": "https://localhost:8080/"
        },
        "outputId": "ebde32f7-22ef-48e0-961e-2ccb8cb3786f"
      },
      "source": [
        "np.append(X_iris,y_iris).shape\n",
        "tmp=['sepallength','sepalwidth','petallength','petalwidth','iris_label0','iris_label1']\n",
        "df_iris=pd.DataFrame(data=[np.append(X_iris[i],new_y_iris[i]) for i in range(150)],columns=tmp)\n",
        "df_iris[\"sepallength\"] = df_iris.sepallength.astype(float)\n",
        "df_iris[\"sepalwidth\"] = df_iris.sepalwidth.astype(float)\n",
        "df_iris[\"petallength\"] = df_iris.petallength.astype(float)\n",
        "df_iris[\"petalwidth\"] = df_iris.petalwidth.astype(float)\n",
        "'''\n",
        "def convert_y(c):\n",
        "  if c=='N':\n",
        "    return 0\n",
        "  if c=='P':\n",
        "    return 1\n",
        "'''\n",
        "\n",
        "#df_iris['new_iris_label0']=[ convert_y(i) for i in df_iris.iris_label0]\n",
        "#df_iris['new_iris_label1']=[ convert_y(i) for i in df_iris.iris_label1]\n",
        "df_iris.info()"
      ],
      "execution_count": 16,
      "outputs": [
        {
          "output_type": "stream",
          "text": [
            "<class 'pandas.core.frame.DataFrame'>\n",
            "RangeIndex: 150 entries, 0 to 149\n",
            "Data columns (total 6 columns):\n",
            " #   Column       Non-Null Count  Dtype  \n",
            "---  ------       --------------  -----  \n",
            " 0   sepallength  150 non-null    float64\n",
            " 1   sepalwidth   150 non-null    float64\n",
            " 2   petallength  150 non-null    float64\n",
            " 3   petalwidth   150 non-null    float64\n",
            " 4   iris_label0  150 non-null    float64\n",
            " 5   iris_label1  150 non-null    float64\n",
            "dtypes: float64(6)\n",
            "memory usage: 7.2 KB\n"
          ],
          "name": "stdout"
        }
      ]
    },
    {
      "cell_type": "code",
      "metadata": {
        "id": "SXK2HSLJy4FG",
        "colab": {
          "base_uri": "https://localhost:8080/",
          "height": 357
        },
        "outputId": "d1b6d1e1-cd81-4f77-d465-19ed797d0a78"
      },
      "source": [
        "#tmp.append('new_iris_label0')\n",
        "#tmp.append('new_iris_label1')\n",
        "corr=df_iris[tmp].corr() \n",
        "# mask the upper triangle\n",
        "sns.set(style=\"white\")\n",
        "#plt.figure(figsize=(18,9.5))\n",
        "mask=np.triu(np.ones_like(corr,dtype=np.bool))\n",
        "# colour\n",
        "cmap=sns.diverging_palette(240,10,n=9)\n",
        "# annot to display the value\n",
        "sns.heatmap(corr,annot=True,mask=mask,cmap='RdYlBu',linewidths=0.6)\n",
        "print(\"Correlation bwteen the fatures and 'iris_label': \\n\")\n"
      ],
      "execution_count": 17,
      "outputs": [
        {
          "output_type": "stream",
          "text": [
            "Correlation bwteen the fatures and 'iris_label': \n",
            "\n"
          ],
          "name": "stdout"
        },
        {
          "output_type": "display_data",
          "data": {
            "image/png": "[encoded data removed]",
            "text/plain": [
              "<Figure size 432x288 with 2 Axes>"
            ]
          },
          "metadata": {
            "tags": []
          }
        }
      ]
    },
    {
      "cell_type": "markdown",
      "metadata": {
        "id": "bbD6RHb7KWz4"
      },
      "source": [
        "**Class Distribution**\n",
        "\n",
        "\n"
      ]
    },
    {
      "cell_type": "code",
      "metadata": {
        "id": "7-wmrokWKebs",
        "colab": {
          "base_uri": "https://localhost:8080/",
          "height": 111
        },
        "outputId": "36c9ee8e-bcb6-4cc0-f918-8badd1c7c6ab"
      },
      "source": [
        "unique_iris, counts_iris = np.unique(y_iris, return_counts=True)\n",
        "dist_iris = pd.DataFrame(counts_iris, index = unique_iris)\n",
        "dist_iris.columns = [\"class distribution (count)\"]\n",
        "dist_iris"
      ],
      "execution_count": 18,
      "outputs": [
        {
          "output_type": "execute_result",
          "data": {
            "text/html": [
              "<div>\n",
              "<style scoped>\n",
              "    .dataframe tbody tr th:only-of-type {\n",
              "        vertical-align: middle;\n",
              "    }\n",
              "\n",
              "    .dataframe tbody tr th {\n",
              "        vertical-align: top;\n",
              "    }\n",
              "\n",
              "    .dataframe thead th {\n",
              "        text-align: right;\n",
              "    }\n",
              "</style>\n",
              "<table border=\"1\" class=\"dataframe\">\n",
              "  <thead>\n",
              "    <tr style=\"text-align: right;\">\n",
              "      <th></th>\n",
              "      <th>class distribution (count)</th>\n",
              "    </tr>\n",
              "  </thead>\n",
              "  <tbody>\n",
              "    <tr>\n",
              "      <th>N</th>\n",
              "      <td>100</td>\n",
              "    </tr>\n",
              "    <tr>\n",
              "      <th>P</th>\n",
              "      <td>50</td>\n",
              "    </tr>\n",
              "  </tbody>\n",
              "</table>\n",
              "</div>"
            ],
            "text/plain": [
              "   class distribution (count)\n",
              "N                         100\n",
              "P                          50"
            ]
          },
          "metadata": {
            "tags": []
          },
          "execution_count": 18
        }
      ]
    },
    {
      "cell_type": "code",
      "metadata": {
        "id": "-Q7YPue8l5_o"
      },
      "source": [
        "plt.bar(unique_iris, counts_iris/sum(counts_iris))\n",
        "plt.xticks(unique_iris, unique_iris)\n",
        "plt.title(\"Class Distribution of Iris Dataset\")\n",
        "plt.show()"
      ],
      "execution_count": null,
      "outputs": []
    },
    {
      "cell_type": "markdown",
      "metadata": {
        "id": "UzjWmqfoxlbu"
      },
      "source": [
        "### **1.2.3 Vehicle Dataset**"
      ]
    },
    {
      "cell_type": "markdown",
      "metadata": {
        "id": "bTV35l4MxsLH"
      },
      "source": [
        "**One hot Encoding**"
      ]
    },
    {
      "cell_type": "code",
      "metadata": {
        "id": "L8ByRRuUx0fl"
      },
      "source": [
        "N,D=X_vehicle.shape\n",
        "new_y_vehicle = np.zeros((N,4))\n",
        "for i in range(N):\n",
        "  if y_vehicle[i]=='van':\n",
        "    new_y_vehicle[i][0]=1\n",
        "  elif y_vehicle[i]=='saab':\n",
        "    new_y_vehicle[i][1]=1\n",
        "  elif y_vehicle[i]=='bus':\n",
        "    new_y_vehicle[i][2]=1\n",
        "  else:\n",
        "    new_y_vehicle[i][3]=1\n",
        "\n",
        "\n",
        "new_y_vehicle \n",
        "print(D)"
      ],
      "execution_count": null,
      "outputs": []
    },
    {
      "cell_type": "markdown",
      "metadata": {
        "id": "0YZd30YWnAQK"
      },
      "source": [
        "**Class Distribution**"
      ]
    },
    {
      "cell_type": "code",
      "metadata": {
        "id": "0D66VenHcdEx"
      },
      "source": [
        "name=['van','saab','bus','opel']\n",
        "acc=[0.0,0.0,0.0,0.0]\n",
        "for i in range(N):\n",
        "  if y_vehicle[i]=='van':\n",
        "    acc[0]=acc[0]+1\n",
        "  elif y_vehicle[i]=='saab':\n",
        "    acc[1]=acc[1]+1\n",
        "  elif y_vehicle[i]=='bus':\n",
        "    acc[2]=acc[2]+1\n",
        "  else:\n",
        "    acc[3]=acc[3]+1\n",
        "\n",
        "[name[i]+\": \"+str(acc[i]/sum(acc)) for i in range(4)]"
      ],
      "execution_count": null,
      "outputs": []
    },
    {
      "cell_type": "code",
      "metadata": {
        "id": "wpi4oGnEmAzy"
      },
      "source": [
        "unique_vehicle, counts_vehicle = np.unique(y_vehicle, return_counts=True)\n",
        "dist_vehicle = pd.DataFrame(counts_vehicle, index = unique_vehicle)\n",
        "dist_vehicle.columns = [\"class distribution (count)\"]\n",
        "dist_vehicle"
      ],
      "execution_count": null,
      "outputs": []
    },
    {
      "cell_type": "code",
      "metadata": {
        "id": "fI4AoHrSmEHI"
      },
      "source": [
        "plt.bar(unique_vehicle, counts_vehicle/sum(counts_vehicle))\n",
        "plt.xticks(unique_vehicle, unique_vehicle)\n",
        "plt.title(\"Class Distribution of Vehicle Dataset\")\n",
        "plt.show()"
      ],
      "execution_count": null,
      "outputs": []
    },
    {
      "cell_type": "markdown",
      "metadata": {
        "id": "84XqcdRKzCZy"
      },
      "source": [
        "**Data Normalization**"
      ]
    },
    {
      "cell_type": "code",
      "metadata": {
        "id": "WBs43xqMzFHv"
      },
      "source": [
        "from sklearn import preprocessing\n",
        "X_vehicle = preprocessing.scale(X_vehicle)"
      ],
      "execution_count": null,
      "outputs": []
    },
    {
      "cell_type": "markdown",
      "metadata": {
        "id": "a83gZ-hPGx6A"
      },
      "source": [
        "# **2. Softmax Regression Model**"
      ]
    },
    {
      "cell_type": "markdown",
      "metadata": {
        "id": "40vmnR9-GR3N"
      },
      "source": [
        "## **2.1 Gradient descent with momentum optimizer**"
      ]
    },
    {
      "cell_type": "code",
      "metadata": {
        "id": "Aa0XlYHHQU73"
      },
      "source": [
        "import numpy as np\n",
        "import math\n",
        "\n",
        "def minibatch(batch_size,gradient_fn, x, y, w):\n",
        "    sample_size = len(x)\n",
        "    C =len(y[0])\n",
        "    D=len(x[0])\n",
        "    #print(\"D:\",D)\n",
        "    if batch_size==1:\n",
        "        grad = np.zeros((D,C))\n",
        "        for i in range (sample_size-1):\n",
        "            l_index = i\n",
        "            r_index= i+1\n",
        "            x_batch = x[l_index:r_index]\n",
        "            y_batch = y[l_index:r_index]\n",
        "            # return grad is D by C matrix\n",
        "            grad=grad+gradient_fn(x_batch, y_batch, w)\n",
        "            \n",
        "        return grad\n",
        "\n",
        "\n",
        "        \n",
        "    num_batch = math.ceil(sample_size/batch_size)\n",
        "    grad = np.ones((D,C))\n",
        "    for i in range (num_batch):\n",
        "        l_index = i*batch_size\n",
        "        r_index= min( ((i+1)*batch_size-1),sample_size-1)\n",
        "        x_batch = x[l_index:r_index]\n",
        "        y_batch = y[l_index:r_index]\n",
        "        # return grad is D by C matrix\n",
        "        #print(\"llala\",x_batch.shape, w.shape)\n",
        "        grad=grad+gradient_fn(x_batch, y_batch, w) \n",
        "\n",
        "    return grad \n",
        "\n",
        "\n"
      ],
      "execution_count": null,
      "outputs": []
    },
    {
      "cell_type": "code",
      "metadata": {
        "id": "E8VFvVeJGVc4"
      },
      "source": [
        "class GradientDescentwithMomentum:\n",
        "    \n",
        "    def __init__(self, momentum = 0.95,batch_size = 2000, learning_rate=.001, max_iters=2, epsilon=1e-8, record_history=False):\n",
        "        self.momentum = momentum\n",
        "        self.batch_size = batch_size\n",
        "        self.learning_rate = learning_rate\n",
        "        self.max_iters = max_iters\n",
        "        self.record_history = record_history\n",
        "        self.epsilon = epsilon\n",
        "        if record_history:\n",
        "            self.w_history = []  \n",
        "\n",
        "    def minibatch(self,gradient_fn, x, y, w):\n",
        "        print(\"called1\")\n",
        "        batch_size = self.batch_size\n",
        "        sample_size = len(x)\n",
        "        C =len(y[0])\n",
        "        D=len(x[0])\n",
        "        num_batch = (sample_size/batch_size)+1\n",
        "        num_batch=int(num_batch)\n",
        "        grad = np.zeros((D,C))\n",
        "        for i in range (num_batch):\n",
        "            l_index = i*batch_size\n",
        "            r_index= min( ((i+1)*batch_size-1),sample_size-1)\n",
        "            x_batch = x[l_index:r_index]\n",
        "            y_batch = y[l_index:r_index]\n",
        "            # return grad is D by C matrix\n",
        "            grad=grad+gradient_fn(x_batch, y_batch, w) \n",
        "\n",
        "        return grad \n",
        "            \n",
        "    def run(self, gradient_fn, x, y, w):\n",
        "        # w: weight of new parameter (1*CD)\n",
        "        # delta_w: initialize delta_w with w_0 (1*CD)\n",
        "        delta_w = w\n",
        "        C = len(y[0])\n",
        "        N, D = x.shape\n",
        "        grad = np.zeros((D,C))\n",
        "        grad = np.inf\n",
        "        #I = np.identity(N)\n",
        "        #beta=np.ones(C*D) * momentum\n",
        "        #1_beta = np.idetity(C*D)-np.ones(C*D) * momentum\n",
        "\n",
        "        t = 1\n",
        "        accuracy=[]\n",
        "        while np.linalg.norm(grad) > self.epsilon and t < self.max_iters:\n",
        "            # gradient_fn is something like the magnitude of derivative\n",
        "            # if it is small enough, we can stop the loop\n",
        "            # the output grad is D by C\n",
        "            grad = minibatch(self.batch_size,gradient_fn, x, y, w)\n",
        "      \n",
        "            delta_w = self.momentum*delta_w+ (1-self.momentum)*grad\n",
        "            w = w - self.learning_rate * delta_w   \n",
        "\n",
        "            if self.record_history:\n",
        "                self.w_history.append(w)\n",
        "            \n",
        "            t += 1\n",
        "        \n",
        "        \n",
        "        return w\n"
      ],
      "execution_count": null,
      "outputs": []
    },
    {
      "cell_type": "markdown",
      "metadata": {
        "id": "F0reFAHZ810G"
      },
      "source": [
        "## **2.2 Multi-class Logistic Regression Model**"
      ]
    },
    {
      "cell_type": "code",
      "metadata": {
        "id": "vqOuIg1l87Od"
      },
      "source": [
        "def softmax_fn(x, w):\n",
        "  z = x@w\n",
        "  z = z - np.max(z, axis = 1, keepdims=True)\n",
        "  softmax = np.exp(z)/np.sum(np.exp(z), axis = 1, keepdims= True)\n",
        "  for i in range(len(softmax)):\n",
        "    row = softmax[i]\n",
        "    m=max(row)\n",
        "    for j in range(len(row)):\n",
        "      if row[j]>=m:\n",
        "        row[j]=1\n",
        "      if row[j] < m:\n",
        "        softmax[i][j]=0\n",
        "  \n",
        "  return softmax"
      ],
      "execution_count": null,
      "outputs": []
    },
    {
      "cell_type": "code",
      "metadata": {
        "id": "MCuh6BrC8_Vl"
      },
      "source": [
        "class MultiClassLogisticRegression:\n",
        "\n",
        "    def __init__(self, add_bias = True):\n",
        "       self.add_bias = add_bias\n",
        "       pass\n",
        "\n",
        "    def fit(self, x, y, optimzer):\n",
        "        if x.ndim == 1:\n",
        "            x = x[:, None]\n",
        "        '''\n",
        "        if n.dim == 1:\n",
        "          x = x[:, None]\n",
        "        '''\n",
        "        if self.add_bias:\n",
        "          N = x.shape[0]\n",
        "      \n",
        "          x = np.column_stack([x,np.ones(N)])\n",
        "        C = len(y[0])\n",
        "        N, D = x.shape\n",
        "\n",
        "        def gradient(x, y, w):\n",
        "          yh = softmax_fn(x, w)\n",
        "          dW = np.dot(x.T, yh - y)/N\n",
        "          #grad = dW.flatten() #Is this step necessary?\n",
        "          #return grad\n",
        "          return dW\n",
        "\n",
        "        w0 = np.zeros((D, C))\n",
        "        self.w = optimzer.run(gradient, x, y, w0)\n",
        "        return self\n",
        "  \n",
        "    def predict(self, x):\n",
        "        if x.ndim == 1: \n",
        "          x = x[:, None]\n",
        "        N, D = x.shape\n",
        "        if self.add_bias:\n",
        "          x = np.column_stack([x,np.ones(N)])\n",
        "        #print(self.w)\n",
        "        #print(x)\n",
        "        yh = softmax_fn(x, self.w)\n",
        "        return yh"
      ],
      "execution_count": null,
      "outputs": []
    },
    {
      "cell_type": "markdown",
      "metadata": {
        "id": "4G1rS4ZdgRk0"
      },
      "source": [
        "# **3. Data training**\n"
      ]
    },
    {
      "cell_type": "markdown",
      "metadata": {
        "id": "-Cs05N_pH7j6"
      },
      "source": [
        "## **3.1 Hyperparameters of the optimization procedure**\n",
        "\n",
        "\n"
      ]
    },
    {
      "cell_type": "markdown",
      "metadata": {
        "id": "lhG6aykUrOWu"
      },
      "source": [
        "### **3.1.1 Functions**\n"
      ]
    },
    {
      "cell_type": "markdown",
      "metadata": {
        "id": "nhXg8fsIsuW2"
      },
      "source": [
        "#### **a) Cross Validation & Grid Search Function**"
      ]
    },
    {
      "cell_type": "code",
      "metadata": {
        "id": "j4Ey9zCtghl7"
      },
      "source": [
        "import math\n",
        "def cross_validation(n_folds,x,y):\n",
        "    df=np.column_stack([x,y])\n",
        "    N, D = x.shape\n",
        "    C= len(y[0])\n",
        "    X_test=[]\n",
        "    X_train=[]\n",
        "    y_test=[]\n",
        "    y_train=[]\n",
        "    #index=[i for i in range(N)]\n",
        "    test_index=math.ceil(N/n_folds)\n",
        "    for i in range(n_folds):\n",
        "        df_tmp=np.random.permutation(df)\n",
        "        X_test_tmp=df_tmp[0:test_index,0:D]\n",
        "        y_test_tmp=df_tmp[0:test_index,D:(D+C)]\n",
        "        X_train_tmp=df_tmp[test_index:N,0:D]\n",
        "        y_train_tmp=df_tmp[test_index:N,D:(D+C)]\n",
        "\n",
        "        X_test.append(X_test_tmp)\n",
        "        y_test.append(y_test_tmp)\n",
        "        X_train.append(X_train_tmp)\n",
        "        y_train.append(y_train_tmp)\n",
        "\n",
        "    \n",
        "    return X_test,X_train,y_test,y_train\n",
        "\n",
        "\n",
        "#X_test,X_train,y_test,y_train = cross_validation(5,X_digits,new_y_digits)"
      ],
      "execution_count": null,
      "outputs": []
    },
    {
      "cell_type": "code",
      "metadata": {
        "id": "1ClfLHA5ZSHG"
      },
      "source": [
        "def getAcc(y_true,y_hat):\n",
        "  N=len(y_true)\n",
        "  acc=0.0\n",
        "  #y_hat=model.predict(X_digits[1701:1797,:])\n",
        "  #y_true=new_y_digits[1701:1797,:]\n",
        "  for i in range(N):\n",
        "    row = y_true[i]    \n",
        "    for j in range (len(row)):\n",
        "      if y_true[i][j]==y_hat[i][j]:\n",
        "        if y_true[i][j]==1:\n",
        "          acc=acc+1\n",
        "      else:\n",
        "        break\n",
        "  return acc/N\n"
      ],
      "execution_count": null,
      "outputs": []
    },
    {
      "cell_type": "code",
      "metadata": {
        "id": "54cMEItNZq4q"
      },
      "source": [
        "def simple_grid_search(momentum,learning_rate, batch_size,X,y):\n",
        "      n_folds=5\n",
        "      X_test,X_train,y_test,y_train = cross_validation(n_folds,X,y)\n",
        "      max_accuracy=-np.inf\n",
        "      best_parameter={}\n",
        "      \n",
        "      for m in momentum: \n",
        "        for l in learning_rate:\n",
        "          for b in batch_size:\n",
        "              accuracy=0.0\n",
        "              for trial in range(n_folds):\n",
        "                  optimizer= GradientDescentwithMomentum(momentum=m,batch_size = b,learning_rate=l, max_iters=200, record_history=True)\n",
        "                  model = MultiClassLogisticRegression()\n",
        "                  model.fit(X_train[trial],y_train[trial],optimizer)\n",
        "                  y_hat=model.predict(X_test[trial])\n",
        "                  accuracy = accuracy+ getAcc(y_hat, y_test[trial])\n",
        "\n",
        "              accuracy=accuracy/n_folds\n",
        "              print(\"momentum:\",m,\"  leanrning rate:\",l, \"  batch_size:\",b,\"   Accuracy:\",accuracy)\n",
        "              if accuracy > max_accuracy:\n",
        "                max_accuracy = accuracy\n",
        "                best_parameter['momentum']=m\n",
        "                best_parameter['learning_rate']=l\n",
        "                best_parameter['batch_size']=b\n",
        "      print('MAX Accuracy: ', max_accuracy)\n",
        "      print(\"Best parameter: \",best_parameter)\n",
        "      return best_parameter"
      ],
      "execution_count": null,
      "outputs": []
    },
    {
      "cell_type": "markdown",
      "metadata": {
        "id": "gUeexdSzqfyG"
      },
      "source": [
        "#### **b) Plotting Function**"
      ]
    },
    {
      "cell_type": "code",
      "metadata": {
        "id": "9pcm7Ka_qvBM"
      },
      "source": [
        "from matplotlib.legend_handler import HandlerLine2D\n",
        "\n",
        "def plotting(xaxis,acc1,acc2,hyperparameter_name,loss_name):\n",
        "    line1, =plt.plot(xaxis, acc1,label='validation')\n",
        "    line2, =plt.plot(xaxis, acc2,label='training')\n",
        "    plt.legend(handler_map={line1: HandlerLine2D(numpoints=4)})\n",
        "    plt.title(loss_name +' vs. '+hyperparameter_name)\n",
        "    plt.xlabel(hyperparameter_name)\n",
        "    plt.ylabel(loss_name)\n",
        "    plt.show()\n"
      ],
      "execution_count": null,
      "outputs": []
    },
    {
      "cell_type": "code",
      "metadata": {
        "id": "TfgGzaDbq8Ww"
      },
      "source": [
        "# plotting momentum change\n",
        "def plotting_momentum_change(momentum,l, b,X,y):\n",
        "    n_folds=5\n",
        "    X_test,X_train,y_test,y_train = cross_validation(n_folds,X,y)\n",
        "    acc1=[]\n",
        "    acc2=[]\n",
        "    for m in momentum:\n",
        "          validation_accuracy=0.0\n",
        "          training_accuracy=0.0\n",
        "          for trial in range(n_folds):\n",
        "                  optimizer= GradientDescentwithMomentum(momentum=m,batch_size = b,learning_rate=l, max_iters=200, record_history=True)\n",
        "                  model = MultiClassLogisticRegression()\n",
        "                  model.fit(X_train[trial],y_train[trial],optimizer)\n",
        "                  y_hat=model.predict(X_test[trial])\n",
        "                  validation_accuracy = validation_accuracy+ getAcc(y_hat, y_test[trial])\n",
        "                  training_accuracy= training_accuracy+ getAcc(model.predict(X_train[trial]),y_train[trial])\n",
        "\n",
        "          validation_accuracy=validation_accuracy/n_folds\n",
        "          training_accuracy=training_accuracy/n_folds\n",
        "          #print(m, \" \",accuracy)\n",
        "          acc1.append(validation_accuracy)\n",
        "          acc2.append(training_accuracy)\n",
        "    plotting(momentum,acc1,acc2,'momentum','Average Accuracy')\n",
        "   \n",
        "\n",
        "#plotting_momentum_change([0.9,0.92,0.94,0.96,0.98,0.99],learning_rate,batch_size,X_digits,new_y_digits)"
      ],
      "execution_count": null,
      "outputs": []
    },
    {
      "cell_type": "code",
      "metadata": {
        "id": "5YlC1hagsOc0"
      },
      "source": [
        "def plotting_learningRate_change(m,learning_rate, b,X,y):\n",
        "    n_folds=5\n",
        "    X_test,X_train,y_test,y_train = cross_validation(n_folds,X,y)\n",
        "    acc1=[]\n",
        "    acc2=[]\n",
        "    for l in learning_rate:\n",
        "          validation_accuracy=0.0\n",
        "          training_accuracy=0.0\n",
        "          for trial in range(n_folds):\n",
        "                  optimizer= GradientDescentwithMomentum(momentum=m,batch_size = b,learning_rate=l, max_iters=200, record_history=True)\n",
        "                  model = MultiClassLogisticRegression()\n",
        "                  model.fit(X_train[trial],y_train[trial],optimizer)\n",
        "                  y_hat=model.predict(X_test[trial])\n",
        "                  validation_accuracy = validation_accuracy+ getAcc(y_hat, y_test[trial])\n",
        "                  training_accuracy= training_accuracy+ getAcc(model.predict(X_train[trial]),y_train[trial])\n",
        "\n",
        "                  \n",
        "          validation_accuracy=validation_accuracy/n_folds\n",
        "          training_accuracy=training_accuracy/n_folds\n",
        "          #print(m, \" \",accuracy)\n",
        "          acc1.append(validation_accuracy)\n",
        "          acc2.append(training_accuracy)\n",
        "    plotting(learning_rate,acc1,acc2,'learning_rate','Average Accuracy')\n"
      ],
      "execution_count": null,
      "outputs": []
    },
    {
      "cell_type": "code",
      "metadata": {
        "id": "h4eT7aWdsZbH"
      },
      "source": [
        "def plotting_batch_change(m,l, batch_size,X,y):\n",
        "    n_folds=5\n",
        "    X_test,X_train,y_test,y_train = cross_validation(n_folds,X,y)\n",
        "    acc1=[]\n",
        "    acc2=[]\n",
        "    for b in batch_size:\n",
        "          validation_accuracy=0.0\n",
        "          training_accuracy=0.0\n",
        "          for trial in range(n_folds):\n",
        "                  optimizer= GradientDescentwithMomentum(momentum=m,batch_size = b,learning_rate=l, max_iters=200, record_history=True)\n",
        "                  model = MultiClassLogisticRegression()\n",
        "                  model.fit(X_train[trial],y_train[trial],optimizer)\n",
        "                  y_hat=model.predict(X_test[trial])\n",
        "                  validation_accuracy = validation_accuracy+ getAcc(y_hat, y_test[trial])\n",
        "                  training_accuracy= training_accuracy+ getAcc(model.predict(X_train[trial]),y_train[trial])\n",
        "\n",
        "\n",
        "          validation_accuracy=validation_accuracy/n_folds\n",
        "          training_accuracy=training_accuracy/n_folds\n",
        "          #print(m, \" \",accuracy)\n",
        "          acc1.append(validation_accuracy)\n",
        "          acc2.append(training_accuracy)\n",
        "    plotting(batch_size,acc1,acc2,'batch_size','Average Accuracy')\n",
        "\n",
        "   \n"
      ],
      "execution_count": null,
      "outputs": []
    },
    {
      "cell_type": "markdown",
      "metadata": {
        "id": "Ea8RSGFjplPT"
      },
      "source": [
        "### **3.1.2 Digits Dataset**"
      ]
    },
    {
      "cell_type": "markdown",
      "metadata": {
        "id": "JjgAcwyLpwcS"
      },
      "source": [
        "**Find the optimal hyperparameter**"
      ]
    },
    {
      "cell_type": "code",
      "metadata": {
        "colab": {
          "base_uri": "https://localhost:8080/",
          "height": 1000
        },
        "id": "5cKt9dDCprzf",
        "outputId": "f166d0d9-780e-4205-925a-c31e7ad970f6"
      },
      "source": [
        "N, D = X_digits.shape\n",
        "\n",
        "#momentum=np.arange(0.85, 1, 0.02).tolist()\n",
        "momentum=[0.9,0.925,0.95,0.975,0.99]\n",
        "learning_rate=[0.001,0.005,0.1,0.05,0.1]\n",
        "#batch_size= np.arange(1, N, math.ceil(N/5)).tolist()\n",
        "batch_size=[1,100,math.ceil(N/8),math.ceil(N/4),math.ceil(N/2),N]\n",
        "\n",
        "\n",
        "best_parameter=simple_grid_search(momentum,learning_rate,batch_size,X_digits,new_y_digits)\n",
        "\n"
      ],
      "execution_count": null,
      "outputs": [
        {
          "output_type": "stream",
          "text": [
            "momentum: 0.9   leanrning rate: 0.001   batch_size: 1    Accuracy: 0.9555555555555555\n",
            "momentum: 0.9   leanrning rate: 0.001   batch_size: 100    Accuracy: 0.953888888888889\n",
            "momentum: 0.9   leanrning rate: 0.001   batch_size: 225    Accuracy: 0.9583333333333334\n",
            "momentum: 0.9   leanrning rate: 0.001   batch_size: 450    Accuracy: 0.9566666666666667\n",
            "momentum: 0.9   leanrning rate: 0.001   batch_size: 899    Accuracy: 0.9549999999999998\n",
            "momentum: 0.9   leanrning rate: 0.001   batch_size: 1797    Accuracy: 0.9550000000000001\n",
            "momentum: 0.9   leanrning rate: 0.005   batch_size: 1    Accuracy: 0.9555555555555555\n",
            "momentum: 0.9   leanrning rate: 0.005   batch_size: 100    Accuracy: 0.953888888888889\n",
            "momentum: 0.9   leanrning rate: 0.005   batch_size: 225    Accuracy: 0.9583333333333334\n",
            "momentum: 0.9   leanrning rate: 0.005   batch_size: 450    Accuracy: 0.9566666666666667\n",
            "momentum: 0.9   leanrning rate: 0.005   batch_size: 899    Accuracy: 0.9549999999999998\n",
            "momentum: 0.9   leanrning rate: 0.005   batch_size: 1797    Accuracy: 0.9550000000000001\n",
            "momentum: 0.9   leanrning rate: 0.1   batch_size: 1    Accuracy: 0.9555555555555555\n",
            "momentum: 0.9   leanrning rate: 0.1   batch_size: 100    Accuracy: 0.953888888888889\n",
            "momentum: 0.9   leanrning rate: 0.1   batch_size: 225    Accuracy: 0.9583333333333334\n",
            "momentum: 0.9   leanrning rate: 0.1   batch_size: 450    Accuracy: 0.9566666666666667\n",
            "momentum: 0.9   leanrning rate: 0.1   batch_size: 899    Accuracy: 0.9549999999999998\n",
            "momentum: 0.9   leanrning rate: 0.1   batch_size: 1797    Accuracy: 0.9550000000000001\n",
            "momentum: 0.9   leanrning rate: 0.05   batch_size: 1    Accuracy: 0.9555555555555555\n",
            "momentum: 0.9   leanrning rate: 0.05   batch_size: 100    Accuracy: 0.953888888888889\n",
            "momentum: 0.9   leanrning rate: 0.05   batch_size: 225    Accuracy: 0.9583333333333334\n",
            "momentum: 0.9   leanrning rate: 0.05   batch_size: 450    Accuracy: 0.9566666666666667\n",
            "momentum: 0.9   leanrning rate: 0.05   batch_size: 899    Accuracy: 0.9549999999999998\n",
            "momentum: 0.9   leanrning rate: 0.05   batch_size: 1797    Accuracy: 0.9550000000000001\n",
            "momentum: 0.9   leanrning rate: 0.1   batch_size: 1    Accuracy: 0.9555555555555555\n",
            "momentum: 0.9   leanrning rate: 0.1   batch_size: 100    Accuracy: 0.953888888888889\n",
            "momentum: 0.9   leanrning rate: 0.1   batch_size: 225    Accuracy: 0.9583333333333334\n",
            "momentum: 0.9   leanrning rate: 0.1   batch_size: 450    Accuracy: 0.9566666666666667\n",
            "momentum: 0.9   leanrning rate: 0.1   batch_size: 899    Accuracy: 0.9549999999999998\n",
            "momentum: 0.9   leanrning rate: 0.1   batch_size: 1797    Accuracy: 0.9550000000000001\n",
            "momentum: 0.925   leanrning rate: 0.001   batch_size: 1    Accuracy: 0.9566666666666667\n",
            "momentum: 0.925   leanrning rate: 0.001   batch_size: 100    Accuracy: 0.953888888888889\n",
            "momentum: 0.925   leanrning rate: 0.001   batch_size: 225    Accuracy: 0.9555555555555555\n",
            "momentum: 0.925   leanrning rate: 0.001   batch_size: 450    Accuracy: 0.9544444444444444\n",
            "momentum: 0.925   leanrning rate: 0.001   batch_size: 899    Accuracy: 0.9550000000000001\n",
            "momentum: 0.925   leanrning rate: 0.001   batch_size: 1797    Accuracy: 0.9550000000000001\n",
            "momentum: 0.925   leanrning rate: 0.005   batch_size: 1    Accuracy: 0.9566666666666667\n",
            "momentum: 0.925   leanrning rate: 0.005   batch_size: 100    Accuracy: 0.953888888888889\n",
            "momentum: 0.925   leanrning rate: 0.005   batch_size: 225    Accuracy: 0.9555555555555555\n",
            "momentum: 0.925   leanrning rate: 0.005   batch_size: 450    Accuracy: 0.9544444444444444\n",
            "momentum: 0.925   leanrning rate: 0.005   batch_size: 899    Accuracy: 0.9550000000000001\n",
            "momentum: 0.925   leanrning rate: 0.005   batch_size: 1797    Accuracy: 0.9550000000000001\n",
            "momentum: 0.925   leanrning rate: 0.1   batch_size: 1    Accuracy: 0.9566666666666667\n",
            "momentum: 0.925   leanrning rate: 0.1   batch_size: 100    Accuracy: 0.953888888888889\n",
            "momentum: 0.925   leanrning rate: 0.1   batch_size: 225    Accuracy: 0.9555555555555555\n",
            "momentum: 0.925   leanrning rate: 0.1   batch_size: 450    Accuracy: 0.9544444444444444\n",
            "momentum: 0.925   leanrning rate: 0.1   batch_size: 899    Accuracy: 0.9550000000000001\n",
            "momentum: 0.925   leanrning rate: 0.1   batch_size: 1797    Accuracy: 0.9550000000000001\n",
            "momentum: 0.925   leanrning rate: 0.05   batch_size: 1    Accuracy: 0.9566666666666667\n",
            "momentum: 0.925   leanrning rate: 0.05   batch_size: 100    Accuracy: 0.953888888888889\n",
            "momentum: 0.925   leanrning rate: 0.05   batch_size: 225    Accuracy: 0.9555555555555555\n",
            "momentum: 0.925   leanrning rate: 0.05   batch_size: 450    Accuracy: 0.9544444444444444\n",
            "momentum: 0.925   leanrning rate: 0.05   batch_size: 899    Accuracy: 0.9550000000000001\n",
            "momentum: 0.925   leanrning rate: 0.05   batch_size: 1797    Accuracy: 0.9550000000000001\n",
            "momentum: 0.925   leanrning rate: 0.1   batch_size: 1    Accuracy: 0.9566666666666667\n",
            "momentum: 0.925   leanrning rate: 0.1   batch_size: 100    Accuracy: 0.953888888888889\n",
            "momentum: 0.925   leanrning rate: 0.1   batch_size: 225    Accuracy: 0.9555555555555555\n",
            "momentum: 0.925   leanrning rate: 0.1   batch_size: 450    Accuracy: 0.9544444444444444\n",
            "momentum: 0.925   leanrning rate: 0.1   batch_size: 899    Accuracy: 0.9550000000000001\n",
            "momentum: 0.925   leanrning rate: 0.1   batch_size: 1797    Accuracy: 0.9550000000000001\n",
            "momentum: 0.95   leanrning rate: 0.001   batch_size: 1    Accuracy: 0.953888888888889\n",
            "momentum: 0.95   leanrning rate: 0.001   batch_size: 100    Accuracy: 0.9544444444444444\n",
            "momentum: 0.95   leanrning rate: 0.001   batch_size: 225    Accuracy: 0.9544444444444444\n",
            "momentum: 0.95   leanrning rate: 0.001   batch_size: 450    Accuracy: 0.9555555555555555\n",
            "momentum: 0.95   leanrning rate: 0.001   batch_size: 899    Accuracy: 0.9550000000000001\n"
          ],
          "name": "stdout"
        },
        {
          "output_type": "error",
          "ename": "KeyboardInterrupt",
          "evalue": "ignored",
          "traceback": [
            "\u001b[0;31m---------------------------------------------------------------------------\u001b[0m",
            "\u001b[0;31mKeyboardInterrupt\u001b[0m                         Traceback (most recent call last)",
            "\u001b[0;32m<ipython-input-211-3ec7ab5ed716>\u001b[0m in \u001b[0;36m<module>\u001b[0;34m()\u001b[0m\n\u001b[1;32m      8\u001b[0m \u001b[0;34m\u001b[0m\u001b[0m\n\u001b[1;32m      9\u001b[0m \u001b[0;34m\u001b[0m\u001b[0m\n\u001b[0;32m---> 10\u001b[0;31m \u001b[0mbest_parameter\u001b[0m\u001b[0;34m=\u001b[0m\u001b[0msimple_grid_search\u001b[0m\u001b[0;34m(\u001b[0m\u001b[0mmomentum\u001b[0m\u001b[0;34m,\u001b[0m\u001b[0mlearning_rate\u001b[0m\u001b[0;34m,\u001b[0m\u001b[0mbatch_size\u001b[0m\u001b[0;34m,\u001b[0m\u001b[0mX_digits\u001b[0m\u001b[0;34m,\u001b[0m\u001b[0mnew_y_digits\u001b[0m\u001b[0;34m)\u001b[0m\u001b[0;34m\u001b[0m\u001b[0;34m\u001b[0m\u001b[0m\n\u001b[0m\u001b[1;32m     11\u001b[0m \u001b[0;34m\u001b[0m\u001b[0m\n",
            "\u001b[0;32m<ipython-input-206-8e51a86ad32c>\u001b[0m in \u001b[0;36msimple_grid_search\u001b[0;34m(momentum, learning_rate, batch_size, X, y)\u001b[0m\n\u001b[1;32m     12\u001b[0m                   \u001b[0moptimizer\u001b[0m\u001b[0;34m=\u001b[0m \u001b[0mGradientDescentwithMomentum\u001b[0m\u001b[0;34m(\u001b[0m\u001b[0mmomentum\u001b[0m\u001b[0;34m=\u001b[0m\u001b[0mm\u001b[0m\u001b[0;34m,\u001b[0m\u001b[0mbatch_size\u001b[0m \u001b[0;34m=\u001b[0m \u001b[0mb\u001b[0m\u001b[0;34m,\u001b[0m\u001b[0mlearning_rate\u001b[0m\u001b[0;34m=\u001b[0m\u001b[0ml\u001b[0m\u001b[0;34m,\u001b[0m \u001b[0mmax_iters\u001b[0m\u001b[0;34m=\u001b[0m\u001b[0;36m200\u001b[0m\u001b[0;34m,\u001b[0m \u001b[0mrecord_history\u001b[0m\u001b[0;34m=\u001b[0m\u001b[0;32mTrue\u001b[0m\u001b[0;34m)\u001b[0m\u001b[0;34m\u001b[0m\u001b[0;34m\u001b[0m\u001b[0m\n\u001b[1;32m     13\u001b[0m                   \u001b[0mmodel\u001b[0m \u001b[0;34m=\u001b[0m \u001b[0mMultiClassLogisticRegression\u001b[0m\u001b[0;34m(\u001b[0m\u001b[0;34m)\u001b[0m\u001b[0;34m\u001b[0m\u001b[0;34m\u001b[0m\u001b[0m\n\u001b[0;32m---> 14\u001b[0;31m                   \u001b[0mmodel\u001b[0m\u001b[0;34m.\u001b[0m\u001b[0mfit\u001b[0m\u001b[0;34m(\u001b[0m\u001b[0mX_train\u001b[0m\u001b[0;34m[\u001b[0m\u001b[0mtrial\u001b[0m\u001b[0;34m]\u001b[0m\u001b[0;34m,\u001b[0m\u001b[0my_train\u001b[0m\u001b[0;34m[\u001b[0m\u001b[0mtrial\u001b[0m\u001b[0;34m]\u001b[0m\u001b[0;34m,\u001b[0m\u001b[0moptimizer\u001b[0m\u001b[0;34m)\u001b[0m\u001b[0;34m\u001b[0m\u001b[0;34m\u001b[0m\u001b[0m\n\u001b[0m\u001b[1;32m     15\u001b[0m                   \u001b[0my_hat\u001b[0m\u001b[0;34m=\u001b[0m\u001b[0mmodel\u001b[0m\u001b[0;34m.\u001b[0m\u001b[0mpredict\u001b[0m\u001b[0;34m(\u001b[0m\u001b[0mX_test\u001b[0m\u001b[0;34m[\u001b[0m\u001b[0mtrial\u001b[0m\u001b[0;34m]\u001b[0m\u001b[0;34m)\u001b[0m\u001b[0;34m\u001b[0m\u001b[0;34m\u001b[0m\u001b[0m\n\u001b[1;32m     16\u001b[0m                   \u001b[0maccuracy\u001b[0m \u001b[0;34m=\u001b[0m \u001b[0maccuracy\u001b[0m\u001b[0;34m+\u001b[0m \u001b[0mgetAcc\u001b[0m\u001b[0;34m(\u001b[0m\u001b[0my_hat\u001b[0m\u001b[0;34m,\u001b[0m \u001b[0my_test\u001b[0m\u001b[0;34m[\u001b[0m\u001b[0mtrial\u001b[0m\u001b[0;34m]\u001b[0m\u001b[0;34m)\u001b[0m\u001b[0;34m\u001b[0m\u001b[0;34m\u001b[0m\u001b[0m\n",
            "\u001b[0;32m<ipython-input-203-e2e44be581a8>\u001b[0m in \u001b[0;36mfit\u001b[0;34m(self, x, y, optimzer)\u001b[0m\n\u001b[1;32m     30\u001b[0m \u001b[0;34m\u001b[0m\u001b[0m\n\u001b[1;32m     31\u001b[0m         \u001b[0mw0\u001b[0m \u001b[0;34m=\u001b[0m \u001b[0mnp\u001b[0m\u001b[0;34m.\u001b[0m\u001b[0mzeros\u001b[0m\u001b[0;34m(\u001b[0m\u001b[0;34m(\u001b[0m\u001b[0mD\u001b[0m\u001b[0;34m,\u001b[0m \u001b[0mC\u001b[0m\u001b[0;34m)\u001b[0m\u001b[0;34m)\u001b[0m\u001b[0;34m\u001b[0m\u001b[0;34m\u001b[0m\u001b[0m\n\u001b[0;32m---> 32\u001b[0;31m         \u001b[0mself\u001b[0m\u001b[0;34m.\u001b[0m\u001b[0mw\u001b[0m \u001b[0;34m=\u001b[0m \u001b[0moptimzer\u001b[0m\u001b[0;34m.\u001b[0m\u001b[0mrun\u001b[0m\u001b[0;34m(\u001b[0m\u001b[0mgradient\u001b[0m\u001b[0;34m,\u001b[0m \u001b[0mx\u001b[0m\u001b[0;34m,\u001b[0m \u001b[0my\u001b[0m\u001b[0;34m,\u001b[0m \u001b[0mw0\u001b[0m\u001b[0;34m)\u001b[0m\u001b[0;34m\u001b[0m\u001b[0;34m\u001b[0m\u001b[0m\n\u001b[0m\u001b[1;32m     33\u001b[0m         \u001b[0;32mreturn\u001b[0m \u001b[0mself\u001b[0m\u001b[0;34m\u001b[0m\u001b[0;34m\u001b[0m\u001b[0m\n\u001b[1;32m     34\u001b[0m \u001b[0;34m\u001b[0m\u001b[0m\n",
            "\u001b[0;32m<ipython-input-199-8e670f8fa92b>\u001b[0m in \u001b[0;36mrun\u001b[0;34m(self, gradient_fn, x, y, w)\u001b[0m\n\u001b[1;32m     48\u001b[0m             \u001b[0;31m# if it is small enough, we can stop the loop\u001b[0m\u001b[0;34m\u001b[0m\u001b[0;34m\u001b[0m\u001b[0;34m\u001b[0m\u001b[0m\n\u001b[1;32m     49\u001b[0m             \u001b[0;31m# the output grad is D by C\u001b[0m\u001b[0;34m\u001b[0m\u001b[0;34m\u001b[0m\u001b[0;34m\u001b[0m\u001b[0m\n\u001b[0;32m---> 50\u001b[0;31m             \u001b[0mgrad\u001b[0m \u001b[0;34m=\u001b[0m \u001b[0mminibatch\u001b[0m\u001b[0;34m(\u001b[0m\u001b[0mself\u001b[0m\u001b[0;34m.\u001b[0m\u001b[0mbatch_size\u001b[0m\u001b[0;34m,\u001b[0m\u001b[0mgradient_fn\u001b[0m\u001b[0;34m,\u001b[0m \u001b[0mx\u001b[0m\u001b[0;34m,\u001b[0m \u001b[0my\u001b[0m\u001b[0;34m,\u001b[0m \u001b[0mw\u001b[0m\u001b[0;34m)\u001b[0m\u001b[0;34m\u001b[0m\u001b[0;34m\u001b[0m\u001b[0m\n\u001b[0m\u001b[1;32m     51\u001b[0m \u001b[0;34m\u001b[0m\u001b[0m\n\u001b[1;32m     52\u001b[0m             \u001b[0mdelta_w\u001b[0m \u001b[0;34m=\u001b[0m \u001b[0mself\u001b[0m\u001b[0;34m.\u001b[0m\u001b[0mmomentum\u001b[0m\u001b[0;34m*\u001b[0m\u001b[0mdelta_w\u001b[0m\u001b[0;34m+\u001b[0m \u001b[0;34m(\u001b[0m\u001b[0;36m1\u001b[0m\u001b[0;34m-\u001b[0m\u001b[0mself\u001b[0m\u001b[0;34m.\u001b[0m\u001b[0mmomentum\u001b[0m\u001b[0;34m)\u001b[0m\u001b[0;34m*\u001b[0m\u001b[0mgrad\u001b[0m\u001b[0;34m\u001b[0m\u001b[0;34m\u001b[0m\u001b[0m\n",
            "\u001b[0;32m<ipython-input-198-f6551639c120>\u001b[0m in \u001b[0;36mminibatch\u001b[0;34m(batch_size, gradient_fn, x, y, w)\u001b[0m\n\u001b[1;32m     30\u001b[0m         \u001b[0;31m# return grad is D by C matrix\u001b[0m\u001b[0;34m\u001b[0m\u001b[0;34m\u001b[0m\u001b[0;34m\u001b[0m\u001b[0m\n\u001b[1;32m     31\u001b[0m         \u001b[0;31m#print(\"llala\",x_batch.shape, w.shape)\u001b[0m\u001b[0;34m\u001b[0m\u001b[0;34m\u001b[0m\u001b[0;34m\u001b[0m\u001b[0m\n\u001b[0;32m---> 32\u001b[0;31m         \u001b[0mgrad\u001b[0m\u001b[0;34m=\u001b[0m\u001b[0mgrad\u001b[0m\u001b[0;34m+\u001b[0m\u001b[0mgradient_fn\u001b[0m\u001b[0;34m(\u001b[0m\u001b[0mx_batch\u001b[0m\u001b[0;34m,\u001b[0m \u001b[0my_batch\u001b[0m\u001b[0;34m,\u001b[0m \u001b[0mw\u001b[0m\u001b[0;34m)\u001b[0m\u001b[0;34m\u001b[0m\u001b[0;34m\u001b[0m\u001b[0m\n\u001b[0m\u001b[1;32m     33\u001b[0m \u001b[0;34m\u001b[0m\u001b[0m\n\u001b[1;32m     34\u001b[0m     \u001b[0;32mreturn\u001b[0m \u001b[0mgrad\u001b[0m\u001b[0;34m\u001b[0m\u001b[0;34m\u001b[0m\u001b[0m\n",
            "\u001b[0;32m<ipython-input-203-e2e44be581a8>\u001b[0m in \u001b[0;36mgradient\u001b[0;34m(x, y, w)\u001b[0m\n\u001b[1;32m     21\u001b[0m \u001b[0;34m\u001b[0m\u001b[0m\n\u001b[1;32m     22\u001b[0m         \u001b[0;32mdef\u001b[0m \u001b[0mgradient\u001b[0m\u001b[0;34m(\u001b[0m\u001b[0mx\u001b[0m\u001b[0;34m,\u001b[0m \u001b[0my\u001b[0m\u001b[0;34m,\u001b[0m \u001b[0mw\u001b[0m\u001b[0;34m)\u001b[0m\u001b[0;34m:\u001b[0m\u001b[0;34m\u001b[0m\u001b[0;34m\u001b[0m\u001b[0m\n\u001b[0;32m---> 23\u001b[0;31m           \u001b[0myh\u001b[0m \u001b[0;34m=\u001b[0m \u001b[0msoftmax_fn\u001b[0m\u001b[0;34m(\u001b[0m\u001b[0mx\u001b[0m\u001b[0;34m,\u001b[0m \u001b[0mw\u001b[0m\u001b[0;34m)\u001b[0m\u001b[0;34m\u001b[0m\u001b[0;34m\u001b[0m\u001b[0m\n\u001b[0m\u001b[1;32m     24\u001b[0m           \u001b[0;31m# 然后再 divided by N\u001b[0m\u001b[0;34m\u001b[0m\u001b[0;34m\u001b[0m\u001b[0;34m\u001b[0m\u001b[0m\n\u001b[1;32m     25\u001b[0m           \u001b[0mdW\u001b[0m \u001b[0;34m=\u001b[0m \u001b[0mnp\u001b[0m\u001b[0;34m.\u001b[0m\u001b[0mdot\u001b[0m\u001b[0;34m(\u001b[0m\u001b[0mx\u001b[0m\u001b[0;34m.\u001b[0m\u001b[0mT\u001b[0m\u001b[0;34m,\u001b[0m \u001b[0myh\u001b[0m \u001b[0;34m-\u001b[0m \u001b[0my\u001b[0m\u001b[0;34m)\u001b[0m\u001b[0;34m/\u001b[0m\u001b[0mN\u001b[0m\u001b[0;34m\u001b[0m\u001b[0;34m\u001b[0m\u001b[0m\n",
            "\u001b[0;32m<ipython-input-202-38f939833f99>\u001b[0m in \u001b[0;36msoftmax_fn\u001b[0;34m(x, w)\u001b[0m\n\u001b[1;32m      9\u001b[0m     \u001b[0mm\u001b[0m\u001b[0;34m=\u001b[0m\u001b[0mmax\u001b[0m\u001b[0;34m(\u001b[0m\u001b[0mrow\u001b[0m\u001b[0;34m)\u001b[0m\u001b[0;34m\u001b[0m\u001b[0;34m\u001b[0m\u001b[0m\n\u001b[1;32m     10\u001b[0m     \u001b[0;32mfor\u001b[0m \u001b[0mj\u001b[0m \u001b[0;32min\u001b[0m \u001b[0mrange\u001b[0m\u001b[0;34m(\u001b[0m\u001b[0mlen\u001b[0m\u001b[0;34m(\u001b[0m\u001b[0mrow\u001b[0m\u001b[0;34m)\u001b[0m\u001b[0;34m)\u001b[0m\u001b[0;34m:\u001b[0m\u001b[0;34m\u001b[0m\u001b[0;34m\u001b[0m\u001b[0m\n\u001b[0;32m---> 11\u001b[0;31m       \u001b[0;32mif\u001b[0m \u001b[0mrow\u001b[0m\u001b[0;34m[\u001b[0m\u001b[0mj\u001b[0m\u001b[0;34m]\u001b[0m\u001b[0;34m>=\u001b[0m\u001b[0mm\u001b[0m\u001b[0;34m:\u001b[0m\u001b[0;34m\u001b[0m\u001b[0;34m\u001b[0m\u001b[0m\n\u001b[0m\u001b[1;32m     12\u001b[0m         \u001b[0mrow\u001b[0m\u001b[0;34m[\u001b[0m\u001b[0mj\u001b[0m\u001b[0;34m]\u001b[0m\u001b[0;34m=\u001b[0m\u001b[0;36m1\u001b[0m\u001b[0;34m\u001b[0m\u001b[0;34m\u001b[0m\u001b[0m\n\u001b[1;32m     13\u001b[0m       \u001b[0;32mif\u001b[0m \u001b[0mrow\u001b[0m\u001b[0;34m[\u001b[0m\u001b[0mj\u001b[0m\u001b[0;34m]\u001b[0m \u001b[0;34m<\u001b[0m \u001b[0mm\u001b[0m\u001b[0;34m:\u001b[0m\u001b[0;34m\u001b[0m\u001b[0;34m\u001b[0m\u001b[0m\n",
            "\u001b[0;31mKeyboardInterrupt\u001b[0m: "
          ]
        }
      ]
    },
    {
      "cell_type": "code",
      "metadata": {
        "colab": {
          "background_save": true,
          "base_uri": "https://localhost:8080/"
        },
        "id": "kbmoxc0jnYGA",
        "outputId": "539fa7a0-d438-4f40-8543-96c41a20878a"
      },
      "source": [
        "best_parameter={'momentum': 0.975, 'learning_rate': 0.005, 'batch_size': 899}\n",
        "\n",
        "batch_size= best_parameter['batch_size']\n",
        "momentum=best_parameter['momentum']\n",
        "learning_rate=best_parameter['learning_rate']\n",
        "\n",
        "X_test,X_train,y_test,y_train = cross_validation(5,X_digits,new_y_digits)\n",
        "acc=[]\n",
        "for trial in range(5):\n",
        "    optimizer= GradientDescentwithMomentum(momentum, batch_size, learning_rate, max_iters=200, record_history=True)\n",
        "    model = MultiClassLogisticRegression()\n",
        "    model.fit(X_train[trial],y_train[trial],optimizer)\n",
        "    y_hat=model.predict(X_test[trial])\n",
        "      \n",
        "    print(\"trial:\",trial,\"accuracy\",getAcc(y_hat, y_test[trial]))\n",
        "    acc.append(getAcc(y_hat, y_test[trial]))\n",
        "mean=sum(acc)/5\n",
        "std=0.0\n",
        "for i in acc:\n",
        "  std=std+(i-mean)*(i-mean)\n",
        "std=math.sqrt(std/5)\n",
        "\n",
        "\n",
        "print(\"The mean accuracy of 5-fold CV:\",mean,\"  std:\",std)"
      ],
      "execution_count": null,
      "outputs": [
        {
          "output_type": "stream",
          "text": [
            "trial: 0 accuracy 0.975\n",
            "trial: 1 accuracy 0.9416666666666667\n",
            "trial: 2 accuracy 0.9472222222222222\n",
            "trial: 3 accuracy 0.9527777777777777\n",
            "trial: 4 accuracy 0.9388888888888889\n",
            "The mean accuracy of 5-fold CV: 0.9511111111111111   std: 0.012862041003100245\n"
          ],
          "name": "stdout"
        }
      ]
    },
    {
      "cell_type": "markdown",
      "metadata": {
        "id": "kJp0kuHvrEDq"
      },
      "source": [
        "\n",
        "**Plotting hyperparamter**"
      ]
    },
    {
      "cell_type": "code",
      "metadata": {
        "id": "Xu0Wl8O-ua5j"
      },
      "source": [
        "# with accuracy 96.666666%\n",
        "best_parameter={'momentum': 0.975, 'learning_rate': 0.005, 'batch_size': 899}\n",
        "\n",
        "batch_size= best_parameter['batch_size']\n",
        "momentum=best_parameter['momentum']\n",
        "learning_rate=best_parameter['learning_rate']\n"
      ],
      "execution_count": null,
      "outputs": []
    },
    {
      "cell_type": "code",
      "metadata": {
        "colab": {
          "base_uri": "https://localhost:8080/",
          "height": 301
        },
        "id": "BlTJfzhDrA4B",
        "outputId": "988ff7eb-6041-44e1-b86e-c38c97c540b3"
      },
      "source": [
        "#plotting the last 200 steps\n",
        "plotting_momentum_change([0.9,0.92,0.94,0.96,0.98,0.99],learning_rate,batch_size,X_digits,new_y_digits)\n"
      ],
      "execution_count": null,
      "outputs": [
        {
          "output_type": "display_data",
          "data": {
            "image/png": "[encoded data removed]",
            "text/plain": [
              "<Figure size 432x288 with 1 Axes>"
            ]
          },
          "metadata": {
            "tags": []
          }
        }
      ]
    },
    {
      "cell_type": "code",
      "metadata": {
        "colab": {
          "base_uri": "https://localhost:8080/",
          "height": 301
        },
        "id": "4YWELZuXsQw6",
        "outputId": "c0b1e323-3c94-43cf-ec18-0f00a06d2315"
      },
      "source": [
        "plotting_learningRate_change(momentum,[0.005,0.01,0.025,0.05,0.1,0.25,0.5],batch_size,X_digits,new_y_digits)"
      ],
      "execution_count": null,
      "outputs": [
        {
          "output_type": "display_data",
          "data": {
            "image/png": "[encoded data removed]",
            "text/plain": [
              "<Figure size 432x288 with 1 Axes>"
            ]
          },
          "metadata": {
            "tags": []
          }
        }
      ]
    },
    {
      "cell_type": "code",
      "metadata": {
        "colab": {
          "base_uri": "https://localhost:8080/",
          "height": 301
        },
        "id": "sQTjcSVGsb9A",
        "outputId": "48b3c466-dfce-4c5c-9c14-bb73c9937950"
      },
      "source": [
        "N=len(new_y_digits)\n",
        "batch_size_list=[1,50,100,math.ceil(N/8),math.ceil(N/4),math.ceil(N/2),N]\n",
        "plotting_batch_change(momentum,learning_rate,batch_size_list,X_digits,new_y_digits)"
      ],
      "execution_count": null,
      "outputs": [
        {
          "output_type": "display_data",
          "data": {
            "image/png": "[encoded data removed]",
            "text/plain": [
              "<Figure size 432x288 with 1 Axes>"
            ]
          },
          "metadata": {
            "tags": []
          }
        }
      ]
    },
    {
      "cell_type": "markdown",
      "metadata": {
        "id": "qdY-sC_Zs3c6"
      },
      "source": [
        "### **3.1.3 Iris Dataset**"
      ]
    },
    {
      "cell_type": "markdown",
      "metadata": {
        "id": "S-edb2bEHYow"
      },
      "source": [
        "**Find the optimal hyperparameter**"
      ]
    },
    {
      "cell_type": "code",
      "metadata": {
        "id": "6GMLr73UGeWv"
      },
      "source": [
        "import math\n",
        "\n",
        "N,C=new_y_iris.shape\n",
        "momentum = [0.9,0.925,0.95,0.975,0.99]\n",
        "learning_rate = [0.005,0.01,0.05,0.1]\n",
        "batch_size_iris = [1, math.ceil(N/8), math.ceil(N/4), math.ceil(N/2), N]\n",
        "\n",
        "simple_grid_search(momentum, learning_rate, batch_size_iris, X_iris, new_y_iris)"
      ],
      "execution_count": null,
      "outputs": []
    },
    {
      "cell_type": "code",
      "metadata": {
        "id": "dHn9Cg_QneY1",
        "colab": {
          "base_uri": "https://localhost:8080/"
        },
        "outputId": "ab5a690d-9e62-4bf7-d6df-26eda90e2802"
      },
      "source": [
        "best_parameter_iris={'momentum': 0.975, 'learning_rate': 0.005, 'batch_size': 899}\n",
        "\n",
        "batch_size_iris= best_parameter_iris['batch_size']\n",
        "momentum_iris=best_parameter_iris['momentum']\n",
        "learning_rate_iris=best_parameter_iris['learning_rate']\n",
        "\n",
        "X_test,X_train,y_test,y_train = cross_validation(5,X_iris, new_y_iris)\n",
        "acc=[]\n",
        "for trial in range(5):\n",
        "    optimizer= GradientDescentwithMomentum(momentum_iris, batch_size_iris, learning_rate_iris, max_iters=200, record_history=True)\n",
        "    model = MultiClassLogisticRegression()\n",
        "    model.fit(X_train[trial],y_train[trial],optimizer)\n",
        "    y_hat=model.predict(X_test[trial])\n",
        "      \n",
        "    print(\"trial:\",trial,\"accuracy\",getAcc(y_hat, y_test[trial]))\n",
        "    acc.append(getAcc(y_hat, y_test[trial]))\n",
        "mean=sum(acc)/5\n",
        "std=0.0\n",
        "for i in acc:\n",
        "  std=std+(i-mean)*(i-mean)\n",
        "std=math.sqrt(std/5)\n",
        "\n",
        "\n",
        "print(\"The mean accuracy of 5-fold CV:\",mean,\"  std:\",std)"
      ],
      "execution_count": null,
      "outputs": [
        {
          "output_type": "stream",
          "text": [
            "trial: 0 accuracy 1.0\n",
            "trial: 1 accuracy 1.0\n",
            "trial: 2 accuracy 1.0\n",
            "trial: 3 accuracy 1.0\n",
            "trial: 4 accuracy 1.0\n",
            "The mean accuracy of 5-fold CV: 1.0   std: 0.0\n"
          ],
          "name": "stdout"
        }
      ]
    },
    {
      "cell_type": "markdown",
      "metadata": {
        "id": "0LrRrSx1Hdxe"
      },
      "source": [
        "**Plotting hyperparamter**"
      ]
    },
    {
      "cell_type": "code",
      "metadata": {
        "colab": {
          "base_uri": "https://localhost:8080/",
          "height": 301
        },
        "id": "BroIEmDIHDfi",
        "outputId": "75551678-b482-4d6f-9380-d0a6389b0600"
      },
      "source": [
        "plotting_momentum_change(np.arange(0.9, 1, 0.02).tolist(), learning_rate_iris, batch_size_iris, X_iris, new_y_iris)"
      ],
      "execution_count": null,
      "outputs": [
        {
          "output_type": "display_data",
          "data": {
            "image/png": "[encoded data removed]",
            "text/plain": [
              "<Figure size 432x288 with 1 Axes>"
            ]
          },
          "metadata": {
            "tags": []
          }
        }
      ]
    },
    {
      "cell_type": "code",
      "metadata": {
        "colab": {
          "base_uri": "https://localhost:8080/",
          "height": 301
        },
        "id": "2d02wG2wHGrq",
        "outputId": "ee5c318d-4b8a-44a1-8877-8027cbffc018"
      },
      "source": [
        "plotting_learningRate_change(momentum_iris, [0.005,0.01,0.025,0.05,0.1,0.25,0.5], batch_size_iris, X_iris, new_y_iris)"
      ],
      "execution_count": null,
      "outputs": [
        {
          "output_type": "display_data",
          "data": {
            "image/png": "[encoded data removed]",
            "text/plain": [
              "<Figure size 432x288 with 1 Axes>"
            ]
          },
          "metadata": {
            "tags": []
          }
        }
      ]
    },
    {
      "cell_type": "code",
      "metadata": {
        "colab": {
          "base_uri": "https://localhost:8080/",
          "height": 301
        },
        "id": "sfrStMRRHJ-e",
        "outputId": "b08b6e3b-07f1-48a8-efdf-9831bc9f50d7"
      },
      "source": [
        "N=len(new_y_iris)\n",
        "batch_size_list=[1,50,100,math.ceil(N/8),math.ceil(N/4),math.ceil(N/2),N]\n",
        "plotting_batch_change(momentum_iris, learning_rate_iris,batch_size_list, X_iris, new_y_iris)"
      ],
      "execution_count": null,
      "outputs": [
        {
          "output_type": "display_data",
          "data": {
            "image/png": "[encoded data removed]",
            "text/plain": [
              "<Figure size 432x288 with 1 Axes>"
            ]
          },
          "metadata": {
            "tags": []
          }
        }
      ]
    },
    {
      "cell_type": "markdown",
      "metadata": {
        "id": "kb1i_0THmj0H"
      },
      "source": [
        "### **3.1.4 Vehicle Dataset**"
      ]
    },
    {
      "cell_type": "markdown",
      "metadata": {
        "id": "IuYCkDBP43Ys"
      },
      "source": [
        "**Find the optimal parameter**"
      ]
    },
    {
      "cell_type": "code",
      "metadata": {
        "id": "o9TMe5u942IH"
      },
      "source": [
        "import math\n",
        "\n",
        "N,C=new_y_vehicle.shape\n",
        "momentum = [0.9,0.95,0.99]\n",
        "learning_rate = [0.005,0.01,0.05,0.1]\n",
        "batch_size_iris = [1, math.ceil(N/6), math.ceil(N/2), N]\n",
        "\n",
        "simple_grid_search(momentum, learning_rate, batch_size_iris, X_vehicle, new_y_vehicle)"
      ],
      "execution_count": null,
      "outputs": []
    },
    {
      "cell_type": "markdown",
      "metadata": {
        "id": "0yQwfaQA6B_G"
      },
      "source": [
        "**Calculate std and mean**"
      ]
    },
    {
      "cell_type": "code",
      "metadata": {
        "id": "sBaytROs5bXy",
        "colab": {
          "base_uri": "https://localhost:8080/"
        },
        "outputId": "ff92b49a-1e80-49f1-e3e1-b927be7e4d9e"
      },
      "source": [
        "\n",
        "best_parameter_vehicle={'batch_size': 423, 'learning_rate': 0.005, 'momentum': 0.95}\n",
        "\n",
        "batch_size_vehicle= best_parameter_vehicle['batch_size']\n",
        "momentum_vehicle=best_parameter_vehicle['momentum']\n",
        "learning_rate_vehicle=best_parameter_vehicle['learning_rate']\n",
        "\n",
        "X_test,X_train,y_test,y_train = cross_validation(5,X_vehicle,new_y_vehicle)\n",
        "acc=[]\n",
        "for trial in range(5):\n",
        "    optimizer= GradientDescentwithMomentum(momentum_vehicle, batch_size_vehicle, learning_rate_vehicle, max_iters=200, record_history=True)\n",
        "    model = MultiClassLogisticRegression()\n",
        "    model.fit(X_train[trial],y_train[trial],optimizer)\n",
        "    y_hat=model.predict(X_test[trial])\n",
        "      \n",
        "    print(\"trial:\",trial,\"accuracy\",getAcc(y_hat, y_test[trial]))\n",
        "    acc.append(getAcc(y_hat, y_test[trial]))\n",
        "mean=sum(acc)/5\n",
        "std=0.0\n",
        "for i in acc:\n",
        "  std=std+(i-mean)*(i-mean)\n",
        "std=math.sqrt(std/5)\n",
        "\n",
        "\n",
        "print(\"The mean accuracy of 5-fold CV:\",mean,\"  std:\",std)\n"
      ],
      "execution_count": null,
      "outputs": [
        {
          "output_type": "stream",
          "text": [
            "trial: 0 accuracy 0.7529411764705882\n",
            "trial: 1 accuracy 0.7764705882352941\n",
            "trial: 2 accuracy 0.7647058823529411\n",
            "trial: 3 accuracy 0.7647058823529411\n",
            "trial: 4 accuracy 0.7058823529411765\n",
            "The mean accuracy of 5-fold CV: 0.7529411764705882   std: 0.024677855251062364\n"
          ],
          "name": "stdout"
        }
      ]
    },
    {
      "cell_type": "markdown",
      "metadata": {
        "id": "rxKFB4uv6MQO"
      },
      "source": [
        "**Plotting Hyperparameter**"
      ]
    },
    {
      "cell_type": "code",
      "metadata": {
        "id": "S4exwax16LMQ"
      },
      "source": [
        "plotting_momentum_change(np.arange(0.9, 1, 0.01).tolist(), learning_rate, batch_size, X_vehicle, new_y_vehicle)"
      ],
      "execution_count": null,
      "outputs": []
    },
    {
      "cell_type": "code",
      "metadata": {
        "id": "2rq1nmpv6eWG"
      },
      "source": [
        "plotting_learningRate_change(momentum,[0.005,0.01,0.025,0.05,0.1,0.25,0.5],batch_size,X_vehicle,new_y_vehicle)"
      ],
      "execution_count": null,
      "outputs": []
    },
    {
      "cell_type": "code",
      "metadata": {
        "id": "OFvdghATB6ay"
      },
      "source": [
        "N=len(new_y_vehicle)\n",
        "batch_size_list=[1,50,math.ceil(N/8),math.ceil(N/4),math.ceil(N/2),N]\n",
        "plotting_batch_change(momentum,learning_rate,batch_size_list,X_vehicle,new_y_vehicle)"
      ],
      "execution_count": null,
      "outputs": []
    },
    {
      "cell_type": "markdown",
      "metadata": {
        "id": "RtvfIZuTqAUv"
      },
      "source": [
        "## **3.2 Termination Condition**"
      ]
    },
    {
      "cell_type": "markdown",
      "metadata": {
        "id": "HxJtIpSa_jjH"
      },
      "source": [
        "**Initially, Terminate the training in 200 iteration**"
      ]
    },
    {
      "cell_type": "code",
      "metadata": {
        "id": "ferpOmYYwpzW"
      },
      "source": [
        "def termination(momentum, learning_rate, batch_size,X_train, X_test, y_test, y_train):\n",
        "  N1,D=X_train.shape\n",
        "  N2,D=X_test.shape\n",
        "  C = len(y_test[0])\n",
        "  X_train_bias= np.column_stack([X_train,np.ones(N1)])/N1\n",
        "  X_test_bias= np.column_stack([X_test,np.ones(N2)])/N2\n",
        "  acc1=[]\n",
        "  acc2=[]\n",
        "  iteration=[]\n",
        "  optimizer= GradientDescentwithMomentum(momentum=momentum,batch_size = batch_size,learning_rate=learning_rate, max_iters=200, record_history=True)\n",
        "  model = MultiClassLogisticRegression()\n",
        "  model.fit(X_train,y_train,optimizer)\n",
        "  #y_hat=model.predict(X_test[trial])\n",
        "\n",
        "  max_accuracy=0.0\n",
        "  for t,w in enumerate(optimizer.w_history):\n",
        "    y_hat_train=softmax_fn(X_train_bias, w)\n",
        "    y_hat_test=softmax_fn(X_test_bias, w)\n",
        "    #print(\"train:\",getAcc(y_train,y_hat_train),\" test:\",getAcc(y_test,y_hat_test))\n",
        "    acc1.append(getAcc(y_train,y_hat_train))\n",
        "    acc2.append(getAcc(y_test,y_hat_test)) \n",
        "    iteration.append(t)\n",
        "    if getAcc(y_test,y_hat_test) > max_accuracy:\n",
        "      max_accuracy = getAcc(y_test,y_hat_test) \n",
        "    \n",
        "\n",
        "\n",
        "  print(max_accuracy)\n",
        "  plotting(iteration,acc2,acc1,'iteration','Accuracy')\n"
      ],
      "execution_count": null,
      "outputs": []
    },
    {
      "cell_type": "markdown",
      "metadata": {
        "id": "PATDuVod_q5X"
      },
      "source": [
        "**Terminate when ono-increase in 20 iterations**"
      ]
    },
    {
      "cell_type": "code",
      "metadata": {
        "id": "3UfgcWn4_coR"
      },
      "source": [
        "def new_termination(momentum, learning_rate, batch_size,X_train, X_test, y_test, y_train,T):\n",
        "  N1,D=X_train.shape\n",
        "  N2,D=X_test.shape\n",
        "  C = len(y_test[0])\n",
        "  X_train_bias= np.column_stack([X_train,np.ones(N1)])/N1\n",
        "  X_test_bias= np.column_stack([X_test,np.ones(N2)])/N2\n",
        "  acc1=[]\n",
        "  acc2=[]\n",
        "  iteration=[]\n",
        "  optimizer= GradientDescentwithMomentum(momentum=momentum,batch_size = batch_size,learning_rate=learning_rate, max_iters=200, record_history=True)\n",
        "  model = MultiClassLogisticRegression()\n",
        "  model.fit(X_train,y_train,optimizer)\n",
        "  #y_hat=model.predict(X_test[trial])\n",
        "\n",
        "  max_w = np.zeros((C,D))\n",
        "  max_accuracy=0.0\n",
        "  for t,w in enumerate(optimizer.w_history):\n",
        "    y_hat_train=softmax_fn(X_train_bias, w)\n",
        "    y_hat_test=softmax_fn(X_test_bias, w)\n",
        "    acc1.append(getAcc(y_train,y_hat_train))\n",
        "    acc2.append(getAcc(y_test,y_hat_test))\n",
        "\n",
        "    validation_accuracy= getAcc(y_test,y_hat_test)\n",
        "    if validation_accuracy > max_accuracy:\n",
        "      max_accuracy=validation_accuracy\n",
        "      max_w=w\n",
        "      \n",
        "    iteration.append(t)\n",
        "    if t >T:\n",
        "      counter=-1\n",
        "      for i in range(len(acc2)-1-T,len(acc2)-1):\n",
        "        if acc2[i]<acc2[i+1]:\n",
        "          counter=0\n",
        "          break\n",
        "        else:\n",
        "          counter=-1\n",
        "      # non-increase in 20 steps\n",
        "      if counter ==-1:\n",
        "        acc1.append(getAcc(y_train,softmax_fn(X_train_bias, max_w)))\n",
        "        acc2.append(max_accuracy)\n",
        "        iteration.append(t+1)\n",
        "        print(counter)\n",
        "        print(\"Number of Iteration:\",t)\n",
        "        break\n",
        "\n",
        "      \n",
        "\n",
        "  print(max_accuracy)\n",
        "  plotting(iteration,acc2,acc1,'iteration','Accuracy(Termination=20)')\n",
        "\n",
        "\n",
        "#X_test,X_train,y_test,y_train = cross_validation(3,X_digits,new_y_digits)\n",
        "#new_termination(0.975,0.005,899,X_train[0],X_test[0],y_test[0],y_train[0])\n"
      ],
      "execution_count": null,
      "outputs": []
    },
    {
      "cell_type": "markdown",
      "metadata": {
        "id": "m0_Fj4POSQPb"
      },
      "source": [
        "### **3.2.1 Digits Dataset**"
      ]
    },
    {
      "cell_type": "code",
      "metadata": {
        "id": "CA0WSXx93rC3"
      },
      "source": [
        "# plotting termination condition\n",
        "X_test,X_train,y_test,y_train = cross_validation(3,X_digits,new_y_digits)\n",
        "termination(0.975,0.005,200,X_train[0],X_test[0],y_test[0],y_train[0])\n",
        "\n"
      ],
      "execution_count": null,
      "outputs": []
    },
    {
      "cell_type": "code",
      "metadata": {
        "id": "DrL0u_1I8LP2"
      },
      "source": [
        "X_test,X_train,y_test,y_train = cross_validation(3,X_digits,new_y_digits)\n",
        "for i in range(3):\n",
        "  new_termination(0.975,0.005,899,X_train[i],X_test[i],y_test[i],y_train[i],100000000)"
      ],
      "execution_count": null,
      "outputs": []
    },
    {
      "cell_type": "code",
      "metadata": {
        "id": "BJtwWgBkyYYx"
      },
      "source": [
        "import math\n",
        "def mean_and_std(list1):\n",
        "  mean=sum(list1)/len(list1)\n",
        "  std=0.0\n",
        "  for i in range(len(list1)):\n",
        "    std=std+(list1[i]-mean)*(list1[i]-mean)\n",
        "  std=std/len(list1)\n",
        "  std=math.sqrt(std)\n",
        "  print(\"std:\",std,\" mean:\",mean)\n",
        "mean_and_std([95.15,95.99,95.65])"
      ],
      "execution_count": null,
      "outputs": []
    },
    {
      "cell_type": "markdown",
      "metadata": {
        "id": "4kdlLR_BtOnE"
      },
      "source": [
        "### **3.2.2 Iris Dataset**"
      ]
    },
    {
      "cell_type": "code",
      "metadata": {
        "id": "OIUi2A_d35X1"
      },
      "source": [
        "# plotting termination condition\n",
        "X_test,X_train,y_test,y_train = cross_validation(3,X_iris,new_y_iris) \n",
        "termination(momentum_iris,learning_rate, atch_size_iris,X_train[0],X_test[0],y_test[0],y_train[0])"
      ],
      "execution_count": null,
      "outputs": []
    },
    {
      "cell_type": "code",
      "metadata": {
        "id": "5Ws2mwMRHlmC"
      },
      "source": [
        "new_termination(momentum_iris,learning_rate, atch_size_iris,X_train[0],X_test[0],y_test[0],y_train[0],10)"
      ],
      "execution_count": null,
      "outputs": []
    },
    {
      "cell_type": "markdown",
      "metadata": {
        "id": "LA44Rx0Gmt59"
      },
      "source": [
        "### **3.2.3 Vehicle Dataset**"
      ]
    },
    {
      "cell_type": "code",
      "metadata": {
        "id": "gUZThkEsQThm",
        "colab": {
          "base_uri": "https://localhost:8080/",
          "height": 318
        },
        "outputId": "7e46d772-3f87-44b8-8ad8-7200f9121f2e"
      },
      "source": [
        "X_test,X_train,y_test,y_train = cross_validation(3,X_vehicle,new_y_vehicle) \n",
        "termination(momentum_vehicle, learning_rate_vehicle, batch_size_vehicle, X_train[0],X_test[0],y_test[0],y_train[0])"
      ],
      "execution_count": null,
      "outputs": [
        {
          "output_type": "stream",
          "text": [
            "0.8085106382978723\n"
          ],
          "name": "stdout"
        },
        {
          "output_type": "display_data",
          "data": {
            "image/png": "[encoded data removed]",
            "text/plain": [
              "<Figure size 432x288 with 1 Axes>"
            ]
          },
          "metadata": {
            "tags": []
          }
        }
      ]
    },
    {
      "cell_type": "code",
      "metadata": {
        "id": "4T4dZ3aTQet_",
        "colab": {
          "base_uri": "https://localhost:8080/",
          "height": 318
        },
        "outputId": "a2d78f90-77f7-4253-aabd-e9db6e208dc6"
      },
      "source": [
        "new_termination(momentum_vehicle, learning_rate_vehicle, batch_size_vehicle, X_train[0],X_test[0],y_test[0],y_train[0], 50)"
      ],
      "execution_count": null,
      "outputs": [
        {
          "output_type": "stream",
          "text": [
            "0.8085106382978723\n"
          ],
          "name": "stdout"
        },
        {
          "output_type": "display_data",
          "data": {
            "image/png": "[encoded data removed]",
            "text/plain": [
              "<Figure size 432x288 with 1 Axes>"
            ]
          },
          "metadata": {
            "tags": []
          }
        }
      ]
    },
    {
      "cell_type": "markdown",
      "metadata": {
        "id": "Ah8wRL-cHELq"
      },
      "source": [
        "# **4. Model Comparison (KNN)**"
      ]
    },
    {
      "cell_type": "markdown",
      "metadata": {
        "id": "-NU5g5iP-wrA"
      },
      "source": [
        "## **4.1 K-NN Classification**"
      ]
    },
    {
      "cell_type": "markdown",
      "metadata": {
        "id": "hG_xsYpF9gkU"
      },
      "source": [
        "### **4.1.1 Functions**"
      ]
    },
    {
      "cell_type": "code",
      "metadata": {
        "id": "caBw9WfxA4po"
      },
      "source": [
        "def getAcc_single_label(y_true,y_hat):\n",
        "  N=len(y_true)\n",
        "  acc=0.0\n",
        "  for j in range (N):\n",
        "    #print(\"y_true\",y_true[j],\" y_hat\",y_hat[j],y_true[j]==y_hat[j])\n",
        "    if y_true[j]==y_hat[j]:\n",
        "      acc=acc+1\n",
        "  #print(acc)\n",
        "  #print(\"N\",N)\n",
        "  #print(acc/N)\n",
        "  return (acc/N)"
      ],
      "execution_count": null,
      "outputs": []
    },
    {
      "cell_type": "code",
      "metadata": {
        "id": "Hv-z4SuN_YAq"
      },
      "source": [
        "import math\n",
        "def cross_validation_single_label(n_folds,x,y):\n",
        "    df=np.column_stack([x,y])\n",
        "    N, D = x.shape\n",
        "    C= 1\n",
        "    X_test=[]\n",
        "    X_train=[]\n",
        "    y_test=[]\n",
        "    y_train=[]\n",
        "    #index=[i for i in range(N)]\n",
        "    test_index=math.ceil(N/n_folds)\n",
        "    for i in range(n_folds):\n",
        "        df_tmp=np.random.permutation(df)\n",
        "        X_test_tmp=df_tmp[0:test_index,0:D]\n",
        "        y_test_tmp=df_tmp[0:test_index,D:(D+C)]\n",
        "        X_train_tmp=df_tmp[test_index:N,0:D]\n",
        "        y_train_tmp=df_tmp[test_index:N,D:(D+C)]\n",
        "\n",
        "        X_test.append(X_test_tmp)\n",
        "        y_test.append(y_test_tmp)\n",
        "        X_train.append(X_train_tmp)\n",
        "        y_train.append(y_train_tmp)\n",
        "\n",
        "    \n",
        "    return X_test,X_train,y_test,y_train"
      ],
      "execution_count": null,
      "outputs": []
    },
    {
      "cell_type": "code",
      "metadata": {
        "id": "_X70mmPH9b76"
      },
      "source": [
        "from sklearn.neighbors import KNeighborsClassifier\n",
        "\n",
        "# as there are 9 labels \n",
        "# the best option is n=9\n",
        "def simple_grid_search_KNN(n_neighbors, leaf_size, X, y):\n",
        "  n_folds=5\n",
        "  X_test,X_train,y_test,y_train = cross_validation_single_label(n_folds,X,y)\n",
        "  max_accuracy=-np.inf\n",
        "  best_parameter={}\n",
        "  for n in n_neighbors: \n",
        "    for l in leaf_size:\n",
        "      accuracy=0.0 \n",
        "      for trial in range(n_folds):\n",
        "        knn = KNeighborsClassifier(n_neighbors = n,leaf_size=l)\n",
        "        knn.fit(X_train[trial],y_train[trial].ravel())\n",
        "        y_hat=knn.predict(X_test[trial])\n",
        "        #print(y_hat.shape)\n",
        "        #print(y_test[trial].shape)\n",
        "        accuracy = accuracy+ getAcc_single_label(y_hat, y_test[trial])\n",
        "        acc=getAcc_single_label(y_hat, y_test[trial])\n",
        "        #print(\"trial:\",trial,\"accuracy\",getAcc_single_label(y_hat, y_test[trial]))\n",
        "\n",
        "      accuracy=accuracy/n_folds\n",
        "      print(\"n_neighbors: \",n , \"     leaf_size:\",l,\"   Accuracy: \",accuracy)\n",
        "      if accuracy > max_accuracy:\n",
        "          max_accuracy = accuracy\n",
        "          best_parameter['n_neighbor']=n\n",
        "          best_parameter['leaf_size']=l\n",
        "  print('MAX Accuracy: ', max_accuracy)\n",
        "  print(\"Best parameter: \",best_parameter)\n",
        "  return best_parameter\n",
        "\n",
        "\n",
        "#n_neighbor=[9]\n",
        "#best_parameter=simple_grid_search_KNN(n_neighbor, [5,10,30,50,75,100], X_digits, y_digits)\n"
      ],
      "execution_count": null,
      "outputs": []
    },
    {
      "cell_type": "markdown",
      "metadata": {
        "id": "kFrvOUElE9lR"
      },
      "source": [
        "### **4.1.1 Digits Dataset**\n"
      ]
    },
    {
      "cell_type": "code",
      "metadata": {
        "id": "VR-Pyw0PORLC"
      },
      "source": [
        "n_neighbor=[10]\n",
        "best_parameter=simple_grid_search_KNN(n_neighbor, [5,10,30,50,75,100], X_digits, y_digits)"
      ],
      "execution_count": null,
      "outputs": []
    },
    {
      "cell_type": "code",
      "metadata": {
        "id": "SdFkfDZAPBCm"
      },
      "source": [
        "import math\n",
        "\n",
        "leaf_size=best_parameter['leaf_size']\n",
        "X_test,X_train,y_test,y_train = cross_validation_single_label(5,X_digits,y_digits)\n",
        "acc=[]\n",
        "for trial in range(5):\n",
        "        knn = KNeighborsClassifier(n_neighbors = 10,leaf_size=leaf_size)\n",
        "        knn.fit(X_train[trial],y_train[trial].ravel())\n",
        "        y_hat=knn.predict(X_test[trial])\n",
        "       \n",
        "        print(\"trial:\",trial,\"accuracy\",getAcc_single_label(y_hat, y_test[trial]))\n",
        "        acc.append(getAcc_single_label(y_hat, y_test[trial]))\n",
        "mean=sum(acc)/5\n",
        "std=0.0\n",
        "for i in acc:\n",
        "  std=std+(i-mean)*(i-mean)\n",
        "std=math.sqrt(std/5)\n",
        "\n",
        "\n",
        "print(\"The mean accuracy of 5-fold CV:\",mean,\"  std:\",std)"
      ],
      "execution_count": null,
      "outputs": []
    },
    {
      "cell_type": "markdown",
      "metadata": {
        "id": "Ggg3ziwEFEcF"
      },
      "source": [
        "### **4.1.2 Iris Dataset**\n"
      ]
    },
    {
      "cell_type": "code",
      "metadata": {
        "id": "DSrguivkD3oJ"
      },
      "source": [
        "# winnie:\n",
        "n_neighbor=[2]\n",
        "leaf=[5,10,30,50,75,100]\n",
        "best_parameter=simple_grid_search_KNN(n_neighbor, leaf, X_iris, y_iris)\n",
        "\n"
      ],
      "execution_count": null,
      "outputs": []
    },
    {
      "cell_type": "code",
      "metadata": {
        "id": "9phqeIocSFJQ"
      },
      "source": [
        "leaf_size=best_parameter['leaf_size']\n",
        "X_test,X_train,y_test,y_train = cross_validation_single_label(5,X_iris,y_iris)\n",
        "acc=[]\n",
        "for trial in range(5):\n",
        "        knn = KNeighborsClassifier(n_neighbors = 2,leaf_size=leaf_size)\n",
        "        knn.fit(X_train[trial],y_train[trial].ravel())\n",
        "        y_hat=knn.predict(X_test[trial])\n",
        "       \n",
        "        print(\"trial:\",trial,\"accuracy\",getAcc_single_label(y_hat, y_test[trial]))\n",
        "        acc.append(getAcc_single_label(y_hat, y_test[trial]))\n",
        "mean=sum(acc)/5\n",
        "std=0.0\n",
        "for i in acc:\n",
        "  std=std+(i-mean)*(i-mean)\n",
        "std=math.sqrt(std/5)\n",
        "\n",
        "\n",
        "print(\"The mean accuracy of 5-fold CV:\",mean,\"  std:\",std)\n",
        "\n"
      ],
      "execution_count": null,
      "outputs": []
    },
    {
      "cell_type": "markdown",
      "metadata": {
        "id": "nB2vhGnF1cqW"
      },
      "source": [
        "### 4.1.3 Vehicle dataset"
      ]
    },
    {
      "cell_type": "code",
      "metadata": {
        "id": "y91BxLH6571o"
      },
      "source": [
        "n_neighbor=[4]\n",
        "leaf=[5,10,30,50,75,100]\n",
        "best_parameter=simple_grid_search_KNN(n_neighbor, leaf, X_vehicle, y_vehicle)\n"
      ],
      "execution_count": null,
      "outputs": []
    },
    {
      "cell_type": "code",
      "metadata": {
        "id": "jmhWG_XO8jNU"
      },
      "source": [
        "leaf_size=best_parameter['leaf_size']\n",
        "X_test,X_train,y_test,y_train = cross_validation_single_label(5,X_vehicle,y_vehicle)\n",
        "acc=[]\n",
        "for trial in range(5):\n",
        "        knn = KNeighborsClassifier(n_neighbors = 4,leaf_size=leaf_size)\n",
        "        knn.fit(X_train[trial],y_train[trial].ravel())\n",
        "        y_hat=knn.predict(X_test[trial])\n",
        "       \n",
        "        print(\"trial:\",trial,\"accuracy\",getAcc_single_label(y_hat, y_test[trial]))\n",
        "        acc.append(getAcc_single_label(y_hat, y_test[trial]))\n",
        "mean=sum(acc)/5\n",
        "std=0.0\n",
        "for i in acc:\n",
        "  std=std+(i-mean)*(i-mean)\n",
        "std=math.sqrt(std/5)\n",
        "\n",
        "\n",
        "print(\"The mean accuracy of 5-fold CV:\",mean,\"  std:\",std)\n",
        "\n"
      ],
      "execution_count": null,
      "outputs": []
    },
    {
      "cell_type": "markdown",
      "metadata": {
        "id": "M4pPnDmujvQK"
      },
      "source": [
        "## 4.2 Decision Tree Classification"
      ]
    },
    {
      "cell_type": "markdown",
      "metadata": {
        "id": "SZ9RgP-ukXd8"
      },
      "source": [
        "### 4.2.1 Functions"
      ]
    },
    {
      "cell_type": "code",
      "metadata": {
        "id": "ByW0AuwmTKYe"
      },
      "source": [
        "def getAcc_single_label(y_true,y_hat):\n",
        "  N=len(y_true)\n",
        "  acc=0.0\n",
        "  for j in range (N):\n",
        "    #print(\"y_true\",y_true[j],\" y_hat\",y_hat[j],y_true[j]==y_hat[j])\n",
        "    if y_true[j]==y_hat[j]:\n",
        "      acc=acc+1\n",
        "  #print(acc)\n",
        "  #print(\"N\",N)\n",
        "  #print(acc/N)\n",
        "  return (acc/N)"
      ],
      "execution_count": null,
      "outputs": []
    },
    {
      "cell_type": "code",
      "metadata": {
        "id": "13SzDblQk1pL"
      },
      "source": [
        "from sklearn.tree import DecisionTreeClassifier\n",
        "\n",
        "def simple_grid_search_DT(max_depth, min_samples_leaf, max_leaf_nodes, X, y):\n",
        "  n_folds=5\n",
        "  X_test,X_train,y_test,y_train = cross_validation_single_label(n_folds,X,y)\n",
        "  max_accuracy=-np.inf\n",
        "  best_parameter={}\n",
        "  for md in max_depth: \n",
        "    for msl in min_samples_leaf:\n",
        "      for mln in max_leaf_nodes:\n",
        "        accuracy=0.0 \n",
        "        for trial in range(n_folds):\n",
        "          decision_tree = DecisionTreeClassifier(max_depth=md, min_samples_leaf=msl, max_leaf_nodes=mln,min_samples_split=2)\n",
        "          decision_tree.fit(X_train[trial],y_train[trial])\n",
        "          y_hat=decision_tree.predict(X_test[trial])\n",
        "          #print(y_hat)\n",
        "          #print(y_test[trial])\n",
        "          accuracy = accuracy+ getAcc_single_label(y_hat, y_test[trial])\n",
        "          acc=getAcc_single_label(y_hat, y_test[trial])\n",
        "          #print(\"trial:\",trial,\"accuracy\",getAcc_single_label(y_hat, y_test[trial]))\n",
        "        accuracy=accuracy/n_folds\n",
        "        print(\"max_depth: \", md, \"  min_sample_leaf: \", msl, \"  max_leaf_nodes: \", mln,\"  Accuracy: \",accuracy)\n",
        "        if accuracy > max_accuracy:\n",
        "            max_accuracy = accuracy\n",
        "            best_parameter['max_depth']=md\n",
        "            best_parameter['min_sample_leaf']=msl\n",
        "            best_parameter['max_leaf_nodes']= mln\n",
        "  print('MAX Accuracy: ', max_accuracy)\n",
        "  print(\"Best parameter: \",best_parameter)\n",
        "  return best_parameter\n",
        "'''\n",
        "max_depth=[5,10,20,30]\n",
        "min_samples_leaf=[10,15,20,50,75,100]\n",
        "max_leaf_nodes=[50,100,150,200,250]\n",
        "simple_grid_search_DT(max_depth,min_samples_leaf,max_leaf_nodes,X_digits,y_digits)\n",
        "'''"
      ],
      "execution_count": null,
      "outputs": []
    },
    {
      "cell_type": "markdown",
      "metadata": {
        "id": "ouOlbiiIkhdk"
      },
      "source": [
        "### 4.2.2 Digits Dataset"
      ]
    },
    {
      "cell_type": "code",
      "metadata": {
        "id": "X5n3KZirko0y"
      },
      "source": [
        "max_depth=[5,10,20,30]\n",
        "min_samples_leaf=[10,15,20,50,75,100]\n",
        "max_leaf_nodes=[50,100,150,200,250]\n",
        "best_parameter=simple_grid_search_DT(max_depth,min_samples_leaf,max_leaf_nodes,X_digits,y_digits)"
      ],
      "execution_count": null,
      "outputs": []
    },
    {
      "cell_type": "code",
      "metadata": {
        "id": "74D9-Tf-KvRE"
      },
      "source": [
        "import math\n",
        "# Best parameter:  {'max_depth': 20, 'min_sample_leaf': 10, 'max_leaf_nodes': 100} with accuracy 82.22%\n",
        "md=best_parameter['max_depth']\n",
        "msl=best_parameter['min_sample_leaf']\n",
        "mln=best_parameter['max_leaf_nodes']\n",
        "X_test,X_train,y_test,y_train = cross_validation_single_label(5,X_digits,y_digits)\n",
        "acc=[]\n",
        "for trial in range(5):\n",
        "        dt = DecisionTreeClassifier(max_depth=md, min_samples_leaf=msl, max_leaf_nodes=mln,min_samples_split=2)\n",
        "        dt.fit(X_train[trial],y_train[trial])\n",
        "        y_hat=dt.predict(X_test[trial])\n",
        "       \n",
        "        print(\"trial:\",trial,\"accuracy\",getAcc_single_label(y_hat, y_test[trial]))\n",
        "        acc.append(getAcc_single_label(y_hat, y_test[trial]))\n",
        "mean=sum(acc)/5\n",
        "std=0.0\n",
        "for i in acc:\n",
        "  std=std+(i-mean)*(i-mean)\n",
        "std=math.sqrt(std/5)\n",
        "\n",
        "\n",
        "print(\"The mean accuracy of 5-fold CV:\",mean,\"  std:\",std)\n"
      ],
      "execution_count": null,
      "outputs": []
    },
    {
      "cell_type": "markdown",
      "metadata": {
        "id": "PGnX4ef_kpkS"
      },
      "source": [
        "### 4.2.3 Iris Dataset"
      ]
    },
    {
      "cell_type": "code",
      "metadata": {
        "id": "oFupDS5wNxar"
      },
      "source": [
        "max_depth=[5,10,20,30]\n",
        "min_samples_leaf=[10,15,20,50,75,100]\n",
        "max_leaf_nodes=[50,100,150,200,250]\n",
        "best_parameter=simple_grid_search_DT(max_depth,min_samples_leaf,max_leaf_nodes,X_iris,y_iris)"
      ],
      "execution_count": null,
      "outputs": []
    },
    {
      "cell_type": "code",
      "metadata": {
        "id": "UKhyUUqXXD9o"
      },
      "source": [
        "import math\n",
        "# Best parameter:  {'max_depth': 20, 'min_sample_leaf': 10, 'max_leaf_nodes': 100} with accuracy 82.22%\n",
        "md=best_parameter['max_depth']\n",
        "msl=best_parameter['min_sample_leaf']\n",
        "mln=best_parameter['max_leaf_nodes']\n",
        "X_test,X_train,y_test,y_train = cross_validation_single_label(5,X_iris,y_iris)\n",
        "acc=[]\n",
        "for trial in range(5):\n",
        "        dt = DecisionTreeClassifier(max_depth=md, min_samples_leaf=msl, max_leaf_nodes=mln,min_samples_split=2)\n",
        "        dt.fit(X_train[trial],y_train[trial])\n",
        "        y_hat=dt.predict(X_test[trial])\n",
        "       \n",
        "        print(\"trial:\",trial,\"accuracy\",getAcc_single_label(y_hat, y_test[trial]))\n",
        "        acc.append(getAcc_single_label(y_hat, y_test[trial]))\n",
        "mean=sum(acc)/5\n",
        "std=0.0\n",
        "for i in acc:\n",
        "  std=std+(i-mean)*(i-mean)\n",
        "std=math.sqrt(std/5)\n",
        "\n",
        "\n",
        "print(\"The mean accuracy of 5-fold CV:\",mean,\"  std:\",std)"
      ],
      "execution_count": null,
      "outputs": []
    },
    {
      "cell_type": "markdown",
      "metadata": {
        "id": "HrrCgOGR6tRK"
      },
      "source": [
        "### 4.2.3 Vehicle Dataset"
      ]
    },
    {
      "cell_type": "code",
      "metadata": {
        "id": "NrfUMTCJ6kGt"
      },
      "source": [
        "max_depth=[5,10,20,30]\n",
        "min_samples_leaf=[10,15,20,50,75,100]\n",
        "max_leaf_nodes=[50,100,150,200,250]\n",
        "best_parameter=simple_grid_search_DT(max_depth,min_samples_leaf,max_leaf_nodes, X_vehicle, y_vehicle)"
      ],
      "execution_count": null,
      "outputs": []
    },
    {
      "cell_type": "code",
      "metadata": {
        "id": "nA9crsYQ7YFe"
      },
      "source": [
        "import math\n",
        "# Best parameter:  {'max_depth': 5, 'min_sample_leaf': 10, 'max_leaf_nodes': 250} with accuracy 68.82%\n",
        "md=best_parameter['max_depth']\n",
        "msl=best_parameter['min_sample_leaf']\n",
        "mln=best_parameter['max_leaf_nodes']\n",
        "X_test,X_train,y_test,y_train = cross_validation_single_label(5,X_vehicle,y_vehicle)\n",
        "acc=[]\n",
        "for trial in range(5):\n",
        "        dt = DecisionTreeClassifier(max_depth=md, min_samples_leaf=msl, max_leaf_nodes=mln,min_samples_split=2)\n",
        "        dt.fit(X_train[trial],y_train[trial])\n",
        "        y_hat=dt.predict(X_test[trial])\n",
        "       \n",
        "        print(\"trial:\",trial,\"accuracy\",getAcc_single_label(y_hat, y_test[trial]))\n",
        "        acc.append(getAcc_single_label(y_hat, y_test[trial]))\n",
        "mean=sum(acc)/5\n",
        "std=0.0\n",
        "for i in acc:\n",
        "  std=std+(i-mean)*(i-mean)\n",
        "std=math.sqrt(std/5)\n",
        "\n",
        "\n",
        "print(\"The mean accuracy of 5-fold CV:\",mean,\"  std:\",std)"
      ],
      "execution_count": null,
      "outputs": []
    },
    {
      "cell_type": "markdown",
      "metadata": {
        "id": "CknnQiTX_D8x"
      },
      "source": [
        "## **4.3 Multi-class Logistic Regression Model with L2 Penalty**"
      ]
    },
    {
      "cell_type": "code",
      "metadata": {
        "id": "MJ-I7EDc-yFW"
      },
      "source": [
        "def getAcc(y_true,y_hat):\n",
        "  N=len(y_true)\n",
        "  acc=0.0\n",
        "  #y_hat=model.predict(X_digits[1701:1797,:])\n",
        "  #y_true=new_y_digits[1701:1797,:]\n",
        "  for i in range(N):\n",
        "    row = y_true[i]    \n",
        "    for j in range (len(row)):\n",
        "      if y_true[i][j]==y_hat[i][j]:\n",
        "        if y_true[i][j]==1:\n",
        "          acc=acc+1\n",
        "      else:\n",
        "        break\n",
        "  return acc/N"
      ],
      "execution_count": null,
      "outputs": []
    },
    {
      "cell_type": "code",
      "metadata": {
        "id": "SvDoMZIghCnX"
      },
      "source": [
        "def cross_validation(n_folds,x,y):\n",
        "    df=np.column_stack([x,y])\n",
        "    N, D = x.shape\n",
        "    C= len(y[0])\n",
        "    X_test=[]\n",
        "    X_train=[]\n",
        "    y_test=[]\n",
        "    y_train=[]\n",
        "    #index=[i for i in range(N)]\n",
        "    test_index=math.ceil(N/n_folds)\n",
        "    for i in range(n_folds):\n",
        "        df_tmp=np.random.permutation(df)\n",
        "        X_test_tmp=df_tmp[0:test_index,0:D]\n",
        "        y_test_tmp=df_tmp[0:test_index,D:(D+C)]\n",
        "        X_train_tmp=df_tmp[test_index:N,0:D]\n",
        "        y_train_tmp=df_tmp[test_index:N,D:(D+C)]\n",
        "\n",
        "        X_test.append(X_test_tmp)\n",
        "        y_test.append(y_test_tmp)\n",
        "        X_train.append(X_train_tmp)\n",
        "        y_train.append(y_train_tmp)\n",
        "\n",
        "    \n",
        "    return X_test,X_train,y_test,y_train"
      ],
      "execution_count": null,
      "outputs": []
    },
    {
      "cell_type": "code",
      "metadata": {
        "id": "0sPMYpv486Gt"
      },
      "source": [
        "class MultiClassLogisticRegression_l2:\n",
        "\n",
        "    def __init__(self, add_bias = True, l2_reg = 0):\n",
        "       self.add_bias = add_bias\n",
        "       self.l2_reg = l2_reg\n",
        "       pass\n",
        "\n",
        "    def fit(self, x, y, optimzer):\n",
        "        if x.ndim == 1:\n",
        "            x = x[:, None]\n",
        "\n",
        "        if self.add_bias:\n",
        "          N = x.shape[0]\n",
        "          x = np.column_stack([x,np.ones(N)])\n",
        "        C = len(y[0])\n",
        "        N, D = x.shape\n",
        "\n",
        "        def gradient(x, y, w):\n",
        "          yh = softmax_fn(x, w)\n",
        "          dW = np.dot(x.T, yh - y)\n",
        "          dW = (dW + self.l2_reg*w)/N\n",
        "          return dW\n",
        "\n",
        "        w0 = np.zeros((D, C))\n",
        "        self.w = optimzer.run(gradient, x, y, w0)\n",
        "        return self\n",
        "  \n",
        "    def predict(self, x):\n",
        "        if x.ndim == 1: \n",
        "          x = x[:, None]\n",
        "        N, D = x.shape\n",
        "        if self.add_bias:\n",
        "          x = np.column_stack([x,np.ones(N)])\n",
        "        yh = softmax_fn(x, self.w)\n",
        "        return yh"
      ],
      "execution_count": null,
      "outputs": []
    },
    {
      "cell_type": "code",
      "metadata": {
        "id": "nqTLZR3YKC9v"
      },
      "source": [
        "def simple_grid_search_l2(momentum,learning_rate, batch_size,reg_coef,X,y):\n",
        "      n_folds=5\n",
        "      X_test,X_train,y_test,y_train = cross_validation(n_folds,X,y)\n",
        "      max_accuracy=-np.inf\n",
        "      best_parameter={}\n",
        "      \n",
        "      for m in momentum: \n",
        "        for l in learning_rate:\n",
        "          for b in batch_size:\n",
        "            for j in reg_coef:\n",
        "              accuracy=0.0\n",
        "              for trial in range(n_folds):\n",
        "                  optimizer= GradientDescentwithMomentum(momentum=m,batch_size = b,learning_rate=l, max_iters=200, record_history=True)\n",
        "                  model = MultiClassLogisticRegression_l2(l2_reg=j) #這裡是唯一改的地方\n",
        "                  model.fit(X_train[trial],y_train[trial],optimizer)\n",
        "                  y_hat=model.predict(X_test[trial])\n",
        "                  accuracy = accuracy+ getAcc(y_hat, y_test[trial])\n",
        "\n",
        "              accuracy=accuracy/n_folds\n",
        "              print(\"momentum:\",m,\"  leanrning rate:\",l, \"  batch_size:\",b, \"   Lambda:\",j, \"   Accuracy:\",accuracy)\n",
        "              if accuracy > max_accuracy:\n",
        "                max_accuracy = accuracy\n",
        "                best_parameter['momentum']=m\n",
        "                best_parameter['learning_rate']=l\n",
        "                best_parameter['batch_size']=b\n",
        "                best_parameter['lambda']=j\n",
        "      print('MAX Accuracy: ', max_accuracy)\n",
        "      print(\"Best parameter: \",best_parameter)\n",
        "      return best_parameter"
      ],
      "execution_count": null,
      "outputs": []
    },
    {
      "cell_type": "markdown",
      "metadata": {
        "id": "G_Pq1El0YACv"
      },
      "source": [
        "**L2 plotting Function**"
      ]
    },
    {
      "cell_type": "code",
      "metadata": {
        "id": "h6cIJQSNYJlY"
      },
      "source": [
        "def termination_l2(momentum, learning_rate, batch_size,reg_coef,X_train, X_test, y_test, y_train):\n",
        "  N1,D=X_train.shape\n",
        "  N2,D=X_test.shape\n",
        "  C = len(y_test[0])\n",
        "  X_train_bias= np.column_stack([X_train,np.ones(N1)])/N1\n",
        "  X_test_bias= np.column_stack([X_test,np.ones(N2)])/N2\n",
        "  acc1=[]\n",
        "  acc2=[]\n",
        "  iteration=[]\n",
        "  optimizer= GradientDescentwithMomentum(momentum=momentum,batch_size = batch_size,learning_rate=learning_rate, max_iters=200, record_history=True)\n",
        "  model = MultiClassLogisticRegression_l2(l2_reg=reg_coef)\n",
        "  model.fit(X_train,y_train,optimizer)\n",
        "  #y_hat=model.predict(X_test[trial])\n",
        "\n",
        "  max_accuracy=0.0\n",
        "  for t,w in enumerate(optimizer.w_history):\n",
        "    y_hat_train=softmax_fn(X_train_bias, w)\n",
        "    y_hat_test=softmax_fn(X_test_bias, w)\n",
        "    #print(\"train:\",getAcc(y_train,y_hat_train),\" test:\",getAcc(y_test,y_hat_test))\n",
        "    acc1.append(getAcc(y_train,y_hat_train))\n",
        "    acc2.append(getAcc(y_test,y_hat_test)) \n",
        "    iteration.append(t)\n",
        "    if getAcc(y_test,y_hat_test) > max_accuracy:\n",
        "      max_accuracy = getAcc(y_test,y_hat_test) \n",
        "    \n",
        "\n",
        "\n",
        "  print(max_accuracy)\n",
        "  plotting(iteration,acc2,acc1,'iteration','Accuracy(L2)')\n",
        "\n",
        "\n",
        "#X_test,X_train,y_test,y_train = cross_validation(3,X_digits,new_y_digits)\n",
        "#termination(0.975,0.005,100,5,X_train[0],X_test[0],y_test[0],y_train[0])"
      ],
      "execution_count": null,
      "outputs": []
    },
    {
      "cell_type": "code",
      "metadata": {
        "id": "dh3DsmCDdB8M"
      },
      "source": [
        "def new_termination_l2(momentum, learning_rate, batch_size,reg_coef,X_train, X_test, y_test, y_train,T):\n",
        "  N1,D=X_train.shape\n",
        "  N2,D=X_test.shape\n",
        "  C = len(y_test[0])\n",
        "  X_train_bias= np.column_stack([X_train,np.ones(N1)])/N1\n",
        "  X_test_bias= np.column_stack([X_test,np.ones(N2)])/N2\n",
        "  acc1=[]\n",
        "  acc2=[]\n",
        "  iteration=[]\n",
        "  optimizer= GradientDescentwithMomentum(momentum=momentum,batch_size = batch_size,learning_rate=learning_rate, max_iters=200, record_history=True)\n",
        "  model = MultiClassLogisticRegression_l2(l2_reg=reg_coef)\n",
        "  model.fit(X_train,y_train,optimizer)\n",
        "  #y_hat=model.predict(X_test[trial])\n",
        "\n",
        "  max_w = np.zeros((C,D))\n",
        "  max_accuracy=0.0\n",
        "  for t,w in enumerate(optimizer.w_history):\n",
        "    y_hat_train=softmax_fn(X_train_bias, w)\n",
        "    y_hat_test=softmax_fn(X_test_bias, w)\n",
        "    acc1.append(getAcc(y_train,y_hat_train))\n",
        "    acc2.append(getAcc(y_test,y_hat_test))\n",
        "\n",
        "    validation_accuracy= getAcc(y_test,y_hat_test)\n",
        "    if validation_accuracy > max_accuracy:\n",
        "      max_accuracy=validation_accuracy\n",
        "      max_w=w\n",
        "      \n",
        "    iteration.append(t)\n",
        "    if t >T:\n",
        "      counter=-1\n",
        "      for i in range(len(acc2)-1-T,len(acc2)-1):\n",
        "        if acc2[i]<acc2[i+1]:\n",
        "          counter=0\n",
        "          break\n",
        "        else:\n",
        "          counter=-1\n",
        "      # non-increase in 20 steps\n",
        "      if counter ==-1:\n",
        "        acc1.append(getAcc(y_train,softmax_fn(X_train_bias, max_w)))\n",
        "        acc2.append(max_accuracy)\n",
        "        iteration.append(t+1)\n",
        "        print(counter)\n",
        "        print(\"Number of Iteration:\",t)\n",
        "        break\n",
        "\n",
        "      \n",
        "\n",
        "  print(\"Max accuracy:\",max_accuracy)\n",
        "  plotting(iteration,acc2,acc1,'iteration','Accuracy(Termination=20)')\n",
        "\n",
        "X_test,X_train,y_test,y_train = cross_validation(3,X_digits,new_y_digits)\n",
        "new_termination_l2(0.975,0.005,100,5,X_train[0],X_test[0],y_test[0],y_train[0],10)"
      ],
      "execution_count": null,
      "outputs": []
    },
    {
      "cell_type": "markdown",
      "metadata": {
        "id": "qrIAx5XcFJ5w"
      },
      "source": [
        "### **4.3.1 Digits Dataset**"
      ]
    },
    {
      "cell_type": "code",
      "metadata": {
        "id": "R9--kRDnEK1Z"
      },
      "source": [
        "N,D = X_digits.shape\n",
        "reg_coef=[1,5,10]\n",
        "momentum=[0.9,0.925,0.95,0.975,0.99]\n",
        "learning_rate=[0.005,0.01,0.025,0.05,0.1,0.5]\n",
        "batch_size=batch_size=[1,100,math.ceil(N/8),math.ceil(N/4),math.ceil(N/2),N]\n",
        "simple_grid_search_l2(momentum,learning_rate,batch_size,reg_coef,X_digits,new_y_digits) "
      ],
      "execution_count": null,
      "outputs": []
    },
    {
      "cell_type": "code",
      "metadata": {
        "id": "pCS7BltwnnTI"
      },
      "source": [
        "# best accuracy= 95.94%\n",
        "best_parameter={'momentum': 0.95, 'learning_rate': 0.05, 'batch_size': 100, 'lambda': 10}\n",
        "\n",
        "batch_size= best_parameter['batch_size']\n",
        "momentum=best_parameter['momentum']\n",
        "learning_rate=best_parameter['learning_rate']\n",
        "l2_coef = best_parameter['lambda']\n",
        "\n",
        "X_test,X_train,y_test,y_train = cross_validation(5,X_digits,new_y_digits)\n",
        "acc=[]\n",
        "for trial in range(5):\n",
        "    optimizer= GradientDescentwithMomentum(momentum, batch_size, learning_rate, max_iters=200, record_history=True)\n",
        "    model = MultiClassLogisticRegression_l2(l2_reg = l2_coef)\n",
        "    model.fit(X_train[trial],y_train[trial],optimizer)\n",
        "    y_hat=model.predict(X_test[trial])\n",
        "      \n",
        "    print(\"trial:\",trial,\"accuracy\",getAcc(y_hat, y_test[trial]))\n",
        "    acc.append(getAcc(y_hat, y_test[trial]))\n",
        "mean=sum(acc)/5\n",
        "std=0.0\n",
        "for i in acc:\n",
        "  std=std+(i-mean)*(i-mean)\n",
        "std=math.sqrt(std/5)\n",
        "\n",
        "\n",
        "print(\"The mean accuracy of 5-fold CV:\",mean,\"  std:\",std)"
      ],
      "execution_count": null,
      "outputs": []
    },
    {
      "cell_type": "code",
      "metadata": {
        "id": "Evg2I1mepUvu"
      },
      "source": [
        "X_test,X_train,y_test,y_train = cross_validation(3,X_digits,new_y_digits)\n",
        "termination(momentum,learning_rate,batch_size,X_train[0],X_test[0],y_test[0],y_train[0])"
      ],
      "execution_count": null,
      "outputs": []
    },
    {
      "cell_type": "code",
      "metadata": {
        "id": "_uRNW2euU0Jc"
      },
      "source": [
        "\n",
        "best_parameter={'momentum': 0.95, 'learning_rate': 0.1, 'batch_size': 100, 'lambda': 10}\n",
        "\n",
        "batch_size= best_parameter['batch_size']\n",
        "momentum=best_parameter['momentum']\n",
        "learning_rate=best_parameter['learning_rate']\n",
        "l2_coef = best_parameter['lambda']\n",
        "X_test,X_train,y_test,y_train = cross_validation(3,X_digits,new_y_digits)\n",
        "termination_l2(momentum,learning_rate,batch_size,l2_coef,X_train[0],X_test[0],y_test[0],y_train[0])"
      ],
      "execution_count": null,
      "outputs": []
    },
    {
      "cell_type": "code",
      "metadata": {
        "id": "2_uvjzZnX_Ak"
      },
      "source": [
        "# new termination\n",
        "X_test,X_train,y_test,y_train = cross_validation(3,X_digits,new_y_digits)\n",
        "new_termination_l2(0.975,0.005,100,5,X_train[0],X_test[0],y_test[0],y_train[0],5)"
      ],
      "execution_count": null,
      "outputs": []
    },
    {
      "cell_type": "markdown",
      "metadata": {
        "id": "-1IFV5c4FPc_"
      },
      "source": [
        "### **4.3.2 Iris Dataset**\n"
      ]
    },
    {
      "cell_type": "code",
      "metadata": {
        "id": "oVX-B28xdadb"
      },
      "source": [
        "# winnie\n",
        "N,D = X_iris.shape\n",
        "reg_coef=[1,5,10]\n",
        "momentum=[0.9,0.95,0.99]\n",
        "learning_rate=[0.005,0.01,0.05,0.1]\n",
        "batch_size=batch_size=[1,math.ceil(N/8),math.ceil(N/4),math.ceil(N/2),N]\n",
        "simple_grid_search_l2(momentum,learning_rate,batch_size,reg_coef,X_iris,new_y_iris) "
      ],
      "execution_count": null,
      "outputs": []
    },
    {
      "cell_type": "code",
      "metadata": {
        "id": "bVlQDRUEezuZ"
      },
      "source": [
        "# accuracy =100%\n",
        "best_parameter = {'momentum': 0.9, 'learning_rate': 0.005, 'batch_size': 38, 'lambda': 1}\n",
        "momentum = best_parameter['momentum']\n",
        "learning_rate=best_parameter['learning_rate']\n",
        "batch_size=best_parameter['batch_size']\n",
        "lambda0 = best_parameter['lambda']"
      ],
      "execution_count": null,
      "outputs": []
    },
    {
      "cell_type": "code",
      "metadata": {
        "id": "dNFP9R7qfcch"
      },
      "source": [
        "X_test,X_train,y_test,y_train = cross_validation(5,X_iris,new_y_iris)\n",
        "acc=[]\n",
        "for trial in range(5):\n",
        "        \n",
        "        optimizer= GradientDescentwithMomentum(momentum=momentum,batch_size = batch_size,learning_rate=learning_rate, max_iters=200, record_history=True)\n",
        "        model = MultiClassLogisticRegression_l2(l2_reg=lambda0)\n",
        "        model.fit(X_train[trial],y_train[trial],optimizer)\n",
        "        y_hat=model.predict(X_test[trial])\n",
        "       \n",
        "        print(\"trial:\",trial,\"accuracy\",getAcc(y_hat, y_test[trial]))\n",
        "        acc.append(getAcc(y_hat, y_test[trial]))\n",
        "mean=sum(acc)/5\n",
        "std=0.0\n",
        "for i in acc:\n",
        "  std=std+(i-mean)*(i-mean)\n",
        "std=math.sqrt(std/5)\n",
        "\n",
        "\n",
        "print(\"The mean accuracy of 5-fold CV:\",mean,\"  std:\",std)"
      ],
      "execution_count": null,
      "outputs": []
    },
    {
      "cell_type": "code",
      "metadata": {
        "id": "F8NrTOqAgrDI"
      },
      "source": [
        "X_test,X_train,y_test,y_train = cross_validation(3,X_iris,new_y_iris)\n",
        "termination_l2(momentum,learning_rate,batch_size,lambda0,X_train[0],X_test[0],y_test[0],y_train[0])"
      ],
      "execution_count": null,
      "outputs": []
    },
    {
      "cell_type": "code",
      "metadata": {
        "id": "UvrfcWRyYGiF"
      },
      "source": [
        "# new termination\n",
        "# new termination\n",
        "X_test,X_train,y_test,y_train = cross_validation(3,X_iris,new_y_iris)\n",
        "new_termination_l2(0.975,0.005,100,5,X_train[0],X_test[0],y_test[0],y_train[0],5)"
      ],
      "execution_count": null,
      "outputs": []
    },
    {
      "cell_type": "markdown",
      "metadata": {
        "id": "7afVpKLz9Ut3"
      },
      "source": [
        "### **4.3.3 Vehicle Dataset**"
      ]
    },
    {
      "cell_type": "markdown",
      "metadata": {
        "id": "GfYjw2Rq9ew6"
      },
      "source": [
        "**Optimal hyperparameter**"
      ]
    },
    {
      "cell_type": "code",
      "metadata": {
        "id": "78oUxIxNLR5S"
      },
      "source": [
        "def getAcc(y_true,y_hat):\n",
        "  N=len(y_true)\n",
        "  acc=0.0\n",
        "  #y_hat=model.predict(X_digits[1701:1797,:])\n",
        "  #y_true=new_y_digits[1701:1797,:]\n",
        "  for i in range(N):\n",
        "    row = y_true[i] \n",
        "    #print(row)   \n",
        "    for j in range (len(row)):\n",
        "      if y_true[i][j]==y_hat[i][j]:\n",
        "        if y_true[i][j]==1:\n",
        "          acc=acc+1\n",
        "      else:\n",
        "        break\n",
        "  return acc/N"
      ],
      "execution_count": null,
      "outputs": []
    },
    {
      "cell_type": "code",
      "metadata": {
        "id": "yEBZpC9G9pzu",
        "colab": {
          "base_uri": "https://localhost:8080/",
          "height": 334
        },
        "outputId": "78adbfa3-8027-48be-e5a3-165fc15b440a"
      },
      "source": [
        "N,D = X_vehicle.shape\n",
        "reg_coef=[0,1,5]\n",
        "momentum=[0.9,0.95,0.99]\n",
        "learning_rate=[0.005,0.01,0.05,0.1,0.5]\n",
        "batch_size=batch_size=[1,math.ceil(N/4),math.ceil(N/2),N]\n",
        "simple_grid_search_l2(momentum,learning_rate,batch_size,reg_coef,X_vehicle,new_y_vehicle) "
      ],
      "execution_count": null,
      "outputs": [
        {
          "output_type": "error",
          "ename": "KeyboardInterrupt",
          "evalue": "ignored",
          "traceback": [
            "\u001b[0;31m---------------------------------------------------------------------------\u001b[0m",
            "\u001b[0;31mKeyboardInterrupt\u001b[0m                         Traceback (most recent call last)",
            "\u001b[0;32m<ipython-input-21-8e3511f6c6ab>\u001b[0m in \u001b[0;36m<module>\u001b[0;34m()\u001b[0m\n\u001b[1;32m      4\u001b[0m \u001b[0mlearning_rate\u001b[0m\u001b[0;34m=\u001b[0m\u001b[0;34m[\u001b[0m\u001b[0;36m0.005\u001b[0m\u001b[0;34m,\u001b[0m\u001b[0;36m0.01\u001b[0m\u001b[0;34m,\u001b[0m\u001b[0;36m0.05\u001b[0m\u001b[0;34m,\u001b[0m\u001b[0;36m0.1\u001b[0m\u001b[0;34m,\u001b[0m\u001b[0;36m0.5\u001b[0m\u001b[0;34m]\u001b[0m\u001b[0;34m\u001b[0m\u001b[0;34m\u001b[0m\u001b[0m\n\u001b[1;32m      5\u001b[0m \u001b[0mbatch_size\u001b[0m\u001b[0;34m=\u001b[0m\u001b[0mbatch_size\u001b[0m\u001b[0;34m=\u001b[0m\u001b[0;34m[\u001b[0m\u001b[0;36m1\u001b[0m\u001b[0;34m,\u001b[0m\u001b[0mmath\u001b[0m\u001b[0;34m.\u001b[0m\u001b[0mceil\u001b[0m\u001b[0;34m(\u001b[0m\u001b[0mN\u001b[0m\u001b[0;34m/\u001b[0m\u001b[0;36m4\u001b[0m\u001b[0;34m)\u001b[0m\u001b[0;34m,\u001b[0m\u001b[0mmath\u001b[0m\u001b[0;34m.\u001b[0m\u001b[0mceil\u001b[0m\u001b[0;34m(\u001b[0m\u001b[0mN\u001b[0m\u001b[0;34m/\u001b[0m\u001b[0;36m2\u001b[0m\u001b[0;34m)\u001b[0m\u001b[0;34m,\u001b[0m\u001b[0mN\u001b[0m\u001b[0;34m]\u001b[0m\u001b[0;34m\u001b[0m\u001b[0;34m\u001b[0m\u001b[0m\n\u001b[0;32m----> 6\u001b[0;31m \u001b[0msimple_grid_search_l2\u001b[0m\u001b[0;34m(\u001b[0m\u001b[0mmomentum\u001b[0m\u001b[0;34m,\u001b[0m\u001b[0mlearning_rate\u001b[0m\u001b[0;34m,\u001b[0m\u001b[0mbatch_size\u001b[0m\u001b[0;34m,\u001b[0m\u001b[0mreg_coef\u001b[0m\u001b[0;34m,\u001b[0m\u001b[0mX_vehicle\u001b[0m\u001b[0;34m,\u001b[0m\u001b[0mnew_y_vehicle\u001b[0m\u001b[0;34m)\u001b[0m\u001b[0;34m\u001b[0m\u001b[0;34m\u001b[0m\u001b[0m\n\u001b[0m",
            "\u001b[0;32m<ipython-input-14-891702237880>\u001b[0m in \u001b[0;36msimple_grid_search_l2\u001b[0;34m(momentum, learning_rate, batch_size, reg_coef, X, y)\u001b[0m\n\u001b[1;32m     13\u001b[0m                   \u001b[0moptimizer\u001b[0m\u001b[0;34m=\u001b[0m \u001b[0mGradientDescentwithMomentum\u001b[0m\u001b[0;34m(\u001b[0m\u001b[0mmomentum\u001b[0m\u001b[0;34m=\u001b[0m\u001b[0mm\u001b[0m\u001b[0;34m,\u001b[0m\u001b[0mbatch_size\u001b[0m \u001b[0;34m=\u001b[0m \u001b[0mb\u001b[0m\u001b[0;34m,\u001b[0m\u001b[0mlearning_rate\u001b[0m\u001b[0;34m=\u001b[0m\u001b[0ml\u001b[0m\u001b[0;34m,\u001b[0m \u001b[0mmax_iters\u001b[0m\u001b[0;34m=\u001b[0m\u001b[0;36m200\u001b[0m\u001b[0;34m,\u001b[0m \u001b[0mrecord_history\u001b[0m\u001b[0;34m=\u001b[0m\u001b[0;32mTrue\u001b[0m\u001b[0;34m)\u001b[0m\u001b[0;34m\u001b[0m\u001b[0;34m\u001b[0m\u001b[0m\n\u001b[1;32m     14\u001b[0m                   \u001b[0mmodel\u001b[0m \u001b[0;34m=\u001b[0m \u001b[0mMultiClassLogisticRegression_l2\u001b[0m\u001b[0;34m(\u001b[0m\u001b[0ml2_reg\u001b[0m\u001b[0;34m=\u001b[0m\u001b[0mj\u001b[0m\u001b[0;34m)\u001b[0m \u001b[0;31m#這裡是唯一改的地方\u001b[0m\u001b[0;34m\u001b[0m\u001b[0;34m\u001b[0m\u001b[0m\n\u001b[0;32m---> 15\u001b[0;31m                   \u001b[0mmodel\u001b[0m\u001b[0;34m.\u001b[0m\u001b[0mfit\u001b[0m\u001b[0;34m(\u001b[0m\u001b[0mX_train\u001b[0m\u001b[0;34m[\u001b[0m\u001b[0mtrial\u001b[0m\u001b[0;34m]\u001b[0m\u001b[0;34m,\u001b[0m\u001b[0my_train\u001b[0m\u001b[0;34m[\u001b[0m\u001b[0mtrial\u001b[0m\u001b[0;34m]\u001b[0m\u001b[0;34m,\u001b[0m\u001b[0moptimizer\u001b[0m\u001b[0;34m)\u001b[0m\u001b[0;34m\u001b[0m\u001b[0;34m\u001b[0m\u001b[0m\n\u001b[0m\u001b[1;32m     16\u001b[0m                   \u001b[0my_hat\u001b[0m\u001b[0;34m=\u001b[0m\u001b[0mmodel\u001b[0m\u001b[0;34m.\u001b[0m\u001b[0mpredict\u001b[0m\u001b[0;34m(\u001b[0m\u001b[0mX_test\u001b[0m\u001b[0;34m[\u001b[0m\u001b[0mtrial\u001b[0m\u001b[0;34m]\u001b[0m\u001b[0;34m)\u001b[0m\u001b[0;34m\u001b[0m\u001b[0;34m\u001b[0m\u001b[0m\n\u001b[1;32m     17\u001b[0m                   \u001b[0maccuracy\u001b[0m \u001b[0;34m=\u001b[0m \u001b[0maccuracy\u001b[0m\u001b[0;34m+\u001b[0m \u001b[0mgetAcc\u001b[0m\u001b[0;34m(\u001b[0m\u001b[0my_hat\u001b[0m\u001b[0;34m,\u001b[0m \u001b[0my_test\u001b[0m\u001b[0;34m[\u001b[0m\u001b[0mtrial\u001b[0m\u001b[0;34m]\u001b[0m\u001b[0;34m)\u001b[0m\u001b[0;34m\u001b[0m\u001b[0;34m\u001b[0m\u001b[0m\n",
            "\u001b[0;32m<ipython-input-12-68b5779b77fa>\u001b[0m in \u001b[0;36mfit\u001b[0;34m(self, x, y, optimzer)\u001b[0m\n\u001b[1;32m     23\u001b[0m \u001b[0;34m\u001b[0m\u001b[0m\n\u001b[1;32m     24\u001b[0m         \u001b[0mw0\u001b[0m \u001b[0;34m=\u001b[0m \u001b[0mnp\u001b[0m\u001b[0;34m.\u001b[0m\u001b[0mzeros\u001b[0m\u001b[0;34m(\u001b[0m\u001b[0;34m(\u001b[0m\u001b[0mD\u001b[0m\u001b[0;34m,\u001b[0m \u001b[0mC\u001b[0m\u001b[0;34m)\u001b[0m\u001b[0;34m)\u001b[0m\u001b[0;34m\u001b[0m\u001b[0;34m\u001b[0m\u001b[0m\n\u001b[0;32m---> 25\u001b[0;31m         \u001b[0mself\u001b[0m\u001b[0;34m.\u001b[0m\u001b[0mw\u001b[0m \u001b[0;34m=\u001b[0m \u001b[0moptimzer\u001b[0m\u001b[0;34m.\u001b[0m\u001b[0mrun\u001b[0m\u001b[0;34m(\u001b[0m\u001b[0mgradient\u001b[0m\u001b[0;34m,\u001b[0m \u001b[0mx\u001b[0m\u001b[0;34m,\u001b[0m \u001b[0my\u001b[0m\u001b[0;34m,\u001b[0m \u001b[0mw0\u001b[0m\u001b[0;34m)\u001b[0m\u001b[0;34m\u001b[0m\u001b[0;34m\u001b[0m\u001b[0m\n\u001b[0m\u001b[1;32m     26\u001b[0m         \u001b[0;32mreturn\u001b[0m \u001b[0mself\u001b[0m\u001b[0;34m\u001b[0m\u001b[0;34m\u001b[0m\u001b[0m\n\u001b[1;32m     27\u001b[0m \u001b[0;34m\u001b[0m\u001b[0m\n",
            "\u001b[0;32m<ipython-input-18-8e670f8fa92b>\u001b[0m in \u001b[0;36mrun\u001b[0;34m(self, gradient_fn, x, y, w)\u001b[0m\n\u001b[1;32m     48\u001b[0m             \u001b[0;31m# if it is small enough, we can stop the loop\u001b[0m\u001b[0;34m\u001b[0m\u001b[0;34m\u001b[0m\u001b[0;34m\u001b[0m\u001b[0m\n\u001b[1;32m     49\u001b[0m             \u001b[0;31m# the output grad is D by C\u001b[0m\u001b[0;34m\u001b[0m\u001b[0;34m\u001b[0m\u001b[0;34m\u001b[0m\u001b[0m\n\u001b[0;32m---> 50\u001b[0;31m             \u001b[0mgrad\u001b[0m \u001b[0;34m=\u001b[0m \u001b[0mminibatch\u001b[0m\u001b[0;34m(\u001b[0m\u001b[0mself\u001b[0m\u001b[0;34m.\u001b[0m\u001b[0mbatch_size\u001b[0m\u001b[0;34m,\u001b[0m\u001b[0mgradient_fn\u001b[0m\u001b[0;34m,\u001b[0m \u001b[0mx\u001b[0m\u001b[0;34m,\u001b[0m \u001b[0my\u001b[0m\u001b[0;34m,\u001b[0m \u001b[0mw\u001b[0m\u001b[0;34m)\u001b[0m\u001b[0;34m\u001b[0m\u001b[0;34m\u001b[0m\u001b[0m\n\u001b[0m\u001b[1;32m     51\u001b[0m \u001b[0;34m\u001b[0m\u001b[0m\n\u001b[1;32m     52\u001b[0m             \u001b[0mdelta_w\u001b[0m \u001b[0;34m=\u001b[0m \u001b[0mself\u001b[0m\u001b[0;34m.\u001b[0m\u001b[0mmomentum\u001b[0m\u001b[0;34m*\u001b[0m\u001b[0mdelta_w\u001b[0m\u001b[0;34m+\u001b[0m \u001b[0;34m(\u001b[0m\u001b[0;36m1\u001b[0m\u001b[0;34m-\u001b[0m\u001b[0mself\u001b[0m\u001b[0;34m.\u001b[0m\u001b[0mmomentum\u001b[0m\u001b[0;34m)\u001b[0m\u001b[0;34m*\u001b[0m\u001b[0mgrad\u001b[0m\u001b[0;34m\u001b[0m\u001b[0;34m\u001b[0m\u001b[0m\n",
            "\u001b[0;32m<ipython-input-17-f6551639c120>\u001b[0m in \u001b[0;36mminibatch\u001b[0;34m(batch_size, gradient_fn, x, y, w)\u001b[0m\n\u001b[1;32m     15\u001b[0m             \u001b[0my_batch\u001b[0m \u001b[0;34m=\u001b[0m \u001b[0my\u001b[0m\u001b[0;34m[\u001b[0m\u001b[0ml_index\u001b[0m\u001b[0;34m:\u001b[0m\u001b[0mr_index\u001b[0m\u001b[0;34m]\u001b[0m\u001b[0;34m\u001b[0m\u001b[0;34m\u001b[0m\u001b[0m\n\u001b[1;32m     16\u001b[0m             \u001b[0;31m# return grad is D by C matrix\u001b[0m\u001b[0;34m\u001b[0m\u001b[0;34m\u001b[0m\u001b[0;34m\u001b[0m\u001b[0m\n\u001b[0;32m---> 17\u001b[0;31m             \u001b[0mgrad\u001b[0m\u001b[0;34m=\u001b[0m\u001b[0mgrad\u001b[0m\u001b[0;34m+\u001b[0m\u001b[0mgradient_fn\u001b[0m\u001b[0;34m(\u001b[0m\u001b[0mx_batch\u001b[0m\u001b[0;34m,\u001b[0m \u001b[0my_batch\u001b[0m\u001b[0;34m,\u001b[0m \u001b[0mw\u001b[0m\u001b[0;34m)\u001b[0m\u001b[0;34m\u001b[0m\u001b[0;34m\u001b[0m\u001b[0m\n\u001b[0m\u001b[1;32m     18\u001b[0m \u001b[0;34m\u001b[0m\u001b[0m\n\u001b[1;32m     19\u001b[0m         \u001b[0;32mreturn\u001b[0m \u001b[0mgrad\u001b[0m\u001b[0;34m\u001b[0m\u001b[0;34m\u001b[0m\u001b[0m\n",
            "\u001b[0;32m<ipython-input-12-68b5779b77fa>\u001b[0m in \u001b[0;36mgradient\u001b[0;34m(x, y, w)\u001b[0m\n\u001b[1;32m     17\u001b[0m \u001b[0;34m\u001b[0m\u001b[0m\n\u001b[1;32m     18\u001b[0m         \u001b[0;32mdef\u001b[0m \u001b[0mgradient\u001b[0m\u001b[0;34m(\u001b[0m\u001b[0mx\u001b[0m\u001b[0;34m,\u001b[0m \u001b[0my\u001b[0m\u001b[0;34m,\u001b[0m \u001b[0mw\u001b[0m\u001b[0;34m)\u001b[0m\u001b[0;34m:\u001b[0m\u001b[0;34m\u001b[0m\u001b[0;34m\u001b[0m\u001b[0m\n\u001b[0;32m---> 19\u001b[0;31m           \u001b[0myh\u001b[0m \u001b[0;34m=\u001b[0m \u001b[0msoftmax_fn\u001b[0m\u001b[0;34m(\u001b[0m\u001b[0mx\u001b[0m\u001b[0;34m,\u001b[0m \u001b[0mw\u001b[0m\u001b[0;34m)\u001b[0m\u001b[0;34m\u001b[0m\u001b[0;34m\u001b[0m\u001b[0m\n\u001b[0m\u001b[1;32m     20\u001b[0m           \u001b[0mdW\u001b[0m \u001b[0;34m=\u001b[0m \u001b[0mnp\u001b[0m\u001b[0;34m.\u001b[0m\u001b[0mdot\u001b[0m\u001b[0;34m(\u001b[0m\u001b[0mx\u001b[0m\u001b[0;34m.\u001b[0m\u001b[0mT\u001b[0m\u001b[0;34m,\u001b[0m \u001b[0myh\u001b[0m \u001b[0;34m-\u001b[0m \u001b[0my\u001b[0m\u001b[0;34m)\u001b[0m\u001b[0;34m\u001b[0m\u001b[0;34m\u001b[0m\u001b[0m\n\u001b[1;32m     21\u001b[0m           \u001b[0mdW\u001b[0m \u001b[0;34m=\u001b[0m \u001b[0;34m(\u001b[0m\u001b[0mdW\u001b[0m \u001b[0;34m+\u001b[0m \u001b[0mself\u001b[0m\u001b[0;34m.\u001b[0m\u001b[0ml2_reg\u001b[0m\u001b[0;34m*\u001b[0m\u001b[0mw\u001b[0m\u001b[0;34m)\u001b[0m\u001b[0;34m/\u001b[0m\u001b[0mN\u001b[0m\u001b[0;34m\u001b[0m\u001b[0;34m\u001b[0m\u001b[0m\n",
            "\u001b[0;32m<ipython-input-20-38f939833f99>\u001b[0m in \u001b[0;36msoftmax_fn\u001b[0;34m(x, w)\u001b[0m\n\u001b[1;32m      1\u001b[0m \u001b[0;32mdef\u001b[0m \u001b[0msoftmax_fn\u001b[0m\u001b[0;34m(\u001b[0m\u001b[0mx\u001b[0m\u001b[0;34m,\u001b[0m \u001b[0mw\u001b[0m\u001b[0;34m)\u001b[0m\u001b[0;34m:\u001b[0m\u001b[0;34m\u001b[0m\u001b[0;34m\u001b[0m\u001b[0m\n\u001b[0;32m----> 2\u001b[0;31m   \u001b[0mz\u001b[0m \u001b[0;34m=\u001b[0m \u001b[0mx\u001b[0m\u001b[0;34m@\u001b[0m\u001b[0mw\u001b[0m\u001b[0;34m\u001b[0m\u001b[0;34m\u001b[0m\u001b[0m\n\u001b[0m\u001b[1;32m      3\u001b[0m   \u001b[0mz\u001b[0m \u001b[0;34m=\u001b[0m \u001b[0mz\u001b[0m \u001b[0;34m-\u001b[0m \u001b[0mnp\u001b[0m\u001b[0;34m.\u001b[0m\u001b[0mmax\u001b[0m\u001b[0;34m(\u001b[0m\u001b[0mz\u001b[0m\u001b[0;34m,\u001b[0m \u001b[0maxis\u001b[0m \u001b[0;34m=\u001b[0m \u001b[0;36m1\u001b[0m\u001b[0;34m,\u001b[0m \u001b[0mkeepdims\u001b[0m\u001b[0;34m=\u001b[0m\u001b[0;32mTrue\u001b[0m\u001b[0;34m)\u001b[0m\u001b[0;34m\u001b[0m\u001b[0;34m\u001b[0m\u001b[0m\n\u001b[1;32m      4\u001b[0m   \u001b[0msoftmax\u001b[0m \u001b[0;34m=\u001b[0m \u001b[0mnp\u001b[0m\u001b[0;34m.\u001b[0m\u001b[0mexp\u001b[0m\u001b[0;34m(\u001b[0m\u001b[0mz\u001b[0m\u001b[0;34m)\u001b[0m\u001b[0;34m/\u001b[0m\u001b[0mnp\u001b[0m\u001b[0;34m.\u001b[0m\u001b[0msum\u001b[0m\u001b[0;34m(\u001b[0m\u001b[0mnp\u001b[0m\u001b[0;34m.\u001b[0m\u001b[0mexp\u001b[0m\u001b[0;34m(\u001b[0m\u001b[0mz\u001b[0m\u001b[0;34m)\u001b[0m\u001b[0;34m,\u001b[0m \u001b[0maxis\u001b[0m \u001b[0;34m=\u001b[0m \u001b[0;36m1\u001b[0m\u001b[0;34m,\u001b[0m \u001b[0mkeepdims\u001b[0m\u001b[0;34m=\u001b[0m \u001b[0;32mTrue\u001b[0m\u001b[0;34m)\u001b[0m\u001b[0;34m\u001b[0m\u001b[0;34m\u001b[0m\u001b[0m\n\u001b[1;32m      5\u001b[0m   \u001b[0;31m# 加上这个我觉得更准确一些\u001b[0m\u001b[0;34m\u001b[0m\u001b[0;34m\u001b[0m\u001b[0;34m\u001b[0m\u001b[0m\n",
            "\u001b[0;31mKeyboardInterrupt\u001b[0m: "
          ]
        }
      ]
    },
    {
      "cell_type": "code",
      "metadata": {
        "id": "AM_NYPmtS8dO"
      },
      "source": [
        "best_parameter={'momentum': 0.99, 'learning_rate': 0.1, 'batch_size': 846, 'lambda': 1}\n",
        "momentum = best_parameter['momentum']\n",
        "learning_rate=best_parameter['learning_rate']\n",
        "batch_size=best_parameter['batch_size']\n",
        "lambda0 = best_parameter['lambda']"
      ],
      "execution_count": null,
      "outputs": []
    },
    {
      "cell_type": "code",
      "metadata": {
        "id": "Lr_oKTWATaYN",
        "colab": {
          "base_uri": "https://localhost:8080/"
        },
        "outputId": "abbd575c-fb87-4149-c15e-c817aef43124"
      },
      "source": [
        "X_test,X_train,y_test,y_train = cross_validation(5,X_vehicle,new_y_vehicle)\n",
        "acc=[]\n",
        "for trial in range(5):\n",
        "        \n",
        "        optimizer= GradientDescentwithMomentum(momentum=momentum,batch_size = batch_size,learning_rate=learning_rate, max_iters=200, record_history=True)\n",
        "        model = MultiClassLogisticRegression_l2(l2_reg=lambda0)\n",
        "        model.fit(X_train[trial],y_train[trial],optimizer)\n",
        "        y_hat=model.predict(X_test[trial])\n",
        "       \n",
        "        print(\"trial:\",trial,\"accuracy\",getAcc(y_hat, y_test[trial]))\n",
        "        acc.append(getAcc(y_hat, y_test[trial]))\n",
        "mean=sum(acc)/5\n",
        "std=0.0\n",
        "for i in acc:\n",
        "  std=std+(i-mean)*(i-mean)\n",
        "std=math.sqrt(std/5)\n",
        "\n",
        "\n",
        "print(\"The mean accuracy of 5-fold CV:\",mean,\"  std:\",std)"
      ],
      "execution_count": null,
      "outputs": [
        {
          "output_type": "stream",
          "text": [
            "trial: 0 accuracy 0.32941176470588235\n",
            "trial: 1 accuracy 0.34705882352941175\n",
            "trial: 2 accuracy 0.4470588235294118\n",
            "trial: 3 accuracy 0.25882352941176473\n",
            "trial: 4 accuracy 0.31176470588235294\n",
            "The mean accuracy of 5-fold CV: 0.3388235294117647   std: 0.06164975297211248\n"
          ],
          "name": "stdout"
        }
      ]
    },
    {
      "cell_type": "code",
      "metadata": {
        "id": "g2Un8b3Zo_9C"
      },
      "source": [
        "X_test,X_train,y_test,y_train = cross_validation(3,X_vehicle,new_y_vehicle)\n",
        "termination(momentum,learning_rate,batch_size,X_train[0],X_test[0],y_test[0],y_train[0])"
      ],
      "execution_count": null,
      "outputs": []
    },
    {
      "cell_type": "code",
      "metadata": {
        "id": "sFESvu0zVo-s"
      },
      "source": [
        "X_test,X_train,y_test,y_train = cross_validation(3,X_vehicle,new_y_vehicle)\n",
        "termination_l2(momentum,learning_rate,batch_size,lambda0,X_train[0],X_test[0],y_test[0],y_train[0])"
      ],
      "execution_count": null,
      "outputs": []
    },
    {
      "cell_type": "code",
      "metadata": {
        "id": "O9lyVrB5YX5T"
      },
      "source": [
        "# new termination\n",
        "X_test,X_train,y_test,y_train = cross_validation(3,X_vehicle,new_y_vehicle)\n",
        "new_termination_l2(0.975,0.005,100,5,X_train[0],X_test[0],y_test[0],y_train[0],5)"
      ],
      "execution_count": null,
      "outputs": []
    },
    {
      "cell_type": "markdown",
      "metadata": {
        "id": "JHcC1-04o6wA"
      },
      "source": [
        "## **4.4 Confusion Matrix**"
      ]
    },
    {
      "cell_type": "code",
      "metadata": {
        "id": "cQBG6TzNDvzM"
      },
      "source": [
        "import numpy as np\n",
        "from sklearn.metrics import multilabel_confusion_matrix\n",
        "from sklearn.model_selection import train_test_split"
      ],
      "execution_count": null,
      "outputs": []
    },
    {
      "cell_type": "markdown",
      "metadata": {
        "id": "971mNx5aEhM-"
      },
      "source": [
        "### **4.4.1 Digits Dataset**\n"
      ]
    },
    {
      "cell_type": "code",
      "metadata": {
        "id": "EWA0DeHAEgVN",
        "colab": {
          "base_uri": "https://localhost:8080/",
          "height": 228
        },
        "outputId": "42e9d048-8c12-4656-ea3f-fc2a7ae3c990"
      },
      "source": [
        "X_train_digits, X_test_digits, y_train_digits, y_test_digits = train_test_split(X_digits, new_y_digits, test_size=0.40)\n",
        "optimizer = GradientDescentwithMomentum(momentum=0.975 ,batch_size = 899,learning_rate=0.005, max_iters=200, record_history=True)\n",
        "model = MultiClassLogisticRegression()\n",
        "model.fit(X_train_digits,y_train_digits,optimizer)\n",
        "y_pred_digits = model.predict(X_test_digits)\n",
        "multilabel_confusion_matrix(y_test_digits, y_pred_digits)"
      ],
      "execution_count": null,
      "outputs": [
        {
          "output_type": "error",
          "ename": "NameError",
          "evalue": "ignored",
          "traceback": [
            "\u001b[0;31m---------------------------------------------------------------------------\u001b[0m",
            "\u001b[0;31mNameError\u001b[0m                                 Traceback (most recent call last)",
            "\u001b[0;32m<ipython-input-32-c2cbed05023d>\u001b[0m in \u001b[0;36m<module>\u001b[0;34m()\u001b[0m\n\u001b[0;32m----> 1\u001b[0;31m \u001b[0mX_train_digits\u001b[0m\u001b[0;34m,\u001b[0m \u001b[0mX_test_digits\u001b[0m\u001b[0;34m,\u001b[0m \u001b[0my_train_digits\u001b[0m\u001b[0;34m,\u001b[0m \u001b[0my_test_digits\u001b[0m \u001b[0;34m=\u001b[0m \u001b[0mtrain_test_split\u001b[0m\u001b[0;34m(\u001b[0m\u001b[0mX_digits\u001b[0m\u001b[0;34m,\u001b[0m \u001b[0mnew_y_digits\u001b[0m\u001b[0;34m,\u001b[0m \u001b[0mtest_size\u001b[0m\u001b[0;34m=\u001b[0m\u001b[0;36m0.40\u001b[0m\u001b[0;34m)\u001b[0m\u001b[0;34m\u001b[0m\u001b[0;34m\u001b[0m\u001b[0m\n\u001b[0m\u001b[1;32m      2\u001b[0m \u001b[0moptimizer\u001b[0m \u001b[0;34m=\u001b[0m \u001b[0mGradientDescentwithMomentum\u001b[0m\u001b[0;34m(\u001b[0m\u001b[0mmomentum\u001b[0m\u001b[0;34m=\u001b[0m\u001b[0;36m0.975\u001b[0m \u001b[0;34m,\u001b[0m\u001b[0mbatch_size\u001b[0m \u001b[0;34m=\u001b[0m \u001b[0;36m899\u001b[0m\u001b[0;34m,\u001b[0m\u001b[0mlearning_rate\u001b[0m\u001b[0;34m=\u001b[0m\u001b[0;36m0.005\u001b[0m\u001b[0;34m,\u001b[0m \u001b[0mmax_iters\u001b[0m\u001b[0;34m=\u001b[0m\u001b[0;36m200\u001b[0m\u001b[0;34m,\u001b[0m \u001b[0mrecord_history\u001b[0m\u001b[0;34m=\u001b[0m\u001b[0;32mTrue\u001b[0m\u001b[0;34m)\u001b[0m\u001b[0;34m\u001b[0m\u001b[0;34m\u001b[0m\u001b[0m\n\u001b[1;32m      3\u001b[0m \u001b[0mmodel\u001b[0m \u001b[0;34m=\u001b[0m \u001b[0mMultiClassLogisticRegression\u001b[0m\u001b[0;34m(\u001b[0m\u001b[0;34m)\u001b[0m\u001b[0;34m\u001b[0m\u001b[0;34m\u001b[0m\u001b[0m\n\u001b[1;32m      4\u001b[0m \u001b[0mmodel\u001b[0m\u001b[0;34m.\u001b[0m\u001b[0mfit\u001b[0m\u001b[0;34m(\u001b[0m\u001b[0mX_train_digits\u001b[0m\u001b[0;34m,\u001b[0m\u001b[0my_train_digits\u001b[0m\u001b[0;34m,\u001b[0m\u001b[0moptimizer\u001b[0m\u001b[0;34m)\u001b[0m\u001b[0;34m\u001b[0m\u001b[0;34m\u001b[0m\u001b[0m\n\u001b[1;32m      5\u001b[0m \u001b[0my_pred_digits\u001b[0m \u001b[0;34m=\u001b[0m \u001b[0mmodel\u001b[0m\u001b[0;34m.\u001b[0m\u001b[0mpredict\u001b[0m\u001b[0;34m(\u001b[0m\u001b[0mX_test_digits\u001b[0m\u001b[0;34m)\u001b[0m\u001b[0;34m\u001b[0m\u001b[0;34m\u001b[0m\u001b[0m\n",
            "\u001b[0;31mNameError\u001b[0m: name 'train_test_split' is not defined"
          ]
        }
      ]
    },
    {
      "cell_type": "code",
      "metadata": {
        "id": "3CRMEbBCESN4"
      },
      "source": [
        "X_train_digits, X_test_digits, y_train_digits2, y_test_digits2 = train_test_split(X_digits, y_digits, test_size=0.40)\n",
        "knn_digits = KNeighborsClassifier(n_neighbors = 9,leaf_size=5)\n",
        "knn_digits.fit(X_train_digits,y_train_digits2.ravel())\n",
        "y_digits_knn=knn_digits.predict(X_test_digits)\n",
        "multilabel_confusion_matrix(y_test_digits2, y_digits_knn)"
      ],
      "execution_count": null,
      "outputs": []
    },
    {
      "cell_type": "code",
      "metadata": {
        "id": "NKiPOKbBK1eo"
      },
      "source": [
        "dt_digits = DecisionTreeRegressor(max_depth=20, min_samples_leaf=10, max_leaf_nodes=100)\n",
        "dt_digits.fit(X_train_digits,y_train_digits2)\n",
        "y_digits_df=dt_digits.predict(X_test_digits)\n",
        "multilabel_confusion_matrix(y_test_digits2, y_digits_dt)"
      ],
      "execution_count": null,
      "outputs": []
    },
    {
      "cell_type": "code",
      "metadata": {
        "id": "-k4dMs3aEUnW"
      },
      "source": [
        "optimizer_digits_l2 = GradientDescentwithMomentum(momentum=0.95,batch_size = 100,learning_rate=0.005, max_iters=200, record_history=True)\n",
        "model_digits_l2 = MultiClassLogisticRegression_l2(l2_reg = 10)\n",
        "model_digits_l2.fit(X_train_digits,y_train_digits,optimizer_digits_l2)\n",
        "y_pred_digits_l2 = model.predict(X_test_digits)\n",
        "multilabel_confusion_matrix(y_test_digits, y_pred_digits_l2)"
      ],
      "execution_count": null,
      "outputs": []
    },
    {
      "cell_type": "markdown",
      "metadata": {
        "id": "UflT0WIIEqIT"
      },
      "source": [
        "### **4.4.2 Iris Dataset**\n"
      ]
    },
    {
      "cell_type": "code",
      "metadata": {
        "id": "26W5n25REZPg"
      },
      "source": [
        "X_train_iris, X_test_iris, y_train_iris, y_test_iris = train_test_split(X_iris, new_y_iris, test_size=0.40)\n",
        "optimizer = GradientDescentwithMomentum(momentum=0.9 ,batch_size = 19,learning_rate=0.005, max_iters=200, record_history=True) #fox this\n",
        "model = MultiClassLogisticRegression()\n",
        "model.fit(X_train_iris,y_train_iris,optimizer)\n",
        "y_pred_iris = model.predict(X_test_iris)\n",
        "multilabel_confusion_matrix(y_test_iris, y_pred_iris)"
      ],
      "execution_count": null,
      "outputs": []
    },
    {
      "cell_type": "code",
      "metadata": {
        "id": "lbXWELL2kzUz"
      },
      "source": [
        "X_train_iris, X_test_iris, y_train_iris2, y_test_iris2 = train_test_split(X_iris, y_iris, test_size=0.40)\n",
        "knn_iris = KNeighborsClassifier(n_neighbors = 2,leaf_size=5)\n",
        "knn_iris.fit(X_train_iris,y_train_iris.ravel())\n",
        "y_iris_knn=knn_iris.predict(X_test_iris)\n",
        "multilabel_confusion_matrix(y_test_iris2, y_iris_knn)"
      ],
      "execution_count": null,
      "outputs": []
    },
    {
      "cell_type": "code",
      "metadata": {
        "id": "PIXBQLR3it_u"
      },
      "source": [
        "dt_iris = DecisionTreeRegressor(max_depth=5, min_samples_leaf=10, max_leaf_nodes=250) #fix this\n",
        "dt_iris.fit(X_train_iris,y_train_iris)\n",
        "y_iris_df=dt_iris.predict(X_test_iris)\n",
        "multilabel_confusion_matrix(y_test_iris, y_iris_dt)"
      ],
      "execution_count": null,
      "outputs": []
    },
    {
      "cell_type": "code",
      "metadata": {
        "id": "LWchQ_WXK8qA"
      },
      "source": [
        "optimizer_iris_l2 = GradientDescentwithMomentum(momentum=0.9 ,batch_size = 38,learning_rate=0.005, max_iters=200, record_history=True) #fix this\n",
        "model_iris_l2 = MultiClassLogisticRegression_l2(l2_reg = 1)\n",
        "model_iris_l2.fit(X_train_iris,y_train_iris,optimizer_iris_l2)\n",
        "y_pred_iris_l2 = model.predict(X_test_iris)\n",
        "multilabel_confusion_matrix(y_test_iris, y_pred_iris_l2)"
      ],
      "execution_count": null,
      "outputs": []
    },
    {
      "cell_type": "markdown",
      "metadata": {
        "id": "8IOODw63Se1n"
      },
      "source": [
        "### **4.4.3 Vehicle Dataset**"
      ]
    },
    {
      "cell_type": "code",
      "metadata": {
        "id": "w8ZrJEhRSknb"
      },
      "source": [
        "X_train_vehicle, X_test_vehicle, y_train_vehicle, y_test_vehicle = train_test_split(X_vehicle, new_y_vehicle, test_size=0.40)\n",
        "optimizer = GradientDescentwithMomentum(momentum=0.95 ,batch_size = 423,learning_rate=0.005, max_iters=200, record_history=True)\n",
        "model = MultiClassLogisticRegression()\n",
        "model.fit(X_train_vehicle,y_train_vehicle,optimizer)\n",
        "y_pred_vehicle = model.predict(X_test_vehicle)\n",
        "multilabel_confusion_matrix(y_test_vehicle, y_pred_vehicle)"
      ],
      "execution_count": null,
      "outputs": []
    },
    {
      "cell_type": "code",
      "metadata": {
        "id": "dt6hFjpSTiIq"
      },
      "source": [
        "X_train_vehicle, X_test_vehicle, y_train_vehicle2, y_test_vehicle2 = train_test_split(X_vehicle, y_vehicle, test_size=0.40)\n",
        "knn_vehicle = KNeighborsClassifier(n_neighbors = 4,leaf_size=100)\n",
        "knn_vehicle.fit(X_train_vehicle,y_train_vehicle2.ravel())\n",
        "y_vehicle_knn=knn_vehicle.predict(X_test_vehicle)\n",
        "multilabel_confusion_matrix(y_test_vehicle2, y_vehicle_knn)"
      ],
      "execution_count": null,
      "outputs": []
    },
    {
      "cell_type": "code",
      "metadata": {
        "id": "9esuRs6xTj7Q"
      },
      "source": [
        "dt_vehicle = DecisionTreeRegressor(max_depth=5, min_samples_leaf=10, max_leaf_nodes=250) \n",
        "dt_vehicle.fit(X_train_vehicle,y_train_vehicle2)\n",
        "y_vehicle_df=dt_vehicle.predict(X_test_vehicle)\n",
        "multilabel_confusion_matrix(y_test_vehicle2, y_vehicle_dt)"
      ],
      "execution_count": null,
      "outputs": []
    },
    {
      "cell_type": "code",
      "metadata": {
        "id": "5Gsp4fY_TqZ1"
      },
      "source": [
        "optimizer_vehicle_l2 = GradientDescentwithMomentum(momentum=0.99 ,batch_size = 846,learning_rate=0.001, max_iters=200, record_history=True)\n",
        "model_vehicle_l2 = MultiClassLogisticRegression_l2(l2_reg = 1) \n",
        "model_vehicle_l2.fit(X_train_vehicle,y_train_vehicle,optimizer_vehicle_l2)\n",
        "y_pred_vehicle_l2 = model.predict(X_test_vehicle)\n",
        "multilabel_confusion_matrix(y_test_vehicle, y_pred_vehicle_l2)"
      ],
      "execution_count": null,
      "outputs": []
    }
  ]
}