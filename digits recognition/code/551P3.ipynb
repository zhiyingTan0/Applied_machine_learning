{
  "nbformat": 4,
  "nbformat_minor": 0,
  "metadata": {
    "colab": {
      "name": "551P3.ipynb",
      "provenance": [],
      "collapsed_sections": [
        "khGp6AFzOjqY",
        "sPEm0bi5Fo4h"
      ],
      "toc_visible": true
    },
    "kernelspec": {
      "name": "python3",
      "display_name": "Python 3"
    },
    "accelerator": "GPU"
  },
  "cells": [
    {
      "cell_type": "markdown",
      "metadata": {
        "id": "6SBdUmoKMFdz"
      },
      "source": [
        "# **1. Data Preprocessing**"
      ]
    },
    {
      "cell_type": "markdown",
      "metadata": {
        "id": "zIec_FpvMMbi"
      },
      "source": [
        "## **1.1 Import Data**"
      ]
    },
    {
      "cell_type": "code",
      "metadata": {
        "id": "o5NzOKu6HwQp"
      },
      "source": [
        "import pandas as pd\n",
        "import json\n",
        "import requests\n",
        "import io\n",
        "import h5py\n",
        "\n",
        "import torch\n",
        "import torch.nn as nn\n",
        "import torch.nn.functional as F\n",
        "import torch.optim as optim\n",
        "from torchvision import datasets, transforms\n",
        "from google.colab.patches import cv2_imshow\n",
        "\n"
      ],
      "execution_count": null,
      "outputs": []
    },
    {
      "cell_type": "code",
      "metadata": {
        "id": "NwxYz-cbLDcS"
      },
      "source": [
        "#! pip install pydrive\n",
        "# these classes allow you to request the Google drive API\n",
        "from pydrive.auth import GoogleAuth\n",
        "from pydrive.drive import GoogleDrive \n",
        "from google.colab import auth \n",
        "from oauth2client.client import GoogleCredentials\n",
        "\n",
        "# 1. Authenticate and create the PyDrive client.\n",
        "auth.authenticate_user()\n",
        "gauth = GoogleAuth()\n",
        "gauth.credentials = GoogleCredentials.get_application_default()\n",
        "drive = GoogleDrive(gauth)\n",
        "file_id = '1LcKqf1d7bctw5lx0YZf31kCUF0zEYOsi'\n",
        "downloaded = drive.CreateFile({'id': file_id})\n",
        "\n",
        "downloaded.GetContentFile('MNIST_synthetic.zip')"
      ],
      "execution_count": null,
      "outputs": []
    },
    {
      "cell_type": "code",
      "metadata": {
        "colab": {
          "base_uri": "https://localhost:8080/"
        },
        "id": "NvC8qpuXLAFg",
        "outputId": "275b7588-7f1d-43a5-b1d2-dbeab243e424"
      },
      "source": [
        "from zipfile import ZipFile\n",
        "file_name = \"MNIST_synthetic.zip\"\n",
        "  \n",
        "# opening the zip file in READ mode \n",
        "with ZipFile(file_name, 'r') as zip: \n",
        "    # printing all the contents of the zip file \n",
        "    zip.printdir() \n",
        "  \n",
        "    # extracting all the files \n",
        "    print('Extracting all the files now...') \n",
        "    zip.extractall() \n",
        "    print('Done!') \n",
        "dataset = h5py.File('MNIST_synthetic.h5', 'r')"
      ],
      "execution_count": null,
      "outputs": [
        {
          "output_type": "stream",
          "text": [
            "File Name                                             Modified             Size\n",
            "MNIST_synthetic.h5                             2020-11-21 00:57:46    287842048\n",
            "Extracting all the files now...\n",
            "Done!\n"
          ],
          "name": "stdout"
        }
      ]
    },
    {
      "cell_type": "code",
      "metadata": {
        "colab": {
          "base_uri": "https://localhost:8080/"
        },
        "id": "iqVNcINkYo4D",
        "outputId": "048caccf-8e68-43f6-b103-742ceb112a2e"
      },
      "source": [
        "#winnie\n",
        "print(dataset['test_dataset'].shape)\n",
        "print(dataset['train_dataset'].shape)\n",
        "print(dataset['train_labels'].shape)\n",
        "\n",
        "\n",
        "X_test_0=dataset['test_dataset'].value\n",
        "X_train_0=dataset['train_dataset'].value\n",
        "y_train_0=dataset['train_labels'].value"
      ],
      "execution_count": null,
      "outputs": [
        {
          "output_type": "stream",
          "text": [
            "(14000, 64, 64, 1)\n",
            "(56000, 64, 64, 1)\n",
            "(56000, 5)\n"
          ],
          "name": "stdout"
        },
        {
          "output_type": "stream",
          "text": [
            "/usr/local/lib/python3.6/dist-packages/ipykernel_launcher.py:7: H5pyDeprecationWarning: dataset.value has been deprecated. Use dataset[()] instead.\n",
            "  import sys\n",
            "/usr/local/lib/python3.6/dist-packages/ipykernel_launcher.py:8: H5pyDeprecationWarning: dataset.value has been deprecated. Use dataset[()] instead.\n",
            "  \n",
            "/usr/local/lib/python3.6/dist-packages/ipykernel_launcher.py:9: H5pyDeprecationWarning: dataset.value has been deprecated. Use dataset[()] instead.\n",
            "  if __name__ == '__main__':\n"
          ],
          "name": "stderr"
        }
      ]
    },
    {
      "cell_type": "markdown",
      "metadata": {
        "id": "khGp6AFzOjqY"
      },
      "source": [
        "## **1.2 Data Preprocessing**\n",
        "\n",
        "\n",
        "\n"
      ]
    },
    {
      "cell_type": "markdown",
      "metadata": {
        "id": "gLvQCxU-Tx_I"
      },
      "source": [
        "### **1.2.1 Image Cropping and resize**\n",
        "\n",
        "\n",
        "*  openCV\n",
        "*  Resizee\n",
        "\n"
      ]
    },
    {
      "cell_type": "code",
      "metadata": {
        "id": "njI46crBl9JL"
      },
      "source": [
        "def get_contour(img):\n",
        "  # convert img to openCv object\n",
        "  im2 = np.uint8(img)\n",
        "  threshold_level = 0 # Set threshold\n",
        "  net, thresh = cv2.threshold(im2, threshold_level, 255, cv2.THRESH_BINARY)\n",
        "  # find contours\n",
        "  contours, hierarchy = cv2.findContours(thresh, cv2.RETR_EXTERNAL, cv2.CHAIN_APPROX_SIMPLE)\n",
        "  return contours\n",
        "################################################################################\n",
        "# Function2: order of subgraph\n",
        "def cropped_image(contours,img):\n",
        "  cropped_scale=[]\n",
        "  x1_x2_len=[]\n",
        "  # total number of digits in a graph\n",
        "  for contour_line in contours:\n",
        "    x, y = [], []\n",
        "    for contour in contour_line:\n",
        "      x.append(contour[0][0])\n",
        "      y.append(contour[0][1])\n",
        "\n",
        "    x1, x2, y1, y2 = min(x)-1, max(x)+1, min(y)-1, max(y)+1\n",
        "    if x1 == x2 or y1 ==y2:\n",
        "      continue\n",
        "    elif max(y)-min(y)<=5:\n",
        "      continue\n",
        "\n",
        "    else:\n",
        "      cropped_scale.append([x1,x2,y1,y2])\n",
        "    if len(cropped_scale)>5:\n",
        "      #x1_x2_len=[cropped_scale[i][1]-cropped_scale[i][0]  for i in range(len(cropped_scale))]\n",
        "      #cropped_scale_new= cropped_scale.sort(key=(lambda x: x[0]-x[1]) )\n",
        "      #cropped_scale_new.sort()\n",
        "      cropped_scale.sort(key=(lambda x: x[0]-x[1]) )\n",
        "      cropped_scale=cropped_scale[0:5]\n",
        "\n",
        "\n",
        "  cropped_scale.sort()\n",
        "\n",
        "  return cropped_scale\n",
        "################################################################################\n",
        "# Function 4: image resize\n",
        "def image_resize(img,cropped_scale,w,h):\n",
        "  image=np.zeros((5,w,h))\n",
        "  dim = (w, h)\n",
        "  for i in range(len(cropped_scale)):\n",
        "    x1, x2, y1, y2 = cropped_scale[i][0],cropped_scale[i][1],cropped_scale[i][2],cropped_scale[i][3]\n",
        "    cropped = img[y1:y2, x1:x2]\n",
        "    resize_image = cv2.resize(cropped, dim, interpolation=cv2.INTER_LINEAR)\n",
        "    image[i]=resize_image\n",
        "    cv2_imshow(resize_image)\n",
        "  return image\n",
        "\n",
        "\n"
      ],
      "execution_count": null,
      "outputs": []
    },
    {
      "cell_type": "code",
      "metadata": {
        "id": "xFwVa3WNQYNn"
      },
      "source": [
        "# winnie\n",
        "import cv2 \n",
        "import numpy as np\n",
        "# the first image  \n",
        "img=X_train_0[0]\n",
        "################################################################################\n",
        "# Function1: get image contour\n",
        "\n",
        "def get_signal(img,index):\n",
        "  length=0\n",
        "  signal=-1\n",
        "  for j in img[:,index]:\n",
        "      if j[0]>0:\n",
        "          length=length+1\n",
        "          if length>7:\n",
        "              signal=1\n",
        "              break\n",
        "  return signal\n",
        "\n",
        "\n",
        "def get_contour_new(img):\n",
        "  standard=np.zeros((64,1))\n",
        "  cropped_scale=[]\n",
        "  x1_x2_len=[]\n",
        "  x=[]\n",
        "  ptr=0\n",
        "  acc=0\n",
        "  for i in range(64):\n",
        "    if [False] not in (img[:,i]==standard):\n",
        "      x.append(i)\n",
        "     \n",
        "  for i in range(len(x)-1):\n",
        "    if x[i]+1 != x[i+1]:\n",
        "\n",
        "      if x[i+1]-x[i]==3:\n",
        "        for j in range(2):\n",
        "          if get_signal(img,x[i]+j)==1:\n",
        "            x1,x2,y1,y2=x[i]-1,x[i+1]+1,25,38\n",
        "            cropped_scale.append([x1,x2,y1,y2])\n",
        "            break\n",
        "      if x[i+1]-x[i]==4:\n",
        "        for j in range(3):\n",
        "          if get_signal(img,x[i]+j)==1:\n",
        "            x1,x2,y1,y2=x[i]-1,x[i+1]+1,25,38\n",
        "            cropped_scale.append([x1,x2,y1,y2])\n",
        "            break\n",
        "\n",
        "\n",
        "            \n",
        "      elif x[i+1]-x[i]>3:\n",
        "          x1,x2,y1,y2=x[i]-1,x[i+1]+1,25,38\n",
        "          cropped_scale.append([x1,x2,y1,y2])\n",
        "\n",
        "  if len(cropped_scale)>5:\n",
        "      #x1_x2_len=[cropped_scale[i][1]-cropped_scale[i][0]  for i in range(len(cropped_scale))]\n",
        "      #cropped_scale_new= cropped_scale.sort(key=(lambda x: x[0]-x[1]) )\n",
        "      #cropped_scale_new.sort()\n",
        "      cropped_scale.sort(key=(lambda x: x[0]-x[1]) )\n",
        "      cropped_scale=cropped_scale[0:5]\n",
        "\n",
        "  cropped_scale.sort()\n",
        "  return cropped_scale\n",
        "\n",
        "\n",
        "    \n",
        "\n",
        "\n",
        "\n",
        "\n",
        "################################################################################\n",
        " # Function3: show cropped image\n",
        "def show_cropped_image(img,cropped_scale):\n",
        "  cv2_imshow(img)\n",
        "  for i in range(len(cropped_scale)):\n",
        "    x1, x2, y1, y2 = cropped_scale[i][0],cropped_scale[i][1],cropped_scale[i][2],cropped_scale[i][3]\n",
        "    cropped = img[y1:y2, x1:x2]\n",
        "    # function showing the image\n",
        "    cv2_imshow(cropped)\n",
        "\n",
        "\n",
        "################################################################################\n",
        "# Function 5: new image resize\n",
        "def resize(x1,x2,y1,y2,img,w,h):\n",
        "  \n",
        "  image=np.zeros((0,w))\n",
        "  h0=(h-(y2-y1))\n",
        "  w0=(w-(x2-x1))\n",
        "  #print(h0)\n",
        "  #print(img.shape)\n",
        "  if h0%2!=0:\n",
        "    h_diff=int(float(h0)/2)\n",
        "    a=np.zeros((h_diff,w))\n",
        "    image=np.append(image,np.zeros((h_diff,w)),axis=0)\n",
        "    if w0%2 !=0:\n",
        "      w_diff=int(float(w0)/2)\n",
        "      #print(np.zeros((y2-y1,w_diff)).shape)\n",
        "      #print(img[y1:y2, x1:x2].shape)\n",
        "      tmp=np.append(np.zeros((y2-y1,w_diff)),img[y1:y2, x1:x2],axis=1)\n",
        "      #print(tmp.shape,np.zeros((y2-y1,w_diff+1)).shape)\n",
        "      tmp=np.append(tmp,np.zeros((y2-y1,w_diff+1)),axis=1 )\n",
        "      #print(tmp.shape)\n",
        "      image=np.append(image,tmp,axis=0)\n",
        "      image=np.append(image,np.zeros((h_diff+1,w)),axis=0)\n",
        "    else:\n",
        "      w_diff=int(w0/2)\n",
        "      tmp=np.append(np.zeros((y2-y1,w_diff)),img[y1:y2, x1:x2],axis=1)\n",
        "      tmp=np.append(tmp,np.zeros((y2-y1,w_diff)),axis=1 )\n",
        "      image=np.append(image,tmp,axis=0)\n",
        "      image=np.append(image,np.zeros((h_diff+1,w)),axis=0)\n",
        "\n",
        "  else:\n",
        "    h_diff=int(h0/2)\n",
        "    image=np.append(image,np.zeros((h_diff,w)),axis=0)\n",
        "    \n",
        "    if w0%2 !=0:\n",
        "    \n",
        "      w_diff=int(float(w0)/2)\n",
        "      tmp=np.append(np.zeros((y2-y1,w_diff)),img[y1:y2, x1:x2],axis=1)\n",
        "      tmp=np.append(tmp,np.zeros((y2-y1,w_diff+1)),axis=1 )\n",
        "      image=np.append(image,tmp,axis=0)\n",
        "      image=np.append(image,np.zeros((h_diff,w)),axis=0)\n",
        "    else:\n",
        "      w_diff=int(w0/2)\n",
        "      tmp=np.append(np.zeros((y2-y1,w_diff)),img[y1:y2, x1:x2],axis=1)\n",
        "      tmp=np.append(tmp,np.zeros((y2-y1,w_diff)),axis=1 )\n",
        "      image=np.append(image,tmp,axis=0)\n",
        "      image=np.append(image,np.zeros((h_diff,w)),axis=0)\n",
        "  return image\n",
        "\n",
        "\n",
        "\n",
        "def image_resize_new(img,cropped_scale,w,h):\n",
        "  tmp=np.zeros((64,64))\n",
        "  for i in range(64):\n",
        "    for j in range(64):\n",
        "      tmp[i][j]=img[i][j][0]\n",
        "\n",
        "  image=np.zeros((5,w,h))\n",
        "  dim = (w, h)\n",
        "  ptr=0\n",
        "  for i in range(len(cropped_scale)):\n",
        "    x1, x2, y1, y2 = cropped_scale[i][0],cropped_scale[i][1],cropped_scale[i][2],cropped_scale[i][3]\n",
        "    if x2-x1>16:\n",
        "      diff=int((x2-x1)/2)\n",
        "      resize_image=resize(x1,x2-diff,y1,y2,tmp,w,h)\n",
        "      image[ptr]=resize_image\n",
        "      cv2_imshow(resize_image)\n",
        "      ptr=ptr+1\n",
        "      resize_image=resize(x2-diff,x2,y1,y2,tmp,w,h)\n",
        "      image[ptr]=resize_image\n",
        "      ptr=ptr+1\n",
        "      cv2_imshow(resize_image)\n",
        "\n",
        "    else:\n",
        "      resize_image=resize(x1,x2,y1,y2,tmp,w,h)\n",
        "      image[ptr]=resize_image\n",
        "      ptr=ptr+1\n",
        "    #cv2_imshow(resize_image)\n",
        "  return image\n",
        "\n",
        "################################################################################\n",
        "# Function 6: rearrange the image\n",
        "def training_resize(X_train_0,w,h,size):\n",
        "  X_train_new=np.zeros((size,w,h))\n",
        "  ptr=0\n",
        "  for i in range(len(X_train_0)):\n",
        "    if i%1000==0:\n",
        "      print('iteration:',i)\n",
        "    img=X_train_0[i]\n",
        "    #cv2_imshow(img)\n",
        "    #contours=get_contour(img)\n",
        "    #cropped_scale=cropped_image(contours,img)\n",
        "    cropped_scale=get_contour_new(img)\n",
        "    image=image_resize_new(img, cropped_scale,w,h)\n",
        "    #X_train_new=np.append(X_train_new,image,axis=0)\n",
        "    for j in range(5):\n",
        "      X_train_new[ptr]=image[j]\n",
        "      ptr=ptr+1\n",
        "  return X_train_new\n",
        "\n",
        "\n",
        "    \n"
      ],
      "execution_count": null,
      "outputs": []
    },
    {
      "cell_type": "code",
      "metadata": {
        "colab": {
          "base_uri": "https://localhost:8080/",
          "height": 170
        },
        "id": "odu_yjKtyaUL",
        "outputId": "2aef9d7a-ac4a-403f-f452-da987be2259a"
      },
      "source": [
        "#show example \n",
        "def show_edge_case(i):\n",
        "  img=X_train_0[i]\n",
        "  #contours=get_contour(img)\n",
        "  #cropped_scale=cropped_image(contours,img)\n",
        "  cropped_scale=get_contour_new(img)\n",
        "  print(cropped_scale)\n",
        "  #print(img[:,46])\n",
        "  show_cropped_image(img,cropped_scale)\n",
        "  image=image_resize_new(img, cropped_scale,16,16)\n",
        "  for i in range(5):\n",
        "    cv2_imshow(image[i])\n",
        "\n",
        "show_edge_case(3530)\n",
        "\n"
      ],
      "execution_count": null,
      "outputs": [
        {
          "output_type": "stream",
          "text": [
            "[[28, 37, 25, 38]]\n"
          ],
          "name": "stdout"
        },
        {
          "output_type": "display_data",
          "data": {
            "image/png": "[encoded data removed]",
            "text/plain": [
              "<PIL.Image.Image image mode=RGB size=64x64 at 0x7F0A4F8D29B0>"
            ]
          },
          "metadata": {
            "tags": []
          }
        },
        {
          "output_type": "display_data",
          "data": {
            "image/png": "[encoded data removed]",
            "text/plain": [
              "<PIL.Image.Image image mode=RGB size=9x13 at 0x7F0A4F8D2A20>"
            ]
          },
          "metadata": {
            "tags": []
          }
        },
        {
          "output_type": "display_data",
          "data": {
            "image/png": "[encoded data removed]",
            "text/plain": [
              "<PIL.Image.Image image mode=L size=16x16 at 0x7F0A4F89FC50>"
            ]
          },
          "metadata": {
            "tags": []
          }
        },
        {
          "output_type": "display_data",
          "data": {
            "image/png": "[encoded data removed]",
            "text/plain": [
              "<PIL.Image.Image image mode=L size=16x16 at 0x7F0AA6BA1CC0>"
            ]
          },
          "metadata": {
            "tags": []
          }
        },
        {
          "output_type": "display_data",
          "data": {
            "image/png": "[encoded data removed]",
            "text/plain": [
              "<PIL.Image.Image image mode=L size=16x16 at 0x7F0A4F920198>"
            ]
          },
          "metadata": {
            "tags": []
          }
        },
        {
          "output_type": "display_data",
          "data": {
            "image/png": "[encoded data removed]",
            "text/plain": [
              "<PIL.Image.Image image mode=L size=16x16 at 0x7F0A4F8D29E8>"
            ]
          },
          "metadata": {
            "tags": []
          }
        },
        {
          "output_type": "display_data",
          "data": {
            "image/png": "[encoded data removed]",
            "text/plain": [
              "<PIL.Image.Image image mode=L size=16x16 at 0x7F0A4F920160>"
            ]
          },
          "metadata": {
            "tags": []
          }
        }
      ]
    },
    {
      "cell_type": "code",
      "metadata": {
        "colab": {
          "base_uri": "https://localhost:8080/",
          "height": 1000
        },
        "id": "DZgFZ1K8JXt1",
        "outputId": "d4c1a7a6-d68e-4370-b89f-667b394656f3"
      },
      "source": [
        "# training dataset\n",
        "# X_train_0 ==> X_train_1\n",
        "X_train_1=training_resize(X_train_0[0:56000],16,16,280000)\n",
        "# testing dataset\n",
        "# X_test_0 ==> X_test_1\n",
        "X_test_1=training_resize(X_test_0[0:14000],16,16,70000)\n"
      ],
      "execution_count": null,
      "outputs": [
        {
          "output_type": "stream",
          "text": [
            "iteration: 0\n"
          ],
          "name": "stdout"
        },
        {
          "output_type": "display_data",
          "data": {
            "image/png": "[encoded data removed]",
            "text/plain": [
              "<PIL.Image.Image image mode=L size=16x16 at 0x7F0A4F8D2400>"
            ]
          },
          "metadata": {
            "tags": []
          }
        },
        {
          "output_type": "display_data",
          "data": {
            "image/png": "[encoded data removed]",
            "text/plain": [
              "<PIL.Image.Image image mode=L size=16x16 at 0x7F0A4F8D2470>"
            ]
          },
          "metadata": {
            "tags": []
          }
        },
        {
          "output_type": "display_data",
          "data": {
            "image/png": "[encoded data removed]",
            "text/plain": [
              "<PIL.Image.Image image mode=L size=16x16 at 0x7F0A4F8D2320>"
            ]
          },
          "metadata": {
            "tags": []
          }
        },
        {
          "output_type": "display_data",
          "data": {
            "image/png": "[encoded data removed]",
            "text/plain": [
              "<PIL.Image.Image image mode=L size=16x16 at 0x7F0A4F8D2438>"
            ]
          },
          "metadata": {
            "tags": []
          }
        },
        {
          "output_type": "display_data",
          "data": {
            "image/png": "[encoded data removed]",
            "text/plain": [
              "<PIL.Image.Image image mode=L size=16x16 at 0x7F0A4F8D2400>"
            ]
          },
          "metadata": {
            "tags": []
          }
        },
        {
          "output_type": "display_data",
          "data": {
            "image/png": "[encoded data removed]",
            "text/plain": [
              "<PIL.Image.Image image mode=L size=16x16 at 0x7F0A4F8D24A8>"
            ]
          },
          "metadata": {
            "tags": []
          }
        },
        {
          "output_type": "display_data",
          "data": {
            "image/png": "[encoded data removed]",
            "text/plain": [
              "<PIL.Image.Image image mode=L size=16x16 at 0x7F0A4F8D2470>"
            ]
          },
          "metadata": {
            "tags": []
          }
        },
        {
          "output_type": "display_data",
          "data": {
            "image/png": "[encoded data removed]",
            "text/plain": [
              "<PIL.Image.Image image mode=L size=16x16 at 0x7F0A4F8D2320>"
            ]
          },
          "metadata": {
            "tags": []
          }
        },
        {
          "output_type": "stream",
          "text": [
            "iteration: 1000\n"
          ],
          "name": "stdout"
        },
        {
          "output_type": "display_data",
          "data": {
            "image/png": "[encoded data removed]",
            "text/plain": [
              "<PIL.Image.Image image mode=L size=16x16 at 0x7F0A4F8D2358>"
            ]
          },
          "metadata": {
            "tags": []
          }
        },
        {
          "output_type": "display_data",
          "data": {
            "image/png": "[encoded data removed]",
            "text/plain": [
              "<PIL.Image.Image image mode=L size=16x16 at 0x7F0A4F8D2438>"
            ]
          },
          "metadata": {
            "tags": []
          }
        },
        {
          "output_type": "display_data",
          "data": {
            "image/png": "[encoded data removed]",
            "text/plain": [
              "<PIL.Image.Image image mode=L size=16x16 at 0x7F0A4F8D2400>"
            ]
          },
          "metadata": {
            "tags": []
          }
        },
        {
          "output_type": "display_data",
          "data": {
            "image/png": "[encoded data removed]",
            "text/plain": [
              "<PIL.Image.Image image mode=L size=16x16 at 0x7F0A4F8D2470>"
            ]
          },
          "metadata": {
            "tags": []
          }
        },
        {
          "output_type": "stream",
          "text": [
            "iteration: 2000\n"
          ],
          "name": "stdout"
        },
        {
          "output_type": "display_data",
          "data": {
            "image/png": "[encoded data removed]",
            "text/plain": [
              "<PIL.Image.Image image mode=L size=16x16 at 0x7F0A4F8D2320>"
            ]
          },
          "metadata": {
            "tags": []
          }
        },
        {
          "output_type": "display_data",
          "data": {
            "image/png": "[encoded data removed]",
            "text/plain": [
              "<PIL.Image.Image image mode=L size=16x16 at 0x7F0A4F8D2438>"
            ]
          },
          "metadata": {
            "tags": []
          }
        },
        {
          "output_type": "stream",
          "text": [
            "iteration: 3000\n"
          ],
          "name": "stdout"
        },
        {
          "output_type": "display_data",
          "data": {
            "image/png": "[encoded data removed]",
            "text/plain": [
              "<PIL.Image.Image image mode=L size=16x16 at 0x7F0A4F8D2358>"
            ]
          },
          "metadata": {
            "tags": []
          }
        },
        {
          "output_type": "display_data",
          "data": {
            "image/png": "[encoded data removed]",
            "text/plain": [
              "<PIL.Image.Image image mode=L size=16x16 at 0x7F0A4F8D2400>"
            ]
          },
          "metadata": {
            "tags": []
          }
        },
        {
          "output_type": "display_data",
          "data": {
            "image/png": "[encoded data removed]",
            "text/plain": [
              "<PIL.Image.Image image mode=L size=16x16 at 0x7F0A4F8D2320>"
            ]
          },
          "metadata": {
            "tags": []
          }
        },
        {
          "output_type": "display_data",
          "data": {
            "image/png": "[encoded data removed]",
            "text/plain": [
              "<PIL.Image.Image image mode=L size=16x16 at 0x7F0A4F8D2438>"
            ]
          },
          "metadata": {
            "tags": []
          }
        },
        {
          "output_type": "display_data",
          "data": {
            "image/png": "[encoded data removed]",
            "text/plain": [
              "<PIL.Image.Image image mode=L size=16x16 at 0x7F0A4F8D2320>"
            ]
          },
          "metadata": {
            "tags": []
          }
        },
        {
          "output_type": "display_data",
          "data": {
            "image/png": "[encoded data removed]",
            "text/plain": [
              "<PIL.Image.Image image mode=L size=16x16 at 0x7F0A4F8D2470>"
            ]
          },
          "metadata": {
            "tags": []
          }
        },
        {
          "output_type": "display_data",
          "data": {
            "image/png": "[encoded data removed]",
            "text/plain": [
              "<PIL.Image.Image image mode=L size=16x16 at 0x7F0A4F8D2358>"
            ]
          },
          "metadata": {
            "tags": []
          }
        },
        {
          "output_type": "display_data",
          "data": {
            "image/png": "[encoded data removed]",
            "text/plain": [
              "<PIL.Image.Image image mode=L size=16x16 at 0x7F0A4F8D2438>"
            ]
          },
          "metadata": {
            "tags": []
          }
        },
        {
          "output_type": "stream",
          "text": [
            "iteration: 4000\n"
          ],
          "name": "stdout"
        },
        {
          "output_type": "display_data",
          "data": {
            "image/png": "[encoded data removed]",
            "text/plain": [
              "<PIL.Image.Image image mode=L size=16x16 at 0x7F0A4F8D2400>"
            ]
          },
          "metadata": {
            "tags": []
          }
        },
        {
          "output_type": "display_data",
          "data": {
            "image/png": "[encoded data removed]",
            "text/plain": [
              "<PIL.Image.Image image mode=L size=16x16 at 0x7F0A4F8D2320>"
            ]
          },
          "metadata": {
            "tags": []
          }
        },
        {
          "output_type": "display_data",
          "data": {
            "image/png": "[encoded data removed]",
            "text/plain": [
              "<PIL.Image.Image image mode=L size=16x16 at 0x7F0A4F8D2358>"
            ]
          },
          "metadata": {
            "tags": []
          }
        },
        {
          "output_type": "display_data",
          "data": {
            "image/png": "[encoded data removed]",
            "text/plain": [
              "<PIL.Image.Image image mode=L size=16x16 at 0x7F0A4F8D2438>"
            ]
          },
          "metadata": {
            "tags": []
          }
        },
        {
          "output_type": "display_data",
          "data": {
            "image/png": "[encoded data removed]",
            "text/plain": [
              "<PIL.Image.Image image mode=L size=16x16 at 0x7F0A4F8D2400>"
            ]
          },
          "metadata": {
            "tags": []
          }
        },
        {
          "output_type": "display_data",
          "data": {
            "image/png": "[encoded data removed]",
            "text/plain": [
              "<PIL.Image.Image image mode=L size=16x16 at 0x7F0A4F8D2320>"
            ]
          },
          "metadata": {
            "tags": []
          }
        },
        {
          "output_type": "display_data",
          "data": {
            "image/png": "[encoded data removed]",
            "text/plain": [
              "<PIL.Image.Image image mode=L size=16x16 at 0x7F0A4F8D2320>"
            ]
          },
          "metadata": {
            "tags": []
          }
        },
        {
          "output_type": "display_data",
          "data": {
            "image/png": "[encoded data removed]",
            "text/plain": [
              "<PIL.Image.Image image mode=L size=16x16 at 0x7F0A4F8D2470>"
            ]
          },
          "metadata": {
            "tags": []
          }
        },
        {
          "output_type": "stream",
          "text": [
            "iteration: 5000\n"
          ],
          "name": "stdout"
        },
        {
          "output_type": "display_data",
          "data": {
            "image/png": "[encoded data removed]",
            "text/plain": [
              "<PIL.Image.Image image mode=L size=16x16 at 0x7F0A4F8D2438>"
            ]
          },
          "metadata": {
            "tags": []
          }
        },
        {
          "output_type": "display_data",
          "data": {
            "image/png": "[encoded data removed]",
            "text/plain": [
              "<PIL.Image.Image image mode=L size=16x16 at 0x7F0A4F8D2400>"
            ]
          },
          "metadata": {
            "tags": []
          }
        },
        {
          "output_type": "display_data",
          "data": {
            "image/png": "[encoded data removed]",
            "text/plain": [
              "<PIL.Image.Image image mode=L size=16x16 at 0x7F0A4F8D2320>"
            ]
          },
          "metadata": {
            "tags": []
          }
        },
        {
          "output_type": "display_data",
          "data": {
            "image/png": "[encoded data removed]",
            "text/plain": [
              "<PIL.Image.Image image mode=L size=16x16 at 0x7F0A4F8D2470>"
            ]
          },
          "metadata": {
            "tags": []
          }
        },
        {
          "output_type": "stream",
          "text": [
            "iteration: 6000\n"
          ],
          "name": "stdout"
        },
        {
          "output_type": "display_data",
          "data": {
            "image/png": "[encoded data removed]",
            "text/plain": [
              "<PIL.Image.Image image mode=L size=16x16 at 0x7F0A4F8D2438>"
            ]
          },
          "metadata": {
            "tags": []
          }
        },
        {
          "output_type": "display_data",
          "data": {
            "image/png": "[encoded data removed]",
            "text/plain": [
              "<PIL.Image.Image image mode=L size=16x16 at 0x7F0A4F8D2400>"
            ]
          },
          "metadata": {
            "tags": []
          }
        },
        {
          "output_type": "stream",
          "text": [
            "iteration: 7000\n"
          ],
          "name": "stdout"
        },
        {
          "output_type": "display_data",
          "data": {
            "image/png": "[encoded data removed]",
            "text/plain": [
              "<PIL.Image.Image image mode=L size=16x16 at 0x7F0A4F8D24A8>"
            ]
          },
          "metadata": {
            "tags": []
          }
        },
        {
          "output_type": "display_data",
          "data": {
            "image/png": "[encoded data removed]",
            "text/plain": [
              "<PIL.Image.Image image mode=L size=16x16 at 0x7F0A4F8D2358>"
            ]
          },
          "metadata": {
            "tags": []
          }
        },
        {
          "output_type": "display_data",
          "data": {
            "image/png": "[encoded data removed]",
            "text/plain": [
              "<PIL.Image.Image image mode=L size=16x16 at 0x7F0A4F8D24A8>"
            ]
          },
          "metadata": {
            "tags": []
          }
        },
        {
          "output_type": "display_data",
          "data": {
            "image/png": "[encoded data removed]",
            "text/plain": [
              "<PIL.Image.Image image mode=L size=16x16 at 0x7F0A4F8D2470>"
            ]
          },
          "metadata": {
            "tags": []
          }
        },
        {
          "output_type": "display_data",
          "data": {
            "image/png": "[encoded data removed]",
            "text/plain": [
              "<PIL.Image.Image image mode=L size=16x16 at 0x7F0A4F8D24A8>"
            ]
          },
          "metadata": {
            "tags": []
          }
        },
        {
          "output_type": "display_data",
          "data": {
            "image/png": "[encoded data removed]",
            "text/plain": [
              "<PIL.Image.Image image mode=L size=16x16 at 0x7F0A4F8D2400>"
            ]
          },
          "metadata": {
            "tags": []
          }
        },
        {
          "output_type": "display_data",
          "data": {
            "image/png": "[encoded data removed]",
            "text/plain": [
              "<PIL.Image.Image image mode=L size=16x16 at 0x7F0A4F8D2320>"
            ]
          },
          "metadata": {
            "tags": []
          }
        },
        {
          "output_type": "display_data",
          "data": {
            "image/png": "[encoded data removed]",
            "text/plain": [
              "<PIL.Image.Image image mode=L size=16x16 at 0x7F0A4F8D2358>"
            ]
          },
          "metadata": {
            "tags": []
          }
        },
        {
          "output_type": "stream",
          "text": [
            "iteration: 8000\n"
          ],
          "name": "stdout"
        },
        {
          "output_type": "display_data",
          "data": {
            "image/png": "[encoded data removed]",
            "text/plain": [
              "<PIL.Image.Image image mode=L size=16x16 at 0x7F0A4F8D2320>"
            ]
          },
          "metadata": {
            "tags": []
          }
        },
        {
          "output_type": "display_data",
          "data": {
            "image/png": "[encoded data removed]",
            "text/plain": [
              "<PIL.Image.Image image mode=L size=16x16 at 0x7F0A4F8D2470>"
            ]
          },
          "metadata": {
            "tags": []
          }
        },
        {
          "output_type": "display_data",
          "data": {
            "image/png": "[encoded data removed]",
            "text/plain": [
              "<PIL.Image.Image image mode=L size=16x16 at 0x7F0A4F8D24A8>"
            ]
          },
          "metadata": {
            "tags": []
          }
        },
        {
          "output_type": "display_data",
          "data": {
            "image/png": "[encoded data removed]",
            "text/plain": [
              "<PIL.Image.Image image mode=L size=16x16 at 0x7F0A4F8D2358>"
            ]
          },
          "metadata": {
            "tags": []
          }
        },
        {
          "output_type": "display_data",
          "data": {
            "image/png": "[encoded data removed]",
            "text/plain": [
              "<PIL.Image.Image image mode=L size=16x16 at 0x7F0A4F8D2320>"
            ]
          },
          "metadata": {
            "tags": []
          }
        },
        {
          "output_type": "display_data",
          "data": {
            "image/png": "[encoded data removed]",
            "text/plain": [
              "<PIL.Image.Image image mode=L size=16x16 at 0x7F0A4F8D2470>"
            ]
          },
          "metadata": {
            "tags": []
          }
        },
        {
          "output_type": "stream",
          "text": [
            "iteration: 9000\n"
          ],
          "name": "stdout"
        },
        {
          "output_type": "display_data",
          "data": {
            "image/png": "[encoded data removed]",
            "text/plain": [
              "<PIL.Image.Image image mode=L size=16x16 at 0x7F0A4F8D2470>"
            ]
          },
          "metadata": {
            "tags": []
          }
        },
        {
          "output_type": "display_data",
          "data": {
            "image/png": "[encoded data removed]",
            "text/plain": [
              "<PIL.Image.Image image mode=L size=16x16 at 0x7F0A4F8D2320>"
            ]
          },
          "metadata": {
            "tags": []
          }
        },
        {
          "output_type": "display_data",
          "data": {
            "image/png": "[encoded data removed]",
            "text/plain": [
              "<PIL.Image.Image image mode=L size=16x16 at 0x7F0A4F8D2400>"
            ]
          },
          "metadata": {
            "tags": []
          }
        },
        {
          "output_type": "display_data",
          "data": {
            "image/png": "[encoded data removed]",
            "text/plain": [
              "<PIL.Image.Image image mode=L size=16x16 at 0x7F0A4F8D2320>"
            ]
          },
          "metadata": {
            "tags": []
          }
        },
        {
          "output_type": "stream",
          "text": [
            "iteration: 10000\n"
          ],
          "name": "stdout"
        },
        {
          "output_type": "display_data",
          "data": {
            "image/png": "[encoded data removed]",
            "text/plain": [
              "<PIL.Image.Image image mode=L size=16x16 at 0x7F0A4F8D2470>"
            ]
          },
          "metadata": {
            "tags": []
          }
        },
        {
          "output_type": "display_data",
          "data": {
            "image/png": "[encoded data removed]",
            "text/plain": [
              "<PIL.Image.Image image mode=L size=16x16 at 0x7F0A4F8D24A8>"
            ]
          },
          "metadata": {
            "tags": []
          }
        },
        {
          "output_type": "stream",
          "text": [
            "iteration: 11000\n"
          ],
          "name": "stdout"
        },
        {
          "output_type": "display_data",
          "data": {
            "image/png": "[encoded data removed]",
            "text/plain": [
              "<PIL.Image.Image image mode=L size=16x16 at 0x7F0A4F8D2400>"
            ]
          },
          "metadata": {
            "tags": []
          }
        },
        {
          "output_type": "display_data",
          "data": {
            "image/png": "[encoded data removed]",
            "text/plain": [
              "<PIL.Image.Image image mode=L size=16x16 at 0x7F0A4F8D2320>"
            ]
          },
          "metadata": {
            "tags": []
          }
        },
        {
          "output_type": "display_data",
          "data": {
            "image/png": "[encoded data removed]",
            "text/plain": [
              "<PIL.Image.Image image mode=L size=16x16 at 0x7F0A4F8D2320>"
            ]
          },
          "metadata": {
            "tags": []
          }
        },
        {
          "output_type": "display_data",
          "data": {
            "image/png": "[encoded data removed]",
            "text/plain": [
              "<PIL.Image.Image image mode=L size=16x16 at 0x7F0A4F8D2358>"
            ]
          },
          "metadata": {
            "tags": []
          }
        },
        {
          "output_type": "stream",
          "text": [
            "iteration: 12000\n"
          ],
          "name": "stdout"
        },
        {
          "output_type": "display_data",
          "data": {
            "image/png": "[encoded data removed]",
            "text/plain": [
              "<PIL.Image.Image image mode=L size=16x16 at 0x7F0A4F8D24A8>"
            ]
          },
          "metadata": {
            "tags": []
          }
        },
        {
          "output_type": "display_data",
          "data": {
            "image/png": "[encoded data removed]",
            "text/plain": [
              "<PIL.Image.Image image mode=L size=16x16 at 0x7F0A4F8D2470>"
            ]
          },
          "metadata": {
            "tags": []
          }
        },
        {
          "output_type": "display_data",
          "data": {
            "image/png": "[encoded data removed]",
            "text/plain": [
              "<PIL.Image.Image image mode=L size=16x16 at 0x7F0A4F8D2400>"
            ]
          },
          "metadata": {
            "tags": []
          }
        },
        {
          "output_type": "display_data",
          "data": {
            "image/png": "[encoded data removed]",
            "text/plain": [
              "<PIL.Image.Image image mode=L size=16x16 at 0x7F0A4F8D2358>"
            ]
          },
          "metadata": {
            "tags": []
          }
        },
        {
          "output_type": "display_data",
          "data": {
            "image/png": "[encoded data removed]",
            "text/plain": [
              "<PIL.Image.Image image mode=L size=16x16 at 0x7F0A4F8D2320>"
            ]
          },
          "metadata": {
            "tags": []
          }
        },
        {
          "output_type": "display_data",
          "data": {
            "image/png": "[encoded data removed]",
            "text/plain": [
              "<PIL.Image.Image image mode=L size=16x16 at 0x7F0A4F8D24A8>"
            ]
          },
          "metadata": {
            "tags": []
          }
        },
        {
          "output_type": "display_data",
          "data": {
            "image/png": "[encoded data removed]",
            "text/plain": [
              "<PIL.Image.Image image mode=L size=16x16 at 0x7F0A4F8D2358>"
            ]
          },
          "metadata": {
            "tags": []
          }
        },
        {
          "output_type": "display_data",
          "data": {
            "image/png": "[encoded data removed]",
            "text/plain": [
              "<PIL.Image.Image image mode=L size=16x16 at 0x7F0A4F8D24A8>"
            ]
          },
          "metadata": {
            "tags": []
          }
        },
        {
          "output_type": "stream",
          "text": [
            "iteration: 13000\n"
          ],
          "name": "stdout"
        },
        {
          "output_type": "display_data",
          "data": {
            "image/png": "[encoded data removed]",
            "text/plain": [
              "<PIL.Image.Image image mode=L size=16x16 at 0x7F0A4F8D2358>"
            ]
          },
          "metadata": {
            "tags": []
          }
        },
        {
          "output_type": "display_data",
          "data": {
            "image/png": "[encoded data removed]",
            "text/plain": [
              "<PIL.Image.Image image mode=L size=16x16 at 0x7F0A4F8D2470>"
            ]
          },
          "metadata": {
            "tags": []
          }
        },
        {
          "output_type": "display_data",
          "data": {
            "image/png": "[encoded data removed]",
            "text/plain": [
              "<PIL.Image.Image image mode=L size=16x16 at 0x7F0A4F8D2320>"
            ]
          },
          "metadata": {
            "tags": []
          }
        },
        {
          "output_type": "display_data",
          "data": {
            "image/png": "[encoded data removed]",
            "text/plain": [
              "<PIL.Image.Image image mode=L size=16x16 at 0x7F0A4F8D24A8>"
            ]
          },
          "metadata": {
            "tags": []
          }
        },
        {
          "output_type": "display_data",
          "data": {
            "image/png": "[encoded data removed]",
            "text/plain": [
              "<PIL.Image.Image image mode=L size=16x16 at 0x7F0A4F8D2400>"
            ]
          },
          "metadata": {
            "tags": []
          }
        },
        {
          "output_type": "display_data",
          "data": {
            "image/png": "[encoded data removed]",
            "text/plain": [
              "<PIL.Image.Image image mode=L size=16x16 at 0x7F0A4F8D2358>"
            ]
          },
          "metadata": {
            "tags": []
          }
        },
        {
          "output_type": "display_data",
          "data": {
            "image/png": "[encoded data removed]",
            "text/plain": [
              "<PIL.Image.Image image mode=L size=16x16 at 0x7F0A4F8D2320>"
            ]
          },
          "metadata": {
            "tags": []
          }
        },
        {
          "output_type": "display_data",
          "data": {
            "image/png": "[encoded data removed]",
            "text/plain": [
              "<PIL.Image.Image image mode=L size=16x16 at 0x7F0A4F8D24A8>"
            ]
          },
          "metadata": {
            "tags": []
          }
        },
        {
          "output_type": "stream",
          "text": [
            "iteration: 14000\n"
          ],
          "name": "stdout"
        },
        {
          "output_type": "display_data",
          "data": {
            "image/png": "[encoded data removed]",
            "text/plain": [
              "<PIL.Image.Image image mode=L size=16x16 at 0x7F0A4F8D2400>"
            ]
          },
          "metadata": {
            "tags": []
          }
        },
        {
          "output_type": "display_data",
          "data": {
            "image/png": "[encoded data removed]",
            "text/plain": [
              "<PIL.Image.Image image mode=L size=16x16 at 0x7F0A4F8D2470>"
            ]
          },
          "metadata": {
            "tags": []
          }
        },
        {
          "output_type": "display_data",
          "data": {
            "image/png": "[encoded data removed]",
            "text/plain": [
              "<PIL.Image.Image image mode=L size=16x16 at 0x7F0A4F8D2358>"
            ]
          },
          "metadata": {
            "tags": []
          }
        },
        {
          "output_type": "display_data",
          "data": {
            "image/png": "[encoded data removed]",
            "text/plain": [
              "<PIL.Image.Image image mode=L size=16x16 at 0x7F0A4F8D2320>"
            ]
          },
          "metadata": {
            "tags": []
          }
        },
        {
          "output_type": "stream",
          "text": [
            "iteration: 15000\n"
          ],
          "name": "stdout"
        },
        {
          "output_type": "display_data",
          "data": {
            "image/png": "[encoded data removed]",
            "text/plain": [
              "<PIL.Image.Image image mode=L size=16x16 at 0x7F0A4F8D2400>"
            ]
          },
          "metadata": {
            "tags": []
          }
        },
        {
          "output_type": "display_data",
          "data": {
            "image/png": "[encoded data removed]",
            "text/plain": [
              "<PIL.Image.Image image mode=L size=16x16 at 0x7F0A4F8D24A8>"
            ]
          },
          "metadata": {
            "tags": []
          }
        },
        {
          "output_type": "display_data",
          "data": {
            "image/png": "[encoded data removed]",
            "text/plain": [
              "<PIL.Image.Image image mode=L size=16x16 at 0x7F0A4F8D2470>"
            ]
          },
          "metadata": {
            "tags": []
          }
        },
        {
          "output_type": "display_data",
          "data": {
            "image/png": "[encoded data removed]",
            "text/plain": [
              "<PIL.Image.Image image mode=L size=16x16 at 0x7F0A4F8D2358>"
            ]
          },
          "metadata": {
            "tags": []
          }
        },
        {
          "output_type": "stream",
          "text": [
            "iteration: 16000\n"
          ],
          "name": "stdout"
        },
        {
          "output_type": "display_data",
          "data": {
            "image/png": "[encoded data removed]",
            "text/plain": [
              "<PIL.Image.Image image mode=L size=16x16 at 0x7F0A4F8D2400>"
            ]
          },
          "metadata": {
            "tags": []
          }
        },
        {
          "output_type": "display_data",
          "data": {
            "image/png": "[encoded data removed]",
            "text/plain": [
              "<PIL.Image.Image image mode=L size=16x16 at 0x7F0A4F8D2320>"
            ]
          },
          "metadata": {
            "tags": []
          }
        },
        {
          "output_type": "stream",
          "text": [
            "iteration: 17000\n"
          ],
          "name": "stdout"
        },
        {
          "output_type": "display_data",
          "data": {
            "image/png": "[encoded data removed]",
            "text/plain": [
              "<PIL.Image.Image image mode=L size=16x16 at 0x7F0A4F8D24A8>"
            ]
          },
          "metadata": {
            "tags": []
          }
        },
        {
          "output_type": "display_data",
          "data": {
            "image/png": "[encoded data removed]",
            "text/plain": [
              "<PIL.Image.Image image mode=L size=16x16 at 0x7F0A4F8D2358>"
            ]
          },
          "metadata": {
            "tags": []
          }
        },
        {
          "output_type": "stream",
          "text": [
            "iteration: 18000\n"
          ],
          "name": "stdout"
        },
        {
          "output_type": "display_data",
          "data": {
            "image/png": "[encoded data removed]",
            "text/plain": [
              "<PIL.Image.Image image mode=L size=16x16 at 0x7F0A4F8D2470>"
            ]
          },
          "metadata": {
            "tags": []
          }
        },
        {
          "output_type": "display_data",
          "data": {
            "image/png": "[encoded data removed]",
            "text/plain": [
              "<PIL.Image.Image image mode=L size=16x16 at 0x7F0A4F8D2320>"
            ]
          },
          "metadata": {
            "tags": []
          }
        },
        {
          "output_type": "display_data",
          "data": {
            "image/png": "[encoded data removed]",
            "text/plain": [
              "<PIL.Image.Image image mode=L size=16x16 at 0x7F0A4F8D2400>"
            ]
          },
          "metadata": {
            "tags": []
          }
        },
        {
          "output_type": "display_data",
          "data": {
            "image/png": "[encoded data removed]",
            "text/plain": [
              "<PIL.Image.Image image mode=L size=16x16 at 0x7F0A4F8D2358>"
            ]
          },
          "metadata": {
            "tags": []
          }
        },
        {
          "output_type": "display_data",
          "data": {
            "image/png": "[encoded data removed]",
            "text/plain": [
              "<PIL.Image.Image image mode=L size=16x16 at 0x7F0A4F8D2320>"
            ]
          },
          "metadata": {
            "tags": []
          }
        },
        {
          "output_type": "display_data",
          "data": {
            "image/png": "[encoded data removed]",
            "text/plain": [
              "<PIL.Image.Image image mode=L size=16x16 at 0x7F0A4F8D24A8>"
            ]
          },
          "metadata": {
            "tags": []
          }
        },
        {
          "output_type": "stream",
          "text": [
            "iteration: 19000\n"
          ],
          "name": "stdout"
        },
        {
          "output_type": "display_data",
          "data": {
            "image/png": "[encoded data removed]",
            "text/plain": [
              "<PIL.Image.Image image mode=L size=16x16 at 0x7F0A4F8D24A8>"
            ]
          },
          "metadata": {
            "tags": []
          }
        },
        {
          "output_type": "display_data",
          "data": {
            "image/png": "[encoded data removed]",
            "text/plain": [
              "<PIL.Image.Image image mode=L size=16x16 at 0x7F0A4F8D2358>"
            ]
          },
          "metadata": {
            "tags": []
          }
        },
        {
          "output_type": "display_data",
          "data": {
            "image/png": "[encoded data removed]",
            "text/plain": [
              "<PIL.Image.Image image mode=L size=16x16 at 0x7F0A4F8D2320>"
            ]
          },
          "metadata": {
            "tags": []
          }
        },
        {
          "output_type": "display_data",
          "data": {
            "image/png": "[encoded data removed]",
            "text/plain": [
              "<PIL.Image.Image image mode=L size=16x16 at 0x7F0A4F8D2400>"
            ]
          },
          "metadata": {
            "tags": []
          }
        },
        {
          "output_type": "stream",
          "text": [
            "iteration: 20000\n"
          ],
          "name": "stdout"
        },
        {
          "output_type": "display_data",
          "data": {
            "image/png": "[encoded data removed]",
            "text/plain": [
              "<PIL.Image.Image image mode=L size=16x16 at 0x7F0A4F8D24A8>"
            ]
          },
          "metadata": {
            "tags": []
          }
        },
        {
          "output_type": "display_data",
          "data": {
            "image/png": "[encoded data removed]",
            "text/plain": [
              "<PIL.Image.Image image mode=L size=16x16 at 0x7F0A4F8D2358>"
            ]
          },
          "metadata": {
            "tags": []
          }
        },
        {
          "output_type": "display_data",
          "data": {
            "image/png": "[encoded data removed]",
            "text/plain": [
              "<PIL.Image.Image image mode=L size=16x16 at 0x7F0A4F8D2320>"
            ]
          },
          "metadata": {
            "tags": []
          }
        },
        {
          "output_type": "display_data",
          "data": {
            "image/png": "[encoded data removed]",
            "text/plain": [
              "<PIL.Image.Image image mode=L size=16x16 at 0x7F0A4F8D2400>"
            ]
          },
          "metadata": {
            "tags": []
          }
        },
        {
          "output_type": "stream",
          "text": [
            "iteration: 21000\n"
          ],
          "name": "stdout"
        },
        {
          "output_type": "display_data",
          "data": {
            "image/png": "[encoded data removed]",
            "text/plain": [
              "<PIL.Image.Image image mode=L size=16x16 at 0x7F0A4F8D2320>"
            ]
          },
          "metadata": {
            "tags": []
          }
        },
        {
          "output_type": "display_data",
          "data": {
            "image/png": "[encoded data removed]",
            "text/plain": [
              "<PIL.Image.Image image mode=L size=16x16 at 0x7F0A4F8D24A8>"
            ]
          },
          "metadata": {
            "tags": []
          }
        },
        {
          "output_type": "display_data",
          "data": {
            "image/png": "[encoded data removed]",
            "text/plain": [
              "<PIL.Image.Image image mode=L size=16x16 at 0x7F0A4F8D2358>"
            ]
          },
          "metadata": {
            "tags": []
          }
        },
        {
          "output_type": "display_data",
          "data": {
            "image/png": "[encoded data removed]",
            "text/plain": [
              "<PIL.Image.Image image mode=L size=16x16 at 0x7F0A4F8D2470>"
            ]
          },
          "metadata": {
            "tags": []
          }
        },
        {
          "output_type": "display_data",
          "data": {
            "image/png": "[encoded data removed]",
            "text/plain": [
              "<PIL.Image.Image image mode=L size=16x16 at 0x7F0A4F8D2400>"
            ]
          },
          "metadata": {
            "tags": []
          }
        },
        {
          "output_type": "display_data",
          "data": {
            "image/png": "[encoded data removed]",
            "text/plain": [
              "<PIL.Image.Image image mode=L size=16x16 at 0x7F0A4F8D24A8>"
            ]
          },
          "metadata": {
            "tags": []
          }
        },
        {
          "output_type": "stream",
          "text": [
            "iteration: 22000\n"
          ],
          "name": "stdout"
        },
        {
          "output_type": "display_data",
          "data": {
            "image/png": "[encoded data removed]",
            "text/plain": [
              "<PIL.Image.Image image mode=L size=16x16 at 0x7F0A4F8D2320>"
            ]
          },
          "metadata": {
            "tags": []
          }
        },
        {
          "output_type": "display_data",
          "data": {
            "image/png": "[encoded data removed]",
            "text/plain": [
              "<PIL.Image.Image image mode=L size=16x16 at 0x7F0A4F8D2358>"
            ]
          },
          "metadata": {
            "tags": []
          }
        },
        {
          "output_type": "stream",
          "text": [
            "iteration: 23000\n"
          ],
          "name": "stdout"
        },
        {
          "output_type": "display_data",
          "data": {
            "image/png": "[encoded data removed]",
            "text/plain": [
              "<PIL.Image.Image image mode=L size=16x16 at 0x7F0A4F8D2400>"
            ]
          },
          "metadata": {
            "tags": []
          }
        },
        {
          "output_type": "display_data",
          "data": {
            "image/png": "[encoded data removed]",
            "text/plain": [
              "<PIL.Image.Image image mode=L size=16x16 at 0x7F0A4F8D2470>"
            ]
          },
          "metadata": {
            "tags": []
          }
        },
        {
          "output_type": "display_data",
          "data": {
            "image/png": "[encoded data removed]",
            "text/plain": [
              "<PIL.Image.Image image mode=L size=16x16 at 0x7F0A4F8D24A8>"
            ]
          },
          "metadata": {
            "tags": []
          }
        },
        {
          "output_type": "display_data",
          "data": {
            "image/png": "[encoded data removed]",
            "text/plain": [
              "<PIL.Image.Image image mode=L size=16x16 at 0x7F0A4F8D2320>"
            ]
          },
          "metadata": {
            "tags": []
          }
        },
        {
          "output_type": "stream",
          "text": [
            "iteration: 24000\n"
          ],
          "name": "stdout"
        },
        {
          "output_type": "display_data",
          "data": {
            "image/png": "[encoded data removed]",
            "text/plain": [
              "<PIL.Image.Image image mode=L size=16x16 at 0x7F0A4F8D2400>"
            ]
          },
          "metadata": {
            "tags": []
          }
        },
        {
          "output_type": "display_data",
          "data": {
            "image/png": "[encoded data removed]",
            "text/plain": [
              "<PIL.Image.Image image mode=L size=16x16 at 0x7F0A4F8D2470>"
            ]
          },
          "metadata": {
            "tags": []
          }
        },
        {
          "output_type": "stream",
          "text": [
            "iteration: 25000\n",
            "iteration: 26000\n"
          ],
          "name": "stdout"
        },
        {
          "output_type": "display_data",
          "data": {
            "image/png": "[encoded data removed]",
            "text/plain": [
              "<PIL.Image.Image image mode=L size=16x16 at 0x7F0A4F8D2438>"
            ]
          },
          "metadata": {
            "tags": []
          }
        },
        {
          "output_type": "display_data",
          "data": {
            "image/png": "[encoded data removed]",
            "text/plain": [
              "<PIL.Image.Image image mode=L size=16x16 at 0x7F0A4F8D2320>"
            ]
          },
          "metadata": {
            "tags": []
          }
        },
        {
          "output_type": "stream",
          "text": [
            "iteration: 27000\n"
          ],
          "name": "stdout"
        },
        {
          "output_type": "display_data",
          "data": {
            "image/png": "[encoded data removed]",
            "text/plain": [
              "<PIL.Image.Image image mode=L size=16x16 at 0x7F0A4F8D2400>"
            ]
          },
          "metadata": {
            "tags": []
          }
        },
        {
          "output_type": "display_data",
          "data": {
            "image/png": "[encoded data removed]",
            "text/plain": [
              "<PIL.Image.Image image mode=L size=16x16 at 0x7F0A4F8D2358>"
            ]
          },
          "metadata": {
            "tags": []
          }
        },
        {
          "output_type": "display_data",
          "data": {
            "image/png": "[encoded data removed]",
            "text/plain": [
              "<PIL.Image.Image image mode=L size=16x16 at 0x7F0A4F8D2400>"
            ]
          },
          "metadata": {
            "tags": []
          }
        },
        {
          "output_type": "display_data",
          "data": {
            "image/png": "[encoded data removed]",
            "text/plain": [
              "<PIL.Image.Image image mode=L size=16x16 at 0x7F0A4F8D2320>"
            ]
          },
          "metadata": {
            "tags": []
          }
        },
        {
          "output_type": "display_data",
          "data": {
            "image/png": "[encoded data removed]",
            "text/plain": [
              "<PIL.Image.Image image mode=L size=16x16 at 0x7F0A4F8D24A8>"
            ]
          },
          "metadata": {
            "tags": []
          }
        },
        {
          "output_type": "display_data",
          "data": {
            "image/png": "[encoded data removed]",
            "text/plain": [
              "<PIL.Image.Image image mode=L size=16x16 at 0x7F0A4F8D2438>"
            ]
          },
          "metadata": {
            "tags": []
          }
        },
        {
          "output_type": "stream",
          "text": [
            "iteration: 28000\n"
          ],
          "name": "stdout"
        },
        {
          "output_type": "display_data",
          "data": {
            "image/png": "[encoded data removed]",
            "text/plain": [
              "<PIL.Image.Image image mode=L size=16x16 at 0x7F0A4F8D2400>"
            ]
          },
          "metadata": {
            "tags": []
          }
        },
        {
          "output_type": "display_data",
          "data": {
            "image/png": "[encoded data removed]",
            "text/plain": [
              "<PIL.Image.Image image mode=L size=16x16 at 0x7F0A4F8D2320>"
            ]
          },
          "metadata": {
            "tags": []
          }
        },
        {
          "output_type": "stream",
          "text": [
            "iteration: 29000\n"
          ],
          "name": "stdout"
        },
        {
          "output_type": "display_data",
          "data": {
            "image/png": "[encoded data removed]",
            "text/plain": [
              "<PIL.Image.Image image mode=L size=16x16 at 0x7F0A4F8D24A8>"
            ]
          },
          "metadata": {
            "tags": []
          }
        },
        {
          "output_type": "display_data",
          "data": {
            "image/png": "[encoded data removed]",
            "text/plain": [
              "<PIL.Image.Image image mode=L size=16x16 at 0x7F0A4F8D2438>"
            ]
          },
          "metadata": {
            "tags": []
          }
        },
        {
          "output_type": "display_data",
          "data": {
            "image/png": "[encoded data removed]",
            "text/plain": [
              "<PIL.Image.Image image mode=L size=16x16 at 0x7F0A4F8D2400>"
            ]
          },
          "metadata": {
            "tags": []
          }
        },
        {
          "output_type": "display_data",
          "data": {
            "image/png": "[encoded data removed]",
            "text/plain": [
              "<PIL.Image.Image image mode=L size=16x16 at 0x7F0A4F8D2358>"
            ]
          },
          "metadata": {
            "tags": []
          }
        },
        {
          "output_type": "stream",
          "text": [
            "iteration: 30000\n",
            "iteration: 31000\n"
          ],
          "name": "stdout"
        },
        {
          "output_type": "display_data",
          "data": {
            "image/png": "[encoded data removed]",
            "text/plain": [
              "<PIL.Image.Image image mode=L size=16x16 at 0x7F0A4F8D2320>"
            ]
          },
          "metadata": {
            "tags": []
          }
        },
        {
          "output_type": "display_data",
          "data": {
            "image/png": "[encoded data removed]",
            "text/plain": [
              "<PIL.Image.Image image mode=L size=16x16 at 0x7F0A4F8D24A8>"
            ]
          },
          "metadata": {
            "tags": []
          }
        },
        {
          "output_type": "display_data",
          "data": {
            "image/png": "[encoded data removed]",
            "text/plain": [
              "<PIL.Image.Image image mode=L size=16x16 at 0x7F0A4F8D2400>"
            ]
          },
          "metadata": {
            "tags": []
          }
        },
        {
          "output_type": "display_data",
          "data": {
            "image/png": "[encoded data removed]",
            "text/plain": [
              "<PIL.Image.Image image mode=L size=16x16 at 0x7F0A4F8D2358>"
            ]
          },
          "metadata": {
            "tags": []
          }
        },
        {
          "output_type": "stream",
          "text": [
            "iteration: 32000\n"
          ],
          "name": "stdout"
        },
        {
          "output_type": "display_data",
          "data": {
            "image/png": "[encoded data removed]",
            "text/plain": [
              "<PIL.Image.Image image mode=L size=16x16 at 0x7F0A4F8D2358>"
            ]
          },
          "metadata": {
            "tags": []
          }
        },
        {
          "output_type": "display_data",
          "data": {
            "image/png": "[encoded data removed]",
            "text/plain": [
              "<PIL.Image.Image image mode=L size=16x16 at 0x7F0A4F8D2438>"
            ]
          },
          "metadata": {
            "tags": []
          }
        },
        {
          "output_type": "stream",
          "text": [
            "iteration: 33000\n"
          ],
          "name": "stdout"
        },
        {
          "output_type": "display_data",
          "data": {
            "image/png": "[encoded data removed]",
            "text/plain": [
              "<PIL.Image.Image image mode=L size=16x16 at 0x7F0A4F8D24A8>"
            ]
          },
          "metadata": {
            "tags": []
          }
        },
        {
          "output_type": "display_data",
          "data": {
            "image/png": "[encoded data removed]",
            "text/plain": [
              "<PIL.Image.Image image mode=L size=16x16 at 0x7F0A4F8D2320>"
            ]
          },
          "metadata": {
            "tags": []
          }
        },
        {
          "output_type": "display_data",
          "data": {
            "image/png": "[encoded data removed]",
            "text/plain": [
              "<PIL.Image.Image image mode=L size=16x16 at 0x7F0A4F8D2438>"
            ]
          },
          "metadata": {
            "tags": []
          }
        },
        {
          "output_type": "display_data",
          "data": {
            "image/png": "[encoded data removed]",
            "text/plain": [
              "<PIL.Image.Image image mode=L size=16x16 at 0x7F0A4F8D2358>"
            ]
          },
          "metadata": {
            "tags": []
          }
        },
        {
          "output_type": "display_data",
          "data": {
            "image/png": "[encoded data removed]",
            "text/plain": [
              "<PIL.Image.Image image mode=L size=16x16 at 0x7F0A4F8D2400>"
            ]
          },
          "metadata": {
            "tags": []
          }
        },
        {
          "output_type": "display_data",
          "data": {
            "image/png": "[encoded data removed]",
            "text/plain": [
              "<PIL.Image.Image image mode=L size=16x16 at 0x7F0A4F8D24A8>"
            ]
          },
          "metadata": {
            "tags": []
          }
        },
        {
          "output_type": "display_data",
          "data": {
            "image/png": "[encoded data removed]",
            "text/plain": [
              "<PIL.Image.Image image mode=L size=16x16 at 0x7F0A4F8D2438>"
            ]
          },
          "metadata": {
            "tags": []
          }
        },
        {
          "output_type": "display_data",
          "data": {
            "image/png": "[encoded data removed]",
            "text/plain": [
              "<PIL.Image.Image image mode=L size=16x16 at 0x7F0A4F8D2320>"
            ]
          },
          "metadata": {
            "tags": []
          }
        },
        {
          "output_type": "stream",
          "text": [
            "iteration: 34000\n"
          ],
          "name": "stdout"
        },
        {
          "output_type": "display_data",
          "data": {
            "image/png": "[encoded data removed]",
            "text/plain": [
              "<PIL.Image.Image image mode=L size=16x16 at 0x7F0A4F8D2358>"
            ]
          },
          "metadata": {
            "tags": []
          }
        },
        {
          "output_type": "display_data",
          "data": {
            "image/png": "[encoded data removed]",
            "text/plain": [
              "<PIL.Image.Image image mode=L size=16x16 at 0x7F0A4F8D24A8>"
            ]
          },
          "metadata": {
            "tags": []
          }
        },
        {
          "output_type": "display_data",
          "data": {
            "image/png": "[encoded data removed]",
            "text/plain": [
              "<PIL.Image.Image image mode=L size=16x16 at 0x7F0A4F8D2400>"
            ]
          },
          "metadata": {
            "tags": []
          }
        },
        {
          "output_type": "display_data",
          "data": {
            "image/png": "[encoded data removed]",
            "text/plain": [
              "<PIL.Image.Image image mode=L size=16x16 at 0x7F0A4F8D2438>"
            ]
          },
          "metadata": {
            "tags": []
          }
        },
        {
          "output_type": "stream",
          "text": [
            "iteration: 35000\n"
          ],
          "name": "stdout"
        },
        {
          "output_type": "display_data",
          "data": {
            "image/png": "[encoded data removed]",
            "text/plain": [
              "<PIL.Image.Image image mode=L size=16x16 at 0x7F0A4F8D2358>"
            ]
          },
          "metadata": {
            "tags": []
          }
        },
        {
          "output_type": "display_data",
          "data": {
            "image/png": "[encoded data removed]",
            "text/plain": [
              "<PIL.Image.Image image mode=L size=16x16 at 0x7F0A4F8D24A8>"
            ]
          },
          "metadata": {
            "tags": []
          }
        },
        {
          "output_type": "display_data",
          "data": {
            "image/png": "[encoded data removed]",
            "text/plain": [
              "<PIL.Image.Image image mode=L size=16x16 at 0x7F0A4F8D2400>"
            ]
          },
          "metadata": {
            "tags": []
          }
        },
        {
          "output_type": "display_data",
          "data": {
            "image/png": "[encoded data removed]",
            "text/plain": [
              "<PIL.Image.Image image mode=L size=16x16 at 0x7F0A4F8D2438>"
            ]
          },
          "metadata": {
            "tags": []
          }
        },
        {
          "output_type": "stream",
          "text": [
            "iteration: 36000\n"
          ],
          "name": "stdout"
        },
        {
          "output_type": "display_data",
          "data": {
            "image/png": "[encoded data removed]",
            "text/plain": [
              "<PIL.Image.Image image mode=L size=16x16 at 0x7F0A4F8D2358>"
            ]
          },
          "metadata": {
            "tags": []
          }
        },
        {
          "output_type": "display_data",
          "data": {
            "image/png": "[encoded data removed]",
            "text/plain": [
              "<PIL.Image.Image image mode=L size=16x16 at 0x7F0A4F8D24A8>"
            ]
          },
          "metadata": {
            "tags": []
          }
        },
        {
          "output_type": "stream",
          "text": [
            "iteration: 37000\n"
          ],
          "name": "stdout"
        },
        {
          "output_type": "display_data",
          "data": {
            "image/png": "[encoded data removed]",
            "text/plain": [
              "<PIL.Image.Image image mode=L size=16x16 at 0x7F0A4F8D2400>"
            ]
          },
          "metadata": {
            "tags": []
          }
        },
        {
          "output_type": "display_data",
          "data": {
            "image/png": "[encoded data removed]",
            "text/plain": [
              "<PIL.Image.Image image mode=L size=16x16 at 0x7F0A4F8D2438>"
            ]
          },
          "metadata": {
            "tags": []
          }
        },
        {
          "output_type": "display_data",
          "data": {
            "image/png": "[encoded data removed]",
            "text/plain": [
              "<PIL.Image.Image image mode=L size=16x16 at 0x7F0A4F8D2358>"
            ]
          },
          "metadata": {
            "tags": []
          }
        },
        {
          "output_type": "display_data",
          "data": {
            "image/png": "[encoded data removed]",
            "text/plain": [
              "<PIL.Image.Image image mode=L size=16x16 at 0x7F0A4F8D24A8>"
            ]
          },
          "metadata": {
            "tags": []
          }
        },
        {
          "output_type": "stream",
          "text": [
            "iteration: 38000\n"
          ],
          "name": "stdout"
        },
        {
          "output_type": "display_data",
          "data": {
            "image/png": "[encoded data removed]",
            "text/plain": [
              "<PIL.Image.Image image mode=L size=16x16 at 0x7F0A4F8D24A8>"
            ]
          },
          "metadata": {
            "tags": []
          }
        },
        {
          "output_type": "display_data",
          "data": {
            "image/png": "[encoded data removed]",
            "text/plain": [
              "<PIL.Image.Image image mode=L size=16x16 at 0x7F0A4F8D2438>"
            ]
          },
          "metadata": {
            "tags": []
          }
        },
        {
          "output_type": "stream",
          "text": [
            "iteration: 39000\n"
          ],
          "name": "stdout"
        },
        {
          "output_type": "display_data",
          "data": {
            "image/png": "[encoded data removed]",
            "text/plain": [
              "<PIL.Image.Image image mode=L size=16x16 at 0x7F0A4F8D2358>"
            ]
          },
          "metadata": {
            "tags": []
          }
        },
        {
          "output_type": "display_data",
          "data": {
            "image/png": "[encoded data removed]",
            "text/plain": [
              "<PIL.Image.Image image mode=L size=16x16 at 0x7F0A4F8D2320>"
            ]
          },
          "metadata": {
            "tags": []
          }
        },
        {
          "output_type": "display_data",
          "data": {
            "image/png": "[encoded data removed]",
            "text/plain": [
              "<PIL.Image.Image image mode=L size=16x16 at 0x7F0A4F8D2400>"
            ]
          },
          "metadata": {
            "tags": []
          }
        },
        {
          "output_type": "display_data",
          "data": {
            "image/png": "[encoded data removed]",
            "text/plain": [
              "<PIL.Image.Image image mode=L size=16x16 at 0x7F0A4F8D24A8>"
            ]
          },
          "metadata": {
            "tags": []
          }
        },
        {
          "output_type": "display_data",
          "data": {
            "image/png": "[encoded data removed]",
            "text/plain": [
              "<PIL.Image.Image image mode=L size=16x16 at 0x7F0A4F8D2438>"
            ]
          },
          "metadata": {
            "tags": []
          }
        },
        {
          "output_type": "display_data",
          "data": {
            "image/png": "[encoded data removed]",
            "text/plain": [
              "<PIL.Image.Image image mode=L size=16x16 at 0x7F0A4F8D2320>"
            ]
          },
          "metadata": {
            "tags": []
          }
        },
        {
          "output_type": "stream",
          "text": [
            "iteration: 40000\n"
          ],
          "name": "stdout"
        },
        {
          "output_type": "display_data",
          "data": {
            "image/png": "[encoded data removed]",
            "text/plain": [
              "<PIL.Image.Image image mode=L size=16x16 at 0x7F0A4F8D2358>"
            ]
          },
          "metadata": {
            "tags": []
          }
        },
        {
          "output_type": "display_data",
          "data": {
            "image/png": "[encoded data removed]",
            "text/plain": [
              "<PIL.Image.Image image mode=L size=16x16 at 0x7F0A4F8D24A8>"
            ]
          },
          "metadata": {
            "tags": []
          }
        },
        {
          "output_type": "stream",
          "text": [
            "iteration: 41000\n",
            "iteration: 42000\n"
          ],
          "name": "stdout"
        },
        {
          "output_type": "display_data",
          "data": {
            "image/png": "[encoded data removed]",
            "text/plain": [
              "<PIL.Image.Image image mode=L size=16x16 at 0x7F0A4F8D2438>"
            ]
          },
          "metadata": {
            "tags": []
          }
        },
        {
          "output_type": "display_data",
          "data": {
            "image/png": "[encoded data removed]",
            "text/plain": [
              "<PIL.Image.Image image mode=L size=16x16 at 0x7F0A4F8D2320>"
            ]
          },
          "metadata": {
            "tags": []
          }
        },
        {
          "output_type": "display_data",
          "data": {
            "image/png": "[encoded data removed]",
            "text/plain": [
              "<PIL.Image.Image image mode=L size=16x16 at 0x7F0A4F8D2358>"
            ]
          },
          "metadata": {
            "tags": []
          }
        },
        {
          "output_type": "display_data",
          "data": {
            "image/png": "[encoded data removed]",
            "text/plain": [
              "<PIL.Image.Image image mode=L size=16x16 at 0x7F0A4F8D24A8>"
            ]
          },
          "metadata": {
            "tags": []
          }
        },
        {
          "output_type": "display_data",
          "data": {
            "image/png": "[encoded data removed]",
            "text/plain": [
              "<PIL.Image.Image image mode=L size=16x16 at 0x7F0A4F8D2438>"
            ]
          },
          "metadata": {
            "tags": []
          }
        },
        {
          "output_type": "display_data",
          "data": {
            "image/png": "[encoded data removed]",
            "text/plain": [
              "<PIL.Image.Image image mode=L size=16x16 at 0x7F0A4F8D2320>"
            ]
          },
          "metadata": {
            "tags": []
          }
        },
        {
          "output_type": "display_data",
          "data": {
            "image/png": "[encoded data removed]",
            "text/plain": [
              "<PIL.Image.Image image mode=L size=16x16 at 0x7F0A4F8D2358>"
            ]
          },
          "metadata": {
            "tags": []
          }
        },
        {
          "output_type": "display_data",
          "data": {
            "image/png": "[encoded data removed]",
            "text/plain": [
              "<PIL.Image.Image image mode=L size=16x16 at 0x7F0A4F8D2400>"
            ]
          },
          "metadata": {
            "tags": []
          }
        },
        {
          "output_type": "stream",
          "text": [
            "iteration: 43000\n"
          ],
          "name": "stdout"
        },
        {
          "output_type": "display_data",
          "data": {
            "image/png": "[encoded data removed]",
            "text/plain": [
              "<PIL.Image.Image image mode=L size=16x16 at 0x7F0A4F8D24A8>"
            ]
          },
          "metadata": {
            "tags": []
          }
        },
        {
          "output_type": "display_data",
          "data": {
            "image/png": "[encoded data removed]",
            "text/plain": [
              "<PIL.Image.Image image mode=L size=16x16 at 0x7F0A4F8D2438>"
            ]
          },
          "metadata": {
            "tags": []
          }
        },
        {
          "output_type": "stream",
          "text": [
            "iteration: 44000\n"
          ],
          "name": "stdout"
        },
        {
          "output_type": "display_data",
          "data": {
            "image/png": "[encoded data removed]",
            "text/plain": [
              "<PIL.Image.Image image mode=L size=16x16 at 0x7F0A4F8D2358>"
            ]
          },
          "metadata": {
            "tags": []
          }
        },
        {
          "output_type": "display_data",
          "data": {
            "image/png": "[encoded data removed]",
            "text/plain": [
              "<PIL.Image.Image image mode=L size=16x16 at 0x7F0A4F8D2400>"
            ]
          },
          "metadata": {
            "tags": []
          }
        },
        {
          "output_type": "display_data",
          "data": {
            "image/png": "[encoded data removed]",
            "text/plain": [
              "<PIL.Image.Image image mode=L size=16x16 at 0x7F0A4F8D24A8>"
            ]
          },
          "metadata": {
            "tags": []
          }
        },
        {
          "output_type": "display_data",
          "data": {
            "image/png": "[encoded data removed]",
            "text/plain": [
              "<PIL.Image.Image image mode=L size=16x16 at 0x7F0A4F8D2320>"
            ]
          },
          "metadata": {
            "tags": []
          }
        },
        {
          "output_type": "display_data",
          "data": {
            "image/png": "[encoded data removed]",
            "text/plain": [
              "<PIL.Image.Image image mode=L size=16x16 at 0x7F0A4F8D2438>"
            ]
          },
          "metadata": {
            "tags": []
          }
        },
        {
          "output_type": "display_data",
          "data": {
            "image/png": "[encoded data removed]",
            "text/plain": [
              "<PIL.Image.Image image mode=L size=16x16 at 0x7F0A4F8D2358>"
            ]
          },
          "metadata": {
            "tags": []
          }
        },
        {
          "output_type": "stream",
          "text": [
            "iteration: 45000\n",
            "iteration: 46000\n"
          ],
          "name": "stdout"
        },
        {
          "output_type": "display_data",
          "data": {
            "image/png": "[encoded data removed]",
            "text/plain": [
              "<PIL.Image.Image image mode=L size=16x16 at 0x7F0A4F8D24A8>"
            ]
          },
          "metadata": {
            "tags": []
          }
        },
        {
          "output_type": "display_data",
          "data": {
            "image/png": "[encoded data removed]",
            "text/plain": [
              "<PIL.Image.Image image mode=L size=16x16 at 0x7F0A4F8D2400>"
            ]
          },
          "metadata": {
            "tags": []
          }
        },
        {
          "output_type": "display_data",
          "data": {
            "image/png": "[encoded data removed]",
            "text/plain": [
              "<PIL.Image.Image image mode=L size=16x16 at 0x7F0A4F8D2320>"
            ]
          },
          "metadata": {
            "tags": []
          }
        },
        {
          "output_type": "display_data",
          "data": {
            "image/png": "[encoded data removed]",
            "text/plain": [
              "<PIL.Image.Image image mode=L size=16x16 at 0x7F0A4F8D2358>"
            ]
          },
          "metadata": {
            "tags": []
          }
        },
        {
          "output_type": "stream",
          "text": [
            "iteration: 47000\n"
          ],
          "name": "stdout"
        },
        {
          "output_type": "display_data",
          "data": {
            "image/png": "[encoded data removed]",
            "text/plain": [
              "<PIL.Image.Image image mode=L size=16x16 at 0x7F0A4F8D2438>"
            ]
          },
          "metadata": {
            "tags": []
          }
        },
        {
          "output_type": "display_data",
          "data": {
            "image/png": "[encoded data removed]",
            "text/plain": [
              "<PIL.Image.Image image mode=L size=16x16 at 0x7F0A4F8D2400>"
            ]
          },
          "metadata": {
            "tags": []
          }
        },
        {
          "output_type": "display_data",
          "data": {
            "image/png": "[encoded data removed]",
            "text/plain": [
              "<PIL.Image.Image image mode=L size=16x16 at 0x7F0A4F8D24A8>"
            ]
          },
          "metadata": {
            "tags": []
          }
        },
        {
          "output_type": "display_data",
          "data": {
            "image/png": "[encoded data removed]",
            "text/plain": [
              "<PIL.Image.Image image mode=L size=16x16 at 0x7F0A4F8D2358>"
            ]
          },
          "metadata": {
            "tags": []
          }
        },
        {
          "output_type": "display_data",
          "data": {
            "image/png": "[encoded data removed]",
            "text/plain": [
              "<PIL.Image.Image image mode=L size=16x16 at 0x7F0A4F8D2320>"
            ]
          },
          "metadata": {
            "tags": []
          }
        },
        {
          "output_type": "display_data",
          "data": {
            "image/png": "[encoded data removed]",
            "text/plain": [
              "<PIL.Image.Image image mode=L size=16x16 at 0x7F0A4F8D2358>"
            ]
          },
          "metadata": {
            "tags": []
          }
        },
        {
          "output_type": "stream",
          "text": [
            "iteration: 48000\n"
          ],
          "name": "stdout"
        },
        {
          "output_type": "display_data",
          "data": {
            "image/png": "[encoded data removed]",
            "text/plain": [
              "<PIL.Image.Image image mode=L size=16x16 at 0x7F0A4F8D24A8>"
            ]
          },
          "metadata": {
            "tags": []
          }
        },
        {
          "output_type": "display_data",
          "data": {
            "image/png": "[encoded data removed]",
            "text/plain": [
              "<PIL.Image.Image image mode=L size=16x16 at 0x7F0A4F8D2438>"
            ]
          },
          "metadata": {
            "tags": []
          }
        },
        {
          "output_type": "stream",
          "text": [
            "iteration: 49000\n"
          ],
          "name": "stdout"
        },
        {
          "output_type": "display_data",
          "data": {
            "image/png": "[encoded data removed]",
            "text/plain": [
              "<PIL.Image.Image image mode=L size=16x16 at 0x7F0A4F8D2400>"
            ]
          },
          "metadata": {
            "tags": []
          }
        },
        {
          "output_type": "display_data",
          "data": {
            "image/png": "[encoded data removed]",
            "text/plain": [
              "<PIL.Image.Image image mode=L size=16x16 at 0x7F0A4F8D2320>"
            ]
          },
          "metadata": {
            "tags": []
          }
        },
        {
          "output_type": "stream",
          "text": [
            "iteration: 50000\n"
          ],
          "name": "stdout"
        },
        {
          "output_type": "display_data",
          "data": {
            "image/png": "[encoded data removed]",
            "text/plain": [
              "<PIL.Image.Image image mode=L size=16x16 at 0x7F0A4F8D24A8>"
            ]
          },
          "metadata": {
            "tags": []
          }
        },
        {
          "output_type": "display_data",
          "data": {
            "image/png": "[encoded data removed]",
            "text/plain": [
              "<PIL.Image.Image image mode=L size=16x16 at 0x7F0A4F8D2358>"
            ]
          },
          "metadata": {
            "tags": []
          }
        },
        {
          "output_type": "display_data",
          "data": {
            "image/png": "[encoded data removed]",
            "text/plain": [
              "<PIL.Image.Image image mode=L size=16x16 at 0x7F0A4F8D2438>"
            ]
          },
          "metadata": {
            "tags": []
          }
        },
        {
          "output_type": "display_data",
          "data": {
            "image/png": "[encoded data removed]",
            "text/plain": [
              "<PIL.Image.Image image mode=L size=16x16 at 0x7F0A4F8D2400>"
            ]
          },
          "metadata": {
            "tags": []
          }
        },
        {
          "output_type": "stream",
          "text": [
            "iteration: 51000\n"
          ],
          "name": "stdout"
        },
        {
          "output_type": "display_data",
          "data": {
            "image/png": "[encoded data removed]",
            "text/plain": [
              "<PIL.Image.Image image mode=L size=16x16 at 0x7F0A4F8D24A8>"
            ]
          },
          "metadata": {
            "tags": []
          }
        },
        {
          "output_type": "display_data",
          "data": {
            "image/png": "[encoded data removed]",
            "text/plain": [
              "<PIL.Image.Image image mode=L size=16x16 at 0x7F0A4F8D2358>"
            ]
          },
          "metadata": {
            "tags": []
          }
        },
        {
          "output_type": "display_data",
          "data": {
            "image/png": "[encoded data removed]",
            "text/plain": [
              "<PIL.Image.Image image mode=L size=16x16 at 0x7F0A4F8D2438>"
            ]
          },
          "metadata": {
            "tags": []
          }
        },
        {
          "output_type": "display_data",
          "data": {
            "image/png": "[encoded data removed]",
            "text/plain": [
              "<PIL.Image.Image image mode=L size=16x16 at 0x7F0A4F8D2400>"
            ]
          },
          "metadata": {
            "tags": []
          }
        },
        {
          "output_type": "stream",
          "text": [
            "iteration: 52000\n"
          ],
          "name": "stdout"
        },
        {
          "output_type": "display_data",
          "data": {
            "image/png": "[encoded data removed]",
            "text/plain": [
              "<PIL.Image.Image image mode=L size=16x16 at 0x7F0A4F8D2470>"
            ]
          },
          "metadata": {
            "tags": []
          }
        },
        {
          "output_type": "display_data",
          "data": {
            "image/png": "[encoded data removed]",
            "text/plain": [
              "<PIL.Image.Image image mode=L size=16x16 at 0x7F0A4F8D2358>"
            ]
          },
          "metadata": {
            "tags": []
          }
        },
        {
          "output_type": "display_data",
          "data": {
            "image/png": "[encoded data removed]",
            "text/plain": [
              "<PIL.Image.Image image mode=L size=16x16 at 0x7F0A4F8D24A8>"
            ]
          },
          "metadata": {
            "tags": []
          }
        },
        {
          "output_type": "display_data",
          "data": {
            "image/png": "[encoded data removed]",
            "text/plain": [
              "<PIL.Image.Image image mode=L size=16x16 at 0x7F0A4F8D2320>"
            ]
          },
          "metadata": {
            "tags": []
          }
        },
        {
          "output_type": "display_data",
          "data": {
            "image/png": "[encoded data removed]",
            "text/plain": [
              "<PIL.Image.Image image mode=L size=16x16 at 0x7F0A4F8D2470>"
            ]
          },
          "metadata": {
            "tags": []
          }
        },
        {
          "output_type": "display_data",
          "data": {
            "image/png": "[encoded data removed]",
            "text/plain": [
              "<PIL.Image.Image image mode=L size=16x16 at 0x7F0A4F8D2358>"
            ]
          },
          "metadata": {
            "tags": []
          }
        },
        {
          "output_type": "stream",
          "text": [
            "iteration: 53000\n"
          ],
          "name": "stdout"
        },
        {
          "output_type": "display_data",
          "data": {
            "image/png": "[encoded data removed]",
            "text/plain": [
              "<PIL.Image.Image image mode=L size=16x16 at 0x7F0A4F8D24A8>"
            ]
          },
          "metadata": {
            "tags": []
          }
        },
        {
          "output_type": "display_data",
          "data": {
            "image/png": "[encoded data removed]",
            "text/plain": [
              "<PIL.Image.Image image mode=L size=16x16 at 0x7F0A4F8D2400>"
            ]
          },
          "metadata": {
            "tags": []
          }
        },
        {
          "output_type": "stream",
          "text": [
            "iteration: 54000\n"
          ],
          "name": "stdout"
        },
        {
          "output_type": "display_data",
          "data": {
            "image/png": "[encoded data removed]",
            "text/plain": [
              "<PIL.Image.Image image mode=L size=16x16 at 0x7F0A4F8D2320>"
            ]
          },
          "metadata": {
            "tags": []
          }
        },
        {
          "output_type": "display_data",
          "data": {
            "image/png": "[encoded data removed]",
            "text/plain": [
              "<PIL.Image.Image image mode=L size=16x16 at 0x7F0A4F8D2470>"
            ]
          },
          "metadata": {
            "tags": []
          }
        },
        {
          "output_type": "display_data",
          "data": {
            "image/png": "[encoded data removed]",
            "text/plain": [
              "<PIL.Image.Image image mode=L size=16x16 at 0x7F0A4F8D24A8>"
            ]
          },
          "metadata": {
            "tags": []
          }
        },
        {
          "output_type": "display_data",
          "data": {
            "image/png": "[encoded data removed]",
            "text/plain": [
              "<PIL.Image.Image image mode=L size=16x16 at 0x7F0A4F8D2400>"
            ]
          },
          "metadata": {
            "tags": []
          }
        },
        {
          "output_type": "stream",
          "text": [
            "iteration: 55000\n"
          ],
          "name": "stdout"
        },
        {
          "output_type": "display_data",
          "data": {
            "image/png": "[encoded data removed]",
            "text/plain": [
              "<PIL.Image.Image image mode=L size=16x16 at 0x7F0A4F8D2320>"
            ]
          },
          "metadata": {
            "tags": []
          }
        },
        {
          "output_type": "display_data",
          "data": {
            "image/png": "[encoded data removed]",
            "text/plain": [
              "<PIL.Image.Image image mode=L size=16x16 at 0x7F0A4F8D2470>"
            ]
          },
          "metadata": {
            "tags": []
          }
        },
        {
          "output_type": "stream",
          "text": [
            "iteration: 0\n",
            "iteration: 1000\n"
          ],
          "name": "stdout"
        },
        {
          "output_type": "display_data",
          "data": {
            "image/png": "[encoded data removed]",
            "text/plain": [
              "<PIL.Image.Image image mode=L size=16x16 at 0x7F0A4F8D24A8>"
            ]
          },
          "metadata": {
            "tags": []
          }
        },
        {
          "output_type": "display_data",
          "data": {
            "image/png": "[encoded data removed]",
            "text/plain": [
              "<PIL.Image.Image image mode=L size=16x16 at 0x7F0A4F8D2358>"
            ]
          },
          "metadata": {
            "tags": []
          }
        },
        {
          "output_type": "display_data",
          "data": {
            "image/png": "[encoded data removed]",
            "text/plain": [
              "<PIL.Image.Image image mode=L size=16x16 at 0x7F0A4F8D24A8>"
            ]
          },
          "metadata": {
            "tags": []
          }
        },
        {
          "output_type": "display_data",
          "data": {
            "image/png": "[encoded data removed]",
            "text/plain": [
              "<PIL.Image.Image image mode=L size=16x16 at 0x7F0A4F8D23C8>"
            ]
          },
          "metadata": {
            "tags": []
          }
        },
        {
          "output_type": "stream",
          "text": [
            "iteration: 2000\n"
          ],
          "name": "stdout"
        },
        {
          "output_type": "display_data",
          "data": {
            "image/png": "[encoded data removed]",
            "text/plain": [
              "<PIL.Image.Image image mode=L size=16x16 at 0x7F0A4F8D24A8>"
            ]
          },
          "metadata": {
            "tags": []
          }
        },
        {
          "output_type": "display_data",
          "data": {
            "image/png": "[encoded data removed]",
            "text/plain": [
              "<PIL.Image.Image image mode=L size=16x16 at 0x7F0A4F8D2470>"
            ]
          },
          "metadata": {
            "tags": []
          }
        },
        {
          "output_type": "display_data",
          "data": {
            "image/png": "[encoded data removed]",
            "text/plain": [
              "<PIL.Image.Image image mode=L size=16x16 at 0x7F0A4F8D2400>"
            ]
          },
          "metadata": {
            "tags": []
          }
        },
        {
          "output_type": "display_data",
          "data": {
            "image/png": "[encoded data removed]",
            "text/plain": [
              "<PIL.Image.Image image mode=L size=16x16 at 0x7F0A4F8D2358>"
            ]
          },
          "metadata": {
            "tags": []
          }
        },
        {
          "output_type": "display_data",
          "data": {
            "image/png": "[encoded data removed]",
            "text/plain": [
              "<PIL.Image.Image image mode=L size=16x16 at 0x7F0A4F8D2400>"
            ]
          },
          "metadata": {
            "tags": []
          }
        },
        {
          "output_type": "display_data",
          "data": {
            "image/png": "[encoded data removed]",
            "text/plain": [
              "<PIL.Image.Image image mode=L size=16x16 at 0x7F0A4F8D24A8>"
            ]
          },
          "metadata": {
            "tags": []
          }
        },
        {
          "output_type": "display_data",
          "data": {
            "image/png": "[encoded data removed]",
            "text/plain": [
              "<PIL.Image.Image image mode=L size=16x16 at 0x7F0A4F8D2320>"
            ]
          },
          "metadata": {
            "tags": []
          }
        },
        {
          "output_type": "display_data",
          "data": {
            "image/png": "[encoded data removed]",
            "text/plain": [
              "<PIL.Image.Image image mode=L size=16x16 at 0x7F0A4F8D2358>"
            ]
          },
          "metadata": {
            "tags": []
          }
        },
        {
          "output_type": "display_data",
          "data": {
            "image/png": "[encoded data removed]",
            "text/plain": [
              "<PIL.Image.Image image mode=L size=16x16 at 0x7F0A4F8D2400>"
            ]
          },
          "metadata": {
            "tags": []
          }
        },
        {
          "output_type": "display_data",
          "data": {
            "image/png": "[encoded data removed]",
            "text/plain": [
              "<PIL.Image.Image image mode=L size=16x16 at 0x7F0A4F8D2470>"
            ]
          },
          "metadata": {
            "tags": []
          }
        },
        {
          "output_type": "stream",
          "text": [
            "iteration: 3000\n"
          ],
          "name": "stdout"
        },
        {
          "output_type": "display_data",
          "data": {
            "image/png": "[encoded data removed]",
            "text/plain": [
              "<PIL.Image.Image image mode=L size=16x16 at 0x7F0A4F8D2358>"
            ]
          },
          "metadata": {
            "tags": []
          }
        },
        {
          "output_type": "display_data",
          "data": {
            "image/png": "[encoded data removed]",
            "text/plain": [
              "<PIL.Image.Image image mode=L size=16x16 at 0x7F0A4F8D2320>"
            ]
          },
          "metadata": {
            "tags": []
          }
        },
        {
          "output_type": "display_data",
          "data": {
            "image/png": "[encoded data removed]",
            "text/plain": [
              "<PIL.Image.Image image mode=L size=16x16 at 0x7F0A4F8D2358>"
            ]
          },
          "metadata": {
            "tags": []
          }
        },
        {
          "output_type": "display_data",
          "data": {
            "image/png": "[encoded data removed]",
            "text/plain": [
              "<PIL.Image.Image image mode=L size=16x16 at 0x7F0A4F8D23C8>"
            ]
          },
          "metadata": {
            "tags": []
          }
        },
        {
          "output_type": "display_data",
          "data": {
            "image/png": "[encoded data removed]",
            "text/plain": [
              "<PIL.Image.Image image mode=L size=16x16 at 0x7F0A4F8D2400>"
            ]
          },
          "metadata": {
            "tags": []
          }
        },
        {
          "output_type": "display_data",
          "data": {
            "image/png": "[encoded data removed]",
            "text/plain": [
              "<PIL.Image.Image image mode=L size=16x16 at 0x7F0A4F8D2320>"
            ]
          },
          "metadata": {
            "tags": []
          }
        },
        {
          "output_type": "stream",
          "text": [
            "iteration: 4000\n"
          ],
          "name": "stdout"
        },
        {
          "output_type": "display_data",
          "data": {
            "image/png": "[encoded data removed]",
            "text/plain": [
              "<PIL.Image.Image image mode=L size=16x16 at 0x7F0A4F8D2358>"
            ]
          },
          "metadata": {
            "tags": []
          }
        },
        {
          "output_type": "display_data",
          "data": {
            "image/png": "[encoded data removed]",
            "text/plain": [
              "<PIL.Image.Image image mode=L size=16x16 at 0x7F0A4F8D2470>"
            ]
          },
          "metadata": {
            "tags": []
          }
        },
        {
          "output_type": "display_data",
          "data": {
            "image/png": "[encoded data removed]",
            "text/plain": [
              "<PIL.Image.Image image mode=L size=16x16 at 0x7F0A4F8D2358>"
            ]
          },
          "metadata": {
            "tags": []
          }
        },
        {
          "output_type": "display_data",
          "data": {
            "image/png": "[encoded data removed]",
            "text/plain": [
              "<PIL.Image.Image image mode=L size=16x16 at 0x7F0A4F8D2400>"
            ]
          },
          "metadata": {
            "tags": []
          }
        },
        {
          "output_type": "stream",
          "text": [
            "iteration: 5000\n"
          ],
          "name": "stdout"
        },
        {
          "output_type": "display_data",
          "data": {
            "image/png": "[encoded data removed]",
            "text/plain": [
              "<PIL.Image.Image image mode=L size=16x16 at 0x7F0A4F8D23C8>"
            ]
          },
          "metadata": {
            "tags": []
          }
        },
        {
          "output_type": "display_data",
          "data": {
            "image/png": "[encoded data removed]",
            "text/plain": [
              "<PIL.Image.Image image mode=L size=16x16 at 0x7F0A4F8D2470>"
            ]
          },
          "metadata": {
            "tags": []
          }
        },
        {
          "output_type": "display_data",
          "data": {
            "image/png": "[encoded data removed]",
            "text/plain": [
              "<PIL.Image.Image image mode=L size=16x16 at 0x7F0A4F8D2358>"
            ]
          },
          "metadata": {
            "tags": []
          }
        },
        {
          "output_type": "display_data",
          "data": {
            "image/png": "[encoded data removed]",
            "text/plain": [
              "<PIL.Image.Image image mode=L size=16x16 at 0x7F0A4F8D2400>"
            ]
          },
          "metadata": {
            "tags": []
          }
        },
        {
          "output_type": "stream",
          "text": [
            "iteration: 6000\n"
          ],
          "name": "stdout"
        },
        {
          "output_type": "display_data",
          "data": {
            "image/png": "[encoded data removed]",
            "text/plain": [
              "<PIL.Image.Image image mode=L size=16x16 at 0x7F0A4F8D23C8>"
            ]
          },
          "metadata": {
            "tags": []
          }
        },
        {
          "output_type": "display_data",
          "data": {
            "image/png": "[encoded data removed]",
            "text/plain": [
              "<PIL.Image.Image image mode=L size=16x16 at 0x7F0A4F8D2470>"
            ]
          },
          "metadata": {
            "tags": []
          }
        },
        {
          "output_type": "stream",
          "text": [
            "iteration: 7000\n"
          ],
          "name": "stdout"
        },
        {
          "output_type": "display_data",
          "data": {
            "image/png": "[encoded data removed]",
            "text/plain": [
              "<PIL.Image.Image image mode=L size=16x16 at 0x7F0A4F8D23C8>"
            ]
          },
          "metadata": {
            "tags": []
          }
        },
        {
          "output_type": "display_data",
          "data": {
            "image/png": "[encoded data removed]",
            "text/plain": [
              "<PIL.Image.Image image mode=L size=16x16 at 0x7F0A4F8D2320>"
            ]
          },
          "metadata": {
            "tags": []
          }
        },
        {
          "output_type": "display_data",
          "data": {
            "image/png": "[encoded data removed]",
            "text/plain": [
              "<PIL.Image.Image image mode=L size=16x16 at 0x7F0A4F8D23C8>"
            ]
          },
          "metadata": {
            "tags": []
          }
        },
        {
          "output_type": "display_data",
          "data": {
            "image/png": "[encoded data removed]",
            "text/plain": [
              "<PIL.Image.Image image mode=L size=16x16 at 0x7F0A4F8D2400>"
            ]
          },
          "metadata": {
            "tags": []
          }
        },
        {
          "output_type": "display_data",
          "data": {
            "image/png": "[encoded data removed]",
            "text/plain": [
              "<PIL.Image.Image image mode=L size=16x16 at 0x7F0A4F8D24A8>"
            ]
          },
          "metadata": {
            "tags": []
          }
        },
        {
          "output_type": "display_data",
          "data": {
            "image/png": "[encoded data removed]",
            "text/plain": [
              "<PIL.Image.Image image mode=L size=16x16 at 0x7F0A4F8D2320>"
            ]
          },
          "metadata": {
            "tags": []
          }
        },
        {
          "output_type": "display_data",
          "data": {
            "image/png": "[encoded data removed]",
            "text/plain": [
              "<PIL.Image.Image image mode=L size=16x16 at 0x7F0A4F8D24A8>"
            ]
          },
          "metadata": {
            "tags": []
          }
        },
        {
          "output_type": "display_data",
          "data": {
            "image/png": "[encoded data removed]",
            "text/plain": [
              "<PIL.Image.Image image mode=L size=16x16 at 0x7F0A4F8D2470>"
            ]
          },
          "metadata": {
            "tags": []
          }
        },
        {
          "output_type": "stream",
          "text": [
            "iteration: 8000\n"
          ],
          "name": "stdout"
        },
        {
          "output_type": "display_data",
          "data": {
            "image/png": "[encoded data removed]",
            "text/plain": [
              "<PIL.Image.Image image mode=L size=16x16 at 0x7F0A4F8D2438>"
            ]
          },
          "metadata": {
            "tags": []
          }
        },
        {
          "output_type": "display_data",
          "data": {
            "image/png": "[encoded data removed]",
            "text/plain": [
              "<PIL.Image.Image image mode=L size=16x16 at 0x7F0A4F8D2400>"
            ]
          },
          "metadata": {
            "tags": []
          }
        },
        {
          "output_type": "display_data",
          "data": {
            "image/png": "[encoded data removed]",
            "text/plain": [
              "<PIL.Image.Image image mode=L size=16x16 at 0x7F0A4F8D2470>"
            ]
          },
          "metadata": {
            "tags": []
          }
        },
        {
          "output_type": "display_data",
          "data": {
            "image/png": "[encoded data removed]",
            "text/plain": [
              "<PIL.Image.Image image mode=L size=16x16 at 0x7F0A4F8D2438>"
            ]
          },
          "metadata": {
            "tags": []
          }
        },
        {
          "output_type": "display_data",
          "data": {
            "image/png": "[encoded data removed]",
            "text/plain": [
              "<PIL.Image.Image image mode=L size=16x16 at 0x7F0A4F8D2470>"
            ]
          },
          "metadata": {
            "tags": []
          }
        },
        {
          "output_type": "display_data",
          "data": {
            "image/png": "[encoded data removed]",
            "text/plain": [
              "<PIL.Image.Image image mode=L size=16x16 at 0x7F0A4F8D2400>"
            ]
          },
          "metadata": {
            "tags": []
          }
        },
        {
          "output_type": "stream",
          "text": [
            "iteration: 9000\n"
          ],
          "name": "stdout"
        },
        {
          "output_type": "display_data",
          "data": {
            "image/png": "[encoded data removed]",
            "text/plain": [
              "<PIL.Image.Image image mode=L size=16x16 at 0x7F0A4F8D2470>"
            ]
          },
          "metadata": {
            "tags": []
          }
        },
        {
          "output_type": "display_data",
          "data": {
            "image/png": "[encoded data removed]",
            "text/plain": [
              "<PIL.Image.Image image mode=L size=16x16 at 0x7F0A4F8D24A8>"
            ]
          },
          "metadata": {
            "tags": []
          }
        },
        {
          "output_type": "stream",
          "text": [
            "iteration: 10000\n"
          ],
          "name": "stdout"
        },
        {
          "output_type": "display_data",
          "data": {
            "image/png": "[encoded data removed]",
            "text/plain": [
              "<PIL.Image.Image image mode=L size=16x16 at 0x7F0A4F8D2470>"
            ]
          },
          "metadata": {
            "tags": []
          }
        },
        {
          "output_type": "display_data",
          "data": {
            "image/png": "[encoded data removed]",
            "text/plain": [
              "<PIL.Image.Image image mode=L size=16x16 at 0x7F0A4F8D2320>"
            ]
          },
          "metadata": {
            "tags": []
          }
        },
        {
          "output_type": "display_data",
          "data": {
            "image/png": "[encoded data removed]",
            "text/plain": [
              "<PIL.Image.Image image mode=L size=16x16 at 0x7F0A4F8D2400>"
            ]
          },
          "metadata": {
            "tags": []
          }
        },
        {
          "output_type": "display_data",
          "data": {
            "image/png": "[encoded data removed]",
            "text/plain": [
              "<PIL.Image.Image image mode=L size=16x16 at 0x7F0A4F8D2438>"
            ]
          },
          "metadata": {
            "tags": []
          }
        },
        {
          "output_type": "stream",
          "text": [
            "iteration: 11000\n"
          ],
          "name": "stdout"
        },
        {
          "output_type": "display_data",
          "data": {
            "image/png": "[encoded data removed]",
            "text/plain": [
              "<PIL.Image.Image image mode=L size=16x16 at 0x7F0A4F8D2358>"
            ]
          },
          "metadata": {
            "tags": []
          }
        },
        {
          "output_type": "display_data",
          "data": {
            "image/png": "[encoded data removed]",
            "text/plain": [
              "<PIL.Image.Image image mode=L size=16x16 at 0x7F0A4F8D2470>"
            ]
          },
          "metadata": {
            "tags": []
          }
        },
        {
          "output_type": "stream",
          "text": [
            "iteration: 12000\n"
          ],
          "name": "stdout"
        },
        {
          "output_type": "display_data",
          "data": {
            "image/png": "[encoded data removed]",
            "text/plain": [
              "<PIL.Image.Image image mode=L size=16x16 at 0x7F0A4F8D2438>"
            ]
          },
          "metadata": {
            "tags": []
          }
        },
        {
          "output_type": "display_data",
          "data": {
            "image/png": "[encoded data removed]",
            "text/plain": [
              "<PIL.Image.Image image mode=L size=16x16 at 0x7F0A4F8D2320>"
            ]
          },
          "metadata": {
            "tags": []
          }
        },
        {
          "output_type": "stream",
          "text": [
            "iteration: 13000\n"
          ],
          "name": "stdout"
        },
        {
          "output_type": "display_data",
          "data": {
            "image/png": "[encoded data removed]",
            "text/plain": [
              "<PIL.Image.Image image mode=L size=16x16 at 0x7F0A4F8D24A8>"
            ]
          },
          "metadata": {
            "tags": []
          }
        },
        {
          "output_type": "display_data",
          "data": {
            "image/png": "[encoded data removed]",
            "text/plain": [
              "<PIL.Image.Image image mode=L size=16x16 at 0x7F0A4F8D2358>"
            ]
          },
          "metadata": {
            "tags": []
          }
        }
      ]
    },
    {
      "cell_type": "code",
      "metadata": {
        "colab": {
          "base_uri": "https://localhost:8080/"
        },
        "id": "ihykQ1MlQhWU",
        "outputId": "0322b6f3-da5b-4a29-facf-aaec7fd72d17"
      },
      "source": [
        "length=len(y_train_0)\n",
        "print(length)\n",
        "a=np.zeros((length*5,1))\n",
        "for i in range(length):\n",
        "  a[5*i][0]=y_train_0[i][0]\n",
        "  a[5*i+1][0]=y_train_0[i][1]\n",
        "  a[5*i+2][0]=y_train_0[i][2]\n",
        "  a[5*i+3][0]=y_train_0[i][3]\n",
        "  a[5*i+4][0]=y_train_0[i][4]\n",
        "print(a.shape)"
      ],
      "execution_count": null,
      "outputs": [
        {
          "output_type": "stream",
          "text": [
            "56000\n",
            "(280000, 1)\n"
          ],
          "name": "stdout"
        }
      ]
    },
    {
      "cell_type": "markdown",
      "metadata": {
        "id": "A89Qs79zQji7"
      },
      "source": [
        "### **1.2.2 Data Augmentation**"
      ]
    },
    {
      "cell_type": "code",
      "metadata": {
        "id": "qQiQZblzQnzY"
      },
      "source": [
        "import argparse\n",
        "import os\n",
        "\n",
        "import numpy as np\n",
        "#from PIL import Image\n",
        "#from scipy.misc import imresize\n",
        "from scipy.ndimage.interpolation import rotate\n",
        "from scipy.ndimage import shift\n",
        "\n",
        "\n",
        "#n=10000\n",
        "n=0\n",
        "ptr=0\n",
        "indexs=np.random.randint(280000, size=n)\n",
        "X_train_1_rotate=np.zeros((n,16,16))\n",
        "y_train_1_rotate=np.zeros((n,1))\n",
        "for index in indexs:\n",
        "  if ptr%10000==0:\n",
        "    print(ptr)\n",
        "  degree=np.random.uniform(-22.0,22.0)\n",
        "  #h=np.random.uniform(-1.0,1.0)\n",
        "  #w=np.random.uniform(-1.0,1.0)\n",
        "  #cv2_imshow(X_train_1[i])\n",
        "  #tmp=shift(X_train_1[i],shift=(w,h))\n",
        "  #cv2_imshow(tmp)\n",
        "  X_train_1_rotate[ptr]=rotate(X_train_1[index],angle=degree,reshape=False)\n",
        "  #cv2_imshow(X_train_1_rotate[i])\n",
        "  y_train_1_rotate[ptr]=a[index]\n",
        "  ptr=ptr+1\n",
        "\n"
      ],
      "execution_count": null,
      "outputs": []
    },
    {
      "cell_type": "code",
      "metadata": {
        "colab": {
          "base_uri": "https://localhost:8080/"
        },
        "id": "6n_PBddTQwcc",
        "outputId": "9386ab2a-b960-4651-d470-02b0ccb212f2"
      },
      "source": [
        "X_train_1_new=np.append(X_train_1,X_train_1_rotate,axis=0)\n",
        "y_train_1_new=np.append(a,y_train_1_rotate,axis=0)\n",
        "print(X_train_1_new.shape)\n",
        "print(y_train_1_new.shape)"
      ],
      "execution_count": null,
      "outputs": [
        {
          "output_type": "stream",
          "text": [
            "(280000, 16, 16)\n",
            "(280000, 1)\n"
          ],
          "name": "stdout"
        }
      ]
    },
    {
      "cell_type": "markdown",
      "metadata": {
        "id": "BAaDiRQb12Oy"
      },
      "source": [
        "### **1.2.3 Normalization**"
      ]
    },
    {
      "cell_type": "markdown",
      "metadata": {
        "id": "hOd5Uamn6lDS"
      },
      "source": [
        "**Standardize**"
      ]
    },
    {
      "cell_type": "code",
      "metadata": {
        "id": "tBe0rJ0v2MBk"
      },
      "source": [
        "tmp=np.append(X_train_1_new,X_test_1,axis=0)\n",
        "mean=tmp.mean()\n",
        "std=tmp.std()\n",
        "\n",
        "\n",
        "X_train_2=(X_train_1_new-tmp.mean())/std\n",
        "X_test_2=(X_test_1-tmp.mean())/std"
      ],
      "execution_count": null,
      "outputs": []
    },
    {
      "cell_type": "markdown",
      "metadata": {
        "id": "sPEm0bi5Fo4h"
      },
      "source": [
        "## **1.3 Convert from ndarray to tensor** \n",
        "\n",
        "\n",
        "For X_train, input is ndarray(56000*5,64,64,1). However, the output should be tensor(56000*5,1,64,64) that is (batch_size, #channel, image_size). What we gonna do is nparray(56000,64,64,1)==> nparray(56000,1,64,64) ==> tensor(56000,1,64,64)\n"
      ]
    },
    {
      "cell_type": "markdown",
      "metadata": {
        "id": "ME97dkjfCflV"
      },
      "source": [
        "**Convert training**"
      ]
    },
    {
      "cell_type": "code",
      "metadata": {
        "colab": {
          "base_uri": "https://localhost:8080/"
        },
        "id": "pgL1HUe88-gs",
        "outputId": "98c029b8-fdcc-4af6-f267-63077628bdbe"
      },
      "source": [
        "import numpy as np\n",
        "print(X_train_2.shape)\n",
        "X_train=np.zeros((len(X_train_2),1,16,16))\n",
        "for i in range(len(X_train)):\n",
        "  X_train[i][0]=X_train_2[i]\n",
        "print(X_train.shape)\n",
        "N=len(X_train)\n",
        "\n",
        "\n",
        "tmp_X=np.append(X_train[0:260000],X_train[270000:N],axis=0)\n",
        "tmp_X=np.append(tmp_X,X_train[260000:270000],axis=0)\n",
        "print(tmp_X.shape)\n",
        "X_train=torch.from_numpy(tmp_X)\n"
      ],
      "execution_count": null,
      "outputs": [
        {
          "output_type": "stream",
          "text": [
            "(280000, 16, 16)\n",
            "(280000, 1, 16, 16)\n",
            "(280000, 1, 16, 16)\n"
          ],
          "name": "stdout"
        }
      ]
    },
    {
      "cell_type": "markdown",
      "metadata": {
        "id": "iX2Dt5_oYtSs"
      },
      "source": [
        "trainging set y"
      ]
    },
    {
      "cell_type": "code",
      "metadata": {
        "colab": {
          "base_uri": "https://localhost:8080/"
        },
        "id": "tCFr4FtfYl34",
        "outputId": "791e7fd8-366d-4e22-9b8e-d8331120e873"
      },
      "source": [
        "# convert ttaining y\n",
        "tmp_y=np.append(y_train_1_new[0:260000],y_train_1_new[270000:N],axis=0)\n",
        "tmp_y=np.append(tmp_y,y_train_1_new[260000:270000],axis=0)\n",
        "print(tmp_y.shape)\n",
        "y_train=torch.from_numpy(tmp_y)"
      ],
      "execution_count": null,
      "outputs": [
        {
          "output_type": "stream",
          "text": [
            "(280000, 1)\n"
          ],
          "name": "stdout"
        }
      ]
    },
    {
      "cell_type": "markdown",
      "metadata": {
        "id": "ITW7Yq1vCjFY"
      },
      "source": [
        "**Convert testing**"
      ]
    },
    {
      "cell_type": "code",
      "metadata": {
        "colab": {
          "base_uri": "https://localhost:8080/"
        },
        "id": "cNktWfpdCizq",
        "outputId": "ce7d407e-5115-47df-c108-9ebd779528bf"
      },
      "source": [
        "#convert x\n",
        "import numpy as np\n",
        "print(X_test_2.shape)\n",
        "X_test=np.zeros((len(X_test_2),1,16,16))\n",
        "for i in range(len(X_test)):\n",
        "  X_test[i][0]=X_test_2[i]\n",
        "X_test.shape\n",
        "\n",
        "X_test=torch.from_numpy(X_test)"
      ],
      "execution_count": null,
      "outputs": [
        {
          "output_type": "stream",
          "text": [
            "(70000, 16, 16)\n"
          ],
          "name": "stdout"
        }
      ]
    },
    {
      "cell_type": "markdown",
      "metadata": {
        "id": "bofX2LqOemk9"
      },
      "source": [
        "#  **2. Building model architecture**\n",
        "**Describe the proposed model and training objective for the task in detail.**\n",
        "**Report the best performing model architecture and its hyper-parameter in a table in the Appendix.**\n",
        "**Justify the of choice of hyper-parameters (model architecture, optimizer and its parameters) that lead to\n",
        "this final model.**\n",
        "**Compare and report the validation and train performance of your best performing model as a function of\n",
        "training epochs.**\n",
        "\n",
        "\n"
      ]
    },
    {
      "cell_type": "code",
      "metadata": {
        "id": "jvwkX8VLeqXT"
      },
      "source": [
        "\n",
        "\n",
        "\n",
        "import torch\n",
        "import torch.nn as nn\n",
        "import torch.nn.functional as F\n",
        "import torch.optim as optim\n",
        "from torchvision import datasets, transforms\n",
        "\n",
        "#import autograd.Function "
      ],
      "execution_count": null,
      "outputs": []
    },
    {
      "cell_type": "code",
      "metadata": {
        "colab": {
          "base_uri": "https://localhost:8080/"
        },
        "id": "sQZT_fg5whMV",
        "outputId": "0644bc0c-3dde-4057-daf4-70b24cb38646"
      },
      "source": [
        "!pip install pycuda\n",
        "import torch \n",
        "import pycuda.driver as cuda\n",
        "torch.cuda.is_available()\n",
        "device = torch.device(\"cuda:0\" if torch.cuda.is_available() else \"cpu\")\n",
        "cuda.init()\n",
        "torch.cuda.current_device()\n",
        "print(cuda.Device(0).name())\n",
        "#net.to(device)"
      ],
      "execution_count": null,
      "outputs": [
        {
          "output_type": "stream",
          "text": [
            "Collecting pycuda\n",
            "\u001b[?25l  Downloading https://files.pythonhosted.org/packages/46/61/47d3235a4c13eec5a5f03594ddb268f4858734e02980afbcd806e6242fa5/pycuda-2020.1.tar.gz (1.6MB)\n",
            "\u001b[K     |████████████████████████████████| 1.6MB 12.8MB/s \n",
            "\u001b[?25hCollecting pytools>=2011.2\n",
            "\u001b[?25l  Downloading https://files.pythonhosted.org/packages/16/ed/f4b298876b9b624150cc01830075f7cb0b9e09c1abfc46daef14811f3eed/pytools-2020.4.4.tar.gz (61kB)\n",
            "\u001b[K     |████████████████████████████████| 61kB 8.6MB/s \n",
            "\u001b[?25hRequirement already satisfied: decorator>=3.2.0 in /usr/local/lib/python3.6/dist-packages (from pycuda) (4.4.2)\n",
            "Collecting appdirs>=1.4.0\n",
            "  Downloading https://files.pythonhosted.org/packages/3b/00/2344469e2084fb287c2e0b57b72910309874c3245463acd6cf5e3db69324/appdirs-1.4.4-py2.py3-none-any.whl\n",
            "Collecting mako\n",
            "\u001b[?25l  Downloading https://files.pythonhosted.org/packages/a6/37/0e706200d22172eb8fa17d68a7ae22dec7631a0a92266634fb518a88a5b2/Mako-1.1.3-py2.py3-none-any.whl (75kB)\n",
            "\u001b[K     |████████████████████████████████| 81kB 9.7MB/s \n",
            "\u001b[?25hRequirement already satisfied: numpy>=1.6.0 in /usr/local/lib/python3.6/dist-packages (from pytools>=2011.2->pycuda) (1.18.5)\n",
            "Requirement already satisfied: dataclasses>=0.7 in /usr/local/lib/python3.6/dist-packages (from pytools>=2011.2->pycuda) (0.8)\n",
            "Requirement already satisfied: MarkupSafe>=0.9.2 in /usr/local/lib/python3.6/dist-packages (from mako->pycuda) (1.1.1)\n",
            "Building wheels for collected packages: pycuda, pytools\n",
            "  Building wheel for pycuda (setup.py) ... \u001b[?25l\u001b[?25hdone\n",
            "  Created wheel for pycuda: filename=pycuda-2020.1-cp36-cp36m-linux_x86_64.whl size=621418 sha256=cea6e89548aa0500571bcdbe2e81ed288e9cac5ca4694fd9540688ca6713a7f8\n",
            "  Stored in directory: /root/.cache/pip/wheels/8f/78/d1/5bb826f81d9d490297a348d818ff3ee6dd6f2075b06dde6ea0\n",
            "  Building wheel for pytools (setup.py) ... \u001b[?25l\u001b[?25hdone\n",
            "  Created wheel for pytools: filename=pytools-2020.4.4-py2.py3-none-any.whl size=59110 sha256=d1a1d8c0656e5fbcb572d6eb4cae513050aa4fbdf5cf7a19ea0bd25cf20930f4\n",
            "  Stored in directory: /root/.cache/pip/wheels/6f/2a/6e/0b210d900f2b6caca133395d2fa153d8a9c03ad42c3c5d55bf\n",
            "Successfully built pycuda pytools\n",
            "Installing collected packages: appdirs, pytools, mako, pycuda\n",
            "Successfully installed appdirs-1.4.4 mako-1.1.3 pycuda-2020.1 pytools-2020.4.4\n",
            "Tesla V100-SXM2-16GB\n"
          ],
          "name": "stdout"
        }
      ]
    },
    {
      "cell_type": "code",
      "metadata": {
        "id": "wWEnYDFx7NJ_"
      },
      "source": [
        "torch.cuda.empty_cache()"
      ],
      "execution_count": null,
      "outputs": []
    },
    {
      "cell_type": "markdown",
      "metadata": {
        "id": "07k6NmMAi9bY"
      },
      "source": [
        "## **2.1 Model Height**"
      ]
    },
    {
      "cell_type": "code",
      "metadata": {
        "id": "eDoPMMmhDwLw"
      },
      "source": [
        "wrong_index={}\n",
        "def get_accuracy(y,y_pred,s):\n",
        "  dict={}\n",
        "  length=len(y)\n",
        "  new_length=int(length/5)\n",
        "  acc=0.0\n",
        "  single_label_acc=0.0\n",
        "  for i in range(new_length):\n",
        "    index=5*i\n",
        "    if y[index]==y_pred[index] and y[index+1]==y_pred[index+1] and y[index+2]==y_pred[index+2] and y[index+3]==y_pred[index+3] and y[index+4]==y_pred[index+4]:\n",
        "      acc=acc+1\n",
        "  for i in range(length):\n",
        "    if y[i]==y_pred[i] :\n",
        "      single_label_acc=single_label_acc+1\n",
        "    else:\n",
        "      '''\n",
        "      print(\"X_train_0\",(s+i)/5,\"X_train_1\",(s+i))\n",
        "      cv2_imshow(X_train_0[int((s+i)/5)])\n",
        "      cv2_imshow(X_train_1[s+i])\n",
        "      print(\"true: \",int(y[i]),\"false: \",int(y_pred[i]))\n",
        "      '''\n",
        "      \n",
        "      if (s+i) in wrong_index:\n",
        "        wrong_index[s+i]=wrong_index[s+i]+1\n",
        "      else:\n",
        "        wrong_index[s+i]=1\n",
        "      \n",
        "      \n",
        "      if int(y[i]) in dict:\n",
        "        dict[int(y[i])]=dict[int(y[i])]+1\n",
        "      else:\n",
        "        dict[int(y[i])]=1\n",
        "  print(\"Overall accuracy: \",acc/new_length)\n",
        "  print(\"Single label accuracy: \",single_label_acc/length)\n",
        "  print(dict)"
      ],
      "execution_count": null,
      "outputs": []
    },
    {
      "cell_type": "markdown",
      "metadata": {
        "id": "baxKUfKAL4Jd"
      },
      "source": [
        "### **2.1.1 1CNN+4Dense layer**"
      ]
    },
    {
      "cell_type": "code",
      "metadata": {
        "id": "_7MBGUURMDdX"
      },
      "source": [
        "class Net(nn.Module):\r\n",
        "\r\n",
        "    def __init__(self):\r\n",
        "        super(Net, self).__init__()\r\n",
        "        \r\n",
        "        self.conv1 = nn.Conv2d(1, 10, 2,padding=1)\r\n",
        "        self.norm1=nn.BatchNorm2d(10)\r\n",
        "       \r\n",
        "        self.fc1 = nn.Linear(10 * 8 * 8, 46) \r\n",
        "        self.fc2 = nn.Linear(46, 46)\r\n",
        "        self.fc3 = nn.Linear(46, 24)\r\n",
        "        self.norm4 = nn.BatchNorm1d(24)\r\n",
        "        self.fc4 = nn.Linear(24,11)\r\n",
        "\r\n",
        "    def forward(self, x):\r\n",
        "       \r\n",
        "        # (batch_size,1,16,16) ==> (batch_size,10,17,17)==> (batch_size,10,8,8)\r\n",
        "        x = F.max_pool2d(F.relu(self.conv1(x)), (2, 2))\r\n",
        "  \r\n",
        "        x=self.norm1(x)\r\n",
        "        \r\n",
        "        x = x.view(-1, self.num_flat_features(x))\r\n",
        "\r\n",
        "        x = F.relu(self.fc1(x))\r\n",
        "       \r\n",
        "        x = F.relu(self.fc2(x))\r\n",
        "        x = F.relu(self.fc3(x))\r\n",
        "        x=self.norm4(x)\r\n",
        "        #x = F.dropout(x, training=self.training)\r\n",
        "        x = F.relu(self.fc4(x))\r\n",
        "        \r\n",
        "        return x\r\n",
        "        #return F.log_softmax(x)\r\n",
        "\r\n",
        "    def num_flat_features(self, x):\r\n",
        "        size = x.size()[1:]  # all dimensions except the batch dimension\r\n",
        "        num_features = 1\r\n",
        "        for s in size:\r\n",
        "            num_features *= s\r\n",
        "        return num_features"
      ],
      "execution_count": null,
      "outputs": []
    },
    {
      "cell_type": "code",
      "metadata": {
        "id": "fT4-SZTpcjPE"
      },
      "source": [
        "import torch.optim as optim\n",
        "net1=Net()\n",
        "\n",
        "optimizer = optim.Adam(net1.parameters(), lr=0.001, weight_decay=1e-3,betas=(0.9,0.99))\n",
        "criterion = nn.CrossEntropyLoss()\n",
        "\n",
        "# divide X_train into X_valid and X_train_new\n",
        "\n",
        "a=X_train[0:270000]\n",
        "b=y_train[0:270000]\n",
        "\n",
        "X_train_new=a\n",
        "y_train_new=b.long()\n",
        "\n",
        "batch_num=100\n",
        "batch_size=int(len(y_train_new)/batch_num)"
      ],
      "execution_count": null,
      "outputs": []
    },
    {
      "cell_type": "code",
      "metadata": {
        "colab": {
          "base_uri": "https://localhost:8080/"
        },
        "id": "2Zuann4LcqdT",
        "outputId": "659fe47d-e03f-4284-e5f3-b995d15e9b6a"
      },
      "source": [
        "net1.to(device)\n",
        "input = X_train_new.cuda()\n",
        "\n",
        "min_loss=10000000000000000\n",
        "\n",
        "acc=0\n",
        "acc_loss=0\n",
        "early_stopping=0\n",
        "for trial in range(5):\n",
        "  for epoch in range(200000):\n",
        "      # minibatch gradient descent\n",
        "      loss=0.0\n",
        "      for k in range(batch_num):\n",
        "        l_index=batch_size*k\n",
        "        r_index=batch_size*(k+1)\n",
        "        out = net1(input[l_index:r_index].float().cuda())\n",
        "        avg_loss = criterion(out, y_train_new[:,0][l_index:r_index].cuda())\n",
        "        loss=loss+(avg_loss/batch_num)\n",
        "        optimizer.zero_grad()\n",
        "        avg_loss.backward()\n",
        "        optimizer.step() \n",
        "        #scheduler.step()  \n",
        "        learning_rate = 0.001\n",
        "        for f in net1.parameters():\n",
        "          f.data.sub_(f.grad.data * learning_rate)\n",
        "     \n",
        "      # early stopping\n",
        "      if loss>=min_loss:\n",
        "        acc_loss=acc_loss+1\n",
        "        \n",
        "        if acc_loss >=30:\n",
        "          early_stopping=early_stopping+1\n",
        "          #print('Early stopping！')\n",
        "          break\n",
        "        \n",
        "      elif loss<min_loss:\n",
        "        acc_loss=0\n",
        "        min_loss=loss\n",
        "       \n",
        "      \n",
        "      if epoch%100==0:\n",
        "        print('trial:',trial,'epoch',epoch,':',loss)\n",
        "  \n",
        "  if early_stopping==1:\n",
        "    print(\"Early Stopping trial1!!!\")\n",
        "    optimizer = optim.Adam(net1.parameters(), lr=0.0003, weight_decay=1e-3,betas=(0.9,0.96))\n",
        "\n",
        "  if early_stopping==2:\n",
        "    print(\"Early Stopping trial2!!!\")\n",
        "    optimizer = optim.Adam(net1.parameters(), lr=0.0001, weight_decay=1e-3,betas=(0.9,0.94))\n",
        "  if early_stopping==3:\n",
        "    print(\"Early Stopping trial3!!!\")\n",
        "    optimizer = optim.Adam(net1.parameters(), lr=0.00005, weight_decay=1e-3,betas=(0.9,0.92))\n",
        "  if early_stopping==4:\n",
        "    print(\"End of raining!!!!!\")\n",
        "    break\n",
        "    "
      ],
      "execution_count": null,
      "outputs": [
        {
          "output_type": "stream",
          "text": [
            "trial: 0 epoch 0 : tensor(1.1898, device='cuda:0', grad_fn=<AddBackward0>)\n",
            "trial: 0 epoch 100 : tensor(0.0065, device='cuda:0', grad_fn=<AddBackward0>)\n",
            "trial: 0 epoch 200 : tensor(0.0063, device='cuda:0', grad_fn=<AddBackward0>)\n",
            "Early Stopping trial1!!!\n",
            "trial: 1 epoch 0 : tensor(0.0044, device='cuda:0', grad_fn=<AddBackward0>)\n",
            "Early Stopping trial2!!!\n",
            "trial: 2 epoch 0 : tensor(0.0040, device='cuda:0', grad_fn=<AddBackward0>)\n",
            "Early Stopping trial3!!!\n",
            "trial: 3 epoch 0 : tensor(0.0039, device='cuda:0', grad_fn=<AddBackward0>)\n",
            "End of raining!!!!!\n"
          ],
          "name": "stdout"
        }
      ]
    },
    {
      "cell_type": "code",
      "metadata": {
        "colab": {
          "base_uri": "https://localhost:8080/"
        },
        "id": "vTCa_-daEPiX",
        "outputId": "6f8eb4df-acd6-426e-d539-1fcb2c05ef2b"
      },
      "source": [
        "id=[i*10000 for i in range(29)]\n",
        "wrong_index={}\n",
        "for i in range (len(id)-1):\n",
        "  out = net1(X_train[id[i]:id[i+1]].float().cuda())\n",
        "  y_train_new=y_train[id[i]:id[i+1]].long().cuda()\n",
        "  loss = criterion(out, y_train_new[:,0].cuda())\n",
        "  _, predicted = torch.max(out, 1)\n",
        "  get_accuracy(y_train_new[:,0],predicted,id[i])\n",
        "print(\"Final trainning accuracy(single label):\",len(wrong_index)/280000)"
      ],
      "execution_count": null,
      "outputs": [
        {
          "output_type": "stream",
          "text": [
            "Overall accuracy:  1.0\n",
            "Single label accuracy:  1.0\n",
            "{}\n",
            "Overall accuracy:  0.9995\n",
            "Single label accuracy:  0.9999\n",
            "{8: 1}\n",
            "Overall accuracy:  0.9995\n",
            "Single label accuracy:  0.9999\n",
            "{8: 1}\n",
            "Overall accuracy:  1.0\n",
            "Single label accuracy:  1.0\n",
            "{}\n",
            "Overall accuracy:  1.0\n",
            "Single label accuracy:  1.0\n",
            "{}\n",
            "Overall accuracy:  1.0\n",
            "Single label accuracy:  1.0\n",
            "{}\n",
            "Overall accuracy:  1.0\n",
            "Single label accuracy:  1.0\n",
            "{}\n",
            "Overall accuracy:  1.0\n",
            "Single label accuracy:  1.0\n",
            "{}\n",
            "Overall accuracy:  1.0\n",
            "Single label accuracy:  1.0\n",
            "{}\n",
            "Overall accuracy:  1.0\n",
            "Single label accuracy:  1.0\n",
            "{}\n",
            "Overall accuracy:  1.0\n",
            "Single label accuracy:  1.0\n",
            "{}\n",
            "Overall accuracy:  1.0\n",
            "Single label accuracy:  1.0\n",
            "{}\n",
            "Overall accuracy:  1.0\n",
            "Single label accuracy:  1.0\n",
            "{}\n",
            "Overall accuracy:  1.0\n",
            "Single label accuracy:  1.0\n",
            "{}\n",
            "Overall accuracy:  1.0\n",
            "Single label accuracy:  1.0\n",
            "{}\n",
            "Overall accuracy:  0.9995\n",
            "Single label accuracy:  0.9999\n",
            "{2: 1}\n",
            "Overall accuracy:  1.0\n",
            "Single label accuracy:  1.0\n",
            "{}\n",
            "Overall accuracy:  0.9995\n",
            "Single label accuracy:  0.9999\n",
            "{9: 1}\n",
            "Overall accuracy:  1.0\n",
            "Single label accuracy:  1.0\n",
            "{}\n",
            "Overall accuracy:  1.0\n",
            "Single label accuracy:  1.0\n",
            "{}\n",
            "Overall accuracy:  1.0\n",
            "Single label accuracy:  1.0\n",
            "{}\n",
            "Overall accuracy:  1.0\n",
            "Single label accuracy:  1.0\n",
            "{}\n",
            "Overall accuracy:  1.0\n",
            "Single label accuracy:  1.0\n",
            "{}\n",
            "Overall accuracy:  1.0\n",
            "Single label accuracy:  1.0\n",
            "{}\n",
            "Overall accuracy:  1.0\n",
            "Single label accuracy:  1.0\n",
            "{}\n",
            "Overall accuracy:  0.9995\n",
            "Single label accuracy:  0.9999\n",
            "{4: 1}\n",
            "Overall accuracy:  1.0\n",
            "Single label accuracy:  1.0\n",
            "{}\n",
            "Overall accuracy:  0.9935\n",
            "Single label accuracy:  0.9987\n",
            "{1: 1, 4: 3, 9: 2, 5: 2, 6: 1, 7: 3, 2: 1}\n",
            "Final trainning accuracy(single label): 6.428571428571429e-05\n"
          ],
          "name": "stdout"
        }
      ]
    },
    {
      "cell_type": "markdown",
      "metadata": {
        "id": "uDMB6VNoDJMd"
      },
      "source": [
        "### **2.1.2 2CNN+3Dense layer**"
      ]
    },
    {
      "cell_type": "code",
      "metadata": {
        "id": "d4i6daZ-i82k"
      },
      "source": [
        "# winnie发现： linear function--nn.Linear 会让scalar越来越小\n",
        "class Net(nn.Module):\n",
        "\n",
        "    def __init__(self):\n",
        "        super(Net, self).__init__()\n",
        "        \n",
        "        self.conv1 = nn.Conv2d(1, 10, 2,padding=1)\n",
        "        self.norm1=nn.BatchNorm2d(10)\n",
        "        #self.dropout1=nn.Dropout2d(p=0.02)\n",
        "        self.conv2 = nn.Conv2d(10, 16, 2,padding=1)\n",
        "        \n",
        "        self.norm2=nn.BatchNorm2d(16)\n",
        "        self.fc1 = nn.Linear(16 * 4 * 4, 46)  # 6*6 from image dimension4\n",
        "        #self.norm3 = nn.BatchNorm1d(24)\n",
        "        self.fc3 = nn.Linear(46, 24)\n",
        "        self.norm4 = nn.BatchNorm1d(24)\n",
        "        self.fc4 = nn.Linear(24,11)\n",
        "      \n",
        "    def forward(self, x):\n",
        "       \n",
        "        # (batch_size,1,16,16) ==> (batch_size,6,17,17)==> (batch_size,6,8,8)\n",
        "        x = F.max_pool2d(F.relu(self.conv1(x)), (2, 2))\n",
        "  \n",
        "        # (batch_size,6,8,8) ==> (betach_size,16,9,9)==> (batch_size,16,4,4)\n",
        "        x=self.norm1(x)\n",
        "        #x=self.dropout1(x)\n",
        "        x = F.max_pool2d(F.relu(self.conv2(x)), 2)\n",
        "        # (batch_size,6,4,4) ==> (betach_size,10,5,5)==> (batch_size,10,2,2)\n",
        "     \n",
        "        x=self.norm2(x)\n",
        "        x = x.view(-1, self.num_flat_features(x))\n",
        "\n",
        "        x = F.relu(self.fc1(x))\n",
        " \n",
        "        x = F.relu(self.fc3(x))\n",
        "        x=self.norm4(x)\n",
        "        #x = F.dropout(x, training=self.training)\n",
        "        x = F.relu(self.fc4(x))\n",
        "       \n",
        "        return x\n",
        "        #return F.log_softmax(x)\n",
        "\n",
        "    def num_flat_features(self, x):\n",
        "        size = x.size()[1:]  # all dimensions except the batch dimension\n",
        "        num_features = 1\n",
        "        for s in size:\n",
        "            num_features *= s\n",
        "        return num_features"
      ],
      "execution_count": null,
      "outputs": []
    },
    {
      "cell_type": "code",
      "metadata": {
        "id": "KmAhWEbrdr0E"
      },
      "source": [
        "import torch.optim as optim\n",
        "net1=Net()\n",
        "\n",
        "optimizer = optim.Adam(net1.parameters(), lr=0.001, weight_decay=1e-3,betas=(0.9,0.99))\n",
        "criterion = nn.CrossEntropyLoss()\n",
        "\n",
        "# divide X_train into X_valid and X_train_new\n",
        "\n",
        "a=X_train[0:270000]\n",
        "b=y_train[0:270000]\n",
        "\n",
        "X_train_new=a\n",
        "y_train_new=b.long()\n",
        "\n",
        "batch_num=100\n",
        "batch_size=int(len(y_train_new)/batch_num)"
      ],
      "execution_count": null,
      "outputs": []
    },
    {
      "cell_type": "code",
      "metadata": {
        "id": "cKmp7uHrdyLk",
        "colab": {
          "base_uri": "https://localhost:8080/",
          "height": 338
        },
        "outputId": "aaf890ee-902b-4fcc-e04a-1c41af5379c2"
      },
      "source": [
        "net1.to(device)\n",
        "input = X_train_new.cuda()\n",
        "\n",
        "min_loss=10000000000000000\n",
        "\n",
        "acc=0\n",
        "acc_loss=0\n",
        "early_stopping=0\n",
        "for trial in range(5):\n",
        "  for epoch in range(200000):\n",
        "      # minibatch gradient descent\n",
        "      loss=0.0\n",
        "      for k in range(batch_num):\n",
        "        l_index=batch_size*k\n",
        "        r_index=batch_size*(k+1)\n",
        "        out = net1(input[l_index:r_index].float().cuda())\n",
        "        avg_loss = criterion(out, y_train_new[:,0][l_index:r_index].cuda())\n",
        "        loss=loss+(avg_loss/batch_num)\n",
        "        optimizer.zero_grad()\n",
        "        avg_loss.backward()\n",
        "        optimizer.step() \n",
        "        #scheduler.step()  \n",
        "        learning_rate = 0.001\n",
        "        for f in net1.parameters():\n",
        "          f.data.sub_(f.grad.data * learning_rate)\n",
        "     \n",
        "      # early stopping\n",
        "      if loss>=min_loss:\n",
        "        acc_loss=acc_loss+1\n",
        "        \n",
        "        if acc_loss >=30:\n",
        "          early_stopping=early_stopping+1\n",
        "          #print('Early stopping！')\n",
        "          break\n",
        "        \n",
        "      elif loss<min_loss:\n",
        "        acc_loss=0\n",
        "        min_loss=loss\n",
        "       \n",
        "      \n",
        "      if epoch%100==0:\n",
        "        print('trial:',trial,'epoch',epoch,':',loss)\n",
        "  \n",
        "  if early_stopping==1:\n",
        "    print(\"Early Stopping trial1!!!\")\n",
        "    optimizer = optim.Adam(net1.parameters(), lr=0.0003, weight_decay=1e-3,betas=(0.9,0.96))\n",
        "\n",
        "  if early_stopping==2:\n",
        "    print(\"Early Stopping trial2!!!\")\n",
        "    optimizer = optim.Adam(net1.parameters(), lr=0.0001, weight_decay=1e-3,betas=(0.9,0.94))\n",
        "  if early_stopping==3:\n",
        "    print(\"Early Stopping trial3!!!\")\n",
        "    optimizer = optim.Adam(net1.parameters(), lr=0.00005, weight_decay=1e-3,betas=(0.9,0.92))\n",
        "  if early_stopping==4:\n",
        "    print(\"End of raining!!!!!\")\n",
        "    break"
      ],
      "execution_count": null,
      "outputs": [
        {
          "output_type": "stream",
          "text": [
            "trial: 0 epoch 0 : tensor(1.2552, device='cuda:0', grad_fn=<AddBackward0>)\n"
          ],
          "name": "stdout"
        },
        {
          "output_type": "error",
          "ename": "KeyboardInterrupt",
          "evalue": "ignored",
          "traceback": [
            "\u001b[0;31m---------------------------------------------------------------------------\u001b[0m",
            "\u001b[0;31mKeyboardInterrupt\u001b[0m                         Traceback (most recent call last)",
            "\u001b[0;32m<ipython-input-21-86704b0e6061>\u001b[0m in \u001b[0;36m<module>\u001b[0;34m()\u001b[0m\n\u001b[1;32m     19\u001b[0m         \u001b[0moptimizer\u001b[0m\u001b[0;34m.\u001b[0m\u001b[0mzero_grad\u001b[0m\u001b[0;34m(\u001b[0m\u001b[0;34m)\u001b[0m\u001b[0;34m\u001b[0m\u001b[0;34m\u001b[0m\u001b[0m\n\u001b[1;32m     20\u001b[0m         \u001b[0mavg_loss\u001b[0m\u001b[0;34m.\u001b[0m\u001b[0mbackward\u001b[0m\u001b[0;34m(\u001b[0m\u001b[0;34m)\u001b[0m\u001b[0;34m\u001b[0m\u001b[0;34m\u001b[0m\u001b[0m\n\u001b[0;32m---> 21\u001b[0;31m         \u001b[0moptimizer\u001b[0m\u001b[0;34m.\u001b[0m\u001b[0mstep\u001b[0m\u001b[0;34m(\u001b[0m\u001b[0;34m)\u001b[0m\u001b[0;34m\u001b[0m\u001b[0;34m\u001b[0m\u001b[0m\n\u001b[0m\u001b[1;32m     22\u001b[0m         \u001b[0;31m#scheduler.step()\u001b[0m\u001b[0;34m\u001b[0m\u001b[0;34m\u001b[0m\u001b[0;34m\u001b[0m\u001b[0m\n\u001b[1;32m     23\u001b[0m         \u001b[0mlearning_rate\u001b[0m \u001b[0;34m=\u001b[0m \u001b[0;36m0.001\u001b[0m\u001b[0;34m\u001b[0m\u001b[0;34m\u001b[0m\u001b[0m\n",
            "\u001b[0;32m/usr/local/lib/python3.6/dist-packages/torch/autograd/grad_mode.py\u001b[0m in \u001b[0;36mdecorate_context\u001b[0;34m(*args, **kwargs)\u001b[0m\n\u001b[1;32m     24\u001b[0m         \u001b[0;32mdef\u001b[0m \u001b[0mdecorate_context\u001b[0m\u001b[0;34m(\u001b[0m\u001b[0;34m*\u001b[0m\u001b[0margs\u001b[0m\u001b[0;34m,\u001b[0m \u001b[0;34m**\u001b[0m\u001b[0mkwargs\u001b[0m\u001b[0;34m)\u001b[0m\u001b[0;34m:\u001b[0m\u001b[0;34m\u001b[0m\u001b[0;34m\u001b[0m\u001b[0m\n\u001b[1;32m     25\u001b[0m             \u001b[0;32mwith\u001b[0m \u001b[0mself\u001b[0m\u001b[0;34m.\u001b[0m\u001b[0m__class__\u001b[0m\u001b[0;34m(\u001b[0m\u001b[0;34m)\u001b[0m\u001b[0;34m:\u001b[0m\u001b[0;34m\u001b[0m\u001b[0;34m\u001b[0m\u001b[0m\n\u001b[0;32m---> 26\u001b[0;31m                 \u001b[0;32mreturn\u001b[0m \u001b[0mfunc\u001b[0m\u001b[0;34m(\u001b[0m\u001b[0;34m*\u001b[0m\u001b[0margs\u001b[0m\u001b[0;34m,\u001b[0m \u001b[0;34m**\u001b[0m\u001b[0mkwargs\u001b[0m\u001b[0;34m)\u001b[0m\u001b[0;34m\u001b[0m\u001b[0;34m\u001b[0m\u001b[0m\n\u001b[0m\u001b[1;32m     27\u001b[0m         \u001b[0;32mreturn\u001b[0m \u001b[0mcast\u001b[0m\u001b[0;34m(\u001b[0m\u001b[0mF\u001b[0m\u001b[0;34m,\u001b[0m \u001b[0mdecorate_context\u001b[0m\u001b[0;34m)\u001b[0m\u001b[0;34m\u001b[0m\u001b[0;34m\u001b[0m\u001b[0m\n\u001b[1;32m     28\u001b[0m \u001b[0;34m\u001b[0m\u001b[0m\n",
            "\u001b[0;32m/usr/local/lib/python3.6/dist-packages/torch/optim/adam.py\u001b[0m in \u001b[0;36mstep\u001b[0;34m(self, closure)\u001b[0m\n\u001b[1;32m     78\u001b[0m                 \u001b[0;32mif\u001b[0m \u001b[0mp\u001b[0m\u001b[0;34m.\u001b[0m\u001b[0mgrad\u001b[0m \u001b[0;32mis\u001b[0m \u001b[0;32mnot\u001b[0m \u001b[0;32mNone\u001b[0m\u001b[0;34m:\u001b[0m\u001b[0;34m\u001b[0m\u001b[0;34m\u001b[0m\u001b[0m\n\u001b[1;32m     79\u001b[0m                     \u001b[0mparams_with_grad\u001b[0m\u001b[0;34m.\u001b[0m\u001b[0mappend\u001b[0m\u001b[0;34m(\u001b[0m\u001b[0mp\u001b[0m\u001b[0;34m)\u001b[0m\u001b[0;34m\u001b[0m\u001b[0;34m\u001b[0m\u001b[0m\n\u001b[0;32m---> 80\u001b[0;31m                     \u001b[0;32mif\u001b[0m \u001b[0mp\u001b[0m\u001b[0;34m.\u001b[0m\u001b[0mgrad\u001b[0m\u001b[0;34m.\u001b[0m\u001b[0mis_sparse\u001b[0m\u001b[0;34m:\u001b[0m\u001b[0;34m\u001b[0m\u001b[0;34m\u001b[0m\u001b[0m\n\u001b[0m\u001b[1;32m     81\u001b[0m                         \u001b[0;32mraise\u001b[0m \u001b[0mRuntimeError\u001b[0m\u001b[0;34m(\u001b[0m\u001b[0;34m'Adam does not support sparse gradients, please consider SparseAdam instead'\u001b[0m\u001b[0;34m)\u001b[0m\u001b[0;34m\u001b[0m\u001b[0;34m\u001b[0m\u001b[0m\n\u001b[1;32m     82\u001b[0m                     \u001b[0mgrads\u001b[0m\u001b[0;34m.\u001b[0m\u001b[0mappend\u001b[0m\u001b[0;34m(\u001b[0m\u001b[0mp\u001b[0m\u001b[0;34m.\u001b[0m\u001b[0mgrad\u001b[0m\u001b[0;34m)\u001b[0m\u001b[0;34m\u001b[0m\u001b[0;34m\u001b[0m\u001b[0m\n",
            "\u001b[0;32m/usr/local/lib/python3.6/dist-packages/torch/tensor.py\u001b[0m in \u001b[0;36mgrad\u001b[0;34m(self)\u001b[0m\n\u001b[1;32m    940\u001b[0m         \"\"\"\n\u001b[1;32m    941\u001b[0m         \u001b[0mrelevant_args\u001b[0m \u001b[0;34m=\u001b[0m \u001b[0;34m(\u001b[0m\u001b[0mself\u001b[0m\u001b[0;34m,\u001b[0m\u001b[0;34m)\u001b[0m\u001b[0;34m\u001b[0m\u001b[0;34m\u001b[0m\u001b[0m\n\u001b[0;32m--> 942\u001b[0;31m         \u001b[0;32mfrom\u001b[0m \u001b[0mtorch\u001b[0m\u001b[0;34m.\u001b[0m\u001b[0moverrides\u001b[0m \u001b[0;32mimport\u001b[0m \u001b[0mhas_torch_function\u001b[0m\u001b[0;34m,\u001b[0m \u001b[0mhandle_torch_function\u001b[0m\u001b[0;34m\u001b[0m\u001b[0;34m\u001b[0m\u001b[0m\n\u001b[0m\u001b[1;32m    943\u001b[0m         \u001b[0;32mif\u001b[0m \u001b[0mtype\u001b[0m\u001b[0;34m(\u001b[0m\u001b[0mself\u001b[0m\u001b[0;34m)\u001b[0m \u001b[0;32mis\u001b[0m \u001b[0;32mnot\u001b[0m \u001b[0mTensor\u001b[0m \u001b[0;32mand\u001b[0m \u001b[0mhas_torch_function\u001b[0m\u001b[0;34m(\u001b[0m\u001b[0mrelevant_args\u001b[0m\u001b[0;34m)\u001b[0m\u001b[0;34m:\u001b[0m\u001b[0;34m\u001b[0m\u001b[0;34m\u001b[0m\u001b[0m\n\u001b[1;32m    944\u001b[0m             \u001b[0;31m# TODO mypy doesn't support @property, see: https://github.com/python/mypy/issues/6185\u001b[0m\u001b[0;34m\u001b[0m\u001b[0;34m\u001b[0m\u001b[0;34m\u001b[0m\u001b[0m\n",
            "\u001b[0;32m/usr/lib/python3.6/importlib/_bootstrap.py\u001b[0m in \u001b[0;36m_handle_fromlist\u001b[0;34m(module, fromlist, import_, recursive)\u001b[0m\n",
            "\u001b[0;31mKeyboardInterrupt\u001b[0m: "
          ]
        }
      ]
    },
    {
      "cell_type": "code",
      "metadata": {
        "id": "8uwhDVJfc-tF"
      },
      "source": [
        "id=[i*10000 for i in range(29)]\n",
        "wrong_index={}\n",
        "for i in range (len(id)-1):\n",
        "  out = net1(X_train[id[i]:id[i+1]].float().cuda())\n",
        "  y_train_new=y_train[id[i]:id[i+1]].long().cuda()\n",
        "  loss = criterion(out, y_train_new[:,0].cuda())\n",
        "  _, predicted = torch.max(out, 1)\n",
        "  get_accuracy(y_train_new[:,0],predicted,id[i])\n",
        "print(\"Final trainning accuracy(single label):\",len(wrong_index)/280000)"
      ],
      "execution_count": null,
      "outputs": []
    },
    {
      "cell_type": "markdown",
      "metadata": {
        "id": "gAcsmlw4vK5e"
      },
      "source": [
        "## **2.2 Model width**"
      ]
    },
    {
      "cell_type": "markdown",
      "metadata": {
        "id": "b-DfVbGfh9_E"
      },
      "source": [
        "### 2.2.1 Large width"
      ]
    },
    {
      "cell_type": "code",
      "metadata": {
        "id": "XjrUzFVlbJK6"
      },
      "source": [
        "\n",
        "class Net(nn.Module):\n",
        "\n",
        "    def __init__(self):\n",
        "        super(Net, self).__init__()\n",
        "        \n",
        "        self.conv1 = nn.Conv2d(1, 10, 2,padding=1)\n",
        "        self.norm1=nn.BatchNorm2d(10)\n",
        "        #self.dropout1=nn.Dropout2d(p=0.02)\n",
        "        self.conv2 = nn.Conv2d(10, 16, 2,padding=1)\n",
        "        \n",
        "        self.norm2=nn.BatchNorm2d(16)\n",
        "        self.fc1 = nn.Linear(16 * 4 * 4, 64)  # 6*6 from image dimension4\n",
        "        self.fc5 = nn.Linear(64, 64)\n",
        "        self.norm3 = nn.BatchNorm1d(64)\n",
        "        self.fc3 = nn.Linear(64, 24)\n",
        "        self.norm4 = nn.BatchNorm1d(24)\n",
        "        self.fc4 = nn.Linear(24,11)\n",
        "      \n",
        "    def forward(self, x):\n",
        "       \n",
        "        # (batch_size,1,16,16) ==> (batch_size,6,17,17)==> (batch_size,6,8,8)\n",
        "        x = F.max_pool2d(F.relu(self.conv1(x)), (2, 2))\n",
        "  \n",
        "        # (batch_size,6,8,8) ==> (betach_size,16,9,9)==> (batch_size,16,4,4)\n",
        "        x=self.norm1(x)\n",
        "        #x=self.dropout1(x)\n",
        "        x = F.max_pool2d(F.relu(self.conv2(x)), 2)\n",
        "        # (batch_size,6,4,4) ==> (betach_size,10,5,5)==> (batch_size,10,2,2)\n",
        "     \n",
        "        x=self.norm2(x)\n",
        "        x = x.view(-1, self.num_flat_features(x))\n",
        "\n",
        "        x = F.relu(self.fc1(x))\n",
        "        x = F.relu(self.fc5(x))\n",
        "        x=self.norm3(x)\n",
        "        x = F.relu(self.fc3(x))\n",
        "        x=self.norm4(x)\n",
        "        #x = F.dropout(x, training=self.training)\n",
        "        x = F.relu(self.fc4(x))\n",
        "       \n",
        "        return x\n",
        "        #return F.log_softmax(x)\n",
        "\n",
        "    def num_flat_features(self, x):\n",
        "        size = x.size()[1:]  # all dimensions except the batch dimension\n",
        "        num_features = 1\n",
        "        for s in size:\n",
        "            num_features *= s\n",
        "        return num_features"
      ],
      "execution_count": null,
      "outputs": []
    },
    {
      "cell_type": "code",
      "metadata": {
        "id": "UL_rFm1Ogby2"
      },
      "source": [
        "import torch.optim as optim\n",
        "net1=Net()\n",
        "\n",
        "optimizer = optim.Adam(net1.parameters(), lr=0.001, weight_decay=1e-3,betas=(0.9,0.99))\n",
        "criterion = nn.CrossEntropyLoss()\n",
        "\n",
        "# divide X_train into X_valid and X_train_new\n",
        "\n",
        "a=X_train[0:270000]\n",
        "b=y_train[0:270000]\n",
        "\n",
        "X_train_new=a\n",
        "y_train_new=b.long()\n",
        "\n",
        "batch_num=100\n",
        "batch_size=int(len(y_train_new)/batch_num)"
      ],
      "execution_count": null,
      "outputs": []
    },
    {
      "cell_type": "code",
      "metadata": {
        "id": "LxC_ZKhihjIJ",
        "colab": {
          "base_uri": "https://localhost:8080/",
          "height": 404
        },
        "outputId": "888b6aed-8f14-43f3-8092-447a9e9592da"
      },
      "source": [
        "net1.to(device)\n",
        "input = X_train_new.cuda()\n",
        "\n",
        "min_loss=10000000000000000\n",
        "\n",
        "acc=0\n",
        "acc_loss=0\n",
        "early_stopping=0\n",
        "for trial in range(5):\n",
        "  for epoch in range(200000):\n",
        "      # minibatch gradient descent\n",
        "      loss=0.0\n",
        "      for k in range(batch_num):\n",
        "        l_index=batch_size*k\n",
        "        r_index=batch_size*(k+1)\n",
        "        out = net1(input[l_index:r_index].float().cuda())\n",
        "        avg_loss = criterion(out, y_train_new[:,0][l_index:r_index].cuda())\n",
        "        loss=loss+(avg_loss/batch_num)\n",
        "        optimizer.zero_grad()\n",
        "        avg_loss.backward()\n",
        "        optimizer.step() \n",
        "        #scheduler.step()  \n",
        "        learning_rate = 0.001\n",
        "        for f in net1.parameters():\n",
        "          f.data.sub_(f.grad.data * learning_rate)\n",
        "     \n",
        "      # early stopping\n",
        "      if loss>=min_loss:\n",
        "        acc_loss=acc_loss+1\n",
        "        \n",
        "        if acc_loss >=30:\n",
        "          early_stopping=early_stopping+1\n",
        "          #print('Early stopping！')\n",
        "          break\n",
        "        \n",
        "      elif loss<min_loss:\n",
        "        acc_loss=0\n",
        "        min_loss=loss\n",
        "       \n",
        "      \n",
        "      if epoch%100==0:\n",
        "        print('trial:',trial,'epoch',epoch,':',loss)\n",
        "  \n",
        "  if early_stopping==1:\n",
        "    print(\"Early Stopping trial1!!!\")\n",
        "    optimizer = optim.Adam(net1.parameters(), lr=0.0003, weight_decay=1e-3,betas=(0.9,0.96))\n",
        "\n",
        "  if early_stopping==2:\n",
        "    print(\"Early Stopping trial2!!!\")\n",
        "    optimizer = optim.Adam(net1.parameters(), lr=0.0001, weight_decay=1e-3,betas=(0.9,0.94))\n",
        "  if early_stopping==3:\n",
        "    print(\"Early Stopping trial3!!!\")\n",
        "    optimizer = optim.Adam(net1.parameters(), lr=0.00005, weight_decay=1e-3,betas=(0.9,0.92))\n",
        "  if early_stopping==4:\n",
        "    print(\"End of raining!!!!!\")\n",
        "    break"
      ],
      "execution_count": null,
      "outputs": [
        {
          "output_type": "stream",
          "text": [
            "trial: 0 epoch 0 : tensor(0.8218, device='cuda:0', grad_fn=<AddBackward0>)\n"
          ],
          "name": "stdout"
        },
        {
          "output_type": "error",
          "ename": "KeyboardInterrupt",
          "evalue": "ignored",
          "traceback": [
            "\u001b[0;31m---------------------------------------------------------------------------\u001b[0m",
            "\u001b[0;31mKeyboardInterrupt\u001b[0m                         Traceback (most recent call last)",
            "\u001b[0;32m<ipython-input-24-86704b0e6061>\u001b[0m in \u001b[0;36m<module>\u001b[0;34m()\u001b[0m\n\u001b[1;32m     14\u001b[0m         \u001b[0ml_index\u001b[0m\u001b[0;34m=\u001b[0m\u001b[0mbatch_size\u001b[0m\u001b[0;34m*\u001b[0m\u001b[0mk\u001b[0m\u001b[0;34m\u001b[0m\u001b[0;34m\u001b[0m\u001b[0m\n\u001b[1;32m     15\u001b[0m         \u001b[0mr_index\u001b[0m\u001b[0;34m=\u001b[0m\u001b[0mbatch_size\u001b[0m\u001b[0;34m*\u001b[0m\u001b[0;34m(\u001b[0m\u001b[0mk\u001b[0m\u001b[0;34m+\u001b[0m\u001b[0;36m1\u001b[0m\u001b[0;34m)\u001b[0m\u001b[0;34m\u001b[0m\u001b[0;34m\u001b[0m\u001b[0m\n\u001b[0;32m---> 16\u001b[0;31m         \u001b[0mout\u001b[0m \u001b[0;34m=\u001b[0m \u001b[0mnet1\u001b[0m\u001b[0;34m(\u001b[0m\u001b[0minput\u001b[0m\u001b[0;34m[\u001b[0m\u001b[0ml_index\u001b[0m\u001b[0;34m:\u001b[0m\u001b[0mr_index\u001b[0m\u001b[0;34m]\u001b[0m\u001b[0;34m.\u001b[0m\u001b[0mfloat\u001b[0m\u001b[0;34m(\u001b[0m\u001b[0;34m)\u001b[0m\u001b[0;34m.\u001b[0m\u001b[0mcuda\u001b[0m\u001b[0;34m(\u001b[0m\u001b[0;34m)\u001b[0m\u001b[0;34m)\u001b[0m\u001b[0;34m\u001b[0m\u001b[0;34m\u001b[0m\u001b[0m\n\u001b[0m\u001b[1;32m     17\u001b[0m         \u001b[0mavg_loss\u001b[0m \u001b[0;34m=\u001b[0m \u001b[0mcriterion\u001b[0m\u001b[0;34m(\u001b[0m\u001b[0mout\u001b[0m\u001b[0;34m,\u001b[0m \u001b[0my_train_new\u001b[0m\u001b[0;34m[\u001b[0m\u001b[0;34m:\u001b[0m\u001b[0;34m,\u001b[0m\u001b[0;36m0\u001b[0m\u001b[0;34m]\u001b[0m\u001b[0;34m[\u001b[0m\u001b[0ml_index\u001b[0m\u001b[0;34m:\u001b[0m\u001b[0mr_index\u001b[0m\u001b[0;34m]\u001b[0m\u001b[0;34m.\u001b[0m\u001b[0mcuda\u001b[0m\u001b[0;34m(\u001b[0m\u001b[0;34m)\u001b[0m\u001b[0;34m)\u001b[0m\u001b[0;34m\u001b[0m\u001b[0;34m\u001b[0m\u001b[0m\n\u001b[1;32m     18\u001b[0m         \u001b[0mloss\u001b[0m\u001b[0;34m=\u001b[0m\u001b[0mloss\u001b[0m\u001b[0;34m+\u001b[0m\u001b[0;34m(\u001b[0m\u001b[0mavg_loss\u001b[0m\u001b[0;34m/\u001b[0m\u001b[0mbatch_num\u001b[0m\u001b[0;34m)\u001b[0m\u001b[0;34m\u001b[0m\u001b[0;34m\u001b[0m\u001b[0m\n",
            "\u001b[0;32m/usr/local/lib/python3.6/dist-packages/torch/nn/modules/module.py\u001b[0m in \u001b[0;36m_call_impl\u001b[0;34m(self, *input, **kwargs)\u001b[0m\n\u001b[1;32m    725\u001b[0m             \u001b[0mresult\u001b[0m \u001b[0;34m=\u001b[0m \u001b[0mself\u001b[0m\u001b[0;34m.\u001b[0m\u001b[0m_slow_forward\u001b[0m\u001b[0;34m(\u001b[0m\u001b[0;34m*\u001b[0m\u001b[0minput\u001b[0m\u001b[0;34m,\u001b[0m \u001b[0;34m**\u001b[0m\u001b[0mkwargs\u001b[0m\u001b[0;34m)\u001b[0m\u001b[0;34m\u001b[0m\u001b[0;34m\u001b[0m\u001b[0m\n\u001b[1;32m    726\u001b[0m         \u001b[0;32melse\u001b[0m\u001b[0;34m:\u001b[0m\u001b[0;34m\u001b[0m\u001b[0;34m\u001b[0m\u001b[0m\n\u001b[0;32m--> 727\u001b[0;31m             \u001b[0mresult\u001b[0m \u001b[0;34m=\u001b[0m \u001b[0mself\u001b[0m\u001b[0;34m.\u001b[0m\u001b[0mforward\u001b[0m\u001b[0;34m(\u001b[0m\u001b[0;34m*\u001b[0m\u001b[0minput\u001b[0m\u001b[0;34m,\u001b[0m \u001b[0;34m**\u001b[0m\u001b[0mkwargs\u001b[0m\u001b[0;34m)\u001b[0m\u001b[0;34m\u001b[0m\u001b[0;34m\u001b[0m\u001b[0m\n\u001b[0m\u001b[1;32m    728\u001b[0m         for hook in itertools.chain(\n\u001b[1;32m    729\u001b[0m                 \u001b[0m_global_forward_hooks\u001b[0m\u001b[0;34m.\u001b[0m\u001b[0mvalues\u001b[0m\u001b[0;34m(\u001b[0m\u001b[0;34m)\u001b[0m\u001b[0;34m,\u001b[0m\u001b[0;34m\u001b[0m\u001b[0;34m\u001b[0m\u001b[0m\n",
            "\u001b[0;32m<ipython-input-22-4f30b0fe79d5>\u001b[0m in \u001b[0;36mforward\u001b[0;34m(self, x)\u001b[0m\n\u001b[1;32m     33\u001b[0m \u001b[0;34m\u001b[0m\u001b[0m\n\u001b[1;32m     34\u001b[0m         \u001b[0mx\u001b[0m \u001b[0;34m=\u001b[0m \u001b[0mF\u001b[0m\u001b[0;34m.\u001b[0m\u001b[0mrelu\u001b[0m\u001b[0;34m(\u001b[0m\u001b[0mself\u001b[0m\u001b[0;34m.\u001b[0m\u001b[0mfc1\u001b[0m\u001b[0;34m(\u001b[0m\u001b[0mx\u001b[0m\u001b[0;34m)\u001b[0m\u001b[0;34m)\u001b[0m\u001b[0;34m\u001b[0m\u001b[0;34m\u001b[0m\u001b[0m\n\u001b[0;32m---> 35\u001b[0;31m         \u001b[0mx\u001b[0m \u001b[0;34m=\u001b[0m \u001b[0mF\u001b[0m\u001b[0;34m.\u001b[0m\u001b[0mrelu\u001b[0m\u001b[0;34m(\u001b[0m\u001b[0mself\u001b[0m\u001b[0;34m.\u001b[0m\u001b[0mfc5\u001b[0m\u001b[0;34m(\u001b[0m\u001b[0mx\u001b[0m\u001b[0;34m)\u001b[0m\u001b[0;34m)\u001b[0m\u001b[0;34m\u001b[0m\u001b[0;34m\u001b[0m\u001b[0m\n\u001b[0m\u001b[1;32m     36\u001b[0m         \u001b[0mx\u001b[0m\u001b[0;34m=\u001b[0m\u001b[0mself\u001b[0m\u001b[0;34m.\u001b[0m\u001b[0mnorm3\u001b[0m\u001b[0;34m(\u001b[0m\u001b[0mx\u001b[0m\u001b[0;34m)\u001b[0m\u001b[0;34m\u001b[0m\u001b[0;34m\u001b[0m\u001b[0m\n\u001b[1;32m     37\u001b[0m         \u001b[0mx\u001b[0m \u001b[0;34m=\u001b[0m \u001b[0mF\u001b[0m\u001b[0;34m.\u001b[0m\u001b[0mrelu\u001b[0m\u001b[0;34m(\u001b[0m\u001b[0mself\u001b[0m\u001b[0;34m.\u001b[0m\u001b[0mfc3\u001b[0m\u001b[0;34m(\u001b[0m\u001b[0mx\u001b[0m\u001b[0;34m)\u001b[0m\u001b[0;34m)\u001b[0m\u001b[0;34m\u001b[0m\u001b[0;34m\u001b[0m\u001b[0m\n",
            "\u001b[0;32m/usr/local/lib/python3.6/dist-packages/torch/nn/modules/module.py\u001b[0m in \u001b[0;36m_call_impl\u001b[0;34m(self, *input, **kwargs)\u001b[0m\n\u001b[1;32m    725\u001b[0m             \u001b[0mresult\u001b[0m \u001b[0;34m=\u001b[0m \u001b[0mself\u001b[0m\u001b[0;34m.\u001b[0m\u001b[0m_slow_forward\u001b[0m\u001b[0;34m(\u001b[0m\u001b[0;34m*\u001b[0m\u001b[0minput\u001b[0m\u001b[0;34m,\u001b[0m \u001b[0;34m**\u001b[0m\u001b[0mkwargs\u001b[0m\u001b[0;34m)\u001b[0m\u001b[0;34m\u001b[0m\u001b[0;34m\u001b[0m\u001b[0m\n\u001b[1;32m    726\u001b[0m         \u001b[0;32melse\u001b[0m\u001b[0;34m:\u001b[0m\u001b[0;34m\u001b[0m\u001b[0;34m\u001b[0m\u001b[0m\n\u001b[0;32m--> 727\u001b[0;31m             \u001b[0mresult\u001b[0m \u001b[0;34m=\u001b[0m \u001b[0mself\u001b[0m\u001b[0;34m.\u001b[0m\u001b[0mforward\u001b[0m\u001b[0;34m(\u001b[0m\u001b[0;34m*\u001b[0m\u001b[0minput\u001b[0m\u001b[0;34m,\u001b[0m \u001b[0;34m**\u001b[0m\u001b[0mkwargs\u001b[0m\u001b[0;34m)\u001b[0m\u001b[0;34m\u001b[0m\u001b[0;34m\u001b[0m\u001b[0m\n\u001b[0m\u001b[1;32m    728\u001b[0m         for hook in itertools.chain(\n\u001b[1;32m    729\u001b[0m                 \u001b[0m_global_forward_hooks\u001b[0m\u001b[0;34m.\u001b[0m\u001b[0mvalues\u001b[0m\u001b[0;34m(\u001b[0m\u001b[0;34m)\u001b[0m\u001b[0;34m,\u001b[0m\u001b[0;34m\u001b[0m\u001b[0;34m\u001b[0m\u001b[0m\n",
            "\u001b[0;32m/usr/local/lib/python3.6/dist-packages/torch/nn/modules/linear.py\u001b[0m in \u001b[0;36mforward\u001b[0;34m(self, input)\u001b[0m\n\u001b[1;32m     91\u001b[0m \u001b[0;34m\u001b[0m\u001b[0m\n\u001b[1;32m     92\u001b[0m     \u001b[0;32mdef\u001b[0m \u001b[0mforward\u001b[0m\u001b[0;34m(\u001b[0m\u001b[0mself\u001b[0m\u001b[0;34m,\u001b[0m \u001b[0minput\u001b[0m\u001b[0;34m:\u001b[0m \u001b[0mTensor\u001b[0m\u001b[0;34m)\u001b[0m \u001b[0;34m->\u001b[0m \u001b[0mTensor\u001b[0m\u001b[0;34m:\u001b[0m\u001b[0;34m\u001b[0m\u001b[0;34m\u001b[0m\u001b[0m\n\u001b[0;32m---> 93\u001b[0;31m         \u001b[0;32mreturn\u001b[0m \u001b[0mF\u001b[0m\u001b[0;34m.\u001b[0m\u001b[0mlinear\u001b[0m\u001b[0;34m(\u001b[0m\u001b[0minput\u001b[0m\u001b[0;34m,\u001b[0m \u001b[0mself\u001b[0m\u001b[0;34m.\u001b[0m\u001b[0mweight\u001b[0m\u001b[0;34m,\u001b[0m \u001b[0mself\u001b[0m\u001b[0;34m.\u001b[0m\u001b[0mbias\u001b[0m\u001b[0;34m)\u001b[0m\u001b[0;34m\u001b[0m\u001b[0;34m\u001b[0m\u001b[0m\n\u001b[0m\u001b[1;32m     94\u001b[0m \u001b[0;34m\u001b[0m\u001b[0m\n\u001b[1;32m     95\u001b[0m     \u001b[0;32mdef\u001b[0m \u001b[0mextra_repr\u001b[0m\u001b[0;34m(\u001b[0m\u001b[0mself\u001b[0m\u001b[0;34m)\u001b[0m \u001b[0;34m->\u001b[0m \u001b[0mstr\u001b[0m\u001b[0;34m:\u001b[0m\u001b[0;34m\u001b[0m\u001b[0;34m\u001b[0m\u001b[0m\n",
            "\u001b[0;32m/usr/local/lib/python3.6/dist-packages/torch/nn/functional.py\u001b[0m in \u001b[0;36mlinear\u001b[0;34m(input, weight, bias)\u001b[0m\n\u001b[1;32m   1688\u001b[0m     \u001b[0;32mif\u001b[0m \u001b[0minput\u001b[0m\u001b[0;34m.\u001b[0m\u001b[0mdim\u001b[0m\u001b[0;34m(\u001b[0m\u001b[0;34m)\u001b[0m \u001b[0;34m==\u001b[0m \u001b[0;36m2\u001b[0m \u001b[0;32mand\u001b[0m \u001b[0mbias\u001b[0m \u001b[0;32mis\u001b[0m \u001b[0;32mnot\u001b[0m \u001b[0;32mNone\u001b[0m\u001b[0;34m:\u001b[0m\u001b[0;34m\u001b[0m\u001b[0;34m\u001b[0m\u001b[0m\n\u001b[1;32m   1689\u001b[0m         \u001b[0;31m# fused op is marginally faster\u001b[0m\u001b[0;34m\u001b[0m\u001b[0;34m\u001b[0m\u001b[0;34m\u001b[0m\u001b[0m\n\u001b[0;32m-> 1690\u001b[0;31m         \u001b[0mret\u001b[0m \u001b[0;34m=\u001b[0m \u001b[0mtorch\u001b[0m\u001b[0;34m.\u001b[0m\u001b[0maddmm\u001b[0m\u001b[0;34m(\u001b[0m\u001b[0mbias\u001b[0m\u001b[0;34m,\u001b[0m \u001b[0minput\u001b[0m\u001b[0;34m,\u001b[0m \u001b[0mweight\u001b[0m\u001b[0;34m.\u001b[0m\u001b[0mt\u001b[0m\u001b[0;34m(\u001b[0m\u001b[0;34m)\u001b[0m\u001b[0;34m)\u001b[0m\u001b[0;34m\u001b[0m\u001b[0;34m\u001b[0m\u001b[0m\n\u001b[0m\u001b[1;32m   1691\u001b[0m     \u001b[0;32melse\u001b[0m\u001b[0;34m:\u001b[0m\u001b[0;34m\u001b[0m\u001b[0;34m\u001b[0m\u001b[0m\n\u001b[1;32m   1692\u001b[0m         \u001b[0moutput\u001b[0m \u001b[0;34m=\u001b[0m \u001b[0minput\u001b[0m\u001b[0;34m.\u001b[0m\u001b[0mmatmul\u001b[0m\u001b[0;34m(\u001b[0m\u001b[0mweight\u001b[0m\u001b[0;34m.\u001b[0m\u001b[0mt\u001b[0m\u001b[0;34m(\u001b[0m\u001b[0;34m)\u001b[0m\u001b[0;34m)\u001b[0m\u001b[0;34m\u001b[0m\u001b[0;34m\u001b[0m\u001b[0m\n",
            "\u001b[0;31mKeyboardInterrupt\u001b[0m: "
          ]
        }
      ]
    },
    {
      "cell_type": "code",
      "metadata": {
        "id": "hu3EWet2hskC"
      },
      "source": [
        "id=[i*10000 for i in range(29)]\n",
        "wrong_index={}\n",
        "for i in range (len(id)-1):\n",
        "  out = net1(X_train[id[i]:id[i+1]].float().cuda())\n",
        "  y_train_new=y_train[id[i]:id[i+1]].long().cuda()\n",
        "  loss = criterion(out, y_train_new[:,0].cuda())\n",
        "  _, predicted = torch.max(out, 1)\n",
        "  get_accuracy(y_train_new[:,0],predicted,id[i])\n",
        "print(\"Final trainning accuracy(single label):\",len(wrong_index)/280000)"
      ],
      "execution_count": null,
      "outputs": []
    },
    {
      "cell_type": "markdown",
      "metadata": {
        "id": "X4g-LX7WiIUC"
      },
      "source": [
        "### **2.2.2 Small width**"
      ]
    },
    {
      "cell_type": "code",
      "metadata": {
        "id": "WLFW_lAViHm-"
      },
      "source": [
        "class Net(nn.Module):\n",
        "\n",
        "    def __init__(self):\n",
        "        super(Net, self).__init__()\n",
        "        \n",
        "        self.conv1 = nn.Conv2d(1, 10, 2,padding=1)\n",
        "        self.norm1=nn.BatchNorm2d(10)\n",
        "        #self.dropout1=nn.Dropout2d(p=0.02)\n",
        "        self.conv2 = nn.Conv2d(10, 16, 2,padding=1)\n",
        "        \n",
        "        self.norm2=nn.BatchNorm2d(16)\n",
        "        self.fc1 = nn.Linear(16 * 4 * 4, 24)  # 6*6 from image dimension4\n",
        "        self.fc5 = nn.Linear(24, 24)\n",
        "        self.norm3 = nn.BatchNorm1d(24)\n",
        "        self.fc3 = nn.Linear(24, 24)\n",
        "        self.norm4 = nn.BatchNorm1d(24)\n",
        "        self.fc4 = nn.Linear(24,11)\n",
        "      \n",
        "    def forward(self, x):\n",
        "       \n",
        "        # (batch_size,1,16,16) ==> (batch_size,6,17,17)==> (batch_size,6,8,8)\n",
        "        x = F.max_pool2d(F.relu(self.conv1(x)), (2, 2))\n",
        "  \n",
        "        # (batch_size,6,8,8) ==> (betach_size,16,9,9)==> (batch_size,16,4,4)\n",
        "        x=self.norm1(x)\n",
        "        #x=self.dropout1(x)\n",
        "        x = F.max_pool2d(F.relu(self.conv2(x)), 2)\n",
        "        # (batch_size,6,4,4) ==> (betach_size,10,5,5)==> (batch_size,10,2,2)\n",
        "     \n",
        "        x=self.norm2(x)\n",
        "        x = x.view(-1, self.num_flat_features(x))\n",
        "\n",
        "        x = F.relu(self.fc1(x))\n",
        "        x = F.relu(self.fc5(x))\n",
        "        x=self.norm3(x)\n",
        "        x = F.relu(self.fc3(x))\n",
        "        x=self.norm4(x)\n",
        "        #x = F.dropout(x, training=self.training)\n",
        "        x = F.relu(self.fc4(x))\n",
        "       \n",
        "        return x\n",
        "        #return F.log_softmax(x)\n",
        "\n",
        "    def num_flat_features(self, x):\n",
        "        size = x.size()[1:]  # all dimensions except the batch dimension\n",
        "        num_features = 1\n",
        "        for s in size:\n",
        "            num_features *= s\n",
        "        return num_features"
      ],
      "execution_count": null,
      "outputs": []
    },
    {
      "cell_type": "code",
      "metadata": {
        "id": "WYjSr_PSmrz5"
      },
      "source": [
        "import torch.optim as optim\n",
        "net1=Net()\n",
        "\n",
        "optimizer = optim.Adam(net1.parameters(), lr=0.001, weight_decay=1e-3,betas=(0.9,0.99))\n",
        "criterion = nn.CrossEntropyLoss()\n",
        "\n",
        "# divide X_train into X_valid and X_train_new\n",
        "\n",
        "a=X_train[0:270000]\n",
        "b=y_train[0:270000]\n",
        "\n",
        "X_train_new=a\n",
        "y_train_new=b.long()\n",
        "\n",
        "batch_num=100\n",
        "batch_size=int(len(y_train_new)/batch_num)"
      ],
      "execution_count": null,
      "outputs": []
    },
    {
      "cell_type": "code",
      "metadata": {
        "id": "jzYAgXI5mx4m",
        "colab": {
          "base_uri": "https://localhost:8080/",
          "height": 420
        },
        "outputId": "b96b5792-dea5-4748-c820-82a68f4101fe"
      },
      "source": [
        "net1.to(device)\n",
        "input = X_train_new.cuda()\n",
        "\n",
        "min_loss=10000000000000000\n",
        "\n",
        "acc=0\n",
        "acc_loss=0\n",
        "early_stopping=0\n",
        "for trial in range(5):\n",
        "  for epoch in range(200000):\n",
        "      # minibatch gradient descent\n",
        "      loss=0.0\n",
        "      for k in range(batch_num):\n",
        "        l_index=batch_size*k\n",
        "        r_index=batch_size*(k+1)\n",
        "        out = net1(input[l_index:r_index].float().cuda())\n",
        "        avg_loss = criterion(out, y_train_new[:,0][l_index:r_index].cuda())\n",
        "        loss=loss+(avg_loss/batch_num)\n",
        "        optimizer.zero_grad()\n",
        "        avg_loss.backward()\n",
        "        optimizer.step() \n",
        "        #scheduler.step()  \n",
        "        learning_rate = 0.001\n",
        "        for f in net1.parameters():\n",
        "          f.data.sub_(f.grad.data * learning_rate)\n",
        "     \n",
        "      # early stopping\n",
        "      if loss>=min_loss:\n",
        "        acc_loss=acc_loss+1\n",
        "        \n",
        "        if acc_loss >=30:\n",
        "          early_stopping=early_stopping+1\n",
        "          #print('Early stopping！')\n",
        "          break\n",
        "        \n",
        "      elif loss<min_loss:\n",
        "        acc_loss=0\n",
        "        min_loss=loss\n",
        "       \n",
        "      \n",
        "      if epoch%100==0:\n",
        "        print('trial:',trial,'epoch',epoch,':',loss)\n",
        "  \n",
        "  if early_stopping==1:\n",
        "    print(\"Early Stopping trial1!!!\")\n",
        "    optimizer = optim.Adam(net1.parameters(), lr=0.0003, weight_decay=1e-3,betas=(0.9,0.96))\n",
        "\n",
        "  if early_stopping==2:\n",
        "    print(\"Early Stopping trial2!!!\")\n",
        "    optimizer = optim.Adam(net1.parameters(), lr=0.0001, weight_decay=1e-3,betas=(0.9,0.94))\n",
        "  if early_stopping==3:\n",
        "    print(\"Early Stopping trial3!!!\")\n",
        "    optimizer = optim.Adam(net1.parameters(), lr=0.00005, weight_decay=1e-3,betas=(0.9,0.92))\n",
        "  if early_stopping==4:\n",
        "    print(\"End of raining!!!!!\")\n",
        "    break"
      ],
      "execution_count": null,
      "outputs": [
        {
          "output_type": "stream",
          "text": [
            "trial: 0 epoch 0 : tensor(1.0404, device='cuda:0', grad_fn=<AddBackward0>)\n"
          ],
          "name": "stdout"
        },
        {
          "output_type": "error",
          "ename": "KeyboardInterrupt",
          "evalue": "ignored",
          "traceback": [
            "\u001b[0;31m---------------------------------------------------------------------------\u001b[0m",
            "\u001b[0;31mKeyboardInterrupt\u001b[0m                         Traceback (most recent call last)",
            "\u001b[0;32m<ipython-input-27-86704b0e6061>\u001b[0m in \u001b[0;36m<module>\u001b[0;34m()\u001b[0m\n\u001b[1;32m     18\u001b[0m         \u001b[0mloss\u001b[0m\u001b[0;34m=\u001b[0m\u001b[0mloss\u001b[0m\u001b[0;34m+\u001b[0m\u001b[0;34m(\u001b[0m\u001b[0mavg_loss\u001b[0m\u001b[0;34m/\u001b[0m\u001b[0mbatch_num\u001b[0m\u001b[0;34m)\u001b[0m\u001b[0;34m\u001b[0m\u001b[0;34m\u001b[0m\u001b[0m\n\u001b[1;32m     19\u001b[0m         \u001b[0moptimizer\u001b[0m\u001b[0;34m.\u001b[0m\u001b[0mzero_grad\u001b[0m\u001b[0;34m(\u001b[0m\u001b[0;34m)\u001b[0m\u001b[0;34m\u001b[0m\u001b[0;34m\u001b[0m\u001b[0m\n\u001b[0;32m---> 20\u001b[0;31m         \u001b[0mavg_loss\u001b[0m\u001b[0;34m.\u001b[0m\u001b[0mbackward\u001b[0m\u001b[0;34m(\u001b[0m\u001b[0;34m)\u001b[0m\u001b[0;34m\u001b[0m\u001b[0;34m\u001b[0m\u001b[0m\n\u001b[0m\u001b[1;32m     21\u001b[0m         \u001b[0moptimizer\u001b[0m\u001b[0;34m.\u001b[0m\u001b[0mstep\u001b[0m\u001b[0;34m(\u001b[0m\u001b[0;34m)\u001b[0m\u001b[0;34m\u001b[0m\u001b[0;34m\u001b[0m\u001b[0m\n\u001b[1;32m     22\u001b[0m         \u001b[0;31m#scheduler.step()\u001b[0m\u001b[0;34m\u001b[0m\u001b[0;34m\u001b[0m\u001b[0;34m\u001b[0m\u001b[0m\n",
            "\u001b[0;32m/usr/local/lib/python3.6/dist-packages/torch/tensor.py\u001b[0m in \u001b[0;36mbackward\u001b[0;34m(self, gradient, retain_graph, create_graph)\u001b[0m\n\u001b[1;32m    219\u001b[0m                 \u001b[0mretain_graph\u001b[0m\u001b[0;34m=\u001b[0m\u001b[0mretain_graph\u001b[0m\u001b[0;34m,\u001b[0m\u001b[0;34m\u001b[0m\u001b[0;34m\u001b[0m\u001b[0m\n\u001b[1;32m    220\u001b[0m                 create_graph=create_graph)\n\u001b[0;32m--> 221\u001b[0;31m         \u001b[0mtorch\u001b[0m\u001b[0;34m.\u001b[0m\u001b[0mautograd\u001b[0m\u001b[0;34m.\u001b[0m\u001b[0mbackward\u001b[0m\u001b[0;34m(\u001b[0m\u001b[0mself\u001b[0m\u001b[0;34m,\u001b[0m \u001b[0mgradient\u001b[0m\u001b[0;34m,\u001b[0m \u001b[0mretain_graph\u001b[0m\u001b[0;34m,\u001b[0m \u001b[0mcreate_graph\u001b[0m\u001b[0;34m)\u001b[0m\u001b[0;34m\u001b[0m\u001b[0;34m\u001b[0m\u001b[0m\n\u001b[0m\u001b[1;32m    222\u001b[0m \u001b[0;34m\u001b[0m\u001b[0m\n\u001b[1;32m    223\u001b[0m     \u001b[0;32mdef\u001b[0m \u001b[0mregister_hook\u001b[0m\u001b[0;34m(\u001b[0m\u001b[0mself\u001b[0m\u001b[0;34m,\u001b[0m \u001b[0mhook\u001b[0m\u001b[0;34m)\u001b[0m\u001b[0;34m:\u001b[0m\u001b[0;34m\u001b[0m\u001b[0;34m\u001b[0m\u001b[0m\n",
            "\u001b[0;32m/usr/local/lib/python3.6/dist-packages/torch/autograd/__init__.py\u001b[0m in \u001b[0;36mbackward\u001b[0;34m(tensors, grad_tensors, retain_graph, create_graph, grad_variables)\u001b[0m\n\u001b[1;32m    130\u001b[0m     Variable._execution_engine.run_backward(\n\u001b[1;32m    131\u001b[0m         \u001b[0mtensors\u001b[0m\u001b[0;34m,\u001b[0m \u001b[0mgrad_tensors_\u001b[0m\u001b[0;34m,\u001b[0m \u001b[0mretain_graph\u001b[0m\u001b[0;34m,\u001b[0m \u001b[0mcreate_graph\u001b[0m\u001b[0;34m,\u001b[0m\u001b[0;34m\u001b[0m\u001b[0;34m\u001b[0m\u001b[0m\n\u001b[0;32m--> 132\u001b[0;31m         allow_unreachable=True)  # allow_unreachable flag\n\u001b[0m\u001b[1;32m    133\u001b[0m \u001b[0;34m\u001b[0m\u001b[0m\n\u001b[1;32m    134\u001b[0m \u001b[0;34m\u001b[0m\u001b[0m\n",
            "\u001b[0;31mKeyboardInterrupt\u001b[0m: "
          ]
        }
      ]
    },
    {
      "cell_type": "code",
      "metadata": {
        "id": "WvpQxln6m5Dp"
      },
      "source": [
        "id=[i*10000 for i in range(29)]\n",
        "wrong_index={}\n",
        "for i in range (len(id)-1):\n",
        "  out = net1(X_train[id[i]:id[i+1]].float().cuda())\n",
        "  y_train_new=y_train[id[i]:id[i+1]].long().cuda()\n",
        "  loss = criterion(out, y_train_new[:,0].cuda())\n",
        "  _, predicted = torch.max(out, 1)\n",
        "  get_accuracy(y_train_new[:,0],predicted,id[i])\n",
        "print(\"Final trainning accuracy(single label):\",len(wrong_index)/280000)"
      ],
      "execution_count": null,
      "outputs": []
    },
    {
      "cell_type": "markdown",
      "metadata": {
        "id": "3QbDRZNfyyTG"
      },
      "source": [
        "## **2.3 Best Model**"
      ]
    },
    {
      "cell_type": "code",
      "metadata": {
        "id": "KQFlAaQ5pB3v"
      },
      "source": [
        "class Net(nn.Module):\n",
        "\n",
        "    def __init__(self):\n",
        "        super(Net, self).__init__()\n",
        "        \n",
        "        self.conv1 = nn.Conv2d(1, 10, 2,padding=1)\n",
        "        self.norm1=nn.BatchNorm2d(10)\n",
        "        self.dropout2=nn.Dropout2d(0.0003)\n",
        "        self.conv2 = nn.Conv2d(10, 16, 2,padding=1)\n",
        "        \n",
        "        self.norm2=nn.BatchNorm2d(16)\n",
        "        self.fc1 = nn.Linear(16 * 4 * 4, 46)  # 6*6 from image dimension4\n",
        "        #self.norm3 = nn.BatchNorm1d(52)\n",
        "        self.fc2 = nn.Linear(46,46)\n",
        "        self.dropout1=nn.Dropout(0.5)\n",
        "        self.norm5 = nn.BatchNorm1d(46)\n",
        "        self.fc3 = nn.Linear(46, 24)\n",
        "        self.norm4 = nn.BatchNorm1d(24)\n",
        "        self.fc4 = nn.Linear(24,11)\n",
        "        #self.norm3 = nn.BatchNorm1d(30)\n",
        "        #self.fc5 = nn.LogSoftmax()\n",
        "\n",
        "    def forward(self, x):\n",
        "       \n",
        "        # (batch_size,1,16,16) ==> (batch_size,6,17,17)==> (batch_size,6,8,8)\n",
        "        x = F.max_pool2d(F.relu(self.conv1(x)), (2, 2))\n",
        "  \n",
        "    \n",
        "        x=self.norm1(x)\n",
        "        x=self.dropout2(x)\n",
        "        # (batch_size,6,8,8) ==> (betach_size,16,9,9)==> (batch_size,16,4,4)\n",
        "        x = F.max_pool2d(F.relu(self.conv2(x)), 2)\n",
        "    \n",
        "        x=self.norm2(x)\n",
        "        x = x.view(-1, self.num_flat_features(x))\n",
        "\n",
        "        x = F.relu(self.fc1(x))\n",
        "        #x=self.norm3(x)\n",
        "        x = F.relu(self.fc2(x))\n",
        "        x=self.norm5(x)\n",
        "        #x=self.dropout1(x)\n",
        "        x = F.relu(self.fc3(x))\n",
        "        #x = F.relu(self.fc5(x))\n",
        "        x=self.norm4(x)\n",
        "        #x = F.dropout(x, training=self.training)\n",
        "        x = F.relu(self.fc4(x))\n",
        "        #print('fc2:',x)\n",
        "        #x=self.norm3(x)\n",
        "        #x = self.fc5(x)\n",
        "        #print('fc3:',x)\n",
        "        #return x\n",
        "        return x\n",
        "\n",
        "    def num_flat_features(self, x):\n",
        "        size = x.size()[1:]  # all dimensions except the batch dimension\n",
        "        num_features = 1\n",
        "        for s in size:\n",
        "            num_features *= s\n",
        "        return num_features"
      ],
      "execution_count": null,
      "outputs": []
    },
    {
      "cell_type": "code",
      "metadata": {
        "id": "TuymotTpfL2N"
      },
      "source": [
        "import torch.optim as optim\n",
        "net1 = Net()\n",
        "\n",
        "criterion = nn.CrossEntropyLoss()\n",
        "\n",
        "optimizer = optim.Adam(net1.parameters(), lr=0.001, weight_decay=1e-3,betas=(0.9,0.99))\n",
        "\n",
        "a=X_train[0:270000]\n",
        "b=y_train[0:270000]\n",
        "\n",
        "X_train_new=a\n",
        "y_train_new=b.long()\n",
        "\n",
        "batch_num=100\n",
        "batch_size=int(len(y_train_new)/batch_num)\n",
        "      \n",
        "      "
      ],
      "execution_count": null,
      "outputs": []
    },
    {
      "cell_type": "code",
      "metadata": {
        "id": "7hY7Vo--hm0S"
      },
      "source": [
        "net1.to(device)\n",
        "input = X_train_new.cuda()\n",
        "\n",
        "min_loss=10000000000000000\n",
        "acc=0\n",
        "acc_loss=0\n",
        "early_stopping=0\n",
        "for trial in range(5):\n",
        "  for epoch in range(200000):\n",
        "      # minibatch gradient descent\n",
        "      loss=0.0\n",
        "      for k in range(batch_num):\n",
        "        l_index=batch_size*k\n",
        "        r_index=batch_size*(k+1)\n",
        "        out = net1(input[l_index:r_index].float().cuda())\n",
        "        avg_loss = criterion(out, y_train_new[:,0][l_index:r_index].cuda())\n",
        "        loss=loss+(avg_loss/batch_num)\n",
        "        optimizer.zero_grad()\n",
        "        avg_loss.backward()\n",
        "        optimizer.step() \n",
        "        #scheduler.step()  \n",
        "        learning_rate = 0.001\n",
        "        for f in net1.parameters():\n",
        "          \n",
        "          f.data.sub_(f.grad.data * learning_rate)\n",
        "      #_, predicted = torch.max(out, 1)\n",
        "      # if loss does not decrease in 50 steps\n",
        "      # early stopping\n",
        "      if loss>=min_loss:\n",
        "        acc_loss=acc_loss+1\n",
        "        \n",
        "        if acc_loss >=30:\n",
        "          early_stopping=early_stopping+1\n",
        "          #print('Early stopping！')\n",
        "          break\n",
        "        \n",
        "      elif loss<min_loss:\n",
        "        acc_loss=0\n",
        "        min_loss=loss\n",
        "        # record the best prediction\n",
        "        #min_predicted=predicted\n",
        "      \n",
        "      if epoch%100==0:\n",
        "        print('trial:',trial,'epoch',epoch,':',loss)\n",
        "  \n",
        "  if early_stopping==1:\n",
        "    print(\"Early Stopping trial1!!!\")\n",
        "    optimizer = optim.Adam(net1.parameters(), lr=0.0003, weight_decay=1e-3,betas=(0.9,0.96))\n",
        "    #optimizer = optim.RMSprop(net1.parameters(), lr=0.0003, weight_decay=1e-3,momentum=0.95)\n",
        "\n",
        "  if early_stopping==2:\n",
        "    print(\"Early Stopping trial2!!!\")\n",
        "    optimizer = optim.Adam(net1.parameters(), lr=0.0001, weight_decay=1e-3,betas=(0.9,0.94))\n",
        "    #optimizer = optim.RMSprop(net1.parameters(), lr=0.0001, weight_decay=1e-3,momentum=0.92)\n",
        "  if early_stopping==3:\n",
        "    print(\"Early Stopping trial3!!!\")\n",
        "    optimizer = optim.Adam(net1.parameters(), lr=0.00005, weight_decay=1e-3,betas=(0.9,0.93))\n",
        "    #optimizer = optim.RMSprop(net1.parameters(), lr=0.00005, weight_decay=1e-3,momentum=0.9)\n",
        "  if early_stopping==4:\n",
        "    print(\"End of raining!!!!!\")\n",
        "    break\n",
        "  "
      ],
      "execution_count": null,
      "outputs": []
    },
    {
      "cell_type": "code",
      "metadata": {
        "id": "_Vsk2Glj08pX"
      },
      "source": [
        "id=[i*10000 for i in range(29)]\n",
        "wrong_index={}\n",
        "for i in range (len(id)-1):\n",
        "  out = net1(X_train[id[i]:id[i+1]].float().cuda())\n",
        "  y_train_new=y_train[id[i]:id[i+1]].long().cuda()\n",
        "  loss = criterion(out, y_train_new[:,0].cuda())\n",
        "  _, predicted = torch.max(out, 1)\n",
        "  get_accuracy(y_train_new[:,0],predicted,id[i])\n",
        "print(\"Final trainning accuracy(single label):\",len(wrong_index)/280000)"
      ],
      "execution_count": null,
      "outputs": []
    },
    {
      "cell_type": "markdown",
      "metadata": {
        "id": "fyh9EOPhgKSP"
      },
      "source": [
        "# **3 Optimizer** \n",
        "\n",
        "\n",
        "*   Adam\n",
        "*   SGD\n",
        "*   RMSprop\n",
        "\n",
        "Please change the comment for the optimizer that you want to test"
      ]
    },
    {
      "cell_type": "markdown",
      "metadata": {
        "id": "rHvXSCo7xa0B"
      },
      "source": [
        "## **3.1 Best Optimizer**"
      ]
    },
    {
      "cell_type": "code",
      "metadata": {
        "id": "9zerH0VKxmL-"
      },
      "source": [
        "a=X_train[0:270000]\n",
        "b=y_train[0:270000]\n",
        "\n",
        "X_train_new=a\n",
        "y_train_new=b.long()\n",
        "\n",
        "batch_num=100\n",
        "batch_size=int(len(y_train_new)/batch_num)"
      ],
      "execution_count": null,
      "outputs": []
    },
    {
      "cell_type": "code",
      "metadata": {
        "id": "FCvMaQ7xxfja"
      },
      "source": [
        "import torch.optim as optim\n",
        "\n",
        "\n",
        "#Adam \n",
        "'''\n",
        "criterion = nn.CrossEntropyLoss()\n",
        "optimizer = optim.Adam(net1.parameters(), lr=0.001, weight_decay=1e-3,betas=(0.9,0.99))\n",
        "'''\n",
        "#SGD\n",
        "\n",
        "criterion = nn.CrossEntropyLoss()\n",
        "optimizer = optim.SGD(net1.parameters(), lr=0.001, weight_decay=1e-3,momentum=0.98)\n",
        "\n",
        "#RMSprop\n",
        "'''\n",
        "criterion = nn.CrossEntropyLoss()\n",
        "optimizer = optim.RMSprop(net1.parameters(), lr=0.001, weight_decay=1e-3,momentum=0.98)\n",
        "'''\n",
        "\n",
        "net1 = Net()\n",
        "\n",
        "\n",
        "\n",
        "\n"
      ],
      "execution_count": null,
      "outputs": []
    },
    {
      "cell_type": "code",
      "metadata": {
        "id": "8pbZSbGa0qtK"
      },
      "source": [
        "\n",
        "net1.to(device)\n",
        "input = X_train_new.cuda()\n",
        "\n",
        "min_loss=10000000000000000\n",
        "\n",
        "\n",
        "acc=0\n",
        "acc_loss=0\n",
        "early_stopping=0\n",
        "for trial in range(5):\n",
        "  for epoch in range(200000):\n",
        "      # minibatch gradient descent\n",
        "      loss=0.0\n",
        "      for k in range(batch_num):\n",
        "        l_index=batch_size*k\n",
        "        r_index=batch_size*(k+1)\n",
        "        out = net1(input[l_index:r_index].float().cuda())\n",
        "        avg_loss = criterion(out, y_train_new[:,0][l_index:r_index].cuda())\n",
        "        loss=loss+(avg_loss/batch_num)\n",
        "        optimizer.zero_grad()\n",
        "        avg_loss.backward()\n",
        "        optimizer.step() \n",
        "        #scheduler.step()  \n",
        "        learning_rate = 0.001\n",
        "        for f in net1.parameters():\n",
        "          \n",
        "          f.data.sub_(f.grad.data * learning_rate)\n",
        "      #_, predicted = torch.max(out, 1)\n",
        "      # if loss does not decrease in 50 steps\n",
        "      # early stopping\n",
        "      if loss>=min_loss:\n",
        "        acc_loss=acc_loss+1\n",
        "        \n",
        "        if acc_loss >=30:\n",
        "          early_stopping=early_stopping+1\n",
        "          #print('Early stopping！')\n",
        "          break\n",
        "        \n",
        "      elif loss<min_loss:\n",
        "        acc_loss=0\n",
        "        min_loss=loss\n",
        "        # record the best prediction\n",
        "        #min_predicted=predicted\n",
        "      \n",
        "      if epoch%100==0:\n",
        "        print('trial:',trial,'epoch',epoch,':',loss)\n",
        "  \n",
        "  if early_stopping==1:\n",
        "    print(\"Early Stopping trial1!!!\")\n",
        "    #optimizer = optim.Adam(net1.parameters(), lr=0.0003, weight_decay=1e-3,betas=(0.9,0.96))\n",
        "    #optimizer = optim.RMSprop(net1.parameters(), lr=0.0003, weight_decay=1e-3,momentum=0.95)\n",
        "    optimizer = optim.SGD(net1.parameters(), lr=0.0003, weight_decay=1e-3,momentum=0.95)\n",
        "  if early_stopping==2:\n",
        "    print(\"Early Stopping trial2!!!\")\n",
        "    #optimizer = optim.Adam(net1.parameters(), lr=0.0001, weight_decay=1e-3,betas=(0.9,0.94))\n",
        "    #optimizer = optim.RMSprop(net1.parameters(), lr=0.0001, weight_decay=1e-3,momentum=0.92)\n",
        "    optimizer = optim.SGD(net1.parameters(), lr=0.0001, weight_decay=1e-3,momentum=0.92)\n",
        "  if early_stopping==3:\n",
        "    print(\"Early Stopping trial3!!!\")\n",
        "    #optimizer = optim.Adam(net1.parameters(), lr=0.00005, weight_decay=1e-3,betas=(0.9,0.93))\n",
        "    #optimizer = optim.RMSprop(net1.parameters(), lr=0.00005, weight_decay=1e-3,momentum=0.9)\n",
        "    optimizer = optim.SGD(net1.parameters(), lr=0.00005, weight_decay=1e-3,momentum=0.9)\n",
        "  if early_stopping==4:\n",
        "    print(\"End of training!!!!!\")\n",
        "    break\n",
        "\n"
      ],
      "execution_count": null,
      "outputs": []
    },
    {
      "cell_type": "code",
      "metadata": {
        "id": "5Tse3AQOy5hP"
      },
      "source": [
        "id=[i*10000 for i in range(29)]\n",
        "wrong_index={}\n",
        "for i in range (len(id)-1):\n",
        "  out = net1(X_train[id[i]:id[i+1]].float().cuda())\n",
        "  y_train_new=y_train[id[i]:id[i+1]].long().cuda()\n",
        "  loss = criterion(out, y_train_new[:,0].cuda())\n",
        "  _, predicted = torch.max(out, 1)\n",
        "  get_accuracy(y_train_new[:,0],predicted,id[i])\n",
        "print(\"Final trainning accuracy(single label):\",len(wrong_index)/280000)"
      ],
      "execution_count": null,
      "outputs": []
    },
    {
      "cell_type": "markdown",
      "metadata": {
        "id": "jUXPASIZyqGp"
      },
      "source": [
        "## **3.2 Best Hyperparameter**"
      ]
    },
    {
      "cell_type": "code",
      "metadata": {
        "id": "XYAhnb5SyyJl",
        "colab": {
          "base_uri": "https://localhost:8080/",
          "height": 437
        },
        "outputId": "88d4cf1c-8065-44a4-c73d-853aea926677"
      },
      "source": [
        "momentum=[0.9,0.95,0.98]\n",
        "learning_rate=[0.0005,0.001,0.005]\n",
        "weight_decay=[1e-2,1e-3,1e-4]\n",
        "\n",
        "\n",
        "a=X_train[0:27000]\n",
        "b=y_train[0:27000]\n",
        "\n",
        "X_train_new=a\n",
        "y_train_new=b.long()\n",
        "\n",
        "batch_num=100\n",
        "batch_size=int(len(y_train_new)/batch_num)\n",
        "\n",
        "for m in momentum:\n",
        "  for l in learning_rate:\n",
        "    for w in weight_decay:\n",
        "      optimizer = optim.Adam(net1.parameters(), lr=l, weight_decay=w,betas=(m,0.99))\n",
        "      print(\"momentum:\",m,\"learning rate:\",l,\"weight decay:\",w)\n",
        "      net1.to(device)\n",
        "      #input = X_train_new.cuda()\n",
        "\n",
        "      min_loss=10000000000000000\n",
        "      acc=0\n",
        "      acc_loss=0\n",
        "      early_stopping=0\n",
        "      for trial in range(5):\n",
        "        for epoch in range(200000):\n",
        "            # minibatch gradient descent\n",
        "            loss=0.0\n",
        "            for k in range(batch_num):\n",
        "              l_index=batch_size*k\n",
        "              r_index=batch_size*(k+1)\n",
        "              out = net1(input[l_index:r_index].float().cuda())\n",
        "              avg_loss = criterion(out, y_train_new[:,0][l_index:r_index].cuda())\n",
        "              loss=loss+(avg_loss/batch_num)\n",
        "              optimizer.zero_grad()\n",
        "              avg_loss.backward()\n",
        "              optimizer.step() \n",
        "              #scheduler.step()  \n",
        "              learning_rate = 0.001\n",
        "              for f in net1.parameters():\n",
        "                \n",
        "                f.data.sub_(f.grad.data * learning_rate)\n",
        "            #_, predicted = torch.max(out, 1)\n",
        "            # if loss does not decrease in 50 steps\n",
        "            # early stopping\n",
        "            if loss>=min_loss:\n",
        "              acc_loss=acc_loss+1\n",
        "              \n",
        "              if acc_loss >=30:\n",
        "                early_stopping=early_stopping+1\n",
        "                #print('Early stopping！')\n",
        "                break\n",
        "              \n",
        "            elif loss<min_loss:\n",
        "              acc_loss=0\n",
        "              min_loss=loss\n",
        "              # record the best prediction\n",
        "              #min_predicted=predicted\n",
        "            \n",
        "            if epoch%100==0:\n",
        "              print('trial:',trial,'epoch',epoch,':',loss)\n",
        "        \n",
        "        if early_stopping==1:\n",
        "          print(\"Early Stopping trial1!!!\")\n",
        "          optimizer = optim.Adam(net1.parameters(), lr=0.0003, weight_decay=1e-3,betas=(0.9,0.96))\n",
        "          #optimizer = optim.RMSprop(net1.parameters(), lr=0.0003, weight_decay=1e-3,momentum=0.95)\n",
        "\n",
        "        if early_stopping==2:\n",
        "          print(\"Early Stopping trial2!!!\")\n",
        "          optimizer = optim.Adam(net1.parameters(), lr=0.0001, weight_decay=1e-3,betas=(0.9,0.94))\n",
        "          #optimizer = optim.RMSprop(net1.parameters(), lr=0.0001, weight_decay=1e-3,momentum=0.92)\n",
        "        if early_stopping==3:\n",
        "          print(\"Early Stopping trial3!!!\")\n",
        "          optimizer = optim.Adam(net1.parameters(), lr=0.00005, weight_decay=1e-3,betas=(0.9,0.93))\n",
        "          #optimizer = optim.RMSprop(net1.parameters(), lr=0.00005, weight_decay=1e-3,momentum=0.9)\n",
        "        if early_stopping==4:\n",
        "          print(\"End of raining!!!!!\")\n",
        "          break\n",
        "            \n",
        "\n",
        "\n",
        "\n"
      ],
      "execution_count": null,
      "outputs": [
        {
          "output_type": "stream",
          "text": [
            "momentum: 0.9 learning rate: 0.0005 weight decay: 0.01\n",
            "trial: 0 epoch 0 : tensor(0.0541, device='cuda:0', grad_fn=<AddBackward0>)\n"
          ],
          "name": "stdout"
        },
        {
          "output_type": "error",
          "ename": "KeyboardInterrupt",
          "evalue": "ignored",
          "traceback": [
            "\u001b[0;31m---------------------------------------------------------------------------\u001b[0m",
            "\u001b[0;31mKeyboardInterrupt\u001b[0m                         Traceback (most recent call last)",
            "\u001b[0;32m<ipython-input-28-39b701bd39cf>\u001b[0m in \u001b[0;36m<module>\u001b[0;34m()\u001b[0m\n\u001b[1;32m     32\u001b[0m               \u001b[0ml_index\u001b[0m\u001b[0;34m=\u001b[0m\u001b[0mbatch_size\u001b[0m\u001b[0;34m*\u001b[0m\u001b[0mk\u001b[0m\u001b[0;34m\u001b[0m\u001b[0;34m\u001b[0m\u001b[0m\n\u001b[1;32m     33\u001b[0m               \u001b[0mr_index\u001b[0m\u001b[0;34m=\u001b[0m\u001b[0mbatch_size\u001b[0m\u001b[0;34m*\u001b[0m\u001b[0;34m(\u001b[0m\u001b[0mk\u001b[0m\u001b[0;34m+\u001b[0m\u001b[0;36m1\u001b[0m\u001b[0;34m)\u001b[0m\u001b[0;34m\u001b[0m\u001b[0;34m\u001b[0m\u001b[0m\n\u001b[0;32m---> 34\u001b[0;31m               \u001b[0mout\u001b[0m \u001b[0;34m=\u001b[0m \u001b[0mnet1\u001b[0m\u001b[0;34m(\u001b[0m\u001b[0minput\u001b[0m\u001b[0;34m[\u001b[0m\u001b[0ml_index\u001b[0m\u001b[0;34m:\u001b[0m\u001b[0mr_index\u001b[0m\u001b[0;34m]\u001b[0m\u001b[0;34m.\u001b[0m\u001b[0mfloat\u001b[0m\u001b[0;34m(\u001b[0m\u001b[0;34m)\u001b[0m\u001b[0;34m.\u001b[0m\u001b[0mcuda\u001b[0m\u001b[0;34m(\u001b[0m\u001b[0;34m)\u001b[0m\u001b[0;34m)\u001b[0m\u001b[0;34m\u001b[0m\u001b[0;34m\u001b[0m\u001b[0m\n\u001b[0m\u001b[1;32m     35\u001b[0m               \u001b[0mavg_loss\u001b[0m \u001b[0;34m=\u001b[0m \u001b[0mcriterion\u001b[0m\u001b[0;34m(\u001b[0m\u001b[0mout\u001b[0m\u001b[0;34m,\u001b[0m \u001b[0my_train_new\u001b[0m\u001b[0;34m[\u001b[0m\u001b[0;34m:\u001b[0m\u001b[0;34m,\u001b[0m\u001b[0;36m0\u001b[0m\u001b[0;34m]\u001b[0m\u001b[0;34m[\u001b[0m\u001b[0ml_index\u001b[0m\u001b[0;34m:\u001b[0m\u001b[0mr_index\u001b[0m\u001b[0;34m]\u001b[0m\u001b[0;34m.\u001b[0m\u001b[0mcuda\u001b[0m\u001b[0;34m(\u001b[0m\u001b[0;34m)\u001b[0m\u001b[0;34m)\u001b[0m\u001b[0;34m\u001b[0m\u001b[0;34m\u001b[0m\u001b[0m\n\u001b[1;32m     36\u001b[0m               \u001b[0mloss\u001b[0m\u001b[0;34m=\u001b[0m\u001b[0mloss\u001b[0m\u001b[0;34m+\u001b[0m\u001b[0;34m(\u001b[0m\u001b[0mavg_loss\u001b[0m\u001b[0;34m/\u001b[0m\u001b[0mbatch_num\u001b[0m\u001b[0;34m)\u001b[0m\u001b[0;34m\u001b[0m\u001b[0;34m\u001b[0m\u001b[0m\n",
            "\u001b[0;32m/usr/local/lib/python3.6/dist-packages/torch/nn/modules/module.py\u001b[0m in \u001b[0;36m_call_impl\u001b[0;34m(self, *input, **kwargs)\u001b[0m\n\u001b[1;32m    725\u001b[0m             \u001b[0mresult\u001b[0m \u001b[0;34m=\u001b[0m \u001b[0mself\u001b[0m\u001b[0;34m.\u001b[0m\u001b[0m_slow_forward\u001b[0m\u001b[0;34m(\u001b[0m\u001b[0;34m*\u001b[0m\u001b[0minput\u001b[0m\u001b[0;34m,\u001b[0m \u001b[0;34m**\u001b[0m\u001b[0mkwargs\u001b[0m\u001b[0;34m)\u001b[0m\u001b[0;34m\u001b[0m\u001b[0;34m\u001b[0m\u001b[0m\n\u001b[1;32m    726\u001b[0m         \u001b[0;32melse\u001b[0m\u001b[0;34m:\u001b[0m\u001b[0;34m\u001b[0m\u001b[0;34m\u001b[0m\u001b[0m\n\u001b[0;32m--> 727\u001b[0;31m             \u001b[0mresult\u001b[0m \u001b[0;34m=\u001b[0m \u001b[0mself\u001b[0m\u001b[0;34m.\u001b[0m\u001b[0mforward\u001b[0m\u001b[0;34m(\u001b[0m\u001b[0;34m*\u001b[0m\u001b[0minput\u001b[0m\u001b[0;34m,\u001b[0m \u001b[0;34m**\u001b[0m\u001b[0mkwargs\u001b[0m\u001b[0;34m)\u001b[0m\u001b[0;34m\u001b[0m\u001b[0;34m\u001b[0m\u001b[0m\n\u001b[0m\u001b[1;32m    728\u001b[0m         for hook in itertools.chain(\n\u001b[1;32m    729\u001b[0m                 \u001b[0m_global_forward_hooks\u001b[0m\u001b[0;34m.\u001b[0m\u001b[0mvalues\u001b[0m\u001b[0;34m(\u001b[0m\u001b[0;34m)\u001b[0m\u001b[0;34m,\u001b[0m\u001b[0;34m\u001b[0m\u001b[0;34m\u001b[0m\u001b[0m\n",
            "\u001b[0;32m<ipython-input-25-b7d52a685a2f>\u001b[0m in \u001b[0;36mforward\u001b[0;34m(self, x)\u001b[0m\n\u001b[1;32m     20\u001b[0m \u001b[0;34m\u001b[0m\u001b[0m\n\u001b[1;32m     21\u001b[0m         \u001b[0;31m# (batch_size,1,16,16) ==> (batch_size,6,17,17)==> (batch_size,6,8,8)\u001b[0m\u001b[0;34m\u001b[0m\u001b[0;34m\u001b[0m\u001b[0;34m\u001b[0m\u001b[0m\n\u001b[0;32m---> 22\u001b[0;31m         \u001b[0mx\u001b[0m \u001b[0;34m=\u001b[0m \u001b[0mF\u001b[0m\u001b[0;34m.\u001b[0m\u001b[0mmax_pool2d\u001b[0m\u001b[0;34m(\u001b[0m\u001b[0mF\u001b[0m\u001b[0;34m.\u001b[0m\u001b[0mrelu\u001b[0m\u001b[0;34m(\u001b[0m\u001b[0mself\u001b[0m\u001b[0;34m.\u001b[0m\u001b[0mconv1\u001b[0m\u001b[0;34m(\u001b[0m\u001b[0mx\u001b[0m\u001b[0;34m)\u001b[0m\u001b[0;34m)\u001b[0m\u001b[0;34m,\u001b[0m \u001b[0;34m(\u001b[0m\u001b[0;36m2\u001b[0m\u001b[0;34m,\u001b[0m \u001b[0;36m2\u001b[0m\u001b[0;34m)\u001b[0m\u001b[0;34m)\u001b[0m\u001b[0;34m\u001b[0m\u001b[0;34m\u001b[0m\u001b[0m\n\u001b[0m\u001b[1;32m     23\u001b[0m \u001b[0;34m\u001b[0m\u001b[0m\n\u001b[1;32m     24\u001b[0m         \u001b[0;31m# (batch_size,6,8,8) ==> (betach_size,16,9,9)==> (batch_size,16,4,4)\u001b[0m\u001b[0;34m\u001b[0m\u001b[0;34m\u001b[0m\u001b[0;34m\u001b[0m\u001b[0m\n",
            "\u001b[0;32m/usr/local/lib/python3.6/dist-packages/torch/nn/modules/module.py\u001b[0m in \u001b[0;36m_call_impl\u001b[0;34m(self, *input, **kwargs)\u001b[0m\n\u001b[1;32m    725\u001b[0m             \u001b[0mresult\u001b[0m \u001b[0;34m=\u001b[0m \u001b[0mself\u001b[0m\u001b[0;34m.\u001b[0m\u001b[0m_slow_forward\u001b[0m\u001b[0;34m(\u001b[0m\u001b[0;34m*\u001b[0m\u001b[0minput\u001b[0m\u001b[0;34m,\u001b[0m \u001b[0;34m**\u001b[0m\u001b[0mkwargs\u001b[0m\u001b[0;34m)\u001b[0m\u001b[0;34m\u001b[0m\u001b[0;34m\u001b[0m\u001b[0m\n\u001b[1;32m    726\u001b[0m         \u001b[0;32melse\u001b[0m\u001b[0;34m:\u001b[0m\u001b[0;34m\u001b[0m\u001b[0;34m\u001b[0m\u001b[0m\n\u001b[0;32m--> 727\u001b[0;31m             \u001b[0mresult\u001b[0m \u001b[0;34m=\u001b[0m \u001b[0mself\u001b[0m\u001b[0;34m.\u001b[0m\u001b[0mforward\u001b[0m\u001b[0;34m(\u001b[0m\u001b[0;34m*\u001b[0m\u001b[0minput\u001b[0m\u001b[0;34m,\u001b[0m \u001b[0;34m**\u001b[0m\u001b[0mkwargs\u001b[0m\u001b[0;34m)\u001b[0m\u001b[0;34m\u001b[0m\u001b[0;34m\u001b[0m\u001b[0m\n\u001b[0m\u001b[1;32m    728\u001b[0m         for hook in itertools.chain(\n\u001b[1;32m    729\u001b[0m                 \u001b[0m_global_forward_hooks\u001b[0m\u001b[0;34m.\u001b[0m\u001b[0mvalues\u001b[0m\u001b[0;34m(\u001b[0m\u001b[0;34m)\u001b[0m\u001b[0;34m,\u001b[0m\u001b[0;34m\u001b[0m\u001b[0;34m\u001b[0m\u001b[0m\n",
            "\u001b[0;32m/usr/local/lib/python3.6/dist-packages/torch/nn/modules/conv.py\u001b[0m in \u001b[0;36mforward\u001b[0;34m(self, input)\u001b[0m\n\u001b[1;32m    421\u001b[0m \u001b[0;34m\u001b[0m\u001b[0m\n\u001b[1;32m    422\u001b[0m     \u001b[0;32mdef\u001b[0m \u001b[0mforward\u001b[0m\u001b[0;34m(\u001b[0m\u001b[0mself\u001b[0m\u001b[0;34m,\u001b[0m \u001b[0minput\u001b[0m\u001b[0;34m:\u001b[0m \u001b[0mTensor\u001b[0m\u001b[0;34m)\u001b[0m \u001b[0;34m->\u001b[0m \u001b[0mTensor\u001b[0m\u001b[0;34m:\u001b[0m\u001b[0;34m\u001b[0m\u001b[0;34m\u001b[0m\u001b[0m\n\u001b[0;32m--> 423\u001b[0;31m         \u001b[0;32mreturn\u001b[0m \u001b[0mself\u001b[0m\u001b[0;34m.\u001b[0m\u001b[0m_conv_forward\u001b[0m\u001b[0;34m(\u001b[0m\u001b[0minput\u001b[0m\u001b[0;34m,\u001b[0m \u001b[0mself\u001b[0m\u001b[0;34m.\u001b[0m\u001b[0mweight\u001b[0m\u001b[0;34m)\u001b[0m\u001b[0;34m\u001b[0m\u001b[0;34m\u001b[0m\u001b[0m\n\u001b[0m\u001b[1;32m    424\u001b[0m \u001b[0;34m\u001b[0m\u001b[0m\n\u001b[1;32m    425\u001b[0m \u001b[0;32mclass\u001b[0m \u001b[0mConv3d\u001b[0m\u001b[0;34m(\u001b[0m\u001b[0m_ConvNd\u001b[0m\u001b[0;34m)\u001b[0m\u001b[0;34m:\u001b[0m\u001b[0;34m\u001b[0m\u001b[0;34m\u001b[0m\u001b[0m\n",
            "\u001b[0;32m/usr/local/lib/python3.6/dist-packages/torch/nn/modules/conv.py\u001b[0m in \u001b[0;36m_conv_forward\u001b[0;34m(self, input, weight)\u001b[0m\n\u001b[1;32m    418\u001b[0m                             _pair(0), self.dilation, self.groups)\n\u001b[1;32m    419\u001b[0m         return F.conv2d(input, weight, self.bias, self.stride,\n\u001b[0;32m--> 420\u001b[0;31m                         self.padding, self.dilation, self.groups)\n\u001b[0m\u001b[1;32m    421\u001b[0m \u001b[0;34m\u001b[0m\u001b[0m\n\u001b[1;32m    422\u001b[0m     \u001b[0;32mdef\u001b[0m \u001b[0mforward\u001b[0m\u001b[0;34m(\u001b[0m\u001b[0mself\u001b[0m\u001b[0;34m,\u001b[0m \u001b[0minput\u001b[0m\u001b[0;34m:\u001b[0m \u001b[0mTensor\u001b[0m\u001b[0;34m)\u001b[0m \u001b[0;34m->\u001b[0m \u001b[0mTensor\u001b[0m\u001b[0;34m:\u001b[0m\u001b[0;34m\u001b[0m\u001b[0;34m\u001b[0m\u001b[0m\n",
            "\u001b[0;31mKeyboardInterrupt\u001b[0m: "
          ]
        }
      ]
    },
    {
      "cell_type": "markdown",
      "metadata": {
        "id": "wrG-n1XAlUVx"
      },
      "source": [
        "# **4. Model Hyperparameter**\n",
        "\n",
        "*   padding\n",
        "*   dropout rate\n",
        "*   batch_size\n",
        "*   number of epoch\n",
        "*   early_stopping\n",
        "\n",
        "\n",
        "\n",
        "\n",
        "\n",
        "\n"
      ]
    },
    {
      "cell_type": "code",
      "metadata": {
        "id": "y-yWukXMftii",
        "colab": {
          "base_uri": "https://localhost:8080/",
          "height": 420
        },
        "outputId": "e7c17fe4-c239-427c-d987-7e3e23c349aa"
      },
      "source": [
        "batch_size=[1500,3000,6000]\n",
        "epoch=[100,500,1000]\n",
        "early_stopping=[0,30,50]\n",
        "\n",
        "\n",
        "min_loss=10000000000000000\n",
        "\n",
        "a=X_train[0:27000]\n",
        "b=y_train[0:27000]\n",
        "\n",
        "X_train_new=a\n",
        "y_train_new=b.long()\n",
        "\n",
        "\n",
        "\n",
        "for b in batch_size:\n",
        "  for e in epoch:\n",
        "    for ealy in early_stopping:\n",
        "      batch_num=b\n",
        "      batch_size=int(len(y_train_new)/batch_num)\n",
        "\n",
        "      net1.to(device)\n",
        "      input = X_train_new.cuda()\n",
        "      acc=0\n",
        "      acc_loss=0\n",
        "      early_stopping=0\n",
        "      for trial in range(5):\n",
        "        for epoch in range(e):\n",
        "            # minibatch gradient descent\n",
        "            loss=0.0\n",
        "            for k in range(batch_num):\n",
        "              l_index=batch_size*k\n",
        "              r_index=batch_size*(k+1)\n",
        "              out = net1(input[l_index:r_index].float().cuda())\n",
        "              avg_loss = criterion(out, y_train_new[:,0][l_index:r_index].cuda())\n",
        "              loss=loss+(avg_loss/batch_num)\n",
        "              optimizer.zero_grad()\n",
        "              avg_loss.backward()\n",
        "              optimizer.step() \n",
        "              #scheduler.step()  \n",
        "              learning_rate = 0.001\n",
        "              for f in net1.parameters():\n",
        "                \n",
        "                f.data.sub_(f.grad.data * learning_rate)\n",
        "            #_, predicted = torch.max(out, 1)\n",
        "            # if loss does not decrease in 50 steps\n",
        "            # early stopping\n",
        "            if loss>=min_loss:\n",
        "              acc_loss=acc_loss+1\n",
        "              \n",
        "              if acc_loss >=early:\n",
        "                early_stopping=early_stopping+1\n",
        "                #print('Early stopping！')\n",
        "                break\n",
        "              \n",
        "            elif loss<min_loss:\n",
        "              acc_loss=0\n",
        "              min_loss=loss\n",
        "              # record the best prediction\n",
        "              #min_predicted=predicted\n",
        "            \n",
        "            if epoch%100==0:\n",
        "              print('trial:',trial,'epoch',epoch,':',loss)\n",
        "        \n",
        "        if early_stopping==1:\n",
        "          print(\"Early Stopping trial1!!!\")\n",
        "          #optimizer = optim.Adam(net1.parameters(), lr=0.0003, weight_decay=1e-3,betas=(0.9,0.96))\n",
        "          #optimizer = optim.RMSprop(net1.parameters(), lr=0.0003, weight_decay=1e-3,momentum=0.95)\n",
        "          optimizer = optim.SGD(net1.parameters(), lr=0.0003, weight_decay=1e-3,momentum=0.95)\n",
        "        if early_stopping==2:\n",
        "          print(\"Early Stopping trial2!!!\")\n",
        "          #optimizer = optim.Adam(net1.parameters(), lr=0.0001, weight_decay=1e-3,betas=(0.9,0.94))\n",
        "          #optimizer = optim.RMSprop(net1.parameters(), lr=0.0001, weight_decay=1e-3,momentum=0.92)\n",
        "          optimizer = optim.SGD(net1.parameters(), lr=0.0001, weight_decay=1e-3,momentum=0.92)\n",
        "        if early_stopping==3:\n",
        "          print(\"Early Stopping trial3!!!\")\n",
        "          #optimizer = optim.Adam(net1.parameters(), lr=0.00005, weight_decay=1e-3,betas=(0.9,0.93))\n",
        "          #optimizer = optim.RMSprop(net1.parameters(), lr=0.00005, weight_decay=1e-3,momentum=0.9)\n",
        "          optimizer = optim.SGD(net1.parameters(), lr=0.00005, weight_decay=1e-3,momentum=0.9)\n",
        "        if early_stopping==4:\n",
        "          print(\"End of training!!!!!\")\n",
        "          break\n",
        "\n",
        "\n",
        "\n",
        "\n",
        "\n",
        "            \n"
      ],
      "execution_count": null,
      "outputs": [
        {
          "output_type": "stream",
          "text": [
            "trial: 0 epoch 0 : tensor(0.1661, device='cuda:0', grad_fn=<AddBackward0>)\n"
          ],
          "name": "stdout"
        },
        {
          "output_type": "error",
          "ename": "KeyboardInterrupt",
          "evalue": "ignored",
          "traceback": [
            "\u001b[0;31m---------------------------------------------------------------------------\u001b[0m",
            "\u001b[0;31mKeyboardInterrupt\u001b[0m                         Traceback (most recent call last)",
            "\u001b[0;32m<ipython-input-36-62f7a4bd5015>\u001b[0m in \u001b[0;36m<module>\u001b[0;34m()\u001b[0m\n\u001b[1;32m     36\u001b[0m               \u001b[0mloss\u001b[0m\u001b[0;34m=\u001b[0m\u001b[0mloss\u001b[0m\u001b[0;34m+\u001b[0m\u001b[0;34m(\u001b[0m\u001b[0mavg_loss\u001b[0m\u001b[0;34m/\u001b[0m\u001b[0mbatch_num\u001b[0m\u001b[0;34m)\u001b[0m\u001b[0;34m\u001b[0m\u001b[0;34m\u001b[0m\u001b[0m\n\u001b[1;32m     37\u001b[0m               \u001b[0moptimizer\u001b[0m\u001b[0;34m.\u001b[0m\u001b[0mzero_grad\u001b[0m\u001b[0;34m(\u001b[0m\u001b[0;34m)\u001b[0m\u001b[0;34m\u001b[0m\u001b[0;34m\u001b[0m\u001b[0m\n\u001b[0;32m---> 38\u001b[0;31m               \u001b[0mavg_loss\u001b[0m\u001b[0;34m.\u001b[0m\u001b[0mbackward\u001b[0m\u001b[0;34m(\u001b[0m\u001b[0;34m)\u001b[0m\u001b[0;34m\u001b[0m\u001b[0;34m\u001b[0m\u001b[0m\n\u001b[0m\u001b[1;32m     39\u001b[0m               \u001b[0moptimizer\u001b[0m\u001b[0;34m.\u001b[0m\u001b[0mstep\u001b[0m\u001b[0;34m(\u001b[0m\u001b[0;34m)\u001b[0m\u001b[0;34m\u001b[0m\u001b[0;34m\u001b[0m\u001b[0m\n\u001b[1;32m     40\u001b[0m               \u001b[0;31m#scheduler.step()\u001b[0m\u001b[0;34m\u001b[0m\u001b[0;34m\u001b[0m\u001b[0;34m\u001b[0m\u001b[0m\n",
            "\u001b[0;32m/usr/local/lib/python3.6/dist-packages/torch/tensor.py\u001b[0m in \u001b[0;36mbackward\u001b[0;34m(self, gradient, retain_graph, create_graph)\u001b[0m\n\u001b[1;32m    219\u001b[0m                 \u001b[0mretain_graph\u001b[0m\u001b[0;34m=\u001b[0m\u001b[0mretain_graph\u001b[0m\u001b[0;34m,\u001b[0m\u001b[0;34m\u001b[0m\u001b[0;34m\u001b[0m\u001b[0m\n\u001b[1;32m    220\u001b[0m                 create_graph=create_graph)\n\u001b[0;32m--> 221\u001b[0;31m         \u001b[0mtorch\u001b[0m\u001b[0;34m.\u001b[0m\u001b[0mautograd\u001b[0m\u001b[0;34m.\u001b[0m\u001b[0mbackward\u001b[0m\u001b[0;34m(\u001b[0m\u001b[0mself\u001b[0m\u001b[0;34m,\u001b[0m \u001b[0mgradient\u001b[0m\u001b[0;34m,\u001b[0m \u001b[0mretain_graph\u001b[0m\u001b[0;34m,\u001b[0m \u001b[0mcreate_graph\u001b[0m\u001b[0;34m)\u001b[0m\u001b[0;34m\u001b[0m\u001b[0;34m\u001b[0m\u001b[0m\n\u001b[0m\u001b[1;32m    222\u001b[0m \u001b[0;34m\u001b[0m\u001b[0m\n\u001b[1;32m    223\u001b[0m     \u001b[0;32mdef\u001b[0m \u001b[0mregister_hook\u001b[0m\u001b[0;34m(\u001b[0m\u001b[0mself\u001b[0m\u001b[0;34m,\u001b[0m \u001b[0mhook\u001b[0m\u001b[0;34m)\u001b[0m\u001b[0;34m:\u001b[0m\u001b[0;34m\u001b[0m\u001b[0;34m\u001b[0m\u001b[0m\n",
            "\u001b[0;32m/usr/local/lib/python3.6/dist-packages/torch/autograd/__init__.py\u001b[0m in \u001b[0;36mbackward\u001b[0;34m(tensors, grad_tensors, retain_graph, create_graph, grad_variables)\u001b[0m\n\u001b[1;32m    130\u001b[0m     Variable._execution_engine.run_backward(\n\u001b[1;32m    131\u001b[0m         \u001b[0mtensors\u001b[0m\u001b[0;34m,\u001b[0m \u001b[0mgrad_tensors_\u001b[0m\u001b[0;34m,\u001b[0m \u001b[0mretain_graph\u001b[0m\u001b[0;34m,\u001b[0m \u001b[0mcreate_graph\u001b[0m\u001b[0;34m,\u001b[0m\u001b[0;34m\u001b[0m\u001b[0;34m\u001b[0m\u001b[0m\n\u001b[0;32m--> 132\u001b[0;31m         allow_unreachable=True)  # allow_unreachable flag\n\u001b[0m\u001b[1;32m    133\u001b[0m \u001b[0;34m\u001b[0m\u001b[0m\n\u001b[1;32m    134\u001b[0m \u001b[0;34m\u001b[0m\u001b[0m\n",
            "\u001b[0;31mKeyboardInterrupt\u001b[0m: "
          ]
        }
      ]
    }
  ]
}